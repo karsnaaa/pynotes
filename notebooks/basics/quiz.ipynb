{
 "cells": [
  {
   "cell_type": "code",
   "execution_count": null,
   "id": "2eaefbda-c6e3-459d-a023-a5d363fd8f61",
   "metadata": {},
   "outputs": [],
   "source": [
    "# created :20250629"
   ]
  },
  {
   "cell_type": "code",
   "execution_count": null,
   "id": "aeb0dad0-752e-4784-9d7e-f6a2c41a780e",
   "metadata": {},
   "outputs": [],
   "source": [
    "https://openai.com/chatgpt/overview/"
   ]
  },
  {
   "cell_type": "code",
   "execution_count": 1,
   "id": "69268dfc-620e-48ce-b4c7-5a1ce73408ca",
   "metadata": {},
   "outputs": [
    {
     "name": "stdout",
     "output_type": "stream",
     "text": [
      "\n",
      "Question 1/10\n"
     ]
    },
    {
     "name": "stdin",
     "output_type": "stream",
     "text": [
      "What is 6 + 1?  7\n"
     ]
    },
    {
     "name": "stdout",
     "output_type": "stream",
     "text": [
      "✅ Correct!\n",
      "\n",
      "Question 2/10\n"
     ]
    },
    {
     "name": "stdin",
     "output_type": "stream",
     "text": [
      "What is 10 + 10?  20\n"
     ]
    },
    {
     "name": "stdout",
     "output_type": "stream",
     "text": [
      "✅ Correct!\n",
      "\n",
      "Question 3/10\n"
     ]
    },
    {
     "name": "stdin",
     "output_type": "stream",
     "text": [
      "What is 7 + 7?  14\n"
     ]
    },
    {
     "name": "stdout",
     "output_type": "stream",
     "text": [
      "✅ Correct!\n",
      "\n",
      "Question 4/10\n"
     ]
    },
    {
     "name": "stdin",
     "output_type": "stream",
     "text": [
      "What is 5 + 1?  6\n"
     ]
    },
    {
     "name": "stdout",
     "output_type": "stream",
     "text": [
      "✅ Correct!\n",
      "\n",
      "Question 5/10\n"
     ]
    },
    {
     "name": "stdin",
     "output_type": "stream",
     "text": [
      "What is 2 + 7?  \n"
     ]
    },
    {
     "name": "stdout",
     "output_type": "stream",
     "text": [
      "Please enter a valid number.\n",
      "\n",
      "Question 6/10\n"
     ]
    },
    {
     "name": "stdin",
     "output_type": "stream",
     "text": [
      "What is 7 + 8?  9\n"
     ]
    },
    {
     "name": "stdout",
     "output_type": "stream",
     "text": [
      "❌ Incorrect. The right answer is 15.\n",
      "\n",
      "Question 7/10\n"
     ]
    },
    {
     "name": "stdin",
     "output_type": "stream",
     "text": [
      "What is 7 + 5?  12\n"
     ]
    },
    {
     "name": "stdout",
     "output_type": "stream",
     "text": [
      "✅ Correct!\n",
      "\n",
      "Question 8/10\n"
     ]
    },
    {
     "name": "stdin",
     "output_type": "stream",
     "text": [
      "What is 3 + 5?  8\n"
     ]
    },
    {
     "name": "stdout",
     "output_type": "stream",
     "text": [
      "✅ Correct!\n",
      "\n",
      "Question 9/10\n"
     ]
    },
    {
     "name": "stdin",
     "output_type": "stream",
     "text": [
      "What is 3 + 5?  8\n"
     ]
    },
    {
     "name": "stdout",
     "output_type": "stream",
     "text": [
      "✅ Correct!\n",
      "\n",
      "Question 10/10\n"
     ]
    },
    {
     "name": "stdin",
     "output_type": "stream",
     "text": [
      "What is 7 + 9?  16\n"
     ]
    },
    {
     "name": "stdout",
     "output_type": "stream",
     "text": [
      "✅ Correct!\n",
      "\n",
      "🎉 Quiz complete! Your score: 8/10\n"
     ]
    }
   ],
   "source": [
    "import random\n",
    "\n",
    "def ask_question():\n",
    "    \"\"\"Ask a random addition question, return True if correct.\"\"\"\n",
    "    a = random.randint(1, 10)\n",
    "    b = random.randint(1, 10)\n",
    "    try:\n",
    "        answer = int(input(f\"What is {a} + {b}? \"))\n",
    "    except ValueError:\n",
    "        print(\"Please enter a valid number.\")\n",
    "        return False\n",
    "\n",
    "    if answer == a + b:\n",
    "        print(\"✅ Correct!\")\n",
    "        return True\n",
    "    else:\n",
    "        print(f\"❌ Incorrect. The right answer is {a + b}.\")\n",
    "        return False\n",
    "\n",
    "def quiz(num_questions=10):\n",
    "    \"\"\"Run the quiz for a fixed number of questions.\"\"\"\n",
    "    score = 0  # important: initialize once outside loop\n",
    "    for i in range(1, num_questions + 1):\n",
    "        print(f\"\\nQuestion {i}/{num_questions}\")\n",
    "        if ask_question():\n",
    "            score += 1\n",
    "    print(f\"\\n🎉 Quiz complete! Your score: {score}/{num_questions}\")\n",
    "\n",
    "if __name__ == \"__main__\":\n",
    "    quiz()"
   ]
  },
  {
   "cell_type": "code",
   "execution_count": null,
   "id": "31662e52-e8ee-429f-9d34-aeaa533e243e",
   "metadata": {},
   "outputs": [],
   "source": []
  }
 ],
 "metadata": {
  "kernelspec": {
   "display_name": "Python 3 (ipykernel)",
   "language": "python",
   "name": "python3"
  },
  "language_info": {
   "codemirror_mode": {
    "name": "ipython",
    "version": 3
   },
   "file_extension": ".py",
   "mimetype": "text/x-python",
   "name": "python",
   "nbconvert_exporter": "python",
   "pygments_lexer": "ipython3",
   "version": "3.11.13"
  }
 },
 "nbformat": 4,
 "nbformat_minor": 5
}
