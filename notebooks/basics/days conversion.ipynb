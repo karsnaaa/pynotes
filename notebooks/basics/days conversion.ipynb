{
 "cells": [
  {
   "cell_type": "code",
   "execution_count": null,
   "id": "07d14fb2-70fb-4d96-bdaa-93a6b7551710",
   "metadata": {},
   "outputs": [],
   "source": [
    "# created :20250629"
   ]
  },
  {
   "cell_type": "code",
   "execution_count": null,
   "id": "0f591fbe-7077-4a56-876a-d38714b9a289",
   "metadata": {},
   "outputs": [],
   "source": [
    "# own code"
   ]
  },
  {
   "cell_type": "code",
   "execution_count": null,
   "id": "4630bcc6-2b93-4edb-b9b6-e5fade07be7a",
   "metadata": {},
   "outputs": [],
   "source": [
    "days = int(input(\"Enter number of days: \"))\n",
    "years = days // 365\n",
    "weeks = (days % 365) // 7\n",
    "remaining_days = (days % 365) % 7\n",
    "\n",
    "print(\"Years:\", years)\n",
    "print(\"Weeks:\", weeks)\n",
    "print(\"Days:\", remaining_days)"
   ]
  }
 ],
 "metadata": {
  "kernelspec": {
   "display_name": "Python 3 (ipykernel)",
   "language": "python",
   "name": "python3"
  },
  "language_info": {
   "codemirror_mode": {
    "name": "ipython",
    "version": 3
   },
   "file_extension": ".py",
   "mimetype": "text/x-python",
   "name": "python",
   "nbconvert_exporter": "python",
   "pygments_lexer": "ipython3",
   "version": "3.11.13"
  }
 },
 "nbformat": 4,
 "nbformat_minor": 5
}
