{
 "cells": [
  {
   "cell_type": "code",
   "execution_count": null,
   "id": "b9120844-d65e-4e5d-95ce-5db327621ff8",
   "metadata": {},
   "outputs": [],
   "source": [
    "a = 1\n",
    "b = a * 2\n",
    "print(f'Cell 1: {a} * 2 = {b}')"
   ]
  },
  {
   "cell_type": "code",
   "execution_count": null,
   "id": "ea6090ab-993a-431a-ba4f-c367461ea013",
   "metadata": {},
   "outputs": [],
   "source": [
    "a = 2\n",
    "b = a * 2\n",
    "print(f'Cell 1: {a} * 2 = {b}')"
   ]
  },
  {
   "cell_type": "code",
   "execution_count": null,
   "id": "ffc51084-09d0-4dbe-9efa-6fb2ba4c3fab",
   "metadata": {},
   "outputs": [],
   "source": [
    "a = 3\n",
    "b = a * 2\n",
    "print(f'Cell 1: {a} * 2 = {b}')"
   ]
  },
  {
   "cell_type": "code",
   "execution_count": null,
   "id": "a03a6e68-139a-43d1-85bf-bbf8dffd7c81",
   "metadata": {},
   "outputs": [],
   "source": [
    "a = 4\n",
    "b = a * 2\n",
    "print(f'Cell 1: {a} * 2 = {b}')"
   ]
  },
  {
   "cell_type": "code",
   "execution_count": null,
   "id": "cb41f5e2-75dd-43ac-8404-28abb2510603",
   "metadata": {},
   "outputs": [],
   "source": [
    "a = 5\n",
    "b = a * 2\n",
    "print(f'Cell 1: {a} * 2 = {b}')"
   ]
  },
  {
   "cell_type": "code",
   "execution_count": null,
   "id": "3b6dcb69-c669-4dc0-9ff0-1b3cd33906c4",
   "metadata": {},
   "outputs": [],
   "source": [
    "a = 6\n",
    "b = a * 2\n",
    "print(f'Cell 1: {a} * 2 = {b}')"
   ]
  },
  {
   "cell_type": "code",
   "execution_count": null,
   "id": "51bfe426-78f2-4ba0-99f9-fd2f9a011bc5",
   "metadata": {},
   "outputs": [],
   "source": [
    "a = 7\n",
    "b = a * 2\n",
    "print(f'Cell 1: {a} * 2 = {b}')"
   ]
  },
  {
   "cell_type": "code",
   "execution_count": null,
   "id": "c078d0fe-6474-47a5-9a86-f51ec21c09a9",
   "metadata": {},
   "outputs": [],
   "source": [
    "a = 8\n",
    "b = a * 2\n",
    "print(f'Cell 1: {a} * 2 = {b}')"
   ]
  },
  {
   "cell_type": "code",
   "execution_count": null,
   "id": "679c0dad-43aa-469d-916f-d797989de87b",
   "metadata": {},
   "outputs": [],
   "source": [
    "a = 9\n",
    "b = a * 2\n",
    "print(f'Cell 1: {a} * 2 = {b}')"
   ]
  },
  {
   "cell_type": "code",
   "execution_count": null,
   "id": "f0f62d0c-526d-40d6-93b2-e4a11e187651",
   "metadata": {},
   "outputs": [],
   "source": [
    "a = 10\n",
    "b = a * 2\n",
    "print(f'Cell 1: {a} * 2 = {b}')"
   ]
  },
  {
   "cell_type": "code",
   "execution_count": null,
   "id": "bd362d4e-11f0-469b-b9bd-07e4553eb52e",
   "metadata": {},
   "outputs": [],
   "source": [
    "a = 11\n",
    "b = a * 2\n",
    "print(f'Cell 1: {a} * 2 = {b}')"
   ]
  },
  {
   "cell_type": "code",
   "execution_count": null,
   "id": "4ca0b0b3-5958-491c-a719-e7aad7497648",
   "metadata": {},
   "outputs": [],
   "source": [
    "a = 12\n",
    "b = a * 2\n",
    "print(f'Cell 1: {a} * 2 = {b}')"
   ]
  },
  {
   "cell_type": "code",
   "execution_count": null,
   "id": "e58786ee-be6e-48e8-b647-2b817cc6fe81",
   "metadata": {},
   "outputs": [],
   "source": [
    "a = 13\n",
    "b = a * 2\n",
    "print(f'Cell 1: {a} * 2 = {b}')"
   ]
  },
  {
   "cell_type": "code",
   "execution_count": null,
   "id": "5f05fe15-96a9-49a8-8faa-45f6be28d7ef",
   "metadata": {},
   "outputs": [],
   "source": [
    "a = 14\n",
    "b = a * 2\n",
    "print(f'Cell 1: {a} * 2 = {b}')"
   ]
  },
  {
   "cell_type": "code",
   "execution_count": null,
   "id": "f86c24cb-a39a-4cae-b48b-4382dc444c42",
   "metadata": {},
   "outputs": [],
   "source": [
    "a = 15\n",
    "b = a * 2\n",
    "print(f'Cell 1: {a} * 2 = {b}')"
   ]
  },
  {
   "cell_type": "code",
   "execution_count": null,
   "id": "08a13989-4b0b-47f8-b926-05bf3cd5245a",
   "metadata": {},
   "outputs": [],
   "source": [
    "a = 16\n",
    "b = a * 2\n",
    "print(f'Cell 1: {a} * 2 = {b}')"
   ]
  },
  {
   "cell_type": "code",
   "execution_count": null,
   "id": "3d1e8a67-92fd-45cc-b3b1-a7469630caaa",
   "metadata": {},
   "outputs": [],
   "source": [
    "a = 17\n",
    "b = a * 2\n",
    "print(f'Cell 1: {a} * 2 = {b}')"
   ]
  },
  {
   "cell_type": "code",
   "execution_count": null,
   "id": "1634261a-9892-4f2e-ad35-eb6b5b7cfc47",
   "metadata": {},
   "outputs": [],
   "source": [
    "a = 18\n",
    "b = a * 2\n",
    "print(f'Cell 1: {a} * 2 = {b}')"
   ]
  },
  {
   "cell_type": "code",
   "execution_count": null,
   "id": "c06d5979-6b75-444c-be42-cb0a444c1de5",
   "metadata": {},
   "outputs": [],
   "source": [
    "a = 19\n",
    "b = a * 2\n",
    "print(f'Cell 1: {a} * 2 = {b}')"
   ]
  },
  {
   "cell_type": "code",
   "execution_count": null,
   "id": "039b7ea7-5a34-495e-adc0-67c02bd05b8a",
   "metadata": {},
   "outputs": [],
   "source": [
    "a = 20\n",
    "b = a * 2\n",
    "print(f'Cell 1: {a} * 2 = {b}')"
   ]
  },
  {
   "cell_type": "code",
   "execution_count": null,
   "id": "530550b3-1d24-4e81-9a20-97544dd88048",
   "metadata": {},
   "outputs": [],
   "source": [
    "a = 21\n",
    "b = a * 2\n",
    "print(f'Cell 1: {a} * 2 = {b}')"
   ]
  },
  {
   "cell_type": "code",
   "execution_count": null,
   "id": "60a934d9-80bb-44dc-b98d-9252809b8e65",
   "metadata": {},
   "outputs": [],
   "source": [
    "a = 22\n",
    "b = a * 2\n",
    "print(f'Cell 1: {a} * 2 = {b}')"
   ]
  },
  {
   "cell_type": "code",
   "execution_count": null,
   "id": "83b2e4e1-204d-4da5-8db8-399a8dc4bb9c",
   "metadata": {},
   "outputs": [],
   "source": [
    "a = 23\n",
    "b = a * 2\n",
    "print(f'Cell 1: {a} * 2 = {b}')"
   ]
  },
  {
   "cell_type": "code",
   "execution_count": null,
   "id": "b90c2cde-0f75-4d60-9b81-dce0fd03fbc2",
   "metadata": {},
   "outputs": [],
   "source": [
    "a = 24\n",
    "b = a * 2\n",
    "print(f'Cell 1: {a} * 2 = {b}')"
   ]
  },
  {
   "cell_type": "code",
   "execution_count": null,
   "id": "566be526-01d6-4b53-a92e-faba7a3177d7",
   "metadata": {},
   "outputs": [],
   "source": [
    "a = 25\n",
    "b = a * 2\n",
    "print(f'Cell 1: {a} * 2 = {b}')"
   ]
  },
  {
   "cell_type": "code",
   "execution_count": null,
   "id": "df552a37-0e1f-43fc-b215-6e1d8d3b53ad",
   "metadata": {},
   "outputs": [],
   "source": [
    "a = 26\n",
    "b = a * 2\n",
    "print(f'Cell 1: {a} * 2 = {b}')"
   ]
  },
  {
   "cell_type": "code",
   "execution_count": null,
   "id": "06b94382-b3d5-4ccb-872e-046aae40268e",
   "metadata": {},
   "outputs": [],
   "source": [
    "a = 27\n",
    "b = a * 2\n",
    "print(f'Cell 1: {a} * 2 = {b}')"
   ]
  },
  {
   "cell_type": "code",
   "execution_count": null,
   "id": "909ac406-4e5d-49e6-baa3-b10ba9ea10f3",
   "metadata": {},
   "outputs": [],
   "source": [
    "a = 28\n",
    "b = a * 2\n",
    "print(f'Cell 1: {a} * 2 = {b}')"
   ]
  },
  {
   "cell_type": "code",
   "execution_count": null,
   "id": "e7a6e9bd-d233-40c4-91da-31e97fdeb74f",
   "metadata": {},
   "outputs": [],
   "source": [
    "a = 29\n",
    "b = a * 2\n",
    "print(f'Cell 1: {a} * 2 = {b}')"
   ]
  },
  {
   "cell_type": "code",
   "execution_count": null,
   "id": "12bce5d6-a686-4861-99b7-a84560044ee7",
   "metadata": {},
   "outputs": [],
   "source": [
    "a = 30\n",
    "b = a * 2\n",
    "print(f'Cell 1: {a} * 2 = {b}')"
   ]
  },
  {
   "cell_type": "code",
   "execution_count": null,
   "id": "ef9f7fde-2b07-4e7e-a64e-3a062c24b32f",
   "metadata": {},
   "outputs": [],
   "source": [
    "a = 31\n",
    "b = a * 2\n",
    "print(f'Cell 1: {a} * 2 = {b}')"
   ]
  },
  {
   "cell_type": "code",
   "execution_count": null,
   "id": "8fe0732a-85f2-4b05-9fbb-5af0cc13b0a4",
   "metadata": {},
   "outputs": [],
   "source": [
    "a = 32\n",
    "b = a * 2\n",
    "print(f'Cell 1: {a} * 2 = {b}')"
   ]
  },
  {
   "cell_type": "code",
   "execution_count": null,
   "id": "389c7554-e806-4d3b-ba79-ee26e4bdc2ac",
   "metadata": {},
   "outputs": [],
   "source": [
    "a = 33\n",
    "b = a * 2\n",
    "print(f'Cell 1: {a} * 2 = {b}')"
   ]
  },
  {
   "cell_type": "code",
   "execution_count": null,
   "id": "433cbf64-40f9-4bf8-a2b8-f13ffbc03d23",
   "metadata": {},
   "outputs": [],
   "source": [
    "a = 34\n",
    "b = a * 2\n",
    "print(f'Cell 1: {a} * 2 = {b}')"
   ]
  },
  {
   "cell_type": "code",
   "execution_count": null,
   "id": "9e27f4a7-6853-4a67-be5c-ce534751bb0d",
   "metadata": {},
   "outputs": [],
   "source": [
    "a = 35\n",
    "b = a * 2\n",
    "print(f'Cell 1: {a} * 2 = {b}')"
   ]
  },
  {
   "cell_type": "code",
   "execution_count": null,
   "id": "1ee5cf72-3b88-4105-abf3-b47bcc484e06",
   "metadata": {},
   "outputs": [],
   "source": [
    "a = 36\n",
    "b = a * 2\n",
    "print(f'Cell 1: {a} * 2 = {b}')"
   ]
  },
  {
   "cell_type": "code",
   "execution_count": null,
   "id": "4cc3329d-3bab-446b-9dd3-17e21209c9d9",
   "metadata": {},
   "outputs": [],
   "source": [
    "a = 37\n",
    "b = a * 2\n",
    "print(f'Cell 1: {a} * 2 = {b}')a = 1\n",
    "b = a * 2\n",
    "print(f'Cell 1: {a} * 2 = {b}')"
   ]
  },
  {
   "cell_type": "code",
   "execution_count": null,
   "id": "9a1a5a0d-8523-4857-85a2-5f272879a375",
   "metadata": {},
   "outputs": [],
   "source": [
    "a = 38\n",
    "b = a * 2\n",
    "print(f'Cell 1: {a} * 2 = {b}')"
   ]
  },
  {
   "cell_type": "code",
   "execution_count": null,
   "id": "8ff66ce8-a9c3-4c21-bb7b-ab46b8466ea4",
   "metadata": {},
   "outputs": [],
   "source": [
    "a = 39\n",
    "b = a * 2\n",
    "print(f'Cell 1: {a} * 2 = {b}')"
   ]
  },
  {
   "cell_type": "code",
   "execution_count": null,
   "id": "ce6b8ff2-00d0-4654-8603-69d0d298f579",
   "metadata": {},
   "outputs": [],
   "source": [
    "a = 40\n",
    "b = a * 2\n",
    "print(f'Cell 1: {a} * 2 = {b}')"
   ]
  },
  {
   "cell_type": "code",
   "execution_count": null,
   "id": "44c01233-2ca4-4738-a742-a68b4e909d5f",
   "metadata": {},
   "outputs": [],
   "source": [
    "a = 41\n",
    "b = a * 2\n",
    "print(f'Cell 1: {a} * 2 = {b}')"
   ]
  },
  {
   "cell_type": "code",
   "execution_count": null,
   "id": "58f5d4a8-0f6c-4943-9a40-f4a2a5bc12b5",
   "metadata": {},
   "outputs": [],
   "source": [
    "a = 42\n",
    "b = a * 2\n",
    "print(f'Cell 1: {a} * 2 = {b}')"
   ]
  },
  {
   "cell_type": "code",
   "execution_count": null,
   "id": "314c6d4c-6b87-4448-98a2-498100765f4d",
   "metadata": {},
   "outputs": [],
   "source": [
    "a = 43\n",
    "b = a * 2\n",
    "print(f'Cell 1: {a} * 2 = {b}')"
   ]
  },
  {
   "cell_type": "code",
   "execution_count": null,
   "id": "0e869b26-4b0a-4805-9da3-0bd270752dc4",
   "metadata": {},
   "outputs": [],
   "source": [
    "a = 44\n",
    "b = a * 2\n",
    "print(f'Cell 1: {a} * 2 = {b}')"
   ]
  },
  {
   "cell_type": "code",
   "execution_count": null,
   "id": "2d730177-9266-44a5-b3fa-366b00b6770a",
   "metadata": {},
   "outputs": [],
   "source": [
    "a = 45\n",
    "b = a * 2\n",
    "print(f'Cell 1: {a} * 2 = {b}')"
   ]
  },
  {
   "cell_type": "code",
   "execution_count": null,
   "id": "0eef6784-fe94-4142-a205-eb41a358d1ee",
   "metadata": {},
   "outputs": [],
   "source": [
    "a = 46\n",
    "b = a * 2\n",
    "print(f'Cell 1: {a} * 2 = {b}')"
   ]
  },
  {
   "cell_type": "code",
   "execution_count": null,
   "id": "78c9a7f6-2e78-4f10-8a3b-4d0caa9f3d92",
   "metadata": {},
   "outputs": [],
   "source": [
    "a = 47\n",
    "b = a * 2\n",
    "print(f'Cell 1: {a} * 2 = {b}')"
   ]
  },
  {
   "cell_type": "code",
   "execution_count": null,
   "id": "04df4e5d-e3c9-4df8-b51b-9d552a4f02d3",
   "metadata": {},
   "outputs": [],
   "source": [
    "a = 48\n",
    "b = a * 2\n",
    "print(f'Cell 1: {a} * 2 = {b}')"
   ]
  },
  {
   "cell_type": "code",
   "execution_count": null,
   "id": "3fd98ffe-e90b-4d40-846d-99abddd327f1",
   "metadata": {},
   "outputs": [],
   "source": [
    "a = 49\n",
    "b = a * 2\n",
    "print(f'Cell 1: {a} * 2 = {b}')"
   ]
  },
  {
   "cell_type": "code",
   "execution_count": null,
   "id": "35295131-c208-4501-aa18-fb063b3e5fdb",
   "metadata": {},
   "outputs": [],
   "source": [
    "a = 50\n",
    "b = a * 2\n",
    "print(f'Cell 1: {a} * 2 = {b}')"
   ]
  },
  {
   "cell_type": "code",
   "execution_count": null,
   "id": "f9b82649-c916-43e0-a9d7-db6ffa1427eb",
   "metadata": {},
   "outputs": [],
   "source": [
    "a = 51\n",
    "b = a * 2\n",
    "print(f'Cell 1: {a} * 2 = {b}')a = 1\n",
    "b = a * 2\n",
    "print(f'Cell 1: {a} * 2 = {b}')"
   ]
  },
  {
   "cell_type": "code",
   "execution_count": null,
   "id": "68cd08f4-4a6a-4a11-a330-4399030e5f48",
   "metadata": {},
   "outputs": [],
   "source": [
    "a = 52\n",
    "b = a * 2\n",
    "print(f'Cell 1: {a} * 2 = {b}')"
   ]
  },
  {
   "cell_type": "code",
   "execution_count": null,
   "id": "a5125214-0f1a-4523-bf27-cd25d1577f49",
   "metadata": {},
   "outputs": [],
   "source": [
    "a = 53\n",
    "b = a * 2\n",
    "print(f'Cell 1: {a} * 2 = {b}')"
   ]
  },
  {
   "cell_type": "code",
   "execution_count": null,
   "id": "5c121d19-477c-4092-8bf5-ff142b89ba1f",
   "metadata": {},
   "outputs": [],
   "source": [
    "a = 54\n",
    "b = a * 2\n",
    "print(f'Cell 1: {a} * 2 = {b}')a = 1\n",
    "b = a * 2\n",
    "print(f'Cell 1: {a} * 2 = {b}')"
   ]
  },
  {
   "cell_type": "code",
   "execution_count": null,
   "id": "5542cd7a-b34b-4613-9d78-e56a78199d07",
   "metadata": {},
   "outputs": [],
   "source": [
    "a = 55\n",
    "b = a * 2\n",
    "print(f'Cell 1: {a} * 2 = {b}')"
   ]
  },
  {
   "cell_type": "code",
   "execution_count": null,
   "id": "a3a44d74-95f6-4cb7-b521-3c3dda828ffd",
   "metadata": {},
   "outputs": [],
   "source": [
    "a = 56\n",
    "b = a * 2\n",
    "print(f'Cell 1: {a} * 2 = {b}')a = 1\n",
    "b = a * 2\n",
    "print(f'Cell 1: {a} * 2 = {b}')"
   ]
  },
  {
   "cell_type": "code",
   "execution_count": null,
   "id": "3ccf9b71-9749-4a82-a9ef-fd913d604b75",
   "metadata": {},
   "outputs": [],
   "source": [
    "a = 57\n",
    "b = a * 2\n",
    "print(f'Cell 1: {a} * 2 = {b}')"
   ]
  },
  {
   "cell_type": "code",
   "execution_count": null,
   "id": "4523bcb9-132f-4942-928b-7afd51680da9",
   "metadata": {},
   "outputs": [],
   "source": [
    "a = 58\n",
    "b = a * 2\n",
    "print(f'Cell 1: {a} * 2 = {b}')a = 1\n",
    "b = a * 2\n",
    "print(f'Cell 1: {a} * 2 = {b}')"
   ]
  },
  {
   "cell_type": "code",
   "execution_count": null,
   "id": "1e57d092-e26b-4ed4-9f82-16cf894d6203",
   "metadata": {},
   "outputs": [],
   "source": [
    "a = 59\n",
    "b = a * 2\n",
    "print(f'Cell 1: {a} * 2 = {b}')"
   ]
  },
  {
   "cell_type": "code",
   "execution_count": null,
   "id": "4210c836-3fc8-4332-bdc4-e5219df94bb8",
   "metadata": {},
   "outputs": [],
   "source": [
    "a = 60\n",
    "b = a * 2\n",
    "print(f'Cell 1: {a} * 2 = {b}')"
   ]
  },
  {
   "cell_type": "code",
   "execution_count": null,
   "id": "7693fb54-7ccd-4968-b923-d22cb4e87b56",
   "metadata": {},
   "outputs": [],
   "source": [
    "a = 61\n",
    "b = a * 2\n",
    "print(f'Cell 1: {a} * 2 = {b}')"
   ]
  },
  {
   "cell_type": "code",
   "execution_count": null,
   "id": "6eeb013f-04f8-4a3b-81c6-30dd02a6322e",
   "metadata": {},
   "outputs": [],
   "source": [
    "a = 62\n",
    "b = a * 2\n",
    "print(f'Cell 1: {a} * 2 = {b}')"
   ]
  },
  {
   "cell_type": "code",
   "execution_count": null,
   "id": "668a7bad-e6a2-4a91-92e0-5c49b0695040",
   "metadata": {},
   "outputs": [],
   "source": [
    "a = 63\n",
    "b = a * 2\n",
    "print(f'Cell 1: {a} * 2 = {b}')"
   ]
  },
  {
   "cell_type": "code",
   "execution_count": null,
   "id": "b96f0735-cec0-4652-8605-ec259635c94e",
   "metadata": {},
   "outputs": [],
   "source": [
    "a = 64\n",
    "b = a * 2\n",
    "print(f'Cell 1: {a} * 2 = {b}')"
   ]
  },
  {
   "cell_type": "code",
   "execution_count": null,
   "id": "6bab62b5-ab50-4c8d-a2d2-9518efd379d0",
   "metadata": {},
   "outputs": [],
   "source": [
    "a = 65\n",
    "b = a * 2\n",
    "print(f'Cell 1: {a} * 2 = {b}')"
   ]
  },
  {
   "cell_type": "code",
   "execution_count": null,
   "id": "4e0dd69f-3fda-4898-9d96-8a963a37cc72",
   "metadata": {},
   "outputs": [],
   "source": [
    "a = 66\n",
    "b = a * 2\n",
    "print(f'Cell 1: {a} * 2 = {b}')"
   ]
  },
  {
   "cell_type": "code",
   "execution_count": null,
   "id": "30d2f58c-aeba-4359-be88-130582e6a089",
   "metadata": {},
   "outputs": [],
   "source": [
    "a = 67\n",
    "b = a * 2\n",
    "print(f'Cell 1: {a} * 2 = {b}')a = 1\n",
    "b = a * 2\n",
    "print(f'Cell 1: {a} * 2 = {b}')"
   ]
  },
  {
   "cell_type": "code",
   "execution_count": null,
   "id": "17a43976-f461-4253-86ac-3acfa30ca624",
   "metadata": {},
   "outputs": [],
   "source": [
    "a = 68\n",
    "b = a * 2\n",
    "print(f'Cell 1: {a} * 2 = {b}')"
   ]
  },
  {
   "cell_type": "code",
   "execution_count": null,
   "id": "2aae3a83-34de-4c5b-baa8-938bfff3b8ab",
   "metadata": {},
   "outputs": [],
   "source": [
    "a = 69\n",
    "b = a * 2\n",
    "print(f'Cell 1: {a} * 2 = {b}')"
   ]
  },
  {
   "cell_type": "code",
   "execution_count": null,
   "id": "a5868cd7-25d0-4046-97a1-d44a380f3a67",
   "metadata": {},
   "outputs": [],
   "source": [
    "a = 70\n",
    "b = a * 2\n",
    "print(f'Cell 1: {a} * 2 = {b}')"
   ]
  },
  {
   "cell_type": "code",
   "execution_count": null,
   "id": "1c70a0f0-1519-4a01-b31d-82483bd4703d",
   "metadata": {},
   "outputs": [],
   "source": [
    "a = 71\n",
    "b = a * 2\n",
    "print(f'Cell 1: {a} * 2 = {b}')"
   ]
  },
  {
   "cell_type": "code",
   "execution_count": null,
   "id": "cbe2341a-c46b-4d96-ba6f-d5ad397c3826",
   "metadata": {},
   "outputs": [],
   "source": [
    "a = 72\n",
    "b = a * 2\n",
    "print(f'Cell 1: {a} * 2 = {b}')"
   ]
  },
  {
   "cell_type": "code",
   "execution_count": null,
   "id": "67ba97bc-5b09-4e84-9f38-1351fa705050",
   "metadata": {},
   "outputs": [],
   "source": [
    "a = 73\n",
    "b = a * 2\n",
    "print(f'Cell 1: {a} * 2 = {b}')"
   ]
  },
  {
   "cell_type": "code",
   "execution_count": null,
   "id": "522ae9f4-79d2-4529-ae0e-a3d1c8a3c155",
   "metadata": {},
   "outputs": [],
   "source": [
    "a = 74\n",
    "b = a * 2\n",
    "print(f'Cell 1: {a} * 2 = {b}')"
   ]
  },
  {
   "cell_type": "code",
   "execution_count": null,
   "id": "75bb55d2-7f3b-49f8-aa39-5db040494676",
   "metadata": {},
   "outputs": [],
   "source": [
    "a = 75\n",
    "b = a * 2\n",
    "print(f'Cell 1: {a} * 2 = {b}')"
   ]
  },
  {
   "cell_type": "code",
   "execution_count": null,
   "id": "a251a77b-a7cd-4022-8f0c-246a775f20ed",
   "metadata": {},
   "outputs": [],
   "source": [
    "a = 76\n",
    "b = a * 2\n",
    "print(f'Cell 1: {a} * 2 = {b}')"
   ]
  },
  {
   "cell_type": "code",
   "execution_count": null,
   "id": "79d0fce5-ab6e-4f79-92cf-9a6e69515bfb",
   "metadata": {},
   "outputs": [],
   "source": [
    "a = 77\n",
    "b = a * 2\n",
    "print(f'Cell 1: {a} * 2 = {b}')"
   ]
  },
  {
   "cell_type": "code",
   "execution_count": null,
   "id": "477cf6f2-ac25-42b7-93b7-359e5bec01db",
   "metadata": {},
   "outputs": [],
   "source": [
    "a = 78\n",
    "b = a * 2\n",
    "print(f'Cell 1: {a} * 2 = {b}')"
   ]
  },
  {
   "cell_type": "code",
   "execution_count": null,
   "id": "a7ce4b00-99e9-4dc0-8515-17fc2feb7999",
   "metadata": {},
   "outputs": [],
   "source": [
    "a = 79\n",
    "b = a * 2\n",
    "print(f'Cell 1: {a} * 2 = {b}')"
   ]
  },
  {
   "cell_type": "code",
   "execution_count": null,
   "id": "8c3a6eff-afde-4d47-bbc9-146071da3958",
   "metadata": {},
   "outputs": [],
   "source": [
    "a = 80\n",
    "b = a * 2\n",
    "print(f'Cell 1: {a} * 2 = {b}')"
   ]
  },
  {
   "cell_type": "code",
   "execution_count": null,
   "id": "c5080b68-27c7-4f9d-8dc0-34d6b7531f5e",
   "metadata": {},
   "outputs": [],
   "source": [
    "a = 81\n",
    "b = a * 2\n",
    "print(f'Cell 1: {a} * 2 = {b}')"
   ]
  },
  {
   "cell_type": "code",
   "execution_count": null,
   "id": "068018a1-c58c-4f9d-a54e-ec0978fdb081",
   "metadata": {},
   "outputs": [],
   "source": [
    "a = 82\n",
    "b = a * 2\n",
    "print(f'Cell 1: {a} * 2 = {b}')"
   ]
  },
  {
   "cell_type": "code",
   "execution_count": null,
   "id": "d57f4d2d-5114-4c15-a109-8e85a40f1f07",
   "metadata": {},
   "outputs": [],
   "source": [
    "a = 83\n",
    "b = a * 2\n",
    "print(f'Cell 1: {a} * 2 = {b}')"
   ]
  },
  {
   "cell_type": "code",
   "execution_count": null,
   "id": "d7636cbe-e715-4be3-957c-5740655f0724",
   "metadata": {},
   "outputs": [],
   "source": [
    "a = 84\n",
    "b = a * 2\n",
    "print(f'Cell 1: {a} * 2 = {b}')"
   ]
  },
  {
   "cell_type": "code",
   "execution_count": null,
   "id": "f1d828b7-ad49-4a74-83f5-1508420f3326",
   "metadata": {},
   "outputs": [],
   "source": [
    "a = 85\n",
    "b = a * 2\n",
    "print(f'Cell 1: {a} * 2 = {b}')"
   ]
  },
  {
   "cell_type": "code",
   "execution_count": null,
   "id": "5f3bc8b3-ffde-40f2-94ee-bb182929056e",
   "metadata": {},
   "outputs": [],
   "source": [
    "a = 86\n",
    "b = a * 2\n",
    "print(f'Cell 1: {a} * 2 = {b}')"
   ]
  },
  {
   "cell_type": "code",
   "execution_count": null,
   "id": "fe7cfcc7-aad4-4dd3-bdff-95fd9db64f70",
   "metadata": {},
   "outputs": [],
   "source": [
    "a = 87\n",
    "b = a * 2\n",
    "print(f'Cell 1: {a} * 2 = {b}')"
   ]
  },
  {
   "cell_type": "code",
   "execution_count": null,
   "id": "6a11819b-47e1-4bfe-b214-b62b09efb18f",
   "metadata": {},
   "outputs": [],
   "source": [
    "a = 88\n",
    "b = a * 2\n",
    "print(f'Cell 1: {a} * 2 = {b}')"
   ]
  },
  {
   "cell_type": "code",
   "execution_count": null,
   "id": "f7ec01f3-220e-4b1f-bb4a-75a6986e63e5",
   "metadata": {},
   "outputs": [],
   "source": [
    "a = 89\n",
    "b = a * 2\n",
    "print(f'Cell 1: {a} * 2 = {b}')"
   ]
  },
  {
   "cell_type": "code",
   "execution_count": null,
   "id": "856c2aa5-4612-4d67-9974-e17d34309001",
   "metadata": {},
   "outputs": [],
   "source": [
    "a = 90\n",
    "b = a * 2\n",
    "print(f'Cell 1: {a} * 2 = {b}')"
   ]
  },
  {
   "cell_type": "code",
   "execution_count": null,
   "id": "199fb8df-3068-43a4-9735-6510c053efa4",
   "metadata": {},
   "outputs": [],
   "source": [
    "a = 91\n",
    "b = a * 2\n",
    "print(f'Cell 1: {a} * 2 = {b}')"
   ]
  },
  {
   "cell_type": "code",
   "execution_count": null,
   "id": "2d519f6d-575c-4111-923f-5a692addf186",
   "metadata": {},
   "outputs": [],
   "source": [
    "a = 92\n",
    "b = a * 2\n",
    "print(f'Cell 1: {a} * 2 = {b}')"
   ]
  },
  {
   "cell_type": "code",
   "execution_count": null,
   "id": "801bff2a-1211-42db-b4f9-4ab23f0a2ccb",
   "metadata": {},
   "outputs": [],
   "source": [
    "a = 93\n",
    "b = a * 2\n",
    "print(f'Cell 1: {a} * 2 = {b}')"
   ]
  },
  {
   "cell_type": "code",
   "execution_count": null,
   "id": "90d8ea97-a5b2-4469-8a46-d27ee215da71",
   "metadata": {},
   "outputs": [],
   "source": [
    "a = 94\n",
    "b = a * 2\n",
    "print(f'Cell 1: {a} * 2 = {b}')"
   ]
  },
  {
   "cell_type": "code",
   "execution_count": null,
   "id": "4c057819-ef5a-43f1-a93e-2cbc72f7f815",
   "metadata": {},
   "outputs": [],
   "source": [
    "a = 95\n",
    "b = a * 2\n",
    "print(f'Cell 1: {a} * 2 = {b}')"
   ]
  },
  {
   "cell_type": "code",
   "execution_count": null,
   "id": "ccbc7708-e49e-4332-a1b7-7e6d79c4dc11",
   "metadata": {},
   "outputs": [],
   "source": [
    "a = 96\n",
    "b = a * 2\n",
    "print(f'Cell 1: {a} * 2 = {b}')"
   ]
  },
  {
   "cell_type": "code",
   "execution_count": null,
   "id": "a44e12be-059b-4725-8e32-7f5c63051e29",
   "metadata": {},
   "outputs": [],
   "source": [
    "a = 97\n",
    "b = a * 2\n",
    "print(f'Cell 1: {a} * 2 = {b}')"
   ]
  },
  {
   "cell_type": "code",
   "execution_count": null,
   "id": "0cd288c8-3e00-48ee-b76c-557ac7786447",
   "metadata": {},
   "outputs": [],
   "source": [
    "a = 98\n",
    "b = a * 2\n",
    "print(f'Cell 1: {a} * 2 = {b}')"
   ]
  },
  {
   "cell_type": "code",
   "execution_count": null,
   "id": "bacc8900-d32d-4002-98c5-f9b301e03698",
   "metadata": {},
   "outputs": [],
   "source": [
    "a = 99\n",
    "b = a * 2\n",
    "print(f'Cell 1: {a} * 2 = {b}')"
   ]
  },
  {
   "cell_type": "code",
   "execution_count": null,
   "id": "b9b94762-bcbc-438d-8dd0-f88302bd41ba",
   "metadata": {},
   "outputs": [],
   "source": [
    "a = 100\n",
    "b = a * 2\n",
    "print(f'Cell 1: {a} * 2 = {b}')"
   ]
  },
  {
   "cell_type": "code",
   "execution_count": null,
   "id": "a82023f4-cde5-4f12-9eb0-e0bc91ce5fbb",
   "metadata": {},
   "outputs": [],
   "source": [
    "a = 1\n",
    "b = a * 2\n",
    "print(f'Cell 1: {a} * 2 = {b}')"
   ]
  },
  {
   "cell_type": "code",
   "execution_count": null,
   "id": "144db224-3cf6-47aa-b32e-ab86d3197361",
   "metadata": {},
   "outputs": [],
   "source": [
    "a = 1\n",
    "b = a * 2\n",
    "print(f'Cell 1: {a} * 2 = {b}')"
   ]
  },
  {
   "cell_type": "code",
   "execution_count": null,
   "id": "8a7a428e-34c7-4a5e-8674-37956064fd36",
   "metadata": {},
   "outputs": [],
   "source": [
    "a = 1\n",
    "b = a * 2\n",
    "print(f'Cell 1: {a} * 2 = {b}')"
   ]
  },
  {
   "cell_type": "code",
   "execution_count": null,
   "id": "6f6894a2-c6ce-4873-89aa-24953b20d088",
   "metadata": {},
   "outputs": [],
   "source": [
    "a = 1\n",
    "b = a * 2\n",
    "print(f'Cell 1: {a} * 2 = {b}')"
   ]
  },
  {
   "cell_type": "code",
   "execution_count": null,
   "id": "64521cb7-cb92-4b33-b1fc-935b1650d1ef",
   "metadata": {},
   "outputs": [],
   "source": [
    "a = 1\n",
    "b = a * 2\n",
    "print(f'Cell 1: {a} * 2 = {b}')"
   ]
  },
  {
   "cell_type": "code",
   "execution_count": null,
   "id": "d66d536d-7bb3-4e68-a0f0-d61923d1f9e5",
   "metadata": {},
   "outputs": [],
   "source": [
    "a = 1\n",
    "b = a * 2\n",
    "print(f'Cell 1: {a} * 2 = {b}')"
   ]
  },
  {
   "cell_type": "code",
   "execution_count": null,
   "id": "d05077ae-4e7e-4484-9e37-832c62452a84",
   "metadata": {},
   "outputs": [],
   "source": [
    "a = 1\n",
    "b = a * 2\n",
    "print(f'Cell 1: {a} * 2 = {b}')"
   ]
  },
  {
   "cell_type": "code",
   "execution_count": null,
   "id": "f5ee10bb-978c-4080-95e8-f5ec75b40b97",
   "metadata": {},
   "outputs": [],
   "source": [
    "a = 1\n",
    "b = a * 2\n",
    "print(f'Cell 1: {a} * 2 = {b}')"
   ]
  },
  {
   "cell_type": "code",
   "execution_count": null,
   "id": "c0847960-ad88-4056-bbd2-91e048e7919c",
   "metadata": {},
   "outputs": [],
   "source": [
    "a = 1\n",
    "b = a * 2\n",
    "print(f'Cell 1: {a} * 2 = {b}')"
   ]
  },
  {
   "cell_type": "code",
   "execution_count": null,
   "id": "ef5fcacb-5587-430b-95b6-159dcbdefa24",
   "metadata": {},
   "outputs": [],
   "source": [
    "a = 1\n",
    "b = a * 2\n",
    "print(f'Cell 1: {a} * 2 = {b}')"
   ]
  },
  {
   "cell_type": "code",
   "execution_count": null,
   "id": "ed85563a-52c4-4aa9-860f-40de2612b0c7",
   "metadata": {},
   "outputs": [],
   "source": [
    "a = 1\n",
    "b = a * 2\n",
    "print(f'Cell 1: {a} * 2 = {b}')"
   ]
  },
  {
   "cell_type": "code",
   "execution_count": null,
   "id": "751ad2e6-8ed3-46b8-b6dd-d191c8b8d10f",
   "metadata": {},
   "outputs": [],
   "source": [
    "a = 1\n",
    "b = a * 2\n",
    "print(f'Cell 1: {a} * 2 = {b}')"
   ]
  },
  {
   "cell_type": "code",
   "execution_count": null,
   "id": "5fad1fbf-f4d5-4623-b3c3-035632482038",
   "metadata": {},
   "outputs": [],
   "source": [
    "a = 1\n",
    "b = a * 2\n",
    "print(f'Cell 1: {a} * 2 = {b}')"
   ]
  },
  {
   "cell_type": "code",
   "execution_count": null,
   "id": "f608b99d-be3f-4734-a9ba-10cf7e7afdd1",
   "metadata": {},
   "outputs": [],
   "source": [
    "a = 1\n",
    "b = a * 2\n",
    "print(f'Cell 1: {a} * 2 = {b}')"
   ]
  },
  {
   "cell_type": "code",
   "execution_count": null,
   "id": "11d3ddac-4287-426c-8ed5-ca292b6a4d69",
   "metadata": {},
   "outputs": [],
   "source": [
    "a = 1\n",
    "b = a * 2\n",
    "print(f'Cell 1: {a} * 2 = {b}')"
   ]
  },
  {
   "cell_type": "code",
   "execution_count": null,
   "id": "394360a4-6e85-4bf3-9f1b-0e32741b6eff",
   "metadata": {},
   "outputs": [],
   "source": [
    "a = 1\n",
    "b = a * 2\n",
    "print(f'Cell 1: {a} * 2 = {b}')"
   ]
  },
  {
   "cell_type": "code",
   "execution_count": null,
   "id": "26b9a84c-0184-4834-8803-74390c3db745",
   "metadata": {},
   "outputs": [],
   "source": [
    "a = 1\n",
    "b = a * 2\n",
    "print(f'Cell 1: {a} * 2 = {b}')"
   ]
  },
  {
   "cell_type": "code",
   "execution_count": null,
   "id": "dcefd11f-7549-4f51-a229-9a32cda5426d",
   "metadata": {},
   "outputs": [],
   "source": [
    "a = 1\n",
    "b = a * 2\n",
    "print(f'Cell 1: {a} * 2 = {b}')"
   ]
  },
  {
   "cell_type": "code",
   "execution_count": null,
   "id": "d57225a6-58b8-48e4-b1f0-336a3f4e5407",
   "metadata": {},
   "outputs": [],
   "source": [
    "a = 1\n",
    "b = a * 2\n",
    "print(f'Cell 1: {a} * 2 = {b}')"
   ]
  },
  {
   "cell_type": "code",
   "execution_count": null,
   "id": "95d9546a-8b54-4940-8087-3c1a3bb2f4c2",
   "metadata": {},
   "outputs": [],
   "source": [
    "a = 1\n",
    "b = a * 2\n",
    "print(f'Cell 1: {a} * 2 = {b}')"
   ]
  },
  {
   "cell_type": "code",
   "execution_count": null,
   "id": "97f45cfa-6973-4090-ae31-2fff23199db4",
   "metadata": {},
   "outputs": [],
   "source": [
    "a = 1\n",
    "b = a * 2\n",
    "print(f'Cell 1: {a} * 2 = {b}')"
   ]
  },
  {
   "cell_type": "code",
   "execution_count": null,
   "id": "1d9e9062-4728-4acf-97c6-3f1a3d1188be",
   "metadata": {},
   "outputs": [],
   "source": [
    "a = 1\n",
    "b = a * 2\n",
    "print(f'Cell 1: {a} * 2 = {b}')"
   ]
  },
  {
   "cell_type": "code",
   "execution_count": null,
   "id": "580ac265-0189-4546-b22d-e08a9e3e01bc",
   "metadata": {},
   "outputs": [],
   "source": [
    "a = 1\n",
    "b = a * 2\n",
    "print(f'Cell 1: {a} * 2 = {b}')"
   ]
  },
  {
   "cell_type": "code",
   "execution_count": null,
   "id": "7dc8947e-a22e-44fc-81c0-8f2075df5190",
   "metadata": {},
   "outputs": [],
   "source": [
    "a = 1\n",
    "b = a * 2\n",
    "print(f'Cell 1: {a} * 2 = {b}')"
   ]
  },
  {
   "cell_type": "code",
   "execution_count": null,
   "id": "8fdbf682-597a-48eb-b506-3ab95fe0e4cb",
   "metadata": {},
   "outputs": [],
   "source": [
    "a = 1\n",
    "b = a * 2\n",
    "print(f'Cell 1: {a} * 2 = {b}')"
   ]
  },
  {
   "cell_type": "code",
   "execution_count": null,
   "id": "82c672ec-51b2-4332-aac1-bdb9477d9b29",
   "metadata": {},
   "outputs": [],
   "source": [
    "a = 1\n",
    "b = a * 2\n",
    "print(f'Cell 1: {a} * 2 = {b}')"
   ]
  },
  {
   "cell_type": "code",
   "execution_count": null,
   "id": "09b7e60c-20a2-42d2-a194-9ec02e7383eb",
   "metadata": {},
   "outputs": [],
   "source": [
    "a = 1\n",
    "b = a * 2\n",
    "print(f'Cell 1: {a} * 2 = {b}')"
   ]
  },
  {
   "cell_type": "code",
   "execution_count": null,
   "id": "593c6f74-46b7-490a-b8ec-692a2cdfe5b6",
   "metadata": {},
   "outputs": [],
   "source": [
    "a = 1\n",
    "b = a * 2\n",
    "print(f'Cell 1: {a} * 2 = {b}')"
   ]
  },
  {
   "cell_type": "code",
   "execution_count": null,
   "id": "e306b230-95ee-4247-878a-c87d983d212a",
   "metadata": {},
   "outputs": [],
   "source": [
    "a = 1\n",
    "b = a * 2\n",
    "print(f'Cell 1: {a} * 2 = {b}')"
   ]
  },
  {
   "cell_type": "code",
   "execution_count": null,
   "id": "5216d187-c58c-4d63-b530-d8f2a95c1437",
   "metadata": {},
   "outputs": [],
   "source": [
    "a = 1\n",
    "b = a * 2\n",
    "print(f'Cell 1: {a} * 2 = {b}')"
   ]
  },
  {
   "cell_type": "code",
   "execution_count": null,
   "id": "c04b8730-0237-4819-80ab-6902fca0b180",
   "metadata": {},
   "outputs": [],
   "source": [
    "a = 1\n",
    "b = a * 2\n",
    "print(f'Cell 1: {a} * 2 = {b}')"
   ]
  },
  {
   "cell_type": "code",
   "execution_count": null,
   "id": "c005591e-22d2-4ec2-9c39-68b28423c1e7",
   "metadata": {},
   "outputs": [],
   "source": [
    "a = 1\n",
    "b = a * 2\n",
    "print(f'Cell 1: {a} * 2 = {b}')"
   ]
  },
  {
   "cell_type": "code",
   "execution_count": null,
   "id": "eae9d205-2a33-43d0-a736-b184c6f6029a",
   "metadata": {},
   "outputs": [],
   "source": [
    "a = 1\n",
    "b = a * 2\n",
    "print(f'Cell 1: {a} * 2 = {b}')"
   ]
  },
  {
   "cell_type": "code",
   "execution_count": null,
   "id": "04c40f26-7dbd-40a1-891a-540a79d88d60",
   "metadata": {},
   "outputs": [],
   "source": [
    "a = 1\n",
    "b = a * 2\n",
    "print(f'Cell 1: {a} * 2 = {b}')"
   ]
  },
  {
   "cell_type": "code",
   "execution_count": null,
   "id": "5be4016c-d8b0-400f-b89d-4b29f8de0e00",
   "metadata": {},
   "outputs": [],
   "source": [
    "a = 1\n",
    "b = a * 2\n",
    "print(f'Cell 1: {a} * 2 = {b}')"
   ]
  },
  {
   "cell_type": "code",
   "execution_count": null,
   "id": "defad03a-4513-4e03-ba77-256f6bb90509",
   "metadata": {},
   "outputs": [],
   "source": [
    "a = 1\n",
    "b = a * 2\n",
    "print(f'Cell 1: {a} * 2 = {b}')"
   ]
  },
  {
   "cell_type": "code",
   "execution_count": null,
   "id": "90fe5e2b-f789-47eb-aa7c-e28a6fe2c57c",
   "metadata": {},
   "outputs": [],
   "source": [
    "a = 1\n",
    "b = a * 2\n",
    "print(f'Cell 1: {a} * 2 = {b}')"
   ]
  },
  {
   "cell_type": "code",
   "execution_count": null,
   "id": "25e65f89-a85e-4cb1-b6fc-e2c3d379b8b5",
   "metadata": {},
   "outputs": [],
   "source": [
    "a = 1\n",
    "b = a * 2\n",
    "print(f'Cell 1: {a} * 2 = {b}')"
   ]
  },
  {
   "cell_type": "code",
   "execution_count": null,
   "id": "b8186e53-4ab1-44b1-89f1-d8673a1cda3c",
   "metadata": {},
   "outputs": [],
   "source": [
    "a = 1\n",
    "b = a * 2\n",
    "print(f'Cell 1: {a} * 2 = {b}')"
   ]
  },
  {
   "cell_type": "code",
   "execution_count": null,
   "id": "b8106bc3-8f1a-46cc-981d-d6f019551d1f",
   "metadata": {},
   "outputs": [],
   "source": [
    "a = 1\n",
    "b = a * 2\n",
    "print(f'Cell 1: {a} * 2 = {b}')"
   ]
  },
  {
   "cell_type": "code",
   "execution_count": null,
   "id": "90e7287a-2f83-4112-b8fa-ce7b1fef0ed4",
   "metadata": {},
   "outputs": [],
   "source": [
    "a = 1\n",
    "b = a * 2\n",
    "print(f'Cell 1: {a} * 2 = {b}')"
   ]
  },
  {
   "cell_type": "code",
   "execution_count": null,
   "id": "f606bd54-4be3-41e3-ad36-ebb22618b09e",
   "metadata": {},
   "outputs": [],
   "source": [
    "a = 1\n",
    "b = a * 2\n",
    "print(f'Cell 1: {a} * 2 = {b}')"
   ]
  },
  {
   "cell_type": "code",
   "execution_count": null,
   "id": "f9b75b48-b215-4511-9f16-952fe4fa9811",
   "metadata": {},
   "outputs": [],
   "source": [
    "a = 1\n",
    "b = a * 2\n",
    "print(f'Cell 1: {a} * 2 = {b}')"
   ]
  },
  {
   "cell_type": "code",
   "execution_count": null,
   "id": "0148e687-848a-468f-ba49-a083c5e33ba7",
   "metadata": {},
   "outputs": [],
   "source": [
    "a = 1\n",
    "b = a * 2\n",
    "print(f'Cell 1: {a} * 2 = {b}')"
   ]
  },
  {
   "cell_type": "code",
   "execution_count": null,
   "id": "7258cc1a-ffe3-44d2-9692-35599d5cf9c6",
   "metadata": {},
   "outputs": [],
   "source": [
    "a = 1\n",
    "b = a * 2\n",
    "print(f'Cell 1: {a} * 2 = {b}')"
   ]
  },
  {
   "cell_type": "code",
   "execution_count": null,
   "id": "f32f5006-3ec7-4cc8-b97f-343ebf6808f9",
   "metadata": {},
   "outputs": [],
   "source": [
    "a = 1\n",
    "b = a * 2\n",
    "print(f'Cell 1: {a} * 2 = {b}')"
   ]
  },
  {
   "cell_type": "code",
   "execution_count": null,
   "id": "f89bf6ac-8f1e-497d-9749-6d1a38925cff",
   "metadata": {},
   "outputs": [],
   "source": [
    "a = 1\n",
    "b = a * 2\n",
    "print(f'Cell 1: {a} * 2 = {b}')"
   ]
  },
  {
   "cell_type": "code",
   "execution_count": null,
   "id": "c5310124-144e-46d2-aaa3-12d84133f018",
   "metadata": {},
   "outputs": [],
   "source": [
    "a = 1\n",
    "b = a * 2\n",
    "print(f'Cell 1: {a} * 2 = {b}')"
   ]
  },
  {
   "cell_type": "code",
   "execution_count": null,
   "id": "19755f11-e4fe-4c78-aadb-8ebd2ef64bf0",
   "metadata": {},
   "outputs": [],
   "source": [
    "a = 1\n",
    "b = a * 2\n",
    "print(f'Cell 1: {a} * 2 = {b}')"
   ]
  },
  {
   "cell_type": "code",
   "execution_count": null,
   "id": "b01a9efd-9357-4148-aae1-510939eb81ca",
   "metadata": {},
   "outputs": [],
   "source": [
    "a = 1\n",
    "b = a * 2\n",
    "print(f'Cell 1: {a} * 2 = {b}')"
   ]
  },
  {
   "cell_type": "code",
   "execution_count": null,
   "id": "90b5fbe0-4dc8-4a24-8e5a-26232001b4e5",
   "metadata": {},
   "outputs": [],
   "source": [
    "a = 1\n",
    "b = a * 2\n",
    "print(f'Cell 1: {a} * 2 = {b}')"
   ]
  },
  {
   "cell_type": "code",
   "execution_count": null,
   "id": "041217ee-2f9f-42cc-be0b-5bf6b134f888",
   "metadata": {},
   "outputs": [],
   "source": [
    "a = 1\n",
    "b = a * 2\n",
    "print(f'Cell 1: {a} * 2 = {b}')"
   ]
  },
  {
   "cell_type": "code",
   "execution_count": null,
   "id": "2cae5757-3a93-4348-9a92-1ccba467c7a7",
   "metadata": {},
   "outputs": [],
   "source": [
    "a = 1\n",
    "b = a * 2\n",
    "print(f'Cell 1: {a} * 2 = {b}')"
   ]
  },
  {
   "cell_type": "code",
   "execution_count": null,
   "id": "15fb8c32-8fca-4f8d-b3e0-bd90c38d6789",
   "metadata": {},
   "outputs": [],
   "source": [
    "a = 1\n",
    "b = a * 2\n",
    "print(f'Cell 1: {a} * 2 = {b}')"
   ]
  },
  {
   "cell_type": "code",
   "execution_count": null,
   "id": "ff340939-e6bc-4cf9-9c96-f811ef5ad82f",
   "metadata": {},
   "outputs": [],
   "source": [
    "a = 1\n",
    "b = a * 2\n",
    "print(f'Cell 1: {a} * 2 = {b}')"
   ]
  },
  {
   "cell_type": "code",
   "execution_count": null,
   "id": "ecb56e29-4666-4d77-82e5-5491c0e7f839",
   "metadata": {},
   "outputs": [],
   "source": [
    "a = 1\n",
    "b = a * 2\n",
    "print(f'Cell 1: {a} * 2 = {b}')"
   ]
  },
  {
   "cell_type": "code",
   "execution_count": null,
   "id": "c847fbd7-3d0a-4c90-9641-68a6ff000201",
   "metadata": {},
   "outputs": [],
   "source": [
    "a = 1\n",
    "b = a * 2\n",
    "print(f'Cell 1: {a} * 2 = {b}')"
   ]
  },
  {
   "cell_type": "code",
   "execution_count": null,
   "id": "52ced5e8-817b-46c8-b722-391dac4b9971",
   "metadata": {},
   "outputs": [],
   "source": [
    "a = 1\n",
    "b = a * 2\n",
    "print(f'Cell 1: {a} * 2 = {b}')"
   ]
  },
  {
   "cell_type": "code",
   "execution_count": null,
   "id": "be04e651-ab9b-4a91-aeae-46e42d2fc059",
   "metadata": {},
   "outputs": [],
   "source": [
    "a = 1\n",
    "b = a * 2\n",
    "print(f'Cell 1: {a} * 2 = {b}')"
   ]
  },
  {
   "cell_type": "code",
   "execution_count": null,
   "id": "1b7e9475-9988-4179-bfb5-edb4160d9b10",
   "metadata": {},
   "outputs": [],
   "source": [
    "a = 1\n",
    "b = a * 2\n",
    "print(f'Cell 1: {a} * 2 = {b}')"
   ]
  },
  {
   "cell_type": "code",
   "execution_count": null,
   "id": "39dd0102-bf38-462b-bdf8-2a6f6dcb769d",
   "metadata": {},
   "outputs": [],
   "source": [
    "a = 1\n",
    "b = a * 2\n",
    "print(f'Cell 1: {a} * 2 = {b}')"
   ]
  },
  {
   "cell_type": "code",
   "execution_count": null,
   "id": "9257588c-5078-4f27-92ed-0c71d27b43b1",
   "metadata": {},
   "outputs": [],
   "source": [
    "a = 1\n",
    "b = a * 2\n",
    "print(f'Cell 1: {a} * 2 = {b}')"
   ]
  },
  {
   "cell_type": "code",
   "execution_count": null,
   "id": "e32f3e7c-aa1d-453d-8d33-29a492ece223",
   "metadata": {},
   "outputs": [],
   "source": [
    "a = 1\n",
    "b = a * 2\n",
    "print(f'Cell 1: {a} * 2 = {b}')"
   ]
  },
  {
   "cell_type": "code",
   "execution_count": null,
   "id": "136bcb16-4676-4fac-b64f-a00eca74018f",
   "metadata": {},
   "outputs": [],
   "source": [
    "a = 1\n",
    "b = a * 2\n",
    "print(f'Cell 1: {a} * 2 = {b}')"
   ]
  },
  {
   "cell_type": "code",
   "execution_count": null,
   "id": "0876eb88-bc87-46c4-b1a0-bbb4cb17a31a",
   "metadata": {},
   "outputs": [],
   "source": [
    "a = 1\n",
    "b = a * 2\n",
    "print(f'Cell 1: {a} * 2 = {b}')"
   ]
  },
  {
   "cell_type": "code",
   "execution_count": null,
   "id": "4e574071-51e4-47d7-ba4d-647909b5135e",
   "metadata": {},
   "outputs": [],
   "source": [
    "a = 1\n",
    "b = a * 2\n",
    "print(f'Cell 1: {a} * 2 = {b}')"
   ]
  },
  {
   "cell_type": "code",
   "execution_count": null,
   "id": "9517b09c-a34a-478a-90f8-02c29fd46b16",
   "metadata": {},
   "outputs": [],
   "source": [
    "a = 1\n",
    "b = a * 2\n",
    "print(f'Cell 1: {a} * 2 = {b}')"
   ]
  },
  {
   "cell_type": "code",
   "execution_count": null,
   "id": "87bba1f7-641f-4c90-9a3b-4ebb39442f8c",
   "metadata": {},
   "outputs": [],
   "source": [
    "a = 1\n",
    "b = a * 2\n",
    "print(f'Cell 1: {a} * 2 = {b}')"
   ]
  },
  {
   "cell_type": "code",
   "execution_count": null,
   "id": "36e09325-a21c-41c5-8825-f5e33e5f406d",
   "metadata": {},
   "outputs": [],
   "source": [
    "a = 1\n",
    "b = a * 2\n",
    "print(f'Cell 1: {a} * 2 = {b}')"
   ]
  },
  {
   "cell_type": "code",
   "execution_count": null,
   "id": "0e7f22e4-dabb-4e0e-ba62-a246e3a4ff2c",
   "metadata": {},
   "outputs": [],
   "source": [
    "a = 1\n",
    "b = a * 2\n",
    "print(f'Cell 1: {a} * 2 = {b}')"
   ]
  },
  {
   "cell_type": "code",
   "execution_count": null,
   "id": "b8de6414-cb10-439b-91a6-43fe60d0ccb2",
   "metadata": {},
   "outputs": [],
   "source": [
    "a = 1\n",
    "b = a * 2\n",
    "print(f'Cell 1: {a} * 2 = {b}')"
   ]
  },
  {
   "cell_type": "code",
   "execution_count": null,
   "id": "5a529820-8f80-4fc6-ae10-accd1e91cd78",
   "metadata": {},
   "outputs": [],
   "source": [
    "a = 1\n",
    "b = a * 2\n",
    "print(f'Cell 1: {a} * 2 = {b}')"
   ]
  },
  {
   "cell_type": "code",
   "execution_count": null,
   "id": "c0a38dc0-efc6-4a4c-9cf4-6fa472b68bde",
   "metadata": {},
   "outputs": [],
   "source": [
    "a = 1\n",
    "b = a * 2\n",
    "print(f'Cell 1: {a} * 2 = {b}')"
   ]
  },
  {
   "cell_type": "code",
   "execution_count": null,
   "id": "b1b9a67b-5633-4a6f-b334-9968eb7fcbfc",
   "metadata": {},
   "outputs": [],
   "source": [
    "a = 1\n",
    "b = a * 2\n",
    "print(f'Cell 1: {a} * 2 = {b}')"
   ]
  },
  {
   "cell_type": "code",
   "execution_count": null,
   "id": "638cee96-36e6-43ed-b2b0-1ecfd07bfb17",
   "metadata": {},
   "outputs": [],
   "source": [
    "a = 1\n",
    "b = a * 2\n",
    "print(f'Cell 1: {a} * 2 = {b}')"
   ]
  },
  {
   "cell_type": "code",
   "execution_count": null,
   "id": "65567c04-f887-4c91-b6e6-ee78153b2a16",
   "metadata": {},
   "outputs": [],
   "source": [
    "a = 1\n",
    "b = a * 2\n",
    "print(f'Cell 1: {a} * 2 = {b}')"
   ]
  },
  {
   "cell_type": "code",
   "execution_count": null,
   "id": "35879bee-64fc-4bd6-98db-3201cd45fa95",
   "metadata": {},
   "outputs": [],
   "source": [
    "a = 1\n",
    "b = a * 2\n",
    "print(f'Cell 1: {a} * 2 = {b}')"
   ]
  },
  {
   "cell_type": "code",
   "execution_count": null,
   "id": "5b47f9cd-3dcd-49a2-a106-b2c55efecf67",
   "metadata": {},
   "outputs": [],
   "source": [
    "a = 1\n",
    "b = a * 2\n",
    "print(f'Cell 1: {a} * 2 = {b}')"
   ]
  },
  {
   "cell_type": "code",
   "execution_count": null,
   "id": "098729c3-1aaa-47a1-9a53-474ae776a447",
   "metadata": {},
   "outputs": [],
   "source": [
    "a = 1\n",
    "b = a * 2\n",
    "print(f'Cell 1: {a} * 2 = {b}')"
   ]
  },
  {
   "cell_type": "code",
   "execution_count": null,
   "id": "a7f6ca28-5faf-4218-a03a-1198826ae678",
   "metadata": {},
   "outputs": [],
   "source": [
    "a = 1\n",
    "b = a * 2\n",
    "print(f'Cell 1: {a} * 2 = {b}')"
   ]
  },
  {
   "cell_type": "code",
   "execution_count": null,
   "id": "6f53937f-d1e8-433f-9aea-c85feb80d03a",
   "metadata": {},
   "outputs": [],
   "source": [
    "a = 1\n",
    "b = a * 2\n",
    "print(f'Cell 1: {a} * 2 = {b}')"
   ]
  },
  {
   "cell_type": "code",
   "execution_count": null,
   "id": "ef083a04-c8f3-477c-bf36-925485196b82",
   "metadata": {},
   "outputs": [],
   "source": [
    "a = 1\n",
    "b = a * 2\n",
    "print(f'Cell 1: {a} * 2 = {b}')"
   ]
  },
  {
   "cell_type": "code",
   "execution_count": null,
   "id": "05cf7de9-a81b-4271-82f3-1e84875980b7",
   "metadata": {},
   "outputs": [],
   "source": [
    "a = 1\n",
    "b = a * 2\n",
    "print(f'Cell 1: {a} * 2 = {b}')"
   ]
  },
  {
   "cell_type": "code",
   "execution_count": null,
   "id": "18ebb02a-fe6d-4a96-afff-2d7b218b8725",
   "metadata": {},
   "outputs": [],
   "source": [
    "a = 1\n",
    "b = a * 2\n",
    "print(f'Cell 1: {a} * 2 = {b}')"
   ]
  },
  {
   "cell_type": "code",
   "execution_count": null,
   "id": "5d6a710a-c332-4e39-9a0f-720d7c577752",
   "metadata": {},
   "outputs": [],
   "source": [
    "a = 1\n",
    "b = a * 2\n",
    "print(f'Cell 1: {a} * 2 = {b}')"
   ]
  },
  {
   "cell_type": "code",
   "execution_count": null,
   "id": "5d7149f3-ec94-430b-b42c-0ae4c9dd521e",
   "metadata": {},
   "outputs": [],
   "source": [
    "a = 1\n",
    "b = a * 2\n",
    "print(f'Cell 1: {a} * 2 = {b}')"
   ]
  },
  {
   "cell_type": "code",
   "execution_count": null,
   "id": "f9963f91-c2bd-4126-959b-694385144cae",
   "metadata": {},
   "outputs": [],
   "source": [
    "a = 1\n",
    "b = a * 2\n",
    "print(f'Cell 1: {a} * 2 = {b}')"
   ]
  },
  {
   "cell_type": "code",
   "execution_count": null,
   "id": "2c50f87f-2a5f-4003-bb01-b87ff2a1aa73",
   "metadata": {},
   "outputs": [],
   "source": [
    "a = 1\n",
    "b = a * 2\n",
    "print(f'Cell 1: {a} * 2 = {b}')"
   ]
  },
  {
   "cell_type": "code",
   "execution_count": null,
   "id": "1245f6ba-8838-49f9-a0a6-aa1a2bcb9717",
   "metadata": {},
   "outputs": [],
   "source": [
    "a = 1\n",
    "b = a * 2\n",
    "print(f'Cell 1: {a} * 2 = {b}')"
   ]
  },
  {
   "cell_type": "code",
   "execution_count": null,
   "id": "cbf5ea0f-e22c-4893-ba37-6992a2344cd5",
   "metadata": {},
   "outputs": [],
   "source": [
    "a = 1\n",
    "b = a * 2\n",
    "print(f'Cell 1: {a} * 2 = {b}')"
   ]
  },
  {
   "cell_type": "code",
   "execution_count": null,
   "id": "1689598b-5104-44e3-bb11-3d6718c3cee6",
   "metadata": {},
   "outputs": [],
   "source": [
    "a = 1\n",
    "b = a * 2\n",
    "print(f'Cell 1: {a} * 2 = {b}')"
   ]
  },
  {
   "cell_type": "code",
   "execution_count": null,
   "id": "f8cefa63-899d-4521-a24a-a18e8dc9f60d",
   "metadata": {},
   "outputs": [],
   "source": [
    "a = 1\n",
    "b = a * 2\n",
    "print(f'Cell 1: {a} * 2 = {b}')"
   ]
  },
  {
   "cell_type": "code",
   "execution_count": null,
   "id": "93edb382-fd14-4510-9f9c-0ac30b00a28f",
   "metadata": {},
   "outputs": [],
   "source": [
    "a = 1\n",
    "b = a * 2\n",
    "print(f'Cell 1: {a} * 2 = {b}')"
   ]
  },
  {
   "cell_type": "code",
   "execution_count": null,
   "id": "1518daba-096d-4ed9-b94a-8849e4e11619",
   "metadata": {},
   "outputs": [],
   "source": [
    "a = 1\n",
    "b = a * 2\n",
    "print(f'Cell 1: {a} * 2 = {b}')"
   ]
  },
  {
   "cell_type": "code",
   "execution_count": null,
   "id": "2612c292-8fad-4284-bfef-275db53588a2",
   "metadata": {},
   "outputs": [],
   "source": [
    "a = 1\n",
    "b = a * 2\n",
    "print(f'Cell 1: {a} * 2 = {b}')"
   ]
  },
  {
   "cell_type": "code",
   "execution_count": null,
   "id": "8bab708e-f94f-448b-a1ec-b1360a8dba4c",
   "metadata": {},
   "outputs": [],
   "source": [
    "a = 1\n",
    "b = a * 2\n",
    "print(f'Cell 1: {a} * 2 = {b}')"
   ]
  },
  {
   "cell_type": "code",
   "execution_count": null,
   "id": "ca82bd4f-16e8-47ab-b450-b83176d76f5f",
   "metadata": {},
   "outputs": [],
   "source": [
    "a = 1\n",
    "b = a * 2\n",
    "print(f'Cell 1: {a} * 2 = {b}')"
   ]
  },
  {
   "cell_type": "code",
   "execution_count": null,
   "id": "708293aa-0081-45d8-a29c-7f11d8256b6d",
   "metadata": {},
   "outputs": [],
   "source": [
    "a = 1\n",
    "b = a * 2\n",
    "print(f'Cell 1: {a} * 2 = {b}')"
   ]
  },
  {
   "cell_type": "code",
   "execution_count": null,
   "id": "65e5aa17-cde1-40ff-902f-c76f9516f8d6",
   "metadata": {},
   "outputs": [],
   "source": [
    "a = 1\n",
    "b = a * 2\n",
    "print(f'Cell 1: {a} * 2 = {b}')"
   ]
  },
  {
   "cell_type": "code",
   "execution_count": null,
   "id": "afe3064c-ab30-48e6-a6cf-f59086bac5d1",
   "metadata": {},
   "outputs": [],
   "source": [
    "a = 1\n",
    "b = a * 2\n",
    "print(f'Cell 1: {a} * 2 = {b}')"
   ]
  },
  {
   "cell_type": "code",
   "execution_count": null,
   "id": "80b136fe-5ae6-4735-8e65-197176ee449a",
   "metadata": {},
   "outputs": [],
   "source": [
    "a = 1\n",
    "b = a * 2\n",
    "print(f'Cell 1: {a} * 2 = {b}')"
   ]
  },
  {
   "cell_type": "code",
   "execution_count": null,
   "id": "27867194-8aba-4476-b4a7-e62f755e5f98",
   "metadata": {},
   "outputs": [],
   "source": [
    "a = 1\n",
    "b = a * 2\n",
    "print(f'Cell 1: {a} * 2 = {b}')"
   ]
  },
  {
   "cell_type": "code",
   "execution_count": null,
   "id": "b09ce920-cc5f-44d3-930a-f438f6e2883d",
   "metadata": {},
   "outputs": [],
   "source": [
    "a = 1\n",
    "b = a * 2\n",
    "print(f'Cell 1: {a} * 2 = {b}')"
   ]
  },
  {
   "cell_type": "code",
   "execution_count": null,
   "id": "df8ee114-cb21-4b6f-9847-a55a16f3ebad",
   "metadata": {},
   "outputs": [],
   "source": [
    "a = 1\n",
    "b = a * 2\n",
    "print(f'Cell 1: {a} * 2 = {b}')"
   ]
  },
  {
   "cell_type": "code",
   "execution_count": null,
   "id": "0e9f3750-1274-45b4-ad75-eba2b733fd55",
   "metadata": {},
   "outputs": [],
   "source": [
    "a = 1\n",
    "b = a * 2\n",
    "print(f'Cell 1: {a} * 2 = {b}')"
   ]
  },
  {
   "cell_type": "code",
   "execution_count": null,
   "id": "a209a2c3-cdfa-4c88-a12a-c906626612ab",
   "metadata": {},
   "outputs": [],
   "source": [
    "a = 1\n",
    "b = a * 2\n",
    "print(f'Cell 1: {a} * 2 = {b}')"
   ]
  },
  {
   "cell_type": "code",
   "execution_count": null,
   "id": "695611e7-bc65-44e3-bfda-4fab6edbebaf",
   "metadata": {},
   "outputs": [],
   "source": [
    "a = 1\n",
    "b = a * 2\n",
    "print(f'Cell 1: {a} * 2 = {b}')"
   ]
  },
  {
   "cell_type": "code",
   "execution_count": null,
   "id": "4a7ff0db-cfc3-4148-8e12-a68431eff1d7",
   "metadata": {},
   "outputs": [],
   "source": [
    "a = 1\n",
    "b = a * 2\n",
    "print(f'Cell 1: {a} * 2 = {b}')"
   ]
  },
  {
   "cell_type": "code",
   "execution_count": null,
   "id": "99228cb3-7391-402f-83e6-142323aa69d9",
   "metadata": {},
   "outputs": [],
   "source": [
    "a = 1\n",
    "b = a * 2\n",
    "print(f'Cell 1: {a} * 2 = {b}')"
   ]
  },
  {
   "cell_type": "code",
   "execution_count": null,
   "id": "8e1003a9-a210-4205-b10b-e3595b3a464f",
   "metadata": {},
   "outputs": [],
   "source": [
    "a = 1\n",
    "b = a * 2\n",
    "print(f'Cell 1: {a} * 2 = {b}')"
   ]
  },
  {
   "cell_type": "code",
   "execution_count": null,
   "id": "4b1d195b-5f87-4718-a596-0597d6e87e5e",
   "metadata": {},
   "outputs": [],
   "source": [
    "a = 1\n",
    "b = a * 2\n",
    "print(f'Cell 1: {a} * 2 = {b}')"
   ]
  },
  {
   "cell_type": "code",
   "execution_count": null,
   "id": "a5429ac1-a777-4ee8-8c67-8cc6ace7a388",
   "metadata": {},
   "outputs": [],
   "source": [
    "a = 1\n",
    "b = a * 2\n",
    "print(f'Cell 1: {a} * 2 = {b}')"
   ]
  },
  {
   "cell_type": "code",
   "execution_count": null,
   "id": "276d2bf0-0861-490d-b0fd-a165f2812abc",
   "metadata": {},
   "outputs": [],
   "source": [
    "a = 1\n",
    "b = a * 2\n",
    "print(f'Cell 1: {a} * 2 = {b}')"
   ]
  },
  {
   "cell_type": "code",
   "execution_count": null,
   "id": "b4577007-f422-4680-aa01-e58a22e59481",
   "metadata": {},
   "outputs": [],
   "source": [
    "a = 1\n",
    "b = a * 2\n",
    "print(f'Cell 1: {a} * 2 = {b}')"
   ]
  },
  {
   "cell_type": "code",
   "execution_count": null,
   "id": "0418d14b-fbcd-4d39-a986-a0fb6ab84b7f",
   "metadata": {},
   "outputs": [],
   "source": [
    "a = 1\n",
    "b = a * 2\n",
    "print(f'Cell 1: {a} * 2 = {b}')"
   ]
  },
  {
   "cell_type": "code",
   "execution_count": null,
   "id": "953a7107-bc91-4a9f-b50b-048cae16c251",
   "metadata": {},
   "outputs": [],
   "source": [
    "a = 1\n",
    "b = a * 2\n",
    "print(f'Cell 1: {a} * 2 = {b}')"
   ]
  },
  {
   "cell_type": "code",
   "execution_count": null,
   "id": "c55f7eea-3754-4957-9a40-2686224030a9",
   "metadata": {},
   "outputs": [],
   "source": [
    "a = 1\n",
    "b = a * 2\n",
    "print(f'Cell 1: {a} * 2 = {b}')"
   ]
  },
  {
   "cell_type": "code",
   "execution_count": null,
   "id": "506c463a-0dbc-480c-ac98-006dac1001b7",
   "metadata": {},
   "outputs": [],
   "source": [
    "a = 1\n",
    "b = a * 2\n",
    "print(f'Cell 1: {a} * 2 = {b}')"
   ]
  },
  {
   "cell_type": "code",
   "execution_count": null,
   "id": "a745176b-95e6-49ab-b59f-7f841097823a",
   "metadata": {},
   "outputs": [],
   "source": [
    "a = 1\n",
    "b = a * 2\n",
    "print(f'Cell 1: {a} * 2 = {b}')"
   ]
  },
  {
   "cell_type": "code",
   "execution_count": null,
   "id": "dab2f22d-686b-4941-9038-4b798c758283",
   "metadata": {},
   "outputs": [],
   "source": [
    "a = 1\n",
    "b = a * 2\n",
    "print(f'Cell 1: {a} * 2 = {b}')"
   ]
  },
  {
   "cell_type": "code",
   "execution_count": null,
   "id": "e6f16537-2cfe-4d66-b7c1-a86744e6574e",
   "metadata": {},
   "outputs": [],
   "source": [
    "a = 1\n",
    "b = a * 2\n",
    "print(f'Cell 1: {a} * 2 = {b}')"
   ]
  },
  {
   "cell_type": "code",
   "execution_count": null,
   "id": "14dab89b-9d7f-450c-894b-15e12da8f858",
   "metadata": {},
   "outputs": [],
   "source": [
    "a = 1\n",
    "b = a * 2\n",
    "print(f'Cell 1: {a} * 2 = {b}')"
   ]
  },
  {
   "cell_type": "code",
   "execution_count": null,
   "id": "563c0f2c-9d35-44b8-9150-f04220d49b98",
   "metadata": {},
   "outputs": [],
   "source": [
    "a = 1\n",
    "b = a * 2\n",
    "print(f'Cell 1: {a} * 2 = {b}')"
   ]
  },
  {
   "cell_type": "code",
   "execution_count": null,
   "id": "0068a8e1-673d-4b21-8b85-8958883ff30a",
   "metadata": {},
   "outputs": [],
   "source": [
    "a = 1\n",
    "b = a * 2\n",
    "print(f'Cell 1: {a} * 2 = {b}')"
   ]
  },
  {
   "cell_type": "code",
   "execution_count": null,
   "id": "7e38fdb7-960e-4287-bfc5-fd37672ea5cc",
   "metadata": {},
   "outputs": [],
   "source": [
    "a = 1\n",
    "b = a * 2\n",
    "print(f'Cell 1: {a} * 2 = {b}')"
   ]
  },
  {
   "cell_type": "code",
   "execution_count": null,
   "id": "6cd61fb2-1963-4c31-a3bc-ca6362b76685",
   "metadata": {},
   "outputs": [],
   "source": [
    "a = 1\n",
    "b = a * 2\n",
    "print(f'Cell 1: {a} * 2 = {b}')"
   ]
  },
  {
   "cell_type": "code",
   "execution_count": null,
   "id": "92885b4d-30f5-4a58-b102-410f445e87d2",
   "metadata": {},
   "outputs": [],
   "source": [
    "a = 1\n",
    "b = a * 2\n",
    "print(f'Cell 1: {a} * 2 = {b}')"
   ]
  },
  {
   "cell_type": "code",
   "execution_count": null,
   "id": "b2c7ce79-c60d-44df-b80a-7d6c2d38e679",
   "metadata": {},
   "outputs": [],
   "source": [
    "a = 1\n",
    "b = a * 2\n",
    "print(f'Cell 1: {a} * 2 = {b}')"
   ]
  },
  {
   "cell_type": "code",
   "execution_count": null,
   "id": "04053105-d822-4300-be7d-48ab6cf333b0",
   "metadata": {},
   "outputs": [],
   "source": [
    "a = 1\n",
    "b = a * 2\n",
    "print(f'Cell 1: {a} * 2 = {b}')"
   ]
  },
  {
   "cell_type": "code",
   "execution_count": null,
   "id": "ef36cfd8-eb87-42a0-9867-107c52f69720",
   "metadata": {},
   "outputs": [],
   "source": [
    "a = 1\n",
    "b = a * 2\n",
    "print(f'Cell 1: {a} * 2 = {b}')"
   ]
  },
  {
   "cell_type": "code",
   "execution_count": null,
   "id": "99e0bef9-fd27-4f2e-ac70-e891a295bb72",
   "metadata": {},
   "outputs": [],
   "source": [
    "a = 1\n",
    "b = a * 2\n",
    "print(f'Cell 1: {a} * 2 = {b}')"
   ]
  },
  {
   "cell_type": "code",
   "execution_count": null,
   "id": "589129fd-326f-427c-ae4e-ad7859d47f69",
   "metadata": {},
   "outputs": [],
   "source": [
    "a = 1\n",
    "b = a * 2\n",
    "print(f'Cell 1: {a} * 2 = {b}')"
   ]
  },
  {
   "cell_type": "code",
   "execution_count": null,
   "id": "531b2f58-b6d8-4e57-ae2d-b1c6554034cd",
   "metadata": {},
   "outputs": [],
   "source": [
    "a = 1\n",
    "b = a * 2\n",
    "print(f'Cell 1: {a} * 2 = {b}')"
   ]
  },
  {
   "cell_type": "code",
   "execution_count": null,
   "id": "e035d8d5-26ef-4e61-bd82-638b0707a5e7",
   "metadata": {},
   "outputs": [],
   "source": [
    "a = 1\n",
    "b = a * 2\n",
    "print(f'Cell 1: {a} * 2 = {b}')"
   ]
  },
  {
   "cell_type": "code",
   "execution_count": null,
   "id": "af846ef0-39e0-4a45-a490-d7c8d979fbd8",
   "metadata": {},
   "outputs": [],
   "source": [
    "a = 1\n",
    "b = a * 2\n",
    "print(f'Cell 1: {a} * 2 = {b}')"
   ]
  },
  {
   "cell_type": "code",
   "execution_count": null,
   "id": "5144d041-b0fb-4382-904b-c29abc1d45f3",
   "metadata": {},
   "outputs": [],
   "source": [
    "a = 1\n",
    "b = a * 2\n",
    "print(f'Cell 1: {a} * 2 = {b}')"
   ]
  },
  {
   "cell_type": "code",
   "execution_count": null,
   "id": "99888d19-21a3-404e-803f-c511b7810912",
   "metadata": {},
   "outputs": [],
   "source": [
    "a = 1\n",
    "b = a * 2\n",
    "print(f'Cell 1: {a} * 2 = {b}')"
   ]
  },
  {
   "cell_type": "code",
   "execution_count": null,
   "id": "c8706204-9e4f-4375-8deb-8162262d2df2",
   "metadata": {},
   "outputs": [],
   "source": [
    "a = 1\n",
    "b = a * 2\n",
    "print(f'Cell 1: {a} * 2 = {b}')"
   ]
  },
  {
   "cell_type": "code",
   "execution_count": null,
   "id": "d0195b32-92e9-4af7-aec9-f4ac7a689fb2",
   "metadata": {},
   "outputs": [],
   "source": [
    "a = 1\n",
    "b = a * 2\n",
    "print(f'Cell 1: {a} * 2 = {b}')"
   ]
  },
  {
   "cell_type": "code",
   "execution_count": null,
   "id": "3ea4af34-f772-486f-aa81-b3ef6a30e094",
   "metadata": {},
   "outputs": [],
   "source": [
    "a = 1\n",
    "b = a * 2\n",
    "print(f'Cell 1: {a} * 2 = {b}')"
   ]
  },
  {
   "cell_type": "code",
   "execution_count": null,
   "id": "33445d12-4b67-4e26-87fd-d4236e16a91c",
   "metadata": {},
   "outputs": [],
   "source": [
    "a = 1\n",
    "b = a * 2\n",
    "print(f'Cell 1: {a} * 2 = {b}')"
   ]
  },
  {
   "cell_type": "code",
   "execution_count": null,
   "id": "d8f5a6d2-8337-4e9d-acf7-e2990141ea7f",
   "metadata": {},
   "outputs": [],
   "source": [
    "a = 1\n",
    "b = a * 2\n",
    "print(f'Cell 1: {a} * 2 = {b}')"
   ]
  },
  {
   "cell_type": "code",
   "execution_count": null,
   "id": "7711a043-6f11-4136-8fad-e7dd212c4099",
   "metadata": {},
   "outputs": [],
   "source": [
    "a = 1\n",
    "b = a * 2\n",
    "print(f'Cell 1: {a} * 2 = {b}')"
   ]
  },
  {
   "cell_type": "code",
   "execution_count": null,
   "id": "d02ad5d8-9cac-4512-9998-0bfa7fc49677",
   "metadata": {},
   "outputs": [],
   "source": [
    "a = 1\n",
    "b = a * 2\n",
    "print(f'Cell 1: {a} * 2 = {b}')"
   ]
  },
  {
   "cell_type": "code",
   "execution_count": null,
   "id": "49a3a052-a90f-45dd-99aa-a130150a2bbd",
   "metadata": {},
   "outputs": [],
   "source": [
    "a = 1\n",
    "b = a * 2\n",
    "print(f'Cell 1: {a} * 2 = {b}')"
   ]
  },
  {
   "cell_type": "code",
   "execution_count": null,
   "id": "2ec944ab-7e7e-4d68-8bf7-4815a689cba3",
   "metadata": {},
   "outputs": [],
   "source": [
    "a = 1\n",
    "b = a * 2\n",
    "print(f'Cell 1: {a} * 2 = {b}')"
   ]
  },
  {
   "cell_type": "code",
   "execution_count": null,
   "id": "1b110fae-09c4-42b7-a5da-a54c6dfbaced",
   "metadata": {},
   "outputs": [],
   "source": [
    "a = 1\n",
    "b = a * 2\n",
    "print(f'Cell 1: {a} * 2 = {b}')"
   ]
  },
  {
   "cell_type": "code",
   "execution_count": null,
   "id": "de017534-0901-4785-b493-41fa796630f7",
   "metadata": {},
   "outputs": [],
   "source": [
    "a = 1\n",
    "b = a * 2\n",
    "print(f'Cell 1: {a} * 2 = {b}')"
   ]
  },
  {
   "cell_type": "code",
   "execution_count": null,
   "id": "34a92299-bcfa-470f-8ecd-9fc2ae9c0e3b",
   "metadata": {},
   "outputs": [],
   "source": [
    "a = 1\n",
    "b = a * 2\n",
    "print(f'Cell 1: {a} * 2 = {b}')"
   ]
  },
  {
   "cell_type": "code",
   "execution_count": null,
   "id": "5ae9b729-02b7-49b9-99b5-851893207cd9",
   "metadata": {},
   "outputs": [],
   "source": [
    "a = 1\n",
    "b = a * 2\n",
    "print(f'Cell 1: {a} * 2 = {b}')"
   ]
  },
  {
   "cell_type": "code",
   "execution_count": null,
   "id": "147eeeee-c24a-4a20-b2d0-e1cce8b6e2ba",
   "metadata": {},
   "outputs": [],
   "source": [
    "a = 1\n",
    "b = a * 2\n",
    "print(f'Cell 1: {a} * 2 = {b}')"
   ]
  },
  {
   "cell_type": "code",
   "execution_count": null,
   "id": "88eece5d-2321-4240-be06-2a861b43c8c2",
   "metadata": {},
   "outputs": [],
   "source": [
    "a = 1\n",
    "b = a * 2\n",
    "print(f'Cell 1: {a} * 2 = {b}')"
   ]
  },
  {
   "cell_type": "code",
   "execution_count": null,
   "id": "4bc3dedc-1ded-4902-851d-afde615a35a8",
   "metadata": {},
   "outputs": [],
   "source": [
    "a = 1\n",
    "b = a * 2\n",
    "print(f'Cell 1: {a} * 2 = {b}')"
   ]
  },
  {
   "cell_type": "code",
   "execution_count": null,
   "id": "eb8be27d-2717-476c-8f86-fd409759a1db",
   "metadata": {},
   "outputs": [],
   "source": [
    "a = 1\n",
    "b = a * 2\n",
    "print(f'Cell 1: {a} * 2 = {b}')"
   ]
  },
  {
   "cell_type": "code",
   "execution_count": null,
   "id": "5509efab-f628-4d22-9095-85976c3a0755",
   "metadata": {},
   "outputs": [],
   "source": [
    "a = 1\n",
    "b = a * 2\n",
    "print(f'Cell 1: {a} * 2 = {b}')"
   ]
  },
  {
   "cell_type": "code",
   "execution_count": null,
   "id": "cf0c3e2b-c69c-4a76-a413-4bdc86a9585f",
   "metadata": {},
   "outputs": [],
   "source": [
    "a = 1\n",
    "b = a * 2\n",
    "print(f'Cell 1: {a} * 2 = {b}')"
   ]
  },
  {
   "cell_type": "code",
   "execution_count": null,
   "id": "75fea1b9-e92b-4c88-aa7c-f5d5867010dc",
   "metadata": {},
   "outputs": [],
   "source": [
    "a = 1\n",
    "b = a * 2\n",
    "print(f'Cell 1: {a} * 2 = {b}')"
   ]
  },
  {
   "cell_type": "code",
   "execution_count": null,
   "id": "b0badd92-78b4-413e-8f79-760589ac070e",
   "metadata": {},
   "outputs": [],
   "source": [
    "a = 1\n",
    "b = a * 2\n",
    "print(f'Cell 1: {a} * 2 = {b}')"
   ]
  },
  {
   "cell_type": "code",
   "execution_count": null,
   "id": "6294fa4a-b063-487d-80cf-45188f95fae2",
   "metadata": {},
   "outputs": [],
   "source": [
    "a = 1\n",
    "b = a * 2\n",
    "print(f'Cell 1: {a} * 2 = {b}')"
   ]
  },
  {
   "cell_type": "code",
   "execution_count": null,
   "id": "bad80175-edb1-49ba-b001-d54e0f31edc9",
   "metadata": {},
   "outputs": [],
   "source": [
    "a = 1\n",
    "b = a * 2\n",
    "print(f'Cell 1: {a} * 2 = {b}')"
   ]
  },
  {
   "cell_type": "code",
   "execution_count": null,
   "id": "660ccf1c-5a35-4e23-b8c7-877d8527e1fc",
   "metadata": {},
   "outputs": [],
   "source": [
    "a = 1\n",
    "b = a * 2\n",
    "print(f'Cell 1: {a} * 2 = {b}')"
   ]
  },
  {
   "cell_type": "code",
   "execution_count": null,
   "id": "60e9090c-548a-4240-a227-3f4099d57012",
   "metadata": {},
   "outputs": [],
   "source": [
    "a = 1\n",
    "b = a * 2\n",
    "print(f'Cell 1: {a} * 2 = {b}')"
   ]
  },
  {
   "cell_type": "code",
   "execution_count": null,
   "id": "4a49aa37-a60d-4769-a5d8-5fb2459fc185",
   "metadata": {},
   "outputs": [],
   "source": [
    "a = 1\n",
    "b = a * 2\n",
    "print(f'Cell 1: {a} * 2 = {b}')"
   ]
  },
  {
   "cell_type": "code",
   "execution_count": null,
   "id": "8c384da1-2a2f-466d-aebc-7bd21bb2ad01",
   "metadata": {},
   "outputs": [],
   "source": [
    "a = 1\n",
    "b = a * 2\n",
    "print(f'Cell 1: {a} * 2 = {b}')"
   ]
  },
  {
   "cell_type": "code",
   "execution_count": null,
   "id": "9f4ebfb8-89b2-4895-8ac3-96077fb7e4b3",
   "metadata": {},
   "outputs": [],
   "source": [
    "a = 1\n",
    "b = a * 2\n",
    "print(f'Cell 1: {a} * 2 = {b}')"
   ]
  },
  {
   "cell_type": "code",
   "execution_count": null,
   "id": "f9b42aaa-6cc8-4717-807f-a7ac7c148b7a",
   "metadata": {},
   "outputs": [],
   "source": [
    "a = 1\n",
    "b = a * 2\n",
    "print(f'Cell 1: {a} * 2 = {b}')"
   ]
  },
  {
   "cell_type": "code",
   "execution_count": null,
   "id": "40a1d486-2829-4371-a363-ff9c42feb0b4",
   "metadata": {},
   "outputs": [],
   "source": [
    "a = 1\n",
    "b = a * 2\n",
    "print(f'Cell 1: {a} * 2 = {b}')"
   ]
  },
  {
   "cell_type": "code",
   "execution_count": null,
   "id": "ecb4dce6-6566-476e-b592-367b96f9092f",
   "metadata": {},
   "outputs": [],
   "source": [
    "a = 1\n",
    "b = a * 2\n",
    "print(f'Cell 1: {a} * 2 = {b}')"
   ]
  },
  {
   "cell_type": "code",
   "execution_count": null,
   "id": "658dd646-cd43-4fcd-9123-b5f04f7a40c8",
   "metadata": {},
   "outputs": [],
   "source": [
    "a = 1\n",
    "b = a * 2\n",
    "print(f'Cell 1: {a} * 2 = {b}')"
   ]
  },
  {
   "cell_type": "code",
   "execution_count": null,
   "id": "b377050c-dcbd-440d-b65a-2d41b45ce6d6",
   "metadata": {},
   "outputs": [],
   "source": [
    "a = 1\n",
    "b = a * 2\n",
    "print(f'Cell 1: {a} * 2 = {b}')"
   ]
  },
  {
   "cell_type": "code",
   "execution_count": null,
   "id": "35422bbb-44a9-448c-8fd9-29eaf9a2035d",
   "metadata": {},
   "outputs": [],
   "source": [
    "a = 1\n",
    "b = a * 2\n",
    "print(f'Cell 1: {a} * 2 = {b}')"
   ]
  },
  {
   "cell_type": "code",
   "execution_count": null,
   "id": "9a43bb44-dfbb-4c47-ba46-4692fe5e85a8",
   "metadata": {},
   "outputs": [],
   "source": [
    "a = 1\n",
    "b = a * 2\n",
    "print(f'Cell 1: {a} * 2 = {b}')"
   ]
  },
  {
   "cell_type": "code",
   "execution_count": null,
   "id": "c6aad02f-ca1c-4c8e-8dd0-a11e1752390b",
   "metadata": {},
   "outputs": [],
   "source": [
    "a = 1\n",
    "b = a * 2\n",
    "print(f'Cell 1: {a} * 2 = {b}')"
   ]
  },
  {
   "cell_type": "code",
   "execution_count": null,
   "id": "7835d2fa-0de9-48d6-b535-ff25359d3bb5",
   "metadata": {},
   "outputs": [],
   "source": [
    "a = 1\n",
    "b = a * 2\n",
    "print(f'Cell 1: {a} * 2 = {b}')"
   ]
  },
  {
   "cell_type": "code",
   "execution_count": null,
   "id": "00418b9a-4640-411e-b4a6-213ecae1f707",
   "metadata": {},
   "outputs": [],
   "source": [
    "a = 1\n",
    "b = a * 2\n",
    "print(f'Cell 1: {a} * 2 = {b}')"
   ]
  },
  {
   "cell_type": "code",
   "execution_count": null,
   "id": "fffe679a-1b90-4a5e-bdcf-9dd210e9ae59",
   "metadata": {},
   "outputs": [],
   "source": [
    "a = 1\n",
    "b = a * 2\n",
    "print(f'Cell 1: {a} * 2 = {b}')"
   ]
  },
  {
   "cell_type": "code",
   "execution_count": null,
   "id": "5cfc2d1b-076a-4c1e-a7c4-bd9048db75ae",
   "metadata": {},
   "outputs": [],
   "source": [
    "a = 1\n",
    "b = a * 2\n",
    "print(f'Cell 1: {a} * 2 = {b}')"
   ]
  },
  {
   "cell_type": "code",
   "execution_count": null,
   "id": "463c965a-e8d9-4a96-b318-733db70b029a",
   "metadata": {},
   "outputs": [],
   "source": [
    "a = 1\n",
    "b = a * 2\n",
    "print(f'Cell 1: {a} * 2 = {b}')"
   ]
  },
  {
   "cell_type": "code",
   "execution_count": null,
   "id": "84e952db-7fb8-43a0-80a1-5a2b761703c6",
   "metadata": {},
   "outputs": [],
   "source": [
    "a = 1\n",
    "b = a * 2\n",
    "print(f'Cell 1: {a} * 2 = {b}')"
   ]
  },
  {
   "cell_type": "code",
   "execution_count": null,
   "id": "94790914-28cc-4325-ac0d-0ee8b570517f",
   "metadata": {},
   "outputs": [],
   "source": [
    "a = 1\n",
    "b = a * 2\n",
    "print(f'Cell 1: {a} * 2 = {b}')"
   ]
  },
  {
   "cell_type": "code",
   "execution_count": null,
   "id": "b9ef1274-32c0-431e-8f6c-80e7d914ff88",
   "metadata": {},
   "outputs": [],
   "source": [
    "a = 1\n",
    "b = a * 2\n",
    "print(f'Cell 1: {a} * 2 = {b}')"
   ]
  },
  {
   "cell_type": "code",
   "execution_count": null,
   "id": "f4902ca9-f2bb-4edf-adcb-85a06dcf04f9",
   "metadata": {},
   "outputs": [],
   "source": [
    "a = 1\n",
    "b = a * 2\n",
    "print(f'Cell 1: {a} * 2 = {b}')"
   ]
  },
  {
   "cell_type": "code",
   "execution_count": null,
   "id": "1e44c557-e260-4305-8a82-3731c03d8283",
   "metadata": {},
   "outputs": [],
   "source": [
    "a = 1\n",
    "b = a * 2\n",
    "print(f'Cell 1: {a} * 2 = {b}')"
   ]
  },
  {
   "cell_type": "code",
   "execution_count": null,
   "id": "cdf95e45-3ccc-48b7-8d23-99a53f4da146",
   "metadata": {},
   "outputs": [],
   "source": [
    "a = 1\n",
    "b = a * 2\n",
    "print(f'Cell 1: {a} * 2 = {b}')"
   ]
  },
  {
   "cell_type": "code",
   "execution_count": null,
   "id": "2b259567-400f-4482-800a-67f0e63729a5",
   "metadata": {},
   "outputs": [],
   "source": [
    "a = 1\n",
    "b = a * 2\n",
    "print(f'Cell 1: {a} * 2 = {b}')"
   ]
  },
  {
   "cell_type": "code",
   "execution_count": null,
   "id": "67479d6a-fab2-4c0c-8da8-26e7d1d63c90",
   "metadata": {},
   "outputs": [],
   "source": [
    "a = 1\n",
    "b = a * 2\n",
    "print(f'Cell 1: {a} * 2 = {b}')"
   ]
  },
  {
   "cell_type": "code",
   "execution_count": null,
   "id": "b8c3b897-0390-4416-82dc-fd9af35e5f15",
   "metadata": {},
   "outputs": [],
   "source": [
    "a = 1\n",
    "b = a * 2\n",
    "print(f'Cell 1: {a} * 2 = {b}')"
   ]
  },
  {
   "cell_type": "code",
   "execution_count": null,
   "id": "84e3120e-ddf3-4f13-8e79-f290526de34c",
   "metadata": {},
   "outputs": [],
   "source": [
    "a = 1\n",
    "b = a * 2\n",
    "print(f'Cell 1: {a} * 2 = {b}')"
   ]
  },
  {
   "cell_type": "code",
   "execution_count": null,
   "id": "38647bb9-c909-4ef9-89ce-659da3f6b6aa",
   "metadata": {},
   "outputs": [],
   "source": [
    "a = 1\n",
    "b = a * 2\n",
    "print(f'Cell 1: {a} * 2 = {b}')"
   ]
  },
  {
   "cell_type": "code",
   "execution_count": null,
   "id": "f5eb4822-26b6-4cfa-a9eb-573747a7435c",
   "metadata": {},
   "outputs": [],
   "source": [
    "a = 1\n",
    "b = a * 2\n",
    "print(f'Cell 1: {a} * 2 = {b}')"
   ]
  },
  {
   "cell_type": "code",
   "execution_count": null,
   "id": "88b0305b-5fb4-4914-9109-a247c2d28ac3",
   "metadata": {},
   "outputs": [],
   "source": [
    "a = 1\n",
    "b = a * 2\n",
    "print(f'Cell 1: {a} * 2 = {b}')"
   ]
  },
  {
   "cell_type": "code",
   "execution_count": null,
   "id": "82789c28-7afd-4996-b3d2-b5666b1e34e7",
   "metadata": {},
   "outputs": [],
   "source": [
    "a = 1\n",
    "b = a * 2\n",
    "print(f'Cell 1: {a} * 2 = {b}')"
   ]
  },
  {
   "cell_type": "code",
   "execution_count": null,
   "id": "466a06f2-af5b-4eee-b074-63fe4f7d9d61",
   "metadata": {},
   "outputs": [],
   "source": [
    "a = 1\n",
    "b = a * 2\n",
    "print(f'Cell 1: {a} * 2 = {b}')"
   ]
  },
  {
   "cell_type": "code",
   "execution_count": null,
   "id": "0204211d-0ad3-493b-983c-9a1a095f733d",
   "metadata": {},
   "outputs": [],
   "source": [
    "a = 1\n",
    "b = a * 2\n",
    "print(f'Cell 1: {a} * 2 = {b}')"
   ]
  },
  {
   "cell_type": "code",
   "execution_count": null,
   "id": "3ba9f3d4-bda4-4ec5-8249-9a5325bea4d1",
   "metadata": {},
   "outputs": [],
   "source": [
    "a = 1\n",
    "b = a * 2\n",
    "print(f'Cell 1: {a} * 2 = {b}')"
   ]
  },
  {
   "cell_type": "code",
   "execution_count": null,
   "id": "9dbd7045-abb8-43f3-8188-92de450fc927",
   "metadata": {},
   "outputs": [],
   "source": [
    "a = 1\n",
    "b = a * 2\n",
    "print(f'Cell 1: {a} * 2 = {b}')"
   ]
  },
  {
   "cell_type": "code",
   "execution_count": null,
   "id": "7373f241-ec1e-4988-8c15-333762a30879",
   "metadata": {},
   "outputs": [],
   "source": [
    "a = 1\n",
    "b = a * 2\n",
    "print(f'Cell 1: {a} * 2 = {b}')"
   ]
  },
  {
   "cell_type": "code",
   "execution_count": null,
   "id": "14b66a64-79cc-43de-9425-a65ae4a0a2e4",
   "metadata": {},
   "outputs": [],
   "source": [
    "a = 1\n",
    "b = a * 2\n",
    "print(f'Cell 1: {a} * 2 = {b}')"
   ]
  },
  {
   "cell_type": "code",
   "execution_count": null,
   "id": "41377f0a-354f-4db0-9f9f-945345c802bb",
   "metadata": {},
   "outputs": [],
   "source": [
    "a = 1\n",
    "b = a * 2\n",
    "print(f'Cell 1: {a} * 2 = {b}')"
   ]
  },
  {
   "cell_type": "code",
   "execution_count": null,
   "id": "837d79d4-4e4a-4374-b209-9305ae016118",
   "metadata": {},
   "outputs": [],
   "source": [
    "a = 1\n",
    "b = a * 2\n",
    "print(f'Cell 1: {a} * 2 = {b}')"
   ]
  },
  {
   "cell_type": "code",
   "execution_count": null,
   "id": "9f654da7-a514-4c9e-a17e-61c04cb4e1d2",
   "metadata": {},
   "outputs": [],
   "source": [
    "a = 1\n",
    "b = a * 2\n",
    "print(f'Cell 1: {a} * 2 = {b}')"
   ]
  },
  {
   "cell_type": "code",
   "execution_count": null,
   "id": "3fb79eed-dbc3-4f0a-a2d8-499129f2d23b",
   "metadata": {},
   "outputs": [],
   "source": [
    "a = 1\n",
    "b = a * 2\n",
    "print(f'Cell 1: {a} * 2 = {b}')"
   ]
  },
  {
   "cell_type": "code",
   "execution_count": null,
   "id": "807e4e73-ed27-49c9-9cdc-67fe2323b0e4",
   "metadata": {},
   "outputs": [],
   "source": [
    "a = 1\n",
    "b = a * 2\n",
    "print(f'Cell 1: {a} * 2 = {b}')"
   ]
  },
  {
   "cell_type": "code",
   "execution_count": null,
   "id": "b8338464-e36e-4035-a8df-79b81d79befa",
   "metadata": {},
   "outputs": [],
   "source": [
    "a = 1\n",
    "b = a * 2\n",
    "print(f'Cell 1: {a} * 2 = {b}')"
   ]
  },
  {
   "cell_type": "code",
   "execution_count": null,
   "id": "13af7659-7c8d-4458-9dda-b64a96af3338",
   "metadata": {},
   "outputs": [],
   "source": [
    "a = 1\n",
    "b = a * 2\n",
    "print(f'Cell 1: {a} * 2 = {b}')"
   ]
  },
  {
   "cell_type": "code",
   "execution_count": null,
   "id": "7f257c39-d90c-4fcc-bb6a-34c0ce2462ea",
   "metadata": {},
   "outputs": [],
   "source": [
    "a = 1\n",
    "b = a * 2\n",
    "print(f'Cell 1: {a} * 2 = {b}')"
   ]
  },
  {
   "cell_type": "code",
   "execution_count": null,
   "id": "aca26e4a-cbd9-406c-8294-7c8a6f44ceb0",
   "metadata": {},
   "outputs": [],
   "source": [
    "a = 1\n",
    "b = a * 2\n",
    "print(f'Cell 1: {a} * 2 = {b}')"
   ]
  },
  {
   "cell_type": "code",
   "execution_count": null,
   "id": "242173f8-d093-4323-a68b-d37027ecaf93",
   "metadata": {},
   "outputs": [],
   "source": [
    "a = 1\n",
    "b = a * 2\n",
    "print(f'Cell 1: {a} * 2 = {b}')"
   ]
  },
  {
   "cell_type": "code",
   "execution_count": null,
   "id": "de615802-c634-453f-aa33-053dd02746ed",
   "metadata": {},
   "outputs": [],
   "source": [
    "a = 1\n",
    "b = a * 2\n",
    "print(f'Cell 1: {a} * 2 = {b}')"
   ]
  },
  {
   "cell_type": "code",
   "execution_count": null,
   "id": "a98f651f-984c-4002-8dd0-449453e7e723",
   "metadata": {},
   "outputs": [],
   "source": [
    "a = 1\n",
    "b = a * 2\n",
    "print(f'Cell 1: {a} * 2 = {b}')"
   ]
  },
  {
   "cell_type": "code",
   "execution_count": null,
   "id": "27a76485-9db4-4a6d-af8a-7918c0ab56ed",
   "metadata": {},
   "outputs": [],
   "source": [
    "a = 1\n",
    "b = a * 2\n",
    "print(f'Cell 1: {a} * 2 = {b}')"
   ]
  },
  {
   "cell_type": "code",
   "execution_count": null,
   "id": "cbe89ff5-eaf6-4cda-b0b0-a00d424aca37",
   "metadata": {},
   "outputs": [],
   "source": [
    "a = 1\n",
    "b = a * 2\n",
    "print(f'Cell 1: {a} * 2 = {b}')"
   ]
  },
  {
   "cell_type": "code",
   "execution_count": null,
   "id": "2b282dc2-8a8a-4e4b-a752-fe85448628a3",
   "metadata": {},
   "outputs": [],
   "source": [
    "a = 1\n",
    "b = a * 2\n",
    "print(f'Cell 1: {a} * 2 = {b}')"
   ]
  },
  {
   "cell_type": "code",
   "execution_count": null,
   "id": "43b71603-2d28-45da-b27a-8af802aa9b7d",
   "metadata": {},
   "outputs": [],
   "source": [
    "a = 1\n",
    "b = a * 2\n",
    "print(f'Cell 1: {a} * 2 = {b}')"
   ]
  },
  {
   "cell_type": "code",
   "execution_count": null,
   "id": "0017ed79-2076-49a5-9603-44f11f480958",
   "metadata": {},
   "outputs": [],
   "source": [
    "a = 1\n",
    "b = a * 2\n",
    "print(f'Cell 1: {a} * 2 = {b}')"
   ]
  },
  {
   "cell_type": "code",
   "execution_count": null,
   "id": "02a6c397-f060-418d-a58e-7a0ab8b46284",
   "metadata": {},
   "outputs": [],
   "source": [
    "a = 1\n",
    "b = a * 2\n",
    "print(f'Cell 1: {a} * 2 = {b}')"
   ]
  },
  {
   "cell_type": "code",
   "execution_count": null,
   "id": "a4425132-e5b7-4051-9d6e-aada44cb5cef",
   "metadata": {},
   "outputs": [],
   "source": [
    "a = 1\n",
    "b = a * 2\n",
    "print(f'Cell 1: {a} * 2 = {b}')"
   ]
  },
  {
   "cell_type": "code",
   "execution_count": null,
   "id": "ffc5bc41-c711-4fb0-b842-a2f3865d84c9",
   "metadata": {},
   "outputs": [],
   "source": [
    "a = 1\n",
    "b = a * 2\n",
    "print(f'Cell 1: {a} * 2 = {b}')"
   ]
  },
  {
   "cell_type": "code",
   "execution_count": null,
   "id": "e4c8de0a-cca0-481f-b05a-0fbec49b89d1",
   "metadata": {},
   "outputs": [],
   "source": [
    "a = 1\n",
    "b = a * 2\n",
    "print(f'Cell 1: {a} * 2 = {b}')"
   ]
  },
  {
   "cell_type": "code",
   "execution_count": null,
   "id": "9c226a74-5b03-403b-9dc4-d972ed97c8a0",
   "metadata": {},
   "outputs": [],
   "source": [
    "a = 1\n",
    "b = a * 2\n",
    "print(f'Cell 1: {a} * 2 = {b}')"
   ]
  },
  {
   "cell_type": "code",
   "execution_count": null,
   "id": "4074bae0-85e0-48e9-b79b-83ad5fe51e08",
   "metadata": {},
   "outputs": [],
   "source": [
    "a = 1\n",
    "b = a * 2\n",
    "print(f'Cell 1: {a} * 2 = {b}')"
   ]
  },
  {
   "cell_type": "code",
   "execution_count": null,
   "id": "03ce6f9e-9553-4206-9d36-8222d4d59aa5",
   "metadata": {},
   "outputs": [],
   "source": [
    "a = 1\n",
    "b = a * 2\n",
    "print(f'Cell 1: {a} * 2 = {b}')"
   ]
  },
  {
   "cell_type": "code",
   "execution_count": null,
   "id": "76611fe0-7816-4312-8239-6637be3de834",
   "metadata": {},
   "outputs": [],
   "source": [
    "a = 1\n",
    "b = a * 2\n",
    "print(f'Cell 1: {a} * 2 = {b}')"
   ]
  },
  {
   "cell_type": "code",
   "execution_count": null,
   "id": "e451a09c-6bd4-4dbc-b785-320a3fd2171c",
   "metadata": {},
   "outputs": [],
   "source": [
    "a = 1\n",
    "b = a * 2\n",
    "print(f'Cell 1: {a} * 2 = {b}')"
   ]
  },
  {
   "cell_type": "code",
   "execution_count": null,
   "id": "7cb8fec7-d780-4c69-bdd0-bbd031040714",
   "metadata": {},
   "outputs": [],
   "source": [
    "a = 1\n",
    "b = a * 2\n",
    "print(f'Cell 1: {a} * 2 = {b}')"
   ]
  },
  {
   "cell_type": "code",
   "execution_count": null,
   "id": "ed2f6b7c-7617-44e7-8185-f3262348d401",
   "metadata": {},
   "outputs": [],
   "source": [
    "a = 1\n",
    "b = a * 2\n",
    "print(f'Cell 1: {a} * 2 = {b}')"
   ]
  },
  {
   "cell_type": "code",
   "execution_count": null,
   "id": "8a253f1a-0f73-40fd-809a-eb69a7babb57",
   "metadata": {},
   "outputs": [],
   "source": [
    "a = 1\n",
    "b = a * 2\n",
    "print(f'Cell 1: {a} * 2 = {b}')"
   ]
  },
  {
   "cell_type": "code",
   "execution_count": null,
   "id": "7e55034c-27cb-4557-8210-74ab5a77038a",
   "metadata": {},
   "outputs": [],
   "source": [
    "a = 1\n",
    "b = a * 2\n",
    "print(f'Cell 1: {a} * 2 = {b}')"
   ]
  },
  {
   "cell_type": "code",
   "execution_count": null,
   "id": "63246fbf-56e3-4ca7-a035-98900f63f990",
   "metadata": {},
   "outputs": [],
   "source": [
    "a = 1\n",
    "b = a * 2\n",
    "print(f'Cell 1: {a} * 2 = {b}')"
   ]
  },
  {
   "cell_type": "code",
   "execution_count": null,
   "id": "143d39e6-832d-4bd9-8b05-dc4b92187205",
   "metadata": {},
   "outputs": [],
   "source": [
    "a = 1\n",
    "b = a * 2\n",
    "print(f'Cell 1: {a} * 2 = {b}')"
   ]
  },
  {
   "cell_type": "code",
   "execution_count": null,
   "id": "26c400ff-52a8-4f7c-afee-71e4102397fc",
   "metadata": {},
   "outputs": [],
   "source": [
    "a = 1\n",
    "b = a * 2\n",
    "print(f'Cell 1: {a} * 2 = {b}')"
   ]
  },
  {
   "cell_type": "code",
   "execution_count": null,
   "id": "317804e7-83ab-40f9-abb6-836002bcd53d",
   "metadata": {},
   "outputs": [],
   "source": [
    "a = 1\n",
    "b = a * 2\n",
    "print(f'Cell 1: {a} * 2 = {b}')"
   ]
  },
  {
   "cell_type": "code",
   "execution_count": null,
   "id": "2d8238b9-35fe-4113-b160-a1bee845bda4",
   "metadata": {},
   "outputs": [],
   "source": [
    "a = 1\n",
    "b = a * 2\n",
    "print(f'Cell 1: {a} * 2 = {b}')"
   ]
  },
  {
   "cell_type": "code",
   "execution_count": null,
   "id": "ee5931c1-5244-4f9c-a48b-33f66d72325d",
   "metadata": {},
   "outputs": [],
   "source": [
    "a = 1\n",
    "b = a * 2\n",
    "print(f'Cell 1: {a} * 2 = {b}')"
   ]
  },
  {
   "cell_type": "code",
   "execution_count": null,
   "id": "abee2664-e52b-43dd-bbd6-ace3257aefe0",
   "metadata": {},
   "outputs": [],
   "source": [
    "a = 1\n",
    "b = a * 2\n",
    "print(f'Cell 1: {a} * 2 = {b}')"
   ]
  },
  {
   "cell_type": "code",
   "execution_count": null,
   "id": "3a92ed0a-14cc-47a2-ae5f-046c41f017a9",
   "metadata": {},
   "outputs": [],
   "source": [
    "a = 1\n",
    "b = a * 2\n",
    "print(f'Cell 1: {a} * 2 = {b}')"
   ]
  },
  {
   "cell_type": "code",
   "execution_count": null,
   "id": "c624cd70-642f-4bbc-b0fc-6451cfbeb5dc",
   "metadata": {},
   "outputs": [],
   "source": [
    "a = 1\n",
    "b = a * 2\n",
    "print(f'Cell 1: {a} * 2 = {b}')"
   ]
  },
  {
   "cell_type": "code",
   "execution_count": null,
   "id": "96d86247-a798-42f4-8aba-b604e8db33c9",
   "metadata": {},
   "outputs": [],
   "source": [
    "a = 1\n",
    "b = a * 2\n",
    "print(f'Cell 1: {a} * 2 = {b}')"
   ]
  },
  {
   "cell_type": "code",
   "execution_count": null,
   "id": "27fabe80-70b7-4dbc-9b09-967c4114a371",
   "metadata": {},
   "outputs": [],
   "source": [
    "a = 1\n",
    "b = a * 2\n",
    "print(f'Cell 1: {a} * 2 = {b}')"
   ]
  },
  {
   "cell_type": "code",
   "execution_count": null,
   "id": "d4375d6c-4bd4-4f6a-b0d8-93bf5184e4ab",
   "metadata": {},
   "outputs": [],
   "source": [
    "a = 1\n",
    "b = a * 2\n",
    "print(f'Cell 1: {a} * 2 = {b}')"
   ]
  },
  {
   "cell_type": "code",
   "execution_count": null,
   "id": "21aaf4dc-69c9-4dc6-9480-f7e5c4226f37",
   "metadata": {},
   "outputs": [],
   "source": [
    "a = 1\n",
    "b = a * 2\n",
    "print(f'Cell 1: {a} * 2 = {b}')"
   ]
  },
  {
   "cell_type": "code",
   "execution_count": null,
   "id": "d290029d-39f9-4ad6-8352-896b77beba2b",
   "metadata": {},
   "outputs": [],
   "source": [
    "a = 1\n",
    "b = a * 2\n",
    "print(f'Cell 1: {a} * 2 = {b}')"
   ]
  },
  {
   "cell_type": "code",
   "execution_count": null,
   "id": "7c845e0e-1afb-479f-a231-266f33b55718",
   "metadata": {},
   "outputs": [],
   "source": [
    "a = 1\n",
    "b = a * 2\n",
    "print(f'Cell 1: {a} * 2 = {b}')"
   ]
  },
  {
   "cell_type": "code",
   "execution_count": null,
   "id": "86ac5636-ea24-490b-8d28-eaad0035274e",
   "metadata": {},
   "outputs": [],
   "source": [
    "a = 1\n",
    "b = a * 2\n",
    "print(f'Cell 1: {a} * 2 = {b}')"
   ]
  },
  {
   "cell_type": "code",
   "execution_count": null,
   "id": "38075a3f-0ca1-43bf-8340-79a0b539e44d",
   "metadata": {},
   "outputs": [],
   "source": [
    "a = 1\n",
    "b = a * 2\n",
    "print(f'Cell 1: {a} * 2 = {b}')"
   ]
  },
  {
   "cell_type": "code",
   "execution_count": null,
   "id": "0988c319-b078-48d8-ab90-91e2b357a6ae",
   "metadata": {},
   "outputs": [],
   "source": [
    "a = 1\n",
    "b = a * 2\n",
    "print(f'Cell 1: {a} * 2 = {b}')"
   ]
  },
  {
   "cell_type": "code",
   "execution_count": null,
   "id": "0e141184-c172-48a3-b4d9-6ec2faf4a8d9",
   "metadata": {},
   "outputs": [],
   "source": [
    "a = 1\n",
    "b = a * 2\n",
    "print(f'Cell 1: {a} * 2 = {b}')"
   ]
  },
  {
   "cell_type": "code",
   "execution_count": null,
   "id": "5d427961-a0f1-4f62-99a5-909efa5faf10",
   "metadata": {},
   "outputs": [],
   "source": [
    "a = 1\n",
    "b = a * 2\n",
    "print(f'Cell 1: {a} * 2 = {b}')"
   ]
  },
  {
   "cell_type": "code",
   "execution_count": null,
   "id": "173d3994-a8ce-464c-bfb5-9bd8af6430bd",
   "metadata": {},
   "outputs": [],
   "source": [
    "a = 1\n",
    "b = a * 2\n",
    "print(f'Cell 1: {a} * 2 = {b}')"
   ]
  },
  {
   "cell_type": "code",
   "execution_count": null,
   "id": "2b0ef8bb-eaa0-4dda-aa70-58c369c55f62",
   "metadata": {},
   "outputs": [],
   "source": [
    "a = 1\n",
    "b = a * 2\n",
    "print(f'Cell 1: {a} * 2 = {b}')"
   ]
  },
  {
   "cell_type": "code",
   "execution_count": null,
   "id": "a10daced-9b62-4050-a22a-93168959968e",
   "metadata": {},
   "outputs": [],
   "source": [
    "a = 1\n",
    "b = a * 2\n",
    "print(f'Cell 1: {a} * 2 = {b}')"
   ]
  },
  {
   "cell_type": "code",
   "execution_count": null,
   "id": "57a13bbf-2190-49df-9608-432dbde85170",
   "metadata": {},
   "outputs": [],
   "source": [
    "a = 1\n",
    "b = a * 2\n",
    "print(f'Cell 1: {a} * 2 = {b}')"
   ]
  },
  {
   "cell_type": "code",
   "execution_count": null,
   "id": "7f2b5821-75a6-4fac-b42e-20df56188033",
   "metadata": {},
   "outputs": [],
   "source": [
    "a = 1\n",
    "b = a * 2\n",
    "print(f'Cell 1: {a} * 2 = {b}')"
   ]
  },
  {
   "cell_type": "code",
   "execution_count": null,
   "id": "883ac906-20b2-4770-888c-18fe401a82ee",
   "metadata": {},
   "outputs": [],
   "source": [
    "a = 1\n",
    "b = a * 2\n",
    "print(f'Cell 1: {a} * 2 = {b}')"
   ]
  },
  {
   "cell_type": "code",
   "execution_count": null,
   "id": "2801e612-ad95-465d-9a26-794fbe415806",
   "metadata": {},
   "outputs": [],
   "source": [
    "a = 1\n",
    "b = a * 2\n",
    "print(f'Cell 1: {a} * 2 = {b}')"
   ]
  },
  {
   "cell_type": "code",
   "execution_count": null,
   "id": "4d109b5b-79d0-4e7f-9565-5e2c668b57ee",
   "metadata": {},
   "outputs": [],
   "source": [
    "a = 1\n",
    "b = a * 2\n",
    "print(f'Cell 1: {a} * 2 = {b}')"
   ]
  },
  {
   "cell_type": "code",
   "execution_count": null,
   "id": "5c18f9c6-41d9-4b00-960b-580ff754f8e0",
   "metadata": {},
   "outputs": [],
   "source": [
    "a = 1\n",
    "b = a * 2\n",
    "print(f'Cell 1: {a} * 2 = {b}')"
   ]
  },
  {
   "cell_type": "code",
   "execution_count": null,
   "id": "dce59f6f-9939-4e8a-bf30-131ce5f9f3da",
   "metadata": {},
   "outputs": [],
   "source": [
    "a = 1\n",
    "b = a * 2\n",
    "print(f'Cell 1: {a} * 2 = {b}')"
   ]
  },
  {
   "cell_type": "code",
   "execution_count": null,
   "id": "9da7d375-b60a-43a7-bdbe-db667a61fc79",
   "metadata": {},
   "outputs": [],
   "source": [
    "a = 1\n",
    "b = a * 2\n",
    "print(f'Cell 1: {a} * 2 = {b}')"
   ]
  }
 ],
 "metadata": {
  "kernelspec": {
   "display_name": "Python 3 (ipykernel)",
   "language": "python",
   "name": "python3"
  },
  "language_info": {
   "codemirror_mode": {
    "name": "ipython",
    "version": 3
   },
   "file_extension": ".py",
   "mimetype": "text/x-python",
   "name": "python",
   "nbconvert_exporter": "python",
   "pygments_lexer": "ipython3",
   "version": "3.11.13"
  }
 },
 "nbformat": 4,
 "nbformat_minor": 5
}
