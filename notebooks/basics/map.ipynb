{
 "cells": [
  {
   "cell_type": "code",
   "execution_count": null,
   "id": "b9acc34c-1cb8-44c3-ba35-396eaed54c8f",
   "metadata": {},
   "outputs": [],
   "source": [
    "nums_1 = list(range(1))\n",
    "squared_1 = list(map(lambda x: x ** 2, nums_1))\n",
    "print(\"Cell 1 - map\")\n",
    "print(\"Input:\", nums_1)\n",
    "print(\"Squared:\", squared_1)"
   ]
  },
  {
   "cell_type": "code",
   "execution_count": null,
   "id": "87ea6d3e-7fce-4b32-9aff-505f3157a81d",
   "metadata": {},
   "outputs": [],
   "source": [
    "nums_1 = list(range(2))\n",
    "squared_1 = list(map(lambda x: x ** 2, nums_1))\n",
    "print(\"Cell 1 - map\")\n",
    "print(\"Input:\", nums_1)\n",
    "print(\"Squared:\", squared_1)"
   ]
  },
  {
   "cell_type": "code",
   "execution_count": null,
   "id": "2608f5e5-0ac1-4d71-8bf6-be9a87f3f9c5",
   "metadata": {},
   "outputs": [],
   "source": [
    "nums_1 = list(range(3))\n",
    "squared_1 = list(map(lambda x: x ** 2, nums_1))\n",
    "print(\"Cell 1 - map\")\n",
    "print(\"Input:\", nums_1)\n",
    "print(\"Squared:\", squared_1)"
   ]
  },
  {
   "cell_type": "code",
   "execution_count": null,
   "id": "28a0933d-915e-4570-91c5-e62dfd117975",
   "metadata": {},
   "outputs": [],
   "source": [
    "nums_1 = list(range(4))\n",
    "squared_1 = list(map(lambda x: x ** 2, nums_1))\n",
    "print(\"Cell 1 - map\")\n",
    "print(\"Input:\", nums_1)\n",
    "print(\"Squared:\", squared_1)"
   ]
  },
  {
   "cell_type": "code",
   "execution_count": null,
   "id": "52b70c9a-5982-48d6-9230-895e1c11d475",
   "metadata": {},
   "outputs": [],
   "source": [
    "nums_1 = list(range(5))\n",
    "squared_1 = list(map(lambda x: x ** 2, nums_1))\n",
    "print(\"Cell 1 - map\")\n",
    "print(\"Input:\", nums_1)\n",
    "print(\"Squared:\", squared_1)"
   ]
  },
  {
   "cell_type": "code",
   "execution_count": null,
   "id": "f26d7d29-166f-4ac0-8476-93be59a6281a",
   "metadata": {},
   "outputs": [],
   "source": [
    "nums_1 = list(range(6))\n",
    "squared_1 = list(map(lambda x: x ** 2, nums_1))\n",
    "print(\"Cell 1 - map\")\n",
    "print(\"Input:\", nums_1)\n",
    "print(\"Squared:\", squared_1)"
   ]
  },
  {
   "cell_type": "code",
   "execution_count": null,
   "id": "80725f88-1c0d-48b0-b2c3-6e35d4c9bc77",
   "metadata": {},
   "outputs": [],
   "source": [
    "nums_1 = list(range(7))\n",
    "squared_1 = list(map(lambda x: x ** 2, nums_1))\n",
    "print(\"Cell 1 - map\")\n",
    "print(\"Input:\", nums_1)\n",
    "print(\"Squared:\", squared_1)"
   ]
  },
  {
   "cell_type": "code",
   "execution_count": null,
   "id": "4c8e95bc-505c-425a-92c4-b6b9c1ba4405",
   "metadata": {},
   "outputs": [],
   "source": [
    "nums_1 = list(range(8))\n",
    "squared_1 = list(map(lambda x: x ** 2, nums_1))\n",
    "print(\"Cell 1 - map\")\n",
    "print(\"Input:\", nums_1)\n",
    "print(\"Squared:\", squared_1)"
   ]
  },
  {
   "cell_type": "code",
   "execution_count": null,
   "id": "4e05e845-11d3-4c00-8322-93732a174244",
   "metadata": {},
   "outputs": [],
   "source": [
    "nums_1 = list(range(9))\n",
    "squared_1 = list(map(lambda x: x ** 2, nums_1))\n",
    "print(\"Cell 1 - map\")\n",
    "print(\"Input:\", nums_1)\n",
    "print(\"Squared:\", squared_1)"
   ]
  },
  {
   "cell_type": "code",
   "execution_count": null,
   "id": "2c9e52b0-c1d1-444d-952c-9ad7bf741e7b",
   "metadata": {},
   "outputs": [],
   "source": [
    "nums_1 = list(range(1))\n",
    "squared_1 = list(map(lambda x: x ** 2, nums_1))\n",
    "print(\"Cell 1 - map\")\n",
    "print(\"Input:\", nums_1)\n",
    "print(\"Squared:\", squared_1)"
   ]
  },
  {
   "cell_type": "code",
   "execution_count": null,
   "id": "ed1b049e-4fa0-4dd8-bf2c-708ab557a80d",
   "metadata": {},
   "outputs": [],
   "source": [
    "nums_1 = list(range(2))\n",
    "squared_1 = list(map(lambda x: x ** 2, nums_1))\n",
    "print(\"Cell 1 - map\")\n",
    "print(\"Input:\", nums_1)\n",
    "print(\"Squared:\", squared_1)"
   ]
  },
  {
   "cell_type": "code",
   "execution_count": null,
   "id": "557619cc-5093-489d-982b-6198b9308fd6",
   "metadata": {},
   "outputs": [],
   "source": [
    "nums_1 = list(range(5))\n",
    "squared_1 = list(map(lambda x: x ** 2, nums_1))\n",
    "print(\"Cell 1 - map\")\n",
    "print(\"Input:\", nums_1)\n",
    "print(\"Squared:\", squared_1)"
   ]
  },
  {
   "cell_type": "code",
   "execution_count": null,
   "id": "c2de0d07-97c8-4b01-8c8a-dfa8c89cfbdc",
   "metadata": {},
   "outputs": [],
   "source": [
    "nums_1 = list(range(2))\n",
    "squared_1 = list(map(lambda x: x ** 2, nums_1))\n",
    "print(\"Cell 1 - map\")\n",
    "print(\"Input:\", nums_1)\n",
    "print(\"Squared:\", squared_1)"
   ]
  },
  {
   "cell_type": "code",
   "execution_count": null,
   "id": "235d1801-feab-4fed-a468-c82b505b46fc",
   "metadata": {},
   "outputs": [],
   "source": [
    "nums_1 = list(range(2))\n",
    "squared_1 = list(map(lambda x: x ** 2, nums_1))\n",
    "print(\"Cell 1 - map\")\n",
    "print(\"Input:\", nums_1)\n",
    "print(\"Squared:\", squared_1)"
   ]
  },
  {
   "cell_type": "code",
   "execution_count": null,
   "id": "73fbfab8-8a31-436f-8382-1dd834c8b0df",
   "metadata": {},
   "outputs": [],
   "source": [
    "nums_1 = list(range(9))\n",
    "squared_1 = list(map(lambda x: x ** 2, nums_1))\n",
    "print(\"Cell 1 - map\")\n",
    "print(\"Input:\", nums_1)\n",
    "print(\"Squared:\", squared_1)"
   ]
  },
  {
   "cell_type": "code",
   "execution_count": null,
   "id": "3a4143eb-5594-42fe-b096-05a9e68b392d",
   "metadata": {},
   "outputs": [],
   "source": [
    "nums_1 = list(range(8))\n",
    "squared_1 = list(map(lambda x: x ** 2, nums_1))\n",
    "print(\"Cell 1 - map\")\n",
    "print(\"Input:\", nums_1)\n",
    "print(\"Squared:\", squared_1)"
   ]
  },
  {
   "cell_type": "code",
   "execution_count": null,
   "id": "67275baa-e083-464d-bbc4-caf1a81f753e",
   "metadata": {},
   "outputs": [],
   "source": [
    "nums_1 = list(range(2))\n",
    "squared_1 = list(map(lambda x: x ** 2, nums_1))\n",
    "print(\"Cell 1 - map\")\n",
    "print(\"Input:\", nums_1)\n",
    "print(\"Squared:\", squared_1)"
   ]
  },
  {
   "cell_type": "code",
   "execution_count": null,
   "id": "4e57a56a-7154-4372-8a97-46d9c02a3b08",
   "metadata": {},
   "outputs": [],
   "source": [
    "nums_1 = list(range(9))\n",
    "squared_1 = list(map(lambda x: x ** 2, nums_1))\n",
    "print(\"Cell 1 - map\")\n",
    "print(\"Input:\", nums_1)\n",
    "print(\"Squared:\", squared_1)"
   ]
  },
  {
   "cell_type": "code",
   "execution_count": null,
   "id": "8d624855-68bf-4ab0-8625-0e19026b7090",
   "metadata": {},
   "outputs": [],
   "source": [
    "nums_1 = list(range(2))\n",
    "squared_1 = list(map(lambda x: x ** 2, nums_1))\n",
    "print(\"Cell 1 - map\")\n",
    "print(\"Input:\", nums_1)\n",
    "print(\"Squared:\", squared_1)"
   ]
  },
  {
   "cell_type": "code",
   "execution_count": null,
   "id": "e4a91ed3-304e-4a9d-90a1-3cf6f107b042",
   "metadata": {},
   "outputs": [],
   "source": [
    "nums_1 = list(range(2))\n",
    "squared_1 = list(map(lambda x: x ** 2, nums_1))\n",
    "print(\"Cell 1 - map\")\n",
    "print(\"Input:\", nums_1)\n",
    "print(\"Squared:\", squared_1)"
   ]
  },
  {
   "cell_type": "code",
   "execution_count": null,
   "id": "65a4b21b-7d85-4a25-8aa0-c426c2578f42",
   "metadata": {},
   "outputs": [],
   "source": [
    "nums_1 = list(range(2))\n",
    "squared_1 = list(map(lambda x: x ** 2, nums_1))\n",
    "print(\"Cell 1 - map\")\n",
    "print(\"Input:\", nums_1)\n",
    "print(\"Squared:\", squared_1)"
   ]
  },
  {
   "cell_type": "code",
   "execution_count": null,
   "id": "20b7e561-4355-43e9-adbd-65c9e9b7d61a",
   "metadata": {},
   "outputs": [],
   "source": [
    "nums_1 = list(range(2))\n",
    "squared_1 = list(map(lambda x: x ** 2, nums_1))\n",
    "print(\"Cell 1 - map\")\n",
    "print(\"Input:\", nums_1)\n",
    "print(\"Squared:\", squared_1)"
   ]
  },
  {
   "cell_type": "code",
   "execution_count": null,
   "id": "04599aec-b1e3-45e6-ba9a-002a0a3e5735",
   "metadata": {},
   "outputs": [],
   "source": [
    "nums_1 = list(range(2))\n",
    "squared_1 = list(map(lambda x: x ** 2, nums_1))\n",
    "print(\"Cell 1 - map\")\n",
    "print(\"Input:\", nums_1)\n",
    "print(\"Squared:\", squared_1)"
   ]
  },
  {
   "cell_type": "code",
   "execution_count": null,
   "id": "b73e54e3-a618-49cf-b618-a8ffa6546272",
   "metadata": {},
   "outputs": [],
   "source": [
    "nums_1 = list(range(2))\n",
    "squared_1 = list(map(lambda x: x ** 2, nums_1))\n",
    "print(\"Cell 1 - map\")\n",
    "print(\"Input:\", nums_1)\n",
    "print(\"Squared:\", squared_1)"
   ]
  },
  {
   "cell_type": "code",
   "execution_count": null,
   "id": "94e9d580-cc18-479f-bdd9-ce8c6e0be1dc",
   "metadata": {},
   "outputs": [],
   "source": [
    "nums_1 = list(range(2))\n",
    "squared_1 = list(map(lambda x: x ** 2, nums_1))\n",
    "print(\"Cell 1 - map\")\n",
    "print(\"Input:\", nums_1)\n",
    "print(\"Squared:\", squared_1)"
   ]
  },
  {
   "cell_type": "code",
   "execution_count": null,
   "id": "7954c2b6-7880-457d-bcb5-e8abcd142d93",
   "metadata": {},
   "outputs": [],
   "source": [
    "nums_1 = list(range(2))\n",
    "squared_1 = list(map(lambda x: x ** 2, nums_1))\n",
    "print(\"Cell 1 - map\")\n",
    "print(\"Input:\", nums_1)\n",
    "print(\"Squared:\", squared_1)"
   ]
  },
  {
   "cell_type": "code",
   "execution_count": null,
   "id": "5eeb0d21-9b73-4fd2-b549-91f66afe2645",
   "metadata": {},
   "outputs": [],
   "source": [
    "nums_1 = list(range(2))\n",
    "squared_1 = list(map(lambda x: x ** 2, nums_1))\n",
    "print(\"Cell 1 - map\")\n",
    "print(\"Input:\", nums_1)\n",
    "print(\"Squared:\", squared_1)"
   ]
  },
  {
   "cell_type": "code",
   "execution_count": null,
   "id": "66a422fd-9f2e-4434-86cc-a8dff29937d2",
   "metadata": {},
   "outputs": [],
   "source": [
    "nums_1 = list(range(2))\n",
    "squared_1 = list(map(lambda x: x ** 2, nums_1))\n",
    "print(\"Cell 1 - map\")\n",
    "print(\"Input:\", nums_1)\n",
    "print(\"Squared:\", squared_1)"
   ]
  },
  {
   "cell_type": "code",
   "execution_count": null,
   "id": "99c36f8f-5070-4752-b071-00fd71a679c6",
   "metadata": {},
   "outputs": [],
   "source": [
    "nums_1 = list(range(2))\n",
    "squared_1 = list(map(lambda x: x ** 2, nums_1))\n",
    "print(\"Cell 1 - map\")\n",
    "print(\"Input:\", nums_1)\n",
    "print(\"Squared:\", squared_1)"
   ]
  },
  {
   "cell_type": "code",
   "execution_count": null,
   "id": "cbc68d36-7811-494d-9c35-574f5fc4cb57",
   "metadata": {},
   "outputs": [],
   "source": [
    "nums_1 = list(range(2))\n",
    "squared_1 = list(map(lambda x: x ** 2, nums_1))\n",
    "print(\"Cell 1 - map\")\n",
    "print(\"Input:\", nums_1)\n",
    "print(\"Squared:\", squared_1)"
   ]
  },
  {
   "cell_type": "code",
   "execution_count": null,
   "id": "f95579b1-18dd-4215-b1a5-fee084ed539c",
   "metadata": {},
   "outputs": [],
   "source": [
    "nums_1 = list(range(2))\n",
    "squared_1 = list(map(lambda x: x ** 2, nums_1))\n",
    "print(\"Cell 1 - map\")\n",
    "print(\"Input:\", nums_1)\n",
    "print(\"Squared:\", squared_1)"
   ]
  },
  {
   "cell_type": "code",
   "execution_count": null,
   "id": "487a2360-b497-4ce9-a82d-4e42c3eb025e",
   "metadata": {},
   "outputs": [],
   "source": [
    "nums_1 = list(range(2))\n",
    "squared_1 = list(map(lambda x: x ** 2, nums_1))\n",
    "print(\"Cell 1 - map\")\n",
    "print(\"Input:\", nums_1)\n",
    "print(\"Squared:\", squared_1)"
   ]
  },
  {
   "cell_type": "code",
   "execution_count": null,
   "id": "ad40e7a3-2f31-40a3-a3cb-239f658388a0",
   "metadata": {},
   "outputs": [],
   "source": [
    "nums_1 = list(range(2))\n",
    "squared_1 = list(map(lambda x: x ** 2, nums_1))\n",
    "print(\"Cell 1 - map\")\n",
    "print(\"Input:\", nums_1)\n",
    "print(\"Squared:\", squared_1)"
   ]
  },
  {
   "cell_type": "code",
   "execution_count": null,
   "id": "f8d553ce-8475-4fe9-a5cf-5c015b78a236",
   "metadata": {},
   "outputs": [],
   "source": [
    "nums_1 = list(range(2))\n",
    "squared_1 = list(map(lambda x: x ** 2, nums_1))\n",
    "print(\"Cell 1 - map\")\n",
    "print(\"Input:\", nums_1)\n",
    "print(\"Squared:\", squared_1)"
   ]
  },
  {
   "cell_type": "code",
   "execution_count": null,
   "id": "d203a994-8625-4127-bbbc-6592279bddde",
   "metadata": {},
   "outputs": [],
   "source": [
    "nums_1 = list(range(2))\n",
    "squared_1 = list(map(lambda x: x ** 2, nums_1))\n",
    "print(\"Cell 1 - map\")\n",
    "print(\"Input:\", nums_1)\n",
    "print(\"Squared:\", squared_1)"
   ]
  },
  {
   "cell_type": "code",
   "execution_count": null,
   "id": "d8502f23-441e-453f-8580-b6d30d18dd1a",
   "metadata": {},
   "outputs": [],
   "source": [
    "nums_1 = list(range(2))\n",
    "squared_1 = list(map(lambda x: x ** 2, nums_1))\n",
    "print(\"Cell 1 - map\")\n",
    "print(\"Input:\", nums_1)\n",
    "print(\"Squared:\", squared_1)"
   ]
  },
  {
   "cell_type": "code",
   "execution_count": null,
   "id": "3784311d-9f87-4d74-8c08-36982453cb55",
   "metadata": {},
   "outputs": [],
   "source": [
    "nums_1 = list(range(2))\n",
    "squared_1 = list(map(lambda x: x ** 2, nums_1))\n",
    "print(\"Cell 1 - map\")\n",
    "print(\"Input:\", nums_1)\n",
    "print(\"Squared:\", squared_1)"
   ]
  },
  {
   "cell_type": "code",
   "execution_count": null,
   "id": "a5c53327-4855-4c9c-b82d-080bdc2d08c2",
   "metadata": {},
   "outputs": [],
   "source": [
    "nums_1 = list(range(2))\n",
    "squared_1 = list(map(lambda x: x ** 2, nums_1))\n",
    "print(\"Cell 1 - map\")\n",
    "print(\"Input:\", nums_1)\n",
    "print(\"Squared:\", squared_1)"
   ]
  },
  {
   "cell_type": "code",
   "execution_count": null,
   "id": "3340d4a3-c184-4433-8be3-b98132f7b087",
   "metadata": {},
   "outputs": [],
   "source": [
    "nums_1 = list(range(2))\n",
    "squared_1 = list(map(lambda x: x ** 2, nums_1))\n",
    "print(\"Cell 1 - map\")\n",
    "print(\"Input:\", nums_1)\n",
    "print(\"Squared:\", squared_1)"
   ]
  },
  {
   "cell_type": "code",
   "execution_count": null,
   "id": "e4dee2c5-eea0-41f1-ae96-929a80b5eb34",
   "metadata": {},
   "outputs": [],
   "source": [
    "nums_1 = list(range(2))\n",
    "squared_1 = list(map(lambda x: x ** 2, nums_1))\n",
    "print(\"Cell 1 - map\")\n",
    "print(\"Input:\", nums_1)\n",
    "print(\"Squared:\", squared_1)"
   ]
  },
  {
   "cell_type": "code",
   "execution_count": null,
   "id": "f9b11847-8b3e-4a7d-b347-74062d353b4c",
   "metadata": {},
   "outputs": [],
   "source": [
    "nums_1 = list(range(2))\n",
    "squared_1 = list(map(lambda x: x ** 2, nums_1))\n",
    "print(\"Cell 1 - map\")\n",
    "print(\"Input:\", nums_1)\n",
    "print(\"Squared:\", squared_1)"
   ]
  },
  {
   "cell_type": "code",
   "execution_count": null,
   "id": "294b94bf-f0a1-46fa-aa0b-9bbf73781001",
   "metadata": {},
   "outputs": [],
   "source": [
    "nums_1 = list(range(2))\n",
    "squared_1 = list(map(lambda x: x ** 2, nums_1))\n",
    "print(\"Cell 1 - map\")\n",
    "print(\"Input:\", nums_1)\n",
    "print(\"Squared:\", squared_1)"
   ]
  },
  {
   "cell_type": "code",
   "execution_count": null,
   "id": "41c4cbc8-98a4-4205-881c-7bb375ec7cc0",
   "metadata": {},
   "outputs": [],
   "source": [
    "nums_1 = list(range(2))\n",
    "squared_1 = list(map(lambda x: x ** 2, nums_1))\n",
    "print(\"Cell 1 - map\")\n",
    "print(\"Input:\", nums_1)\n",
    "print(\"Squared:\", squared_1)"
   ]
  },
  {
   "cell_type": "code",
   "execution_count": null,
   "id": "6db39b98-fe49-4255-a309-b6abb5109fde",
   "metadata": {},
   "outputs": [],
   "source": [
    "nums_1 = list(range(2))\n",
    "squared_1 = list(map(lambda x: x ** 2, nums_1))\n",
    "print(\"Cell 1 - map\")\n",
    "print(\"Input:\", nums_1)\n",
    "print(\"Squared:\", squared_1)"
   ]
  },
  {
   "cell_type": "code",
   "execution_count": null,
   "id": "7c41dc3b-a731-48d0-8686-1928ae7be233",
   "metadata": {},
   "outputs": [],
   "source": [
    "nums_1 = list(range(2))\n",
    "squared_1 = list(map(lambda x: x ** 2, nums_1))\n",
    "print(\"Cell 1 - map\")\n",
    "print(\"Input:\", nums_1)\n",
    "print(\"Squared:\", squared_1)"
   ]
  },
  {
   "cell_type": "code",
   "execution_count": null,
   "id": "f60e7674-27f3-4184-b1d0-8e809335af0c",
   "metadata": {},
   "outputs": [],
   "source": [
    "nums_1 = list(range(2))\n",
    "squared_1 = list(map(lambda x: x ** 2, nums_1))\n",
    "print(\"Cell 1 - map\")\n",
    "print(\"Input:\", nums_1)\n",
    "print(\"Squared:\", squared_1)"
   ]
  },
  {
   "cell_type": "code",
   "execution_count": null,
   "id": "5d98453a-c6f1-4c59-a2fc-5548d1ae2b10",
   "metadata": {},
   "outputs": [],
   "source": [
    "nums_1 = list(range(2))\n",
    "squared_1 = list(map(lambda x: x ** 2, nums_1))\n",
    "print(\"Cell 1 - map\")\n",
    "print(\"Input:\", nums_1)\n",
    "print(\"Squared:\", squared_1)"
   ]
  },
  {
   "cell_type": "code",
   "execution_count": null,
   "id": "696e1f9c-1fd2-45b0-96b8-37f3b54f0ac4",
   "metadata": {},
   "outputs": [],
   "source": [
    "nums_1 = list(range(2))\n",
    "squared_1 = list(map(lambda x: x ** 2, nums_1))\n",
    "print(\"Cell 1 - map\")\n",
    "print(\"Input:\", nums_1)\n",
    "print(\"Squared:\", squared_1)"
   ]
  },
  {
   "cell_type": "code",
   "execution_count": null,
   "id": "52152b3f-a184-4c4e-9d47-5915d80dc4cf",
   "metadata": {},
   "outputs": [],
   "source": [
    "nums_1 = list(range(2))\n",
    "squared_1 = list(map(lambda x: x ** 2, nums_1))\n",
    "print(\"Cell 1 - map\")\n",
    "print(\"Input:\", nums_1)\n",
    "print(\"Squared:\", squared_1)"
   ]
  },
  {
   "cell_type": "code",
   "execution_count": null,
   "id": "92b36018-524b-47f5-a81d-983150648eaa",
   "metadata": {},
   "outputs": [],
   "source": [
    "nums_1 = list(range(2))\n",
    "squared_1 = list(map(lambda x: x ** 2, nums_1))\n",
    "print(\"Cell 1 - map\")\n",
    "print(\"Input:\", nums_1)\n",
    "print(\"Squared:\", squared_1)"
   ]
  },
  {
   "cell_type": "code",
   "execution_count": null,
   "id": "2f95ad99-5fe4-4524-833f-06d2f2c7aef2",
   "metadata": {},
   "outputs": [],
   "source": [
    "nums_1 = list(range(2))\n",
    "squared_1 = list(map(lambda x: x ** 2, nums_1))\n",
    "print(\"Cell 1 - map\")\n",
    "print(\"Input:\", nums_1)\n",
    "print(\"Squared:\", squared_1)"
   ]
  },
  {
   "cell_type": "code",
   "execution_count": null,
   "id": "ad9e039f-607f-41ae-a635-5be137486d2b",
   "metadata": {},
   "outputs": [],
   "source": [
    "nums_1 = list(range(2))\n",
    "squared_1 = list(map(lambda x: x ** 2, nums_1))\n",
    "print(\"Cell 1 - map\")\n",
    "print(\"Input:\", nums_1)\n",
    "print(\"Squared:\", squared_1)"
   ]
  },
  {
   "cell_type": "code",
   "execution_count": null,
   "id": "a2a22f64-443f-4718-a321-8f00a5c65505",
   "metadata": {},
   "outputs": [],
   "source": [
    "nums_1 = list(range(2))\n",
    "squared_1 = list(map(lambda x: x ** 2, nums_1))\n",
    "print(\"Cell 1 - map\")\n",
    "print(\"Input:\", nums_1)\n",
    "print(\"Squared:\", squared_1)"
   ]
  },
  {
   "cell_type": "code",
   "execution_count": null,
   "id": "a797fd94-1f2e-4109-a656-61de77f70d48",
   "metadata": {},
   "outputs": [],
   "source": [
    "nums_1 = list(range(2))\n",
    "squared_1 = list(map(lambda x: x ** 2, nums_1))\n",
    "print(\"Cell 1 - map\")\n",
    "print(\"Input:\", nums_1)\n",
    "print(\"Squared:\", squared_1)"
   ]
  },
  {
   "cell_type": "code",
   "execution_count": null,
   "id": "829d0dd5-35ad-4db9-b1d3-b2d82abb2d23",
   "metadata": {},
   "outputs": [],
   "source": [
    "nums_1 = list(range(2))\n",
    "squared_1 = list(map(lambda x: x ** 2, nums_1))\n",
    "print(\"Cell 1 - map\")\n",
    "print(\"Input:\", nums_1)\n",
    "print(\"Squared:\", squared_1)"
   ]
  },
  {
   "cell_type": "code",
   "execution_count": null,
   "id": "2579ba26-dd0c-4a14-a529-6f52392c6c3e",
   "metadata": {},
   "outputs": [],
   "source": [
    "nums_1 = list(range(2))\n",
    "squared_1 = list(map(lambda x: x ** 2, nums_1))\n",
    "print(\"Cell 1 - map\")\n",
    "print(\"Input:\", nums_1)\n",
    "print(\"Squared:\", squared_1)"
   ]
  },
  {
   "cell_type": "code",
   "execution_count": null,
   "id": "9206be88-8981-4530-bc8f-fdecb5f46f66",
   "metadata": {},
   "outputs": [],
   "source": [
    "nums_1 = list(range(2))\n",
    "squared_1 = list(map(lambda x: x ** 2, nums_1))\n",
    "print(\"Cell 1 - map\")\n",
    "print(\"Input:\", nums_1)\n",
    "print(\"Squared:\", squared_1)"
   ]
  },
  {
   "cell_type": "code",
   "execution_count": null,
   "id": "8e700cbe-7d4f-4993-8a65-82179b410ed2",
   "metadata": {},
   "outputs": [],
   "source": [
    "nums_1 = list(range(2))\n",
    "squared_1 = list(map(lambda x: x ** 2, nums_1))\n",
    "print(\"Cell 1 - map\")\n",
    "print(\"Input:\", nums_1)\n",
    "print(\"Squared:\", squared_1)"
   ]
  },
  {
   "cell_type": "code",
   "execution_count": null,
   "id": "89bc667e-29b5-4d6c-aa58-f6dc85b3ccba",
   "metadata": {},
   "outputs": [],
   "source": [
    "nums_1 = list(range(2))\n",
    "squared_1 = list(map(lambda x: x ** 2, nums_1))\n",
    "print(\"Cell 1 - map\")\n",
    "print(\"Input:\", nums_1)\n",
    "print(\"Squared:\", squared_1)"
   ]
  },
  {
   "cell_type": "code",
   "execution_count": null,
   "id": "c24f8871-1042-4c30-9a01-c2738b004434",
   "metadata": {},
   "outputs": [],
   "source": [
    "nums_1 = list(range(2))\n",
    "squared_1 = list(map(lambda x: x ** 2, nums_1))\n",
    "print(\"Cell 1 - map\")\n",
    "print(\"Input:\", nums_1)\n",
    "print(\"Squared:\", squared_1)"
   ]
  },
  {
   "cell_type": "code",
   "execution_count": null,
   "id": "799ad605-0f49-4743-89d6-560b2268b9d5",
   "metadata": {},
   "outputs": [],
   "source": [
    "nums_1 = list(range(2))\n",
    "squared_1 = list(map(lambda x: x ** 2, nums_1))\n",
    "print(\"Cell 1 - map\")\n",
    "print(\"Input:\", nums_1)\n",
    "print(\"Squared:\", squared_1)"
   ]
  },
  {
   "cell_type": "code",
   "execution_count": null,
   "id": "b76c2bed-519e-4aa8-8990-957f72cab31c",
   "metadata": {},
   "outputs": [],
   "source": [
    "nums_1 = list(range(2))\n",
    "squared_1 = list(map(lambda x: x ** 2, nums_1))\n",
    "print(\"Cell 1 - map\")\n",
    "print(\"Input:\", nums_1)\n",
    "print(\"Squared:\", squared_1)"
   ]
  },
  {
   "cell_type": "code",
   "execution_count": null,
   "id": "7e453b22-e806-4e60-b622-ebb813fc5ef0",
   "metadata": {},
   "outputs": [],
   "source": [
    "nums_1 = list(range(2))\n",
    "squared_1 = list(map(lambda x: x ** 2, nums_1))\n",
    "print(\"Cell 1 - map\")\n",
    "print(\"Input:\", nums_1)\n",
    "print(\"Squared:\", squared_1)"
   ]
  },
  {
   "cell_type": "code",
   "execution_count": null,
   "id": "c667556e-07a5-4f16-8cb5-70a4f43cb333",
   "metadata": {},
   "outputs": [],
   "source": [
    "nums_1 = list(range(2))\n",
    "squared_1 = list(map(lambda x: x ** 2, nums_1))\n",
    "print(\"Cell 1 - map\")\n",
    "print(\"Input:\", nums_1)\n",
    "print(\"Squared:\", squared_1)"
   ]
  },
  {
   "cell_type": "code",
   "execution_count": null,
   "id": "c959a61d-65a3-4d8c-9e5b-0429d47b5104",
   "metadata": {},
   "outputs": [],
   "source": [
    "nums_1 = list(range(2))\n",
    "squared_1 = list(map(lambda x: x ** 2, nums_1))\n",
    "print(\"Cell 1 - map\")\n",
    "print(\"Input:\", nums_1)\n",
    "print(\"Squared:\", squared_1)"
   ]
  },
  {
   "cell_type": "code",
   "execution_count": null,
   "id": "ff353a93-bff5-4ea6-861a-2b309382e0d2",
   "metadata": {},
   "outputs": [],
   "source": [
    "nums_1 = list(range(2))\n",
    "squared_1 = list(map(lambda x: x ** 2, nums_1))\n",
    "print(\"Cell 1 - map\")\n",
    "print(\"Input:\", nums_1)\n",
    "print(\"Squared:\", squared_1)"
   ]
  },
  {
   "cell_type": "code",
   "execution_count": null,
   "id": "05a03e09-8acd-4c4d-8dcb-8de589ec312f",
   "metadata": {},
   "outputs": [],
   "source": [
    "nums_1 = list(range(2))\n",
    "squared_1 = list(map(lambda x: x ** 2, nums_1))\n",
    "print(\"Cell 1 - map\")\n",
    "print(\"Input:\", nums_1)\n",
    "print(\"Squared:\", squared_1)"
   ]
  },
  {
   "cell_type": "code",
   "execution_count": null,
   "id": "14b99a5d-7f2e-4c67-b8b7-69deae4f850a",
   "metadata": {},
   "outputs": [],
   "source": [
    "nums_1 = list(range(2))\n",
    "squared_1 = list(map(lambda x: x ** 2, nums_1))\n",
    "print(\"Cell 1 - map\")\n",
    "print(\"Input:\", nums_1)\n",
    "print(\"Squared:\", squared_1)"
   ]
  },
  {
   "cell_type": "code",
   "execution_count": null,
   "id": "3091f7f2-b3b7-445a-8682-f61c55bdfe08",
   "metadata": {},
   "outputs": [],
   "source": [
    "nums_1 = list(range(2))\n",
    "squared_1 = list(map(lambda x: x ** 2, nums_1))\n",
    "print(\"Cell 1 - map\")\n",
    "print(\"Input:\", nums_1)\n",
    "print(\"Squared:\", squared_1)"
   ]
  },
  {
   "cell_type": "code",
   "execution_count": null,
   "id": "0337505c-af75-4e51-a77f-3241248d4fc4",
   "metadata": {},
   "outputs": [],
   "source": [
    "nums_1 = list(range(2))\n",
    "squared_1 = list(map(lambda x: x ** 2, nums_1))\n",
    "print(\"Cell 1 - map\")\n",
    "print(\"Input:\", nums_1)\n",
    "print(\"Squared:\", squared_1)"
   ]
  },
  {
   "cell_type": "code",
   "execution_count": null,
   "id": "26f1aedb-db90-4139-a708-f08ff7788f6b",
   "metadata": {},
   "outputs": [],
   "source": [
    "nums_1 = list(range(2))\n",
    "squared_1 = list(map(lambda x: x ** 2, nums_1))\n",
    "print(\"Cell 1 - map\")\n",
    "print(\"Input:\", nums_1)\n",
    "print(\"Squared:\", squared_1)"
   ]
  },
  {
   "cell_type": "code",
   "execution_count": null,
   "id": "368f7590-9b89-4521-b53c-d83186577679",
   "metadata": {},
   "outputs": [],
   "source": [
    "nums_1 = list(range(2))\n",
    "squared_1 = list(map(lambda x: x ** 2, nums_1))\n",
    "print(\"Cell 1 - map\")\n",
    "print(\"Input:\", nums_1)\n",
    "print(\"Squared:\", squared_1)"
   ]
  },
  {
   "cell_type": "code",
   "execution_count": null,
   "id": "c27d71ab-19ff-4dbd-8421-e69cdee4a574",
   "metadata": {},
   "outputs": [],
   "source": [
    "nums_1 = list(range(2))\n",
    "squared_1 = list(map(lambda x: x ** 2, nums_1))\n",
    "print(\"Cell 1 - map\")\n",
    "print(\"Input:\", nums_1)\n",
    "print(\"Squared:\", squared_1)"
   ]
  },
  {
   "cell_type": "code",
   "execution_count": null,
   "id": "d59170d6-340d-4d26-a9d3-b0f9160464ac",
   "metadata": {},
   "outputs": [],
   "source": [
    "nums_1 = list(range(2))\n",
    "squared_1 = list(map(lambda x: x ** 2, nums_1))\n",
    "print(\"Cell 1 - map\")\n",
    "print(\"Input:\", nums_1)\n",
    "print(\"Squared:\", squared_1)"
   ]
  },
  {
   "cell_type": "code",
   "execution_count": null,
   "id": "2f3b2913-7439-402f-9642-54f89353d547",
   "metadata": {},
   "outputs": [],
   "source": [
    "nums_1 = list(range(2))\n",
    "squared_1 = list(map(lambda x: x ** 2, nums_1))\n",
    "print(\"Cell 1 - map\")\n",
    "print(\"Input:\", nums_1)\n",
    "print(\"Squared:\", squared_1)"
   ]
  },
  {
   "cell_type": "code",
   "execution_count": null,
   "id": "774ddc7a-2299-46e6-9096-c6ffc395febf",
   "metadata": {},
   "outputs": [],
   "source": [
    "nums_1 = list(range(2))\n",
    "squared_1 = list(map(lambda x: x ** 2, nums_1))\n",
    "print(\"Cell 1 - map\")\n",
    "print(\"Input:\", nums_1)\n",
    "print(\"Squared:\", squared_1)"
   ]
  },
  {
   "cell_type": "code",
   "execution_count": null,
   "id": "872c75e2-4675-4054-b60f-140bec455c24",
   "metadata": {},
   "outputs": [],
   "source": [
    "nums_1 = list(range(2))\n",
    "squared_1 = list(map(lambda x: x ** 2, nums_1))\n",
    "print(\"Cell 1 - map\")\n",
    "print(\"Input:\", nums_1)\n",
    "print(\"Squared:\", squared_1)"
   ]
  },
  {
   "cell_type": "code",
   "execution_count": null,
   "id": "0736d9ed-768b-42c8-91a4-b41423ebd23d",
   "metadata": {},
   "outputs": [],
   "source": [
    "nums_1 = list(range(2))\n",
    "squared_1 = list(map(lambda x: x ** 2, nums_1))\n",
    "print(\"Cell 1 - map\")\n",
    "print(\"Input:\", nums_1)\n",
    "print(\"Squared:\", squared_1)"
   ]
  },
  {
   "cell_type": "code",
   "execution_count": null,
   "id": "0ec34c1d-0005-43a3-ba7b-405d9ffd3d70",
   "metadata": {},
   "outputs": [],
   "source": [
    "nums_1 = list(range(2))\n",
    "squared_1 = list(map(lambda x: x ** 2, nums_1))\n",
    "print(\"Cell 1 - map\")\n",
    "print(\"Input:\", nums_1)\n",
    "print(\"Squared:\", squared_1)"
   ]
  },
  {
   "cell_type": "code",
   "execution_count": null,
   "id": "f053ac15-4b68-41b1-9ba5-ccd4eeccada5",
   "metadata": {},
   "outputs": [],
   "source": [
    "nums_1 = list(range(2))\n",
    "squared_1 = list(map(lambda x: x ** 2, nums_1))\n",
    "print(\"Cell 1 - map\")\n",
    "print(\"Input:\", nums_1)\n",
    "print(\"Squared:\", squared_1)"
   ]
  },
  {
   "cell_type": "code",
   "execution_count": null,
   "id": "74aabdfa-f817-414a-9c4e-089f309fac9b",
   "metadata": {},
   "outputs": [],
   "source": [
    "nums_1 = list(range(2))\n",
    "squared_1 = list(map(lambda x: x ** 2, nums_1))\n",
    "print(\"Cell 1 - map\")\n",
    "print(\"Input:\", nums_1)\n",
    "print(\"Squared:\", squared_1)"
   ]
  },
  {
   "cell_type": "code",
   "execution_count": null,
   "id": "8c290bf0-aafc-4874-9d14-9164f020a222",
   "metadata": {},
   "outputs": [],
   "source": [
    "nums_1 = list(range(2))\n",
    "squared_1 = list(map(lambda x: x ** 2, nums_1))\n",
    "print(\"Cell 1 - map\")\n",
    "print(\"Input:\", nums_1)\n",
    "print(\"Squared:\", squared_1)"
   ]
  },
  {
   "cell_type": "code",
   "execution_count": null,
   "id": "5d35d933-7b96-4570-a691-a801f46ea961",
   "metadata": {},
   "outputs": [],
   "source": [
    "nums_1 = list(range(2))\n",
    "squared_1 = list(map(lambda x: x ** 2, nums_1))\n",
    "print(\"Cell 1 - map\")\n",
    "print(\"Input:\", nums_1)\n",
    "print(\"Squared:\", squared_1)"
   ]
  },
  {
   "cell_type": "code",
   "execution_count": null,
   "id": "9d4f931e-6b4c-45d4-9155-8a1df5ddb98d",
   "metadata": {},
   "outputs": [],
   "source": [
    "nums_1 = list(range(2))\n",
    "squared_1 = list(map(lambda x: x ** 2, nums_1))\n",
    "print(\"Cell 1 - map\")\n",
    "print(\"Input:\", nums_1)\n",
    "print(\"Squared:\", squared_1)"
   ]
  },
  {
   "cell_type": "code",
   "execution_count": null,
   "id": "8fec1b53-733e-46f3-bcc6-132a0f4e9a9c",
   "metadata": {},
   "outputs": [],
   "source": [
    "nums_1 = list(range(2))\n",
    "squared_1 = list(map(lambda x: x ** 2, nums_1))\n",
    "print(\"Cell 1 - map\")\n",
    "print(\"Input:\", nums_1)\n",
    "print(\"Squared:\", squared_1)"
   ]
  },
  {
   "cell_type": "code",
   "execution_count": null,
   "id": "9cd70101-f488-4ebe-8976-72d21c73464d",
   "metadata": {},
   "outputs": [],
   "source": [
    "nums_1 = list(range(2))\n",
    "squared_1 = list(map(lambda x: x ** 2, nums_1))\n",
    "print(\"Cell 1 - map\")\n",
    "print(\"Input:\", nums_1)\n",
    "print(\"Squared:\", squared_1)"
   ]
  },
  {
   "cell_type": "code",
   "execution_count": null,
   "id": "06f52f8e-fc18-4af1-b712-bfd13ce6cfd3",
   "metadata": {},
   "outputs": [],
   "source": [
    "nums_1 = list(range(2))\n",
    "squared_1 = list(map(lambda x: x ** 2, nums_1))\n",
    "print(\"Cell 1 - map\")\n",
    "print(\"Input:\", nums_1)\n",
    "print(\"Squared:\", squared_1)"
   ]
  },
  {
   "cell_type": "code",
   "execution_count": null,
   "id": "7a73b5c0-56c6-4d50-8cdb-4a56c5a5f701",
   "metadata": {},
   "outputs": [],
   "source": [
    "nums_1 = list(range(2))\n",
    "squared_1 = list(map(lambda x: x ** 2, nums_1))\n",
    "print(\"Cell 1 - map\")\n",
    "print(\"Input:\", nums_1)\n",
    "print(\"Squared:\", squared_1)"
   ]
  },
  {
   "cell_type": "code",
   "execution_count": null,
   "id": "1fc3ebaf-293f-427d-bc74-141cf932f9dd",
   "metadata": {},
   "outputs": [],
   "source": [
    "nums_1 = list(range(9))\n",
    "squared_1 = list(map(lambda x: x ** 2, nums_1))\n",
    "print(\"Cell 1 - map\")\n",
    "print(\"Input:\", nums_1)\n",
    "print(\"Squared:\", squared_1)"
   ]
  },
  {
   "cell_type": "code",
   "execution_count": null,
   "id": "4d870758-9461-4c0d-8e7e-7fa65d48eb8e",
   "metadata": {},
   "outputs": [],
   "source": [
    "nums_1 = list(range(2))\n",
    "squared_1 = list(map(lambda x: x ** 2, nums_1))\n",
    "print(\"Cell 1 - map\")\n",
    "print(\"Input:\", nums_1)\n",
    "print(\"Squared:\", squared_1)"
   ]
  },
  {
   "cell_type": "code",
   "execution_count": null,
   "id": "138ae73b-1684-499a-8272-fee137287202",
   "metadata": {},
   "outputs": [],
   "source": [
    "nums_1 = list(range(2))\n",
    "squared_1 = list(map(lambda x: x ** 2, nums_1))\n",
    "print(\"Cell 1 - map\")\n",
    "print(\"Input:\", nums_1)\n",
    "print(\"Squared:\", squared_1)"
   ]
  },
  {
   "cell_type": "code",
   "execution_count": null,
   "id": "d025d9ea-7133-40c0-9b2a-ac943cab1ec7",
   "metadata": {},
   "outputs": [],
   "source": [
    "nums_1 = list(range(2))\n",
    "squared_1 = list(map(lambda x: x ** 2, nums_1))\n",
    "print(\"Cell 1 - map\")\n",
    "print(\"Input:\", nums_1)\n",
    "print(\"Squared:\", squared_1)"
   ]
  },
  {
   "cell_type": "code",
   "execution_count": null,
   "id": "9dc09472-2b7e-4f51-9a9b-62eb0b453c93",
   "metadata": {},
   "outputs": [],
   "source": [
    "nums_1 = list(range(2))\n",
    "squared_1 = list(map(lambda x: x ** 2, nums_1))\n",
    "print(\"Cell 1 - map\")\n",
    "print(\"Input:\", nums_1)\n",
    "print(\"Squared:\", squared_1)"
   ]
  },
  {
   "cell_type": "code",
   "execution_count": null,
   "id": "2396e1d4-bb80-46fe-bf1c-94a372ca0051",
   "metadata": {},
   "outputs": [],
   "source": [
    "nums_1 = list(range(2))\n",
    "squared_1 = list(map(lambda x: x ** 2, nums_1))\n",
    "print(\"Cell 1 - map\")\n",
    "print(\"Input:\", nums_1)\n",
    "print(\"Squared:\", squared_1)"
   ]
  },
  {
   "cell_type": "code",
   "execution_count": null,
   "id": "a43c592f-ca30-424d-8239-84b018578108",
   "metadata": {},
   "outputs": [],
   "source": [
    "nums_1 = list(range(2))\n",
    "squared_1 = list(map(lambda x: x ** 2, nums_1))\n",
    "print(\"Cell 1 - map\")\n",
    "print(\"Input:\", nums_1)\n",
    "print(\"Squared:\", squared_1)"
   ]
  },
  {
   "cell_type": "code",
   "execution_count": null,
   "id": "0b990fe1-239c-4177-81ef-29eef545a94c",
   "metadata": {},
   "outputs": [],
   "source": [
    "nums_1 = list(range(2))\n",
    "squared_1 = list(map(lambda x: x ** 2, nums_1))\n",
    "print(\"Cell 1 - map\")\n",
    "print(\"Input:\", nums_1)\n",
    "print(\"Squared:\", squared_1)"
   ]
  },
  {
   "cell_type": "code",
   "execution_count": null,
   "id": "e5fe640e-ea07-4a67-8649-5e57eedbf1c6",
   "metadata": {},
   "outputs": [],
   "source": [
    "nums_1 = list(range(2))\n",
    "squared_1 = list(map(lambda x: x ** 2, nums_1))\n",
    "print(\"Cell 1 - map\")\n",
    "print(\"Input:\", nums_1)\n",
    "print(\"Squared:\", squared_1)"
   ]
  },
  {
   "cell_type": "code",
   "execution_count": null,
   "id": "2da5cac3-5443-4885-a5e8-2b8ff815dd76",
   "metadata": {},
   "outputs": [],
   "source": [
    "nums_1 = list(range(2))\n",
    "squared_1 = list(map(lambda x: x ** 2, nums_1))\n",
    "print(\"Cell 1 - map\")\n",
    "print(\"Input:\", nums_1)\n",
    "print(\"Squared:\", squared_1)"
   ]
  },
  {
   "cell_type": "code",
   "execution_count": null,
   "id": "611bd252-5c5b-4d56-9b1f-5c1ea473645c",
   "metadata": {},
   "outputs": [],
   "source": [
    "nums_1 = list(range(2))\n",
    "squared_1 = list(map(lambda x: x ** 2, nums_1))\n",
    "print(\"Cell 1 - map\")\n",
    "print(\"Input:\", nums_1)\n",
    "print(\"Squared:\", squared_1)"
   ]
  },
  {
   "cell_type": "code",
   "execution_count": null,
   "id": "3a06ee65-fccb-4f15-9ef4-05ae36fd42d4",
   "metadata": {},
   "outputs": [],
   "source": [
    "nums_1 = list(range(2))\n",
    "squared_1 = list(map(lambda x: x ** 2, nums_1))\n",
    "print(\"Cell 1 - map\")\n",
    "print(\"Input:\", nums_1)\n",
    "print(\"Squared:\", squared_1)"
   ]
  },
  {
   "cell_type": "code",
   "execution_count": null,
   "id": "af3f957c-eed3-4a60-bbad-c1181d7d90f3",
   "metadata": {},
   "outputs": [],
   "source": [
    "nums_1 = list(range(2))\n",
    "squared_1 = list(map(lambda x: x ** 2, nums_1))\n",
    "print(\"Cell 1 - map\")\n",
    "print(\"Input:\", nums_1)\n",
    "print(\"Squared:\", squared_1)"
   ]
  },
  {
   "cell_type": "code",
   "execution_count": null,
   "id": "2dae0582-252f-42a6-aa34-12daf900268e",
   "metadata": {},
   "outputs": [],
   "source": [
    "nums_1 = list(range(2))\n",
    "squared_1 = list(map(lambda x: x ** 2, nums_1))\n",
    "print(\"Cell 1 - map\")\n",
    "print(\"Input:\", nums_1)\n",
    "print(\"Squared:\", squared_1)"
   ]
  },
  {
   "cell_type": "code",
   "execution_count": null,
   "id": "81357a8f-bf73-4125-8528-e752dc4c8aeb",
   "metadata": {},
   "outputs": [],
   "source": [
    "nums_1 = list(range(2))\n",
    "squared_1 = list(map(lambda x: x ** 2, nums_1))\n",
    "print(\"Cell 1 - map\")\n",
    "print(\"Input:\", nums_1)\n",
    "print(\"Squared:\", squared_1)"
   ]
  },
  {
   "cell_type": "code",
   "execution_count": null,
   "id": "cbdd5809-87ab-4913-af7b-76a0b373b9f9",
   "metadata": {},
   "outputs": [],
   "source": [
    "nums_1 = list(range(2))\n",
    "squared_1 = list(map(lambda x: x ** 2, nums_1))\n",
    "print(\"Cell 1 - map\")\n",
    "print(\"Input:\", nums_1)\n",
    "print(\"Squared:\", squared_1)"
   ]
  },
  {
   "cell_type": "code",
   "execution_count": null,
   "id": "3e3a264b-6299-4a3e-a190-a4f3707ba429",
   "metadata": {},
   "outputs": [],
   "source": [
    "nums_1 = list(range(2))\n",
    "squared_1 = list(map(lambda x: x ** 2, nums_1))\n",
    "print(\"Cell 1 - map\")\n",
    "print(\"Input:\", nums_1)\n",
    "print(\"Squared:\", squared_1)"
   ]
  },
  {
   "cell_type": "code",
   "execution_count": null,
   "id": "9a8236a4-0f4e-4b6f-b6f0-b4a19c95db23",
   "metadata": {},
   "outputs": [],
   "source": [
    "nums_1 = list(range(2))\n",
    "squared_1 = list(map(lambda x: x ** 2, nums_1))\n",
    "print(\"Cell 1 - map\")\n",
    "print(\"Input:\", nums_1)\n",
    "print(\"Squared:\", squared_1)"
   ]
  },
  {
   "cell_type": "code",
   "execution_count": null,
   "id": "75389fa9-5a0d-4ddd-a4c4-3ef166eda779",
   "metadata": {},
   "outputs": [],
   "source": [
    "nums_1 = list(range(2))\n",
    "squared_1 = list(map(lambda x: x ** 2, nums_1))\n",
    "print(\"Cell 1 - map\")\n",
    "print(\"Input:\", nums_1)\n",
    "print(\"Squared:\", squared_1)"
   ]
  },
  {
   "cell_type": "code",
   "execution_count": null,
   "id": "3cf70e12-0bc1-4d03-bb9f-4c1114c30a69",
   "metadata": {},
   "outputs": [],
   "source": [
    "nums_1 = list(range(2))\n",
    "squared_1 = list(map(lambda x: x ** 2, nums_1))\n",
    "print(\"Cell 1 - map\")\n",
    "print(\"Input:\", nums_1)\n",
    "print(\"Squared:\", squared_1)"
   ]
  },
  {
   "cell_type": "code",
   "execution_count": null,
   "id": "e6fa08f7-a6f6-48e2-8425-49fbe94bcfc5",
   "metadata": {},
   "outputs": [],
   "source": [
    "nums_1 = list(range(2))\n",
    "squared_1 = list(map(lambda x: x ** 2, nums_1))\n",
    "print(\"Cell 1 - map\")\n",
    "print(\"Input:\", nums_1)\n",
    "print(\"Squared:\", squared_1)"
   ]
  },
  {
   "cell_type": "code",
   "execution_count": null,
   "id": "d6680262-32bf-4000-9872-e8e928944186",
   "metadata": {},
   "outputs": [],
   "source": [
    "nums_1 = list(range(2))\n",
    "squared_1 = list(map(lambda x: x ** 2, nums_1))\n",
    "print(\"Cell 1 - map\")\n",
    "print(\"Input:\", nums_1)\n",
    "print(\"Squared:\", squared_1)"
   ]
  },
  {
   "cell_type": "code",
   "execution_count": null,
   "id": "43fe47bc-811e-4d78-8693-623c2e0a9450",
   "metadata": {},
   "outputs": [],
   "source": [
    "nums_1 = list(range(2))\n",
    "squared_1 = list(map(lambda x: x ** 2, nums_1))\n",
    "print(\"Cell 1 - map\")\n",
    "print(\"Input:\", nums_1)\n",
    "print(\"Squared:\", squared_1)"
   ]
  },
  {
   "cell_type": "code",
   "execution_count": null,
   "id": "1957eafe-42ad-4a32-8a6a-2ad1057b597a",
   "metadata": {},
   "outputs": [],
   "source": [
    "nums_1 = list(range(2))\n",
    "squared_1 = list(map(lambda x: x ** 2, nums_1))\n",
    "print(\"Cell 1 - map\")\n",
    "print(\"Input:\", nums_1)\n",
    "print(\"Squared:\", squared_1)"
   ]
  },
  {
   "cell_type": "code",
   "execution_count": null,
   "id": "54e6c9dd-a903-41f3-8def-4e9f95fd620e",
   "metadata": {},
   "outputs": [],
   "source": [
    "nums_1 = list(range(2))\n",
    "squared_1 = list(map(lambda x: x ** 2, nums_1))\n",
    "print(\"Cell 1 - map\")\n",
    "print(\"Input:\", nums_1)\n",
    "print(\"Squared:\", squared_1)"
   ]
  },
  {
   "cell_type": "code",
   "execution_count": null,
   "id": "b9f00f2d-e9da-47fc-a123-59bff9c5cc84",
   "metadata": {},
   "outputs": [],
   "source": [
    "nums_1 = list(range(2))\n",
    "squared_1 = list(map(lambda x: x ** 2, nums_1))\n",
    "print(\"Cell 1 - map\")\n",
    "print(\"Input:\", nums_1)\n",
    "print(\"Squared:\", squared_1)"
   ]
  },
  {
   "cell_type": "code",
   "execution_count": null,
   "id": "8896c25b-516c-4bbb-a5ff-8c1a6798a0ee",
   "metadata": {},
   "outputs": [],
   "source": [
    "nums_1 = list(range(2))\n",
    "squared_1 = list(map(lambda x: x ** 2, nums_1))\n",
    "print(\"Cell 1 - map\")\n",
    "print(\"Input:\", nums_1)\n",
    "print(\"Squared:\", squared_1)"
   ]
  },
  {
   "cell_type": "code",
   "execution_count": null,
   "id": "da88089f-17e0-4f16-b63b-99a2cfcc0ae2",
   "metadata": {},
   "outputs": [],
   "source": [
    "nums_1 = list(range(2))\n",
    "squared_1 = list(map(lambda x: x ** 2, nums_1))\n",
    "print(\"Cell 1 - map\")\n",
    "print(\"Input:\", nums_1)\n",
    "print(\"Squared:\", squared_1)"
   ]
  },
  {
   "cell_type": "code",
   "execution_count": null,
   "id": "5dd7efb9-8d45-439c-b446-6b17b09604b2",
   "metadata": {},
   "outputs": [],
   "source": [
    "nums_1 = list(range(2))\n",
    "squared_1 = list(map(lambda x: x ** 2, nums_1))\n",
    "print(\"Cell 1 - map\")\n",
    "print(\"Input:\", nums_1)\n",
    "print(\"Squared:\", squared_1)"
   ]
  },
  {
   "cell_type": "code",
   "execution_count": null,
   "id": "e8f12b85-d721-4e4c-b572-e46009fd680f",
   "metadata": {},
   "outputs": [],
   "source": [
    "nums_1 = list(range(2))\n",
    "squared_1 = list(map(lambda x: x ** 2, nums_1))\n",
    "print(\"Cell 1 - map\")\n",
    "print(\"Input:\", nums_1)\n",
    "print(\"Squared:\", squared_1)"
   ]
  },
  {
   "cell_type": "code",
   "execution_count": null,
   "id": "e0420198-9483-4acb-9b61-0a9cceca15f3",
   "metadata": {},
   "outputs": [],
   "source": [
    "nums_1 = list(range(2))\n",
    "squared_1 = list(map(lambda x: x ** 2, nums_1))\n",
    "print(\"Cell 1 - map\")\n",
    "print(\"Input:\", nums_1)\n",
    "print(\"Squared:\", squared_1)"
   ]
  },
  {
   "cell_type": "code",
   "execution_count": null,
   "id": "acda1ac0-6859-406a-82ae-c194bdae77a5",
   "metadata": {},
   "outputs": [],
   "source": [
    "nums_1 = list(range(2))\n",
    "squared_1 = list(map(lambda x: x ** 2, nums_1))\n",
    "print(\"Cell 1 - map\")\n",
    "print(\"Input:\", nums_1)\n",
    "print(\"Squared:\", squared_1)"
   ]
  },
  {
   "cell_type": "code",
   "execution_count": null,
   "id": "8a33c216-fd26-4f3d-9bd8-03ff772fdd1d",
   "metadata": {},
   "outputs": [],
   "source": [
    "nums_1 = list(range(2))\n",
    "squared_1 = list(map(lambda x: x ** 2, nums_1))\n",
    "print(\"Cell 1 - map\")\n",
    "print(\"Input:\", nums_1)\n",
    "print(\"Squared:\", squared_1)"
   ]
  },
  {
   "cell_type": "code",
   "execution_count": null,
   "id": "aff91a27-74e1-4a8e-8e58-8ba795606f58",
   "metadata": {},
   "outputs": [],
   "source": [
    "nums_1 = list(range(2))\n",
    "squared_1 = list(map(lambda x: x ** 2, nums_1))\n",
    "print(\"Cell 1 - map\")\n",
    "print(\"Input:\", nums_1)\n",
    "print(\"Squared:\", squared_1)"
   ]
  },
  {
   "cell_type": "code",
   "execution_count": null,
   "id": "b1eb3036-a41b-47d2-9dd4-afef85c2cad1",
   "metadata": {},
   "outputs": [],
   "source": [
    "nums_1 = list(range(2))\n",
    "squared_1 = list(map(lambda x: x ** 2, nums_1))\n",
    "print(\"Cell 1 - map\")\n",
    "print(\"Input:\", nums_1)\n",
    "print(\"Squared:\", squared_1)"
   ]
  },
  {
   "cell_type": "code",
   "execution_count": null,
   "id": "a83332c1-29a5-44b7-bb78-8e919ab451b1",
   "metadata": {},
   "outputs": [],
   "source": [
    "nums_1 = list(range(2))\n",
    "squared_1 = list(map(lambda x: x ** 2, nums_1))\n",
    "print(\"Cell 1 - map\")\n",
    "print(\"Input:\", nums_1)\n",
    "print(\"Squared:\", squared_1)"
   ]
  },
  {
   "cell_type": "code",
   "execution_count": null,
   "id": "aca0588c-a2e8-44a4-8011-9774a8cf9c67",
   "metadata": {},
   "outputs": [],
   "source": [
    "nums_1 = list(range(2))\n",
    "squared_1 = list(map(lambda x: x ** 2, nums_1))\n",
    "print(\"Cell 1 - map\")\n",
    "print(\"Input:\", nums_1)\n",
    "print(\"Squared:\", squared_1)"
   ]
  },
  {
   "cell_type": "code",
   "execution_count": null,
   "id": "ba1f410a-a8f1-4596-b8d8-be86d2623661",
   "metadata": {},
   "outputs": [],
   "source": [
    "nums_1 = list(range(2))\n",
    "squared_1 = list(map(lambda x: x ** 2, nums_1))\n",
    "print(\"Cell 1 - map\")\n",
    "print(\"Input:\", nums_1)\n",
    "print(\"Squared:\", squared_1)"
   ]
  },
  {
   "cell_type": "code",
   "execution_count": null,
   "id": "7523694f-c843-4443-8feb-5b4a0974fc6c",
   "metadata": {},
   "outputs": [],
   "source": [
    "nums_1 = list(range(2))\n",
    "squared_1 = list(map(lambda x: x ** 2, nums_1))\n",
    "print(\"Cell 1 - map\")\n",
    "print(\"Input:\", nums_1)\n",
    "print(\"Squared:\", squared_1)"
   ]
  },
  {
   "cell_type": "code",
   "execution_count": null,
   "id": "2e60914e-32df-4a65-898f-335902577ad8",
   "metadata": {},
   "outputs": [],
   "source": [
    "nums_1 = list(range(2))\n",
    "squared_1 = list(map(lambda x: x ** 2, nums_1))\n",
    "print(\"Cell 1 - map\")\n",
    "print(\"Input:\", nums_1)\n",
    "print(\"Squared:\", squared_1)"
   ]
  },
  {
   "cell_type": "code",
   "execution_count": null,
   "id": "f8bf4d34-fd80-4238-ac05-c2b95b6cf559",
   "metadata": {},
   "outputs": [],
   "source": [
    "nums_1 = list(range(2))\n",
    "squared_1 = list(map(lambda x: x ** 2, nums_1))\n",
    "print(\"Cell 1 - map\")\n",
    "print(\"Input:\", nums_1)\n",
    "print(\"Squared:\", squared_1)"
   ]
  },
  {
   "cell_type": "code",
   "execution_count": null,
   "id": "b145e232-562d-44ff-85c3-b758fcc75716",
   "metadata": {},
   "outputs": [],
   "source": [
    "nums_1 = list(range(2))\n",
    "squared_1 = list(map(lambda x: x ** 2, nums_1))\n",
    "print(\"Cell 1 - map\")\n",
    "print(\"Input:\", nums_1)\n",
    "print(\"Squared:\", squared_1)"
   ]
  },
  {
   "cell_type": "code",
   "execution_count": null,
   "id": "22f2540b-e717-4551-ae36-d4e93644e087",
   "metadata": {},
   "outputs": [],
   "source": [
    "nums_1 = list(range(2))\n",
    "squared_1 = list(map(lambda x: x ** 2, nums_1))\n",
    "print(\"Cell 1 - map\")\n",
    "print(\"Input:\", nums_1)\n",
    "print(\"Squared:\", squared_1)"
   ]
  },
  {
   "cell_type": "code",
   "execution_count": null,
   "id": "fcec9db9-58f7-47ba-871f-d279d052b4aa",
   "metadata": {},
   "outputs": [],
   "source": [
    "nums_1 = list(range(2))\n",
    "squared_1 = list(map(lambda x: x ** 2, nums_1))\n",
    "print(\"Cell 1 - map\")\n",
    "print(\"Input:\", nums_1)\n",
    "print(\"Squared:\", squared_1)"
   ]
  },
  {
   "cell_type": "code",
   "execution_count": null,
   "id": "faec1233-9c44-47b4-905d-94ddaac6f7b1",
   "metadata": {},
   "outputs": [],
   "source": [
    "nums_1 = list(range(2))\n",
    "squared_1 = list(map(lambda x: x ** 2, nums_1))\n",
    "print(\"Cell 1 - map\")\n",
    "print(\"Input:\", nums_1)\n",
    "print(\"Squared:\", squared_1)"
   ]
  },
  {
   "cell_type": "code",
   "execution_count": null,
   "id": "b75d9b21-5d6d-4cd2-8c40-9b99436456f7",
   "metadata": {},
   "outputs": [],
   "source": [
    "nums_1 = list(range(2))\n",
    "squared_1 = list(map(lambda x: x ** 2, nums_1))\n",
    "print(\"Cell 1 - map\")\n",
    "print(\"Input:\", nums_1)\n",
    "print(\"Squared:\", squared_1)"
   ]
  },
  {
   "cell_type": "code",
   "execution_count": null,
   "id": "bd03c9f8-8e7d-4670-8a63-a678c9cab1d9",
   "metadata": {},
   "outputs": [],
   "source": [
    "nums_1 = list(range(2))\n",
    "squared_1 = list(map(lambda x: x ** 2, nums_1))\n",
    "print(\"Cell 1 - map\")\n",
    "print(\"Input:\", nums_1)\n",
    "print(\"Squared:\", squared_1)"
   ]
  },
  {
   "cell_type": "code",
   "execution_count": null,
   "id": "15d1640e-9c91-404a-a886-0f974e39059d",
   "metadata": {},
   "outputs": [],
   "source": [
    "nums_1 = list(range(2))\n",
    "squared_1 = list(map(lambda x: x ** 2, nums_1))\n",
    "print(\"Cell 1 - map\")\n",
    "print(\"Input:\", nums_1)\n",
    "print(\"Squared:\", squared_1)"
   ]
  },
  {
   "cell_type": "code",
   "execution_count": null,
   "id": "483a2de9-35c5-4b48-b977-a159c061631f",
   "metadata": {},
   "outputs": [],
   "source": [
    "nums_1 = list(range(2))\n",
    "squared_1 = list(map(lambda x: x ** 2, nums_1))\n",
    "print(\"Cell 1 - map\")\n",
    "print(\"Input:\", nums_1)\n",
    "print(\"Squared:\", squared_1)"
   ]
  },
  {
   "cell_type": "code",
   "execution_count": null,
   "id": "6e4fdf3b-73c9-4de6-9712-1c686e035ede",
   "metadata": {},
   "outputs": [],
   "source": [
    "nums_1 = list(range(2))\n",
    "squared_1 = list(map(lambda x: x ** 2, nums_1))\n",
    "print(\"Cell 1 - map\")\n",
    "print(\"Input:\", nums_1)\n",
    "print(\"Squared:\", squared_1)"
   ]
  },
  {
   "cell_type": "code",
   "execution_count": null,
   "id": "c2e42379-40e5-4cc1-9739-d4404c9dfdb9",
   "metadata": {},
   "outputs": [],
   "source": [
    "nums_1 = list(range(2))\n",
    "squared_1 = list(map(lambda x: x ** 2, nums_1))\n",
    "print(\"Cell 1 - map\")\n",
    "print(\"Input:\", nums_1)\n",
    "print(\"Squared:\", squared_1)"
   ]
  },
  {
   "cell_type": "code",
   "execution_count": null,
   "id": "e4600e24-dbd4-4cc5-88aa-a507d09b2e4d",
   "metadata": {},
   "outputs": [],
   "source": [
    "nums_1 = list(range(2))\n",
    "squared_1 = list(map(lambda x: x ** 2, nums_1))\n",
    "print(\"Cell 1 - map\")\n",
    "print(\"Input:\", nums_1)\n",
    "print(\"Squared:\", squared_1)"
   ]
  },
  {
   "cell_type": "code",
   "execution_count": null,
   "id": "13846780-d477-43de-ae3c-c8ae9362a817",
   "metadata": {},
   "outputs": [],
   "source": [
    "nums_1 = list(range(2))\n",
    "squared_1 = list(map(lambda x: x ** 2, nums_1))\n",
    "print(\"Cell 1 - map\")\n",
    "print(\"Input:\", nums_1)\n",
    "print(\"Squared:\", squared_1)"
   ]
  },
  {
   "cell_type": "code",
   "execution_count": null,
   "id": "0779bf55-b3c9-426f-8bfb-b1b293150ab7",
   "metadata": {},
   "outputs": [],
   "source": [
    "nums_1 = list(range(2))\n",
    "squared_1 = list(map(lambda x: x ** 2, nums_1))\n",
    "print(\"Cell 1 - map\")\n",
    "print(\"Input:\", nums_1)\n",
    "print(\"Squared:\", squared_1)"
   ]
  },
  {
   "cell_type": "code",
   "execution_count": null,
   "id": "ff060aae-b237-4bfc-bbb3-4a9bff8b28e1",
   "metadata": {},
   "outputs": [],
   "source": [
    "nums_1 = list(range(2))\n",
    "squared_1 = list(map(lambda x: x ** 2, nums_1))\n",
    "print(\"Cell 1 - map\")\n",
    "print(\"Input:\", nums_1)\n",
    "print(\"Squared:\", squared_1)"
   ]
  },
  {
   "cell_type": "code",
   "execution_count": null,
   "id": "bf7365d5-3118-4f1d-b58f-4d912720d95a",
   "metadata": {},
   "outputs": [],
   "source": [
    "nums_1 = list(range(2))\n",
    "squared_1 = list(map(lambda x: x ** 2, nums_1))\n",
    "print(\"Cell 1 - map\")\n",
    "print(\"Input:\", nums_1)\n",
    "print(\"Squared:\", squared_1)"
   ]
  },
  {
   "cell_type": "code",
   "execution_count": null,
   "id": "be138725-859b-4fc1-9d82-399ca489bc52",
   "metadata": {},
   "outputs": [],
   "source": [
    "nums_1 = list(range(2))\n",
    "squared_1 = list(map(lambda x: x ** 2, nums_1))\n",
    "print(\"Cell 1 - map\")\n",
    "print(\"Input:\", nums_1)\n",
    "print(\"Squared:\", squared_1)"
   ]
  },
  {
   "cell_type": "code",
   "execution_count": null,
   "id": "1a0cb8b7-3d1a-4c3b-b986-f7a2d909cd2a",
   "metadata": {},
   "outputs": [],
   "source": [
    "nums_1 = list(range(2))\n",
    "squared_1 = list(map(lambda x: x ** 2, nums_1))\n",
    "print(\"Cell 1 - map\")\n",
    "print(\"Input:\", nums_1)\n",
    "print(\"Squared:\", squared_1)"
   ]
  },
  {
   "cell_type": "code",
   "execution_count": null,
   "id": "7496dfbc-4866-410f-b5f3-f407cb147218",
   "metadata": {},
   "outputs": [],
   "source": [
    "nums_1 = list(range(2))\n",
    "squared_1 = list(map(lambda x: x ** 2, nums_1))\n",
    "print(\"Cell 1 - map\")\n",
    "print(\"Input:\", nums_1)\n",
    "print(\"Squared:\", squared_1)"
   ]
  },
  {
   "cell_type": "code",
   "execution_count": null,
   "id": "7c755a79-8d73-4272-873a-8c856a638d25",
   "metadata": {},
   "outputs": [],
   "source": [
    "nums_1 = list(range(2))\n",
    "squared_1 = list(map(lambda x: x ** 2, nums_1))\n",
    "print(\"Cell 1 - map\")\n",
    "print(\"Input:\", nums_1)\n",
    "print(\"Squared:\", squared_1)"
   ]
  },
  {
   "cell_type": "code",
   "execution_count": null,
   "id": "93a7502d-6588-47b7-9fdf-6c92c65ebfff",
   "metadata": {},
   "outputs": [],
   "source": [
    "nums_1 = list(range(2))\n",
    "squared_1 = list(map(lambda x: x ** 2, nums_1))\n",
    "print(\"Cell 1 - map\")\n",
    "print(\"Input:\", nums_1)\n",
    "print(\"Squared:\", squared_1)"
   ]
  },
  {
   "cell_type": "code",
   "execution_count": null,
   "id": "58225276-de43-4820-b7dd-4386a5372d28",
   "metadata": {},
   "outputs": [],
   "source": [
    "nums_1 = list(range(2))\n",
    "squared_1 = list(map(lambda x: x ** 2, nums_1))\n",
    "print(\"Cell 1 - map\")\n",
    "print(\"Input:\", nums_1)\n",
    "print(\"Squared:\", squared_1)"
   ]
  },
  {
   "cell_type": "code",
   "execution_count": null,
   "id": "98b21748-31a5-44e1-92bb-dd8efdb846e4",
   "metadata": {},
   "outputs": [],
   "source": [
    "nums_1 = list(range(2))\n",
    "squared_1 = list(map(lambda x: x ** 2, nums_1))\n",
    "print(\"Cell 1 - map\")\n",
    "print(\"Input:\", nums_1)\n",
    "print(\"Squared:\", squared_1)"
   ]
  },
  {
   "cell_type": "code",
   "execution_count": null,
   "id": "2273ff72-4367-4c60-a129-188c9c5a9e58",
   "metadata": {},
   "outputs": [],
   "source": [
    "nums_1 = list(range(2))\n",
    "squared_1 = list(map(lambda x: x ** 2, nums_1))\n",
    "print(\"Cell 1 - map\")\n",
    "print(\"Input:\", nums_1)\n",
    "print(\"Squared:\", squared_1)"
   ]
  },
  {
   "cell_type": "code",
   "execution_count": null,
   "id": "242fafc1-ec98-4cf1-88ab-a24760140790",
   "metadata": {},
   "outputs": [],
   "source": [
    "nums_1 = list(range(2))\n",
    "squared_1 = list(map(lambda x: x ** 2, nums_1))\n",
    "print(\"Cell 1 - map\")\n",
    "print(\"Input:\", nums_1)\n",
    "print(\"Squared:\", squared_1)"
   ]
  },
  {
   "cell_type": "code",
   "execution_count": null,
   "id": "198ba1b4-411c-414c-9662-ccb903a44999",
   "metadata": {},
   "outputs": [],
   "source": [
    "nums_1 = list(range(2))\n",
    "squared_1 = list(map(lambda x: x ** 2, nums_1))\n",
    "print(\"Cell 1 - map\")\n",
    "print(\"Input:\", nums_1)\n",
    "print(\"Squared:\", squared_1)"
   ]
  },
  {
   "cell_type": "code",
   "execution_count": null,
   "id": "f659c6dc-0ed5-493f-bd72-43af03e364ea",
   "metadata": {},
   "outputs": [],
   "source": [
    "nums_1 = list(range(2))\n",
    "squared_1 = list(map(lambda x: x ** 2, nums_1))\n",
    "print(\"Cell 1 - map\")\n",
    "print(\"Input:\", nums_1)\n",
    "print(\"Squared:\", squared_1)"
   ]
  },
  {
   "cell_type": "code",
   "execution_count": null,
   "id": "db97b441-f2e6-47df-a055-de23000cc41c",
   "metadata": {},
   "outputs": [],
   "source": [
    "nums_1 = list(range(2))\n",
    "squared_1 = list(map(lambda x: x ** 2, nums_1))\n",
    "print(\"Cell 1 - map\")\n",
    "print(\"Input:\", nums_1)\n",
    "print(\"Squared:\", squared_1)"
   ]
  },
  {
   "cell_type": "code",
   "execution_count": null,
   "id": "09b56108-c8bd-436e-8f2d-58869d1e2cf0",
   "metadata": {},
   "outputs": [],
   "source": [
    "nums_1 = list(range(2))\n",
    "squared_1 = list(map(lambda x: x ** 2, nums_1))\n",
    "print(\"Cell 1 - map\")\n",
    "print(\"Input:\", nums_1)\n",
    "print(\"Squared:\", squared_1)"
   ]
  },
  {
   "cell_type": "code",
   "execution_count": null,
   "id": "fb82b226-7acb-4348-92bb-56caea0d5b6d",
   "metadata": {},
   "outputs": [],
   "source": [
    "nums_1 = list(range(2))\n",
    "squared_1 = list(map(lambda x: x ** 2, nums_1))\n",
    "print(\"Cell 1 - map\")\n",
    "print(\"Input:\", nums_1)\n",
    "print(\"Squared:\", squared_1)"
   ]
  },
  {
   "cell_type": "code",
   "execution_count": null,
   "id": "bba95d28-ef21-471e-ab66-03a356b16454",
   "metadata": {},
   "outputs": [],
   "source": [
    "nums_1 = list(range(2))\n",
    "squared_1 = list(map(lambda x: x ** 2, nums_1))\n",
    "print(\"Cell 1 - map\")\n",
    "print(\"Input:\", nums_1)\n",
    "print(\"Squared:\", squared_1)"
   ]
  },
  {
   "cell_type": "code",
   "execution_count": null,
   "id": "ff1cd11e-2236-4d59-849e-d99958dcac7a",
   "metadata": {},
   "outputs": [],
   "source": [
    "nums_1 = list(range(2))\n",
    "squared_1 = list(map(lambda x: x ** 2, nums_1))\n",
    "print(\"Cell 1 - map\")\n",
    "print(\"Input:\", nums_1)\n",
    "print(\"Squared:\", squared_1)"
   ]
  },
  {
   "cell_type": "code",
   "execution_count": null,
   "id": "538b4bfc-ab23-443a-918b-de180bd68859",
   "metadata": {},
   "outputs": [],
   "source": [
    "nums_1 = list(range(2))\n",
    "squared_1 = list(map(lambda x: x ** 2, nums_1))\n",
    "print(\"Cell 1 - map\")\n",
    "print(\"Input:\", nums_1)\n",
    "print(\"Squared:\", squared_1)"
   ]
  },
  {
   "cell_type": "code",
   "execution_count": null,
   "id": "45180cd5-64ec-4b2e-858b-39c1b4cec88a",
   "metadata": {},
   "outputs": [],
   "source": [
    "nums_1 = list(range(2))\n",
    "squared_1 = list(map(lambda x: x ** 2, nums_1))\n",
    "print(\"Cell 1 - map\")\n",
    "print(\"Input:\", nums_1)\n",
    "print(\"Squared:\", squared_1)"
   ]
  },
  {
   "cell_type": "code",
   "execution_count": null,
   "id": "44790c8f-b288-4742-b118-534c99302fe9",
   "metadata": {},
   "outputs": [],
   "source": [
    "nums_1 = list(range(2))\n",
    "squared_1 = list(map(lambda x: x ** 2, nums_1))\n",
    "print(\"Cell 1 - map\")\n",
    "print(\"Input:\", nums_1)\n",
    "print(\"Squared:\", squared_1)"
   ]
  },
  {
   "cell_type": "code",
   "execution_count": null,
   "id": "3b0aa8e3-f876-44c6-8ee3-26930d9164e9",
   "metadata": {},
   "outputs": [],
   "source": [
    "nums_1 = list(range(2))\n",
    "squared_1 = list(map(lambda x: x ** 2, nums_1))\n",
    "print(\"Cell 1 - map\")\n",
    "print(\"Input:\", nums_1)\n",
    "print(\"Squared:\", squared_1)"
   ]
  },
  {
   "cell_type": "code",
   "execution_count": null,
   "id": "08a737f1-4f38-4ffb-bf77-6fbd86c0e15f",
   "metadata": {},
   "outputs": [],
   "source": [
    "nums_1 = list(range(2))\n",
    "squared_1 = list(map(lambda x: x ** 2, nums_1))\n",
    "print(\"Cell 1 - map\")\n",
    "print(\"Input:\", nums_1)\n",
    "print(\"Squared:\", squared_1)"
   ]
  },
  {
   "cell_type": "code",
   "execution_count": null,
   "id": "8e58e9a9-059a-48db-a61a-ddfcbc470c8d",
   "metadata": {},
   "outputs": [],
   "source": [
    "nums_1 = list(range(2))\n",
    "squared_1 = list(map(lambda x: x ** 2, nums_1))\n",
    "print(\"Cell 1 - map\")\n",
    "print(\"Input:\", nums_1)\n",
    "print(\"Squared:\", squared_1)"
   ]
  },
  {
   "cell_type": "code",
   "execution_count": null,
   "id": "28436eb4-badb-4ad5-a0f3-5e5eee9c57ba",
   "metadata": {},
   "outputs": [],
   "source": [
    "nums_1 = list(range(2))\n",
    "squared_1 = list(map(lambda x: x ** 2, nums_1))\n",
    "print(\"Cell 1 - map\")\n",
    "print(\"Input:\", nums_1)\n",
    "print(\"Squared:\", squared_1)"
   ]
  },
  {
   "cell_type": "code",
   "execution_count": null,
   "id": "3586d131-d32a-404b-a36f-a2a4e7a72125",
   "metadata": {},
   "outputs": [],
   "source": [
    "nums_1 = list(range(2))\n",
    "squared_1 = list(map(lambda x: x ** 2, nums_1))\n",
    "print(\"Cell 1 - map\")\n",
    "print(\"Input:\", nums_1)\n",
    "print(\"Squared:\", squared_1)"
   ]
  },
  {
   "cell_type": "code",
   "execution_count": null,
   "id": "2915efe0-8793-4e2d-8330-ff4b4afe3950",
   "metadata": {},
   "outputs": [],
   "source": [
    "nums_1 = list(range(2))\n",
    "squared_1 = list(map(lambda x: x ** 2, nums_1))\n",
    "print(\"Cell 1 - map\")\n",
    "print(\"Input:\", nums_1)\n",
    "print(\"Squared:\", squared_1)"
   ]
  },
  {
   "cell_type": "code",
   "execution_count": null,
   "id": "db198444-4d3c-4106-ae13-f2f51f093635",
   "metadata": {},
   "outputs": [],
   "source": [
    "nums_1 = list(range(2))\n",
    "squared_1 = list(map(lambda x: x ** 2, nums_1))\n",
    "print(\"Cell 1 - map\")\n",
    "print(\"Input:\", nums_1)\n",
    "print(\"Squared:\", squared_1)"
   ]
  },
  {
   "cell_type": "code",
   "execution_count": null,
   "id": "b52f5175-72cc-4604-b774-5089d329bba9",
   "metadata": {},
   "outputs": [],
   "source": [
    "nums_1 = list(range(2))\n",
    "squared_1 = list(map(lambda x: x ** 2, nums_1))\n",
    "print(\"Cell 1 - map\")\n",
    "print(\"Input:\", nums_1)\n",
    "print(\"Squared:\", squared_1)"
   ]
  },
  {
   "cell_type": "code",
   "execution_count": null,
   "id": "9de02503-11a2-4418-873d-2420d8fb483f",
   "metadata": {},
   "outputs": [],
   "source": [
    "nums_1 = list(range(2))\n",
    "squared_1 = list(map(lambda x: x ** 2, nums_1))\n",
    "print(\"Cell 1 - map\")\n",
    "print(\"Input:\", nums_1)\n",
    "print(\"Squared:\", squared_1)"
   ]
  },
  {
   "cell_type": "code",
   "execution_count": null,
   "id": "86276247-280e-4f56-9fa0-6199773ff72f",
   "metadata": {},
   "outputs": [],
   "source": [
    "nums_1 = list(range(2))\n",
    "squared_1 = list(map(lambda x: x ** 2, nums_1))\n",
    "print(\"Cell 1 - map\")\n",
    "print(\"Input:\", nums_1)\n",
    "print(\"Squared:\", squared_1)"
   ]
  },
  {
   "cell_type": "code",
   "execution_count": null,
   "id": "04c1d5cd-938c-43a8-94d3-c8291b55ad8a",
   "metadata": {},
   "outputs": [],
   "source": [
    "nums_1 = list(range(2))\n",
    "squared_1 = list(map(lambda x: x ** 2, nums_1))\n",
    "print(\"Cell 1 - map\")\n",
    "print(\"Input:\", nums_1)\n",
    "print(\"Squared:\", squared_1)"
   ]
  },
  {
   "cell_type": "code",
   "execution_count": null,
   "id": "bd4a3141-a6f6-4164-a07c-49b1a11cfab8",
   "metadata": {},
   "outputs": [],
   "source": [
    "nums_1 = list(range(2))\n",
    "squared_1 = list(map(lambda x: x ** 2, nums_1))\n",
    "print(\"Cell 1 - map\")\n",
    "print(\"Input:\", nums_1)\n",
    "print(\"Squared:\", squared_1)"
   ]
  },
  {
   "cell_type": "code",
   "execution_count": null,
   "id": "25de5bc2-3d07-479a-b2c4-6a8524c16ef0",
   "metadata": {},
   "outputs": [],
   "source": [
    "nums_1 = list(range(2))\n",
    "squared_1 = list(map(lambda x: x ** 2, nums_1))\n",
    "print(\"Cell 1 - map\")\n",
    "print(\"Input:\", nums_1)\n",
    "print(\"Squared:\", squared_1)"
   ]
  },
  {
   "cell_type": "code",
   "execution_count": null,
   "id": "8c6131dd-2d98-4261-8643-b54f774fcc86",
   "metadata": {},
   "outputs": [],
   "source": [
    "nums_1 = list(range(2))\n",
    "squared_1 = list(map(lambda x: x ** 2, nums_1))\n",
    "print(\"Cell 1 - map\")\n",
    "print(\"Input:\", nums_1)\n",
    "print(\"Squared:\", squared_1)"
   ]
  },
  {
   "cell_type": "code",
   "execution_count": null,
   "id": "4c905e07-2bd7-48ed-892f-50f3e3e33026",
   "metadata": {},
   "outputs": [],
   "source": [
    "nums_1 = list(range(2))\n",
    "squared_1 = list(map(lambda x: x ** 2, nums_1))\n",
    "print(\"Cell 1 - map\")\n",
    "print(\"Input:\", nums_1)\n",
    "print(\"Squared:\", squared_1)"
   ]
  },
  {
   "cell_type": "code",
   "execution_count": null,
   "id": "2bdcadd9-0287-4959-a11a-899e55ddaa07",
   "metadata": {},
   "outputs": [],
   "source": [
    "nums_1 = list(range(2))\n",
    "squared_1 = list(map(lambda x: x ** 2, nums_1))\n",
    "print(\"Cell 1 - map\")\n",
    "print(\"Input:\", nums_1)\n",
    "print(\"Squared:\", squared_1)"
   ]
  },
  {
   "cell_type": "code",
   "execution_count": null,
   "id": "3846e897-e317-4368-b2f2-638e99b1a64f",
   "metadata": {},
   "outputs": [],
   "source": [
    "nums_1 = list(range(2))\n",
    "squared_1 = list(map(lambda x: x ** 2, nums_1))\n",
    "print(\"Cell 1 - map\")\n",
    "print(\"Input:\", nums_1)\n",
    "print(\"Squared:\", squared_1)"
   ]
  },
  {
   "cell_type": "code",
   "execution_count": null,
   "id": "0e05e4dd-7701-4f1d-b562-bbdd2742a8c0",
   "metadata": {},
   "outputs": [],
   "source": [
    "nums_1 = list(range(2))\n",
    "squared_1 = list(map(lambda x: x ** 2, nums_1))\n",
    "print(\"Cell 1 - map\")\n",
    "print(\"Input:\", nums_1)\n",
    "print(\"Squared:\", squared_1)"
   ]
  },
  {
   "cell_type": "code",
   "execution_count": null,
   "id": "41321635-2f4e-48db-88b5-db2103f1b559",
   "metadata": {},
   "outputs": [],
   "source": [
    "nums_1 = list(range(2))\n",
    "squared_1 = list(map(lambda x: x ** 2, nums_1))\n",
    "print(\"Cell 1 - map\")\n",
    "print(\"Input:\", nums_1)\n",
    "print(\"Squared:\", squared_1)"
   ]
  },
  {
   "cell_type": "code",
   "execution_count": null,
   "id": "517b1dde-c6a0-4b12-a44b-2bf9d75f7835",
   "metadata": {},
   "outputs": [],
   "source": [
    "nums_1 = list(range(2))\n",
    "squared_1 = list(map(lambda x: x ** 2, nums_1))\n",
    "print(\"Cell 1 - map\")\n",
    "print(\"Input:\", nums_1)\n",
    "print(\"Squared:\", squared_1)"
   ]
  },
  {
   "cell_type": "code",
   "execution_count": null,
   "id": "3caf25dc-a906-4115-bb44-334e98fe4542",
   "metadata": {},
   "outputs": [],
   "source": [
    "nums_1 = list(range(2))\n",
    "squared_1 = list(map(lambda x: x ** 2, nums_1))\n",
    "print(\"Cell 1 - map\")\n",
    "print(\"Input:\", nums_1)\n",
    "print(\"Squared:\", squared_1)"
   ]
  },
  {
   "cell_type": "code",
   "execution_count": null,
   "id": "80e6cfea-4f35-46f7-aecc-98df4e07fd97",
   "metadata": {},
   "outputs": [],
   "source": [
    "nums_1 = list(range(2))\n",
    "squared_1 = list(map(lambda x: x ** 2, nums_1))\n",
    "print(\"Cell 1 - map\")\n",
    "print(\"Input:\", nums_1)\n",
    "print(\"Squared:\", squared_1)"
   ]
  },
  {
   "cell_type": "code",
   "execution_count": null,
   "id": "fb389af5-04fa-4711-a9fb-fdbbb35c770c",
   "metadata": {},
   "outputs": [],
   "source": [
    "nums_1 = list(range(2))\n",
    "squared_1 = list(map(lambda x: x ** 2, nums_1))\n",
    "print(\"Cell 1 - map\")\n",
    "print(\"Input:\", nums_1)\n",
    "print(\"Squared:\", squared_1)"
   ]
  },
  {
   "cell_type": "code",
   "execution_count": null,
   "id": "328cbbcb-4874-4b5c-9fd3-2285cca6a343",
   "metadata": {},
   "outputs": [],
   "source": [
    "nums_1 = list(range(2))\n",
    "squared_1 = list(map(lambda x: x ** 2, nums_1))\n",
    "print(\"Cell 1 - map\")\n",
    "print(\"Input:\", nums_1)\n",
    "print(\"Squared:\", squared_1)"
   ]
  },
  {
   "cell_type": "code",
   "execution_count": null,
   "id": "61323a87-7d63-463c-aee3-494dd70d4fe8",
   "metadata": {},
   "outputs": [],
   "source": [
    "nums_1 = list(range(2))\n",
    "squared_1 = list(map(lambda x: x ** 2, nums_1))\n",
    "print(\"Cell 1 - map\")\n",
    "print(\"Input:\", nums_1)\n",
    "print(\"Squared:\", squared_1)"
   ]
  },
  {
   "cell_type": "code",
   "execution_count": null,
   "id": "d6079d2b-70e9-4dd9-8772-cd66bb412a55",
   "metadata": {},
   "outputs": [],
   "source": [
    "nums_1 = list(range(2))\n",
    "squared_1 = list(map(lambda x: x ** 2, nums_1))\n",
    "print(\"Cell 1 - map\")\n",
    "print(\"Input:\", nums_1)\n",
    "print(\"Squared:\", squared_1)"
   ]
  },
  {
   "cell_type": "code",
   "execution_count": null,
   "id": "f6f68237-dfc9-48e0-addc-8e22b79b3253",
   "metadata": {},
   "outputs": [],
   "source": [
    "nums_1 = list(range(2))\n",
    "squared_1 = list(map(lambda x: x ** 2, nums_1))\n",
    "print(\"Cell 1 - map\")\n",
    "print(\"Input:\", nums_1)\n",
    "print(\"Squared:\", squared_1)"
   ]
  },
  {
   "cell_type": "code",
   "execution_count": null,
   "id": "01a4c483-12df-4cfe-a309-51993ae326a5",
   "metadata": {},
   "outputs": [],
   "source": [
    "nums_1 = list(range(2))\n",
    "squared_1 = list(map(lambda x: x ** 2, nums_1))\n",
    "print(\"Cell 1 - map\")\n",
    "print(\"Input:\", nums_1)\n",
    "print(\"Squared:\", squared_1)"
   ]
  },
  {
   "cell_type": "code",
   "execution_count": null,
   "id": "986f0bed-fc7e-4688-b6e3-1a11d5a22bef",
   "metadata": {},
   "outputs": [],
   "source": [
    "nums_1 = list(range(2))\n",
    "squared_1 = list(map(lambda x: x ** 2, nums_1))\n",
    "print(\"Cell 1 - map\")\n",
    "print(\"Input:\", nums_1)\n",
    "print(\"Squared:\", squared_1)"
   ]
  },
  {
   "cell_type": "code",
   "execution_count": null,
   "id": "1ef28dfc-672d-49e1-b189-286a8a919299",
   "metadata": {},
   "outputs": [],
   "source": [
    "nums_1 = list(range(2))\n",
    "squared_1 = list(map(lambda x: x ** 2, nums_1))\n",
    "print(\"Cell 1 - map\")\n",
    "print(\"Input:\", nums_1)\n",
    "print(\"Squared:\", squared_1)"
   ]
  },
  {
   "cell_type": "code",
   "execution_count": null,
   "id": "edd28830-034a-472d-8276-900ef028e8c4",
   "metadata": {},
   "outputs": [],
   "source": [
    "nums_1 = list(range(2))\n",
    "squared_1 = list(map(lambda x: x ** 2, nums_1))\n",
    "print(\"Cell 1 - map\")\n",
    "print(\"Input:\", nums_1)\n",
    "print(\"Squared:\", squared_1)"
   ]
  },
  {
   "cell_type": "code",
   "execution_count": null,
   "id": "0966eba9-a731-48f3-b59c-f855038d389d",
   "metadata": {},
   "outputs": [],
   "source": [
    "nums_1 = list(range(2))\n",
    "squared_1 = list(map(lambda x: x ** 2, nums_1))\n",
    "print(\"Cell 1 - map\")\n",
    "print(\"Input:\", nums_1)\n",
    "print(\"Squared:\", squared_1)"
   ]
  },
  {
   "cell_type": "code",
   "execution_count": null,
   "id": "61ba70f7-38ea-4594-9e2c-6f9a638ddad5",
   "metadata": {},
   "outputs": [],
   "source": [
    "nums_1 = list(range(2))\n",
    "squared_1 = list(map(lambda x: x ** 2, nums_1))\n",
    "print(\"Cell 1 - map\")\n",
    "print(\"Input:\", nums_1)\n",
    "print(\"Squared:\", squared_1)"
   ]
  },
  {
   "cell_type": "code",
   "execution_count": null,
   "id": "f7b7ff1f-087a-4fb2-a5e7-449e610468eb",
   "metadata": {},
   "outputs": [],
   "source": [
    "nums_1 = list(range(2))\n",
    "squared_1 = list(map(lambda x: x ** 2, nums_1))\n",
    "print(\"Cell 1 - map\")\n",
    "print(\"Input:\", nums_1)\n",
    "print(\"Squared:\", squared_1)"
   ]
  },
  {
   "cell_type": "code",
   "execution_count": null,
   "id": "71da8f85-a9d2-4b91-8255-088d0891dfa8",
   "metadata": {},
   "outputs": [],
   "source": [
    "nums_1 = list(range(2))\n",
    "squared_1 = list(map(lambda x: x ** 2, nums_1))\n",
    "print(\"Cell 1 - map\")\n",
    "print(\"Input:\", nums_1)\n",
    "print(\"Squared:\", squared_1)"
   ]
  },
  {
   "cell_type": "code",
   "execution_count": null,
   "id": "a7141fc9-9a0c-4c4a-abc2-27256f69ff47",
   "metadata": {},
   "outputs": [],
   "source": [
    "nums_1 = list(range(2))\n",
    "squared_1 = list(map(lambda x: x ** 2, nums_1))\n",
    "print(\"Cell 1 - map\")\n",
    "print(\"Input:\", nums_1)\n",
    "print(\"Squared:\", squared_1)"
   ]
  },
  {
   "cell_type": "code",
   "execution_count": null,
   "id": "b775f797-f204-4eb3-a4f9-742d47f2a2f5",
   "metadata": {},
   "outputs": [],
   "source": [
    "nums_1 = list(range(2))\n",
    "squared_1 = list(map(lambda x: x ** 2, nums_1))\n",
    "print(\"Cell 1 - map\")\n",
    "print(\"Input:\", nums_1)\n",
    "print(\"Squared:\", squared_1)"
   ]
  },
  {
   "cell_type": "code",
   "execution_count": null,
   "id": "d780f5b4-2192-4264-be70-5348e39affc5",
   "metadata": {},
   "outputs": [],
   "source": [
    "nums_1 = list(range(2))\n",
    "squared_1 = list(map(lambda x: x ** 2, nums_1))\n",
    "print(\"Cell 1 - map\")\n",
    "print(\"Input:\", nums_1)\n",
    "print(\"Squared:\", squared_1)"
   ]
  },
  {
   "cell_type": "code",
   "execution_count": null,
   "id": "49c18e7f-371a-4912-9afe-607f7f3a4696",
   "metadata": {},
   "outputs": [],
   "source": [
    "nums_1 = list(range(2))\n",
    "squared_1 = list(map(lambda x: x ** 2, nums_1))\n",
    "print(\"Cell 1 - map\")\n",
    "print(\"Input:\", nums_1)\n",
    "print(\"Squared:\", squared_1)"
   ]
  },
  {
   "cell_type": "code",
   "execution_count": null,
   "id": "51514bcf-35a8-4339-abf7-6e416f8ee223",
   "metadata": {},
   "outputs": [],
   "source": [
    "nums_1 = list(range(2))\n",
    "squared_1 = list(map(lambda x: x ** 2, nums_1))\n",
    "print(\"Cell 1 - map\")\n",
    "print(\"Input:\", nums_1)\n",
    "print(\"Squared:\", squared_1)"
   ]
  },
  {
   "cell_type": "code",
   "execution_count": null,
   "id": "42615bdc-cc1a-47e9-8c20-c6c590227bef",
   "metadata": {},
   "outputs": [],
   "source": [
    "nums_1 = list(range(2))\n",
    "squared_1 = list(map(lambda x: x ** 2, nums_1))\n",
    "print(\"Cell 1 - map\")\n",
    "print(\"Input:\", nums_1)\n",
    "print(\"Squared:\", squared_1)"
   ]
  },
  {
   "cell_type": "code",
   "execution_count": null,
   "id": "131e01a2-ac0b-43ab-92df-1746271f3376",
   "metadata": {},
   "outputs": [],
   "source": [
    "nums_1 = list(range(2))\n",
    "squared_1 = list(map(lambda x: x ** 2, nums_1))\n",
    "print(\"Cell 1 - map\")\n",
    "print(\"Input:\", nums_1)\n",
    "print(\"Squared:\", squared_1)"
   ]
  },
  {
   "cell_type": "code",
   "execution_count": null,
   "id": "4745f047-1190-4cf4-90e9-82d561e8e48d",
   "metadata": {},
   "outputs": [],
   "source": [
    "nums_1 = list(range(2))\n",
    "squared_1 = list(map(lambda x: x ** 2, nums_1))\n",
    "print(\"Cell 1 - map\")\n",
    "print(\"Input:\", nums_1)\n",
    "print(\"Squared:\", squared_1)"
   ]
  }
 ],
 "metadata": {
  "kernelspec": {
   "display_name": "Python 3 (ipykernel)",
   "language": "python",
   "name": "python3"
  },
  "language_info": {
   "codemirror_mode": {
    "name": "ipython",
    "version": 3
   },
   "file_extension": ".py",
   "mimetype": "text/x-python",
   "name": "python",
   "nbconvert_exporter": "python",
   "pygments_lexer": "ipython3",
   "version": "3.11.13"
  }
 },
 "nbformat": 4,
 "nbformat_minor": 5
}
