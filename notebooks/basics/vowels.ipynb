{
 "cells": [
  {
   "cell_type": "code",
   "execution_count": null,
   "id": "73b6e05e-81b8-4ed3-aeb3-1e7d3ef1af72",
   "metadata": {},
   "outputs": [],
   "source": [
    "# created :20250629"
   ]
  },
  {
   "cell_type": "code",
   "execution_count": null,
   "id": "35675169-e06e-4c65-bd50-85444547763e",
   "metadata": {},
   "outputs": [],
   "source": [
    "https://share.google/camtfs4z8aiYAJNSz"
   ]
  },
  {
   "cell_type": "code",
   "execution_count": null,
   "id": "acb245a0-fb8b-4b69-8c9b-6d8ac59aaa30",
   "metadata": {},
   "outputs": [],
   "source": [
    "vowels = 'aeiou'\n",
    "ip_str = 'Hello, have you tried our tutorial section yet?'\n",
    "ip_str = ip_str.casefold()\n",
    "count = {}.fromkeys(vowels,0)\n",
    "for char in ip_str:\n",
    "   if char in count:\n",
    "       count[char] += 1\n",
    "print(count)"
   ]
  }
 ],
 "metadata": {
  "kernelspec": {
   "display_name": "Python 3 (ipykernel)",
   "language": "python",
   "name": "python3"
  },
  "language_info": {
   "codemirror_mode": {
    "name": "ipython",
    "version": 3
   },
   "file_extension": ".py",
   "mimetype": "text/x-python",
   "name": "python",
   "nbconvert_exporter": "python",
   "pygments_lexer": "ipython3",
   "version": "3.11.13"
  }
 },
 "nbformat": 4,
 "nbformat_minor": 5
}
