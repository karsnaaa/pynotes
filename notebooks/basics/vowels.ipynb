{
 "cells": [
  {
   "cell_type": "code",
   "execution_count": null,
   "id": "73b6e05e-81b8-4ed3-aeb3-1e7d3ef1af72",
   "metadata": {},
   "outputs": [],
   "source": [
    "# created :20250629"
   ]
  },
  {
   "cell_type": "code",
   "execution_count": null,
   "id": "35675169-e06e-4c65-bd50-85444547763e",
   "metadata": {},
   "outputs": [],
   "source": [
    "https://share.google/camtfs4z8aiYAJNSz"
   ]
  },
  {
   "cell_type": "code",
   "execution_count": null,
   "id": "acb245a0-fb8b-4b69-8c9b-6d8ac59aaa30",
   "metadata": {},
   "outputs": [],
   "source": [
    "vowels = 'aeiou'"
   ]
  },
  {
   "cell_type": "code",
   "execution_count": null,
   "id": "055529ec-45fa-4982-a97d-1d2390f70a2f",
   "metadata": {},
   "outputs": [],
   "source": [
    "ip_str = 'Hello, have you tried our tutorial section yet?'"
   ]
  },
  {
   "cell_type": "code",
   "execution_count": null,
   "id": "0341e662-2c8d-4ec9-b46c-31f96ce66c54",
   "metadata": {},
   "outputs": [],
   "source": [
    "ip_str = ip_str.casefold()"
   ]
  },
  {
   "cell_type": "code",
   "execution_count": null,
   "id": "a230a9e8-fa9b-43d8-8d71-293aa3e329d9",
   "metadata": {},
   "outputs": [],
   "source": [
    "count = {}.fromkeys(vowels,0)"
   ]
  },
  {
   "cell_type": "code",
   "execution_count": null,
   "id": "d17d9e43-be5c-4608-8930-335178e10d9d",
   "metadata": {},
   "outputs": [],
   "source": [
    "for char in ip_str:\n",
    "   if char in count:\n",
    "       count[char] += 1"
   ]
  },
  {
   "cell_type": "code",
   "execution_count": null,
   "id": "8cd8ccee-1361-4f0d-b798-807bf3d7ad3b",
   "metadata": {},
   "outputs": [],
   "source": [
    "print(count)"
   ]
  }
 ],
 "metadata": {
  "kernelspec": {
   "display_name": "Python 3 (ipykernel)",
   "language": "python",
   "name": "python3"
  },
  "language_info": {
   "codemirror_mode": {
    "name": "ipython",
    "version": 3
   },
   "file_extension": ".py",
   "mimetype": "text/x-python",
   "name": "python",
   "nbconvert_exporter": "python",
   "pygments_lexer": "ipython3",
   "version": "3.11.13"
  }
 },
 "nbformat": 4,
 "nbformat_minor": 5
}
