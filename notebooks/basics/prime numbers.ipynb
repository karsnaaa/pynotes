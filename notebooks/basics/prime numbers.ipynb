{
 "cells": [
  {
   "cell_type": "code",
   "execution_count": null,
   "id": "b738b48f-569f-4e39-a9e4-e8056e147eed",
   "metadata": {},
   "outputs": [],
   "source": [
    "# created :20250629"
   ]
  },
  {
   "cell_type": "code",
   "execution_count": null,
   "id": "91ae287d-860f-454c-8fb9-ae01c36ba5a4",
   "metadata": {},
   "outputs": [],
   "source": [
    "https://share.google/camtfs4z8aiYAJNSz"
   ]
  },
  {
   "cell_type": "code",
   "execution_count": null,
   "id": "496bcbfb-d852-4df8-9462-a71648205271",
   "metadata": {},
   "outputs": [],
   "source": [
    "num = 29\n",
    "flag = False\n",
    "   "
   ]
  },
  {
   "cell_type": "code",
   "execution_count": null,
   "id": "81f54f65-2688-4216-a046-577111fa922c",
   "metadata": {},
   "outputs": [],
   "source": [
    "if num == 0 or num == 1:\n",
    "    print(num, \"is not a prime number\")"
   ]
  },
  {
   "cell_type": "code",
   "execution_count": null,
   "id": "a0240535-41ba-48b4-8857-40c3e3252f90",
   "metadata": {},
   "outputs": [],
   "source": [
    "elif num > 1:\n",
    "    for i in range(2, num):\n",
    "        if (num % i) == 0:\n",
    "            flag = True\n",
    "            brea"
   ]
  },
  {
   "cell_type": "code",
   "execution_count": null,
   "id": "2dde33c9-8d5c-4dd0-8f1a-c82fde359bb9",
   "metadata": {},
   "outputs": [],
   "source": [
    " if flag:\n",
    "        print(num, \"is not a prime number\")"
   ]
  },
  {
   "cell_type": "code",
   "execution_count": null,
   "id": "dc21b045-aaab-4b41-bbfa-26b0a6f162b5",
   "metadata": {},
   "outputs": [],
   "source": [
    " else:\n",
    "        print(num, \"is a prime number\")"
   ]
  },
  {
   "cell_type": "code",
   "execution_count": null,
   "id": "a4130e03-5ba5-4e8e-8bc1-5b2aaba11761",
   "metadata": {},
   "outputs": [],
   "source": []
  },
  {
   "cell_type": "code",
   "execution_count": null,
   "id": "1a970338-7aa2-4a5d-a7fc-119d3e44af98",
   "metadata": {},
   "outputs": [],
   "source": []
  }
 ],
 "metadata": {
  "kernelspec": {
   "display_name": "Python 3 (ipykernel)",
   "language": "python",
   "name": "python3"
  },
  "language_info": {
   "codemirror_mode": {
    "name": "ipython",
    "version": 3
   },
   "file_extension": ".py",
   "mimetype": "text/x-python",
   "name": "python",
   "nbconvert_exporter": "python",
   "pygments_lexer": "ipython3",
   "version": "3.11.13"
  }
 },
 "nbformat": 4,
 "nbformat_minor": 5
}
