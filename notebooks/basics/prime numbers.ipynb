{
 "cells": [
  {
   "cell_type": "code",
   "execution_count": null,
   "id": "b738b48f-569f-4e39-a9e4-e8056e147eed",
   "metadata": {},
   "outputs": [],
   "source": [
    "# created :20250629"
   ]
  },
  {
   "cell_type": "code",
   "execution_count": null,
   "id": "91ae287d-860f-454c-8fb9-ae01c36ba5a4",
   "metadata": {},
   "outputs": [],
   "source": [
    "https://share.google/camtfs4z8aiYAJNSz"
   ]
  },
  {
   "cell_type": "code",
   "execution_count": null,
   "id": "496bcbfb-d852-4df8-9462-a71648205271",
   "metadata": {},
   "outputs": [],
   "source": [
    "num = 29\n",
    "flag = False\n",
    "if num == 0 or num == 1:\n",
    "    print(num, \"is not a prime number\")\n",
    "elif num > 1:\n",
    "    for i in range(2, num):\n",
    "        if (num % i) == 0:\n",
    "            flag = True\n",
    "            break\n",
    "    if flag:\n",
    "        print(num, \"is not a prime number\")\n",
    "    else:\n",
    "        print(num, \"is a prime number\")"
   ]
  }
 ],
 "metadata": {
  "kernelspec": {
   "display_name": "Python 3 (ipykernel)",
   "language": "python",
   "name": "python3"
  },
  "language_info": {
   "codemirror_mode": {
    "name": "ipython",
    "version": 3
   },
   "file_extension": ".py",
   "mimetype": "text/x-python",
   "name": "python",
   "nbconvert_exporter": "python",
   "pygments_lexer": "ipython3",
   "version": "3.11.13"
  }
 },
 "nbformat": 4,
 "nbformat_minor": 5
}
