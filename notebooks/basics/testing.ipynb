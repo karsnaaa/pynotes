{
 "cells": [
  {
   "cell_type": "code",
   "execution_count": 2,
   "id": "4be73d7c-c65f-4e5c-be88-a77e43be16c5",
   "metadata": {},
   "outputs": [
    {
     "name": "stdin",
     "output_type": "stream",
     "text": [
      "Enter the temperature in Celsius:  42\n"
     ]
    },
    {
     "name": "stdout",
     "output_type": "stream",
     "text": [
      "The temperature is classified as: Hot\n"
     ]
    }
   ],
   "source": [
    "def classify_temperature(celsius):\n",
    "    \"\"\"\n",
    "    Classify the temperature in Celsius.\n",
    "\n",
    "    Parameters:\n",
    "    celsius (float): Temperature in degrees Celsius.\n",
    "\n",
    "    Returns:\n",
    "    str: Classification of the temperature.\n",
    "    \"\"\"\n",
    "    if celsius < 10:\n",
    "        return \"Cold\"\n",
    "    elif 10 <= celsius <= 25:\n",
    "        return \"Moderate\"\n",
    "    else:\n",
    "        return \"Hot\"\n",
    "\n",
    "def main():\n",
    "    try:\n",
    "        temp_input = float(input(\"Enter the temperature in Celsius: \"))\n",
    "        classification = classify_temperature(temp_input)\n",
    "        print(f\"The temperature is classified as: {classification}\")\n",
    "    except ValueError:\n",
    "        print(\"Invalid input. Please enter a numeric value.\")\n",
    "\n",
    "if __name__ == \"__main__\":\n",
    "    main()"
   ]
  },
  {
   "cell_type": "code",
   "execution_count": null,
   "id": "915db91d-540c-4287-b78d-0f611cc92148",
   "metadata": {},
   "outputs": [],
   "source": []
  }
 ],
 "metadata": {
  "kernelspec": {
   "display_name": "Python 3 (ipykernel)",
   "language": "python",
   "name": "python3"
  },
  "language_info": {
   "codemirror_mode": {
    "name": "ipython",
    "version": 3
   },
   "file_extension": ".py",
   "mimetype": "text/x-python",
   "name": "python",
   "nbconvert_exporter": "python",
   "pygments_lexer": "ipython3",
   "version": "3.11.13"
  }
 },
 "nbformat": 4,
 "nbformat_minor": 5
}
