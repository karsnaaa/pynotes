{
 "cells": [
  {
   "cell_type": "code",
   "execution_count": null,
   "id": "1356fd94-89a5-49e6-85f0-f12a50015210",
   "metadata": {},
   "outputs": [],
   "source": [
    "# created :20250629"
   ]
  },
  {
   "cell_type": "code",
   "execution_count": null,
   "id": "73082c9f-13fd-4524-b07c-d82172aa472a",
   "metadata": {},
   "outputs": [],
   "source": [
    "# own code"
   ]
  },
  {
   "cell_type": "code",
   "execution_count": null,
   "id": "c2ae74e5-fc85-4d3b-9e52-186aaa6d6618",
   "metadata": {},
   "outputs": [],
   "source": [
    "num = int(input(\"Enter a number: \"))"
   ]
  },
  {
   "cell_type": "code",
   "execution_count": null,
   "id": "5b07348c-9fb2-4bb1-b781-9901cd019fac",
   "metadata": {},
   "outputs": [],
   "source": [
    "fact = 1"
   ]
  },
  {
   "cell_type": "code",
   "execution_count": null,
   "id": "3c4578a2-8b8c-459d-be41-912655d10643",
   "metadata": {},
   "outputs": [],
   "source": [
    "for i in range(1, num + 1):\n",
    "    fact *= i"
   ]
  },
  {
   "cell_type": "code",
   "execution_count": null,
   "id": "5eb73bcb-4780-4a6d-b1fa-3822494a22e5",
   "metadata": {},
   "outputs": [],
   "source": [
    "print(\"Factorial of\", num, \"is\", fact)"
   ]
  },
  {
   "cell_type": "code",
   "execution_count": null,
   "id": "85b47877-ed5b-4f73-b5bd-66428e87964c",
   "metadata": {},
   "outputs": [],
   "source": [
    "print(\"fact\""
   ]
  }
 ],
 "metadata": {
  "kernelspec": {
   "display_name": "Python 3 (ipykernel)",
   "language": "python",
   "name": "python3"
  },
  "language_info": {
   "codemirror_mode": {
    "name": "ipython",
    "version": 3
   },
   "file_extension": ".py",
   "mimetype": "text/x-python",
   "name": "python",
   "nbconvert_exporter": "python",
   "pygments_lexer": "ipython3",
   "version": "3.11.13"
  }
 },
 "nbformat": 4,
 "nbformat_minor": 5
}
