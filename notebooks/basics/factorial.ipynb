{
 "cells": [
  {
   "cell_type": "code",
   "execution_count": null,
   "id": "1356fd94-89a5-49e6-85f0-f12a50015210",
   "metadata": {},
   "outputs": [],
   "source": [
    "# created :20250629"
   ]
  },
  {
   "cell_type": "code",
   "execution_count": null,
   "id": "73082c9f-13fd-4524-b07c-d82172aa472a",
   "metadata": {},
   "outputs": [],
   "source": [
    "# own code"
   ]
  },
  {
   "cell_type": "code",
   "execution_count": null,
   "id": "c2ae74e5-fc85-4d3b-9e52-186aaa6d6618",
   "metadata": {},
   "outputs": [],
   "source": [
    "num = int(input(\"Enter a number: \"))\n",
    "fact = 1\n",
    "for i in range(1, num + 1):\n",
    "    fact *= i\n",
    "print(\"Factorial of\", num, \"is\", fact)"
   ]
  }
 ],
 "metadata": {
  "kernelspec": {
   "display_name": "Python 3 (ipykernel)",
   "language": "python",
   "name": "python3"
  },
  "language_info": {
   "codemirror_mode": {
    "name": "ipython",
    "version": 3
   },
   "file_extension": ".py",
   "mimetype": "text/x-python",
   "name": "python",
   "nbconvert_exporter": "python",
   "pygments_lexer": "ipython3",
   "version": "3.11.13"
  }
 },
 "nbformat": 4,
 "nbformat_minor": 5
}
