{
 "cells": [
  {
   "cell_type": "code",
   "execution_count": null,
   "id": "f384ad87-ce98-402d-933f-5ce38d01d76e",
   "metadata": {},
   "outputs": [],
   "source": [
    "# created :20250629"
   ]
  },
  {
   "cell_type": "code",
   "execution_count": null,
   "id": "ed888f88-0d92-4e2a-b216-7e5f9c3da4c6",
   "metadata": {},
   "outputs": [],
   "source": [
    "# own code"
   ]
  },
  {
   "cell_type": "code",
   "execution_count": null,
   "id": "4bedf3bb-7387-4127-8d42-337ae6af9558",
   "metadata": {},
   "outputs": [],
   "source": [
    "text = input(\"Enter text: \")\n",
    "if text == text[::-1]:\n",
    "    print(\"It is a palindrome\")\n",
    "else:\n",
    "    print(\"It is not a palindrome\")"
   ]
  }
 ],
 "metadata": {
  "kernelspec": {
   "display_name": "Python 3 (ipykernel)",
   "language": "python",
   "name": "python3"
  },
  "language_info": {
   "codemirror_mode": {
    "name": "ipython",
    "version": 3
   },
   "file_extension": ".py",
   "mimetype": "text/x-python",
   "name": "python",
   "nbconvert_exporter": "python",
   "pygments_lexer": "ipython3",
   "version": "3.11.13"
  }
 },
 "nbformat": 4,
 "nbformat_minor": 5
}
