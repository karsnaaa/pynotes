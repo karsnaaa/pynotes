{
 "cells": [
  {
   "cell_type": "code",
   "execution_count": null,
   "id": "20332c49-d139-4563-9d74-6552d322d44b",
   "metadata": {},
   "outputs": [],
   "source": [
    "# created :20250629"
   ]
  },
  {
   "cell_type": "code",
   "execution_count": null,
   "id": "518a6fcf-262f-42e4-b8dc-4298561da84f",
   "metadata": {},
   "outputs": [],
   "source": [
    "https://share.google/camtfs4z8aiYAJNSz"
   ]
  },
  {
   "cell_type": "code",
   "execution_count": null,
   "id": "5d5ff870-11d5-4530-97fa-1a0238cca494",
   "metadata": {},
   "outputs": [],
   "source": [
    "def compute_hcf(x, y):\n",
    "    if x > y:\n",
    "        smaller = y\n",
    "    else:\n",
    "        smaller = x\n",
    "    \n",
    "\n",
    "\n"
   ]
  },
  {
   "cell_type": "code",
   "execution_count": null,
   "id": "8dcb4dd9-60b8-4bbb-b0bd-0502515b40d4",
   "metadata": {},
   "outputs": [],
   "source": [
    "for i in range(1, smaller+1):\n",
    "        if((x % i == 0) and (y % i == 0)):\n",
    "            hcf = i \n",
    "    return hcf"
   ]
  },
  {
   "cell_type": "code",
   "execution_count": null,
   "id": "bab4dbcd-ac92-4bf7-9a4a-9df40da6616b",
   "metadata": {},
   "outputs": [],
   "source": [
    "num1 = 54 "
   ]
  },
  {
   "cell_type": "code",
   "execution_count": null,
   "id": "35150698-baa7-4f2e-950e-83d4c3a65b79",
   "metadata": {},
   "outputs": [],
   "source": [
    "num2 = 24"
   ]
  },
  {
   "cell_type": "code",
   "execution_count": null,
   "id": "c33368e1-0932-4660-ab83-b02b9a8282b0",
   "metadata": {},
   "outputs": [],
   "source": [
    "print(\"The H.C.F. is\", compute_hcf(num1, num2))"
   ]
  }
 ],
 "metadata": {
  "kernelspec": {
   "display_name": "Python 3 (ipykernel)",
   "language": "python",
   "name": "python3"
  },
  "language_info": {
   "codemirror_mode": {
    "name": "ipython",
    "version": 3
   },
   "file_extension": ".py",
   "mimetype": "text/x-python",
   "name": "python",
   "nbconvert_exporter": "python",
   "pygments_lexer": "ipython3",
   "version": "3.11.13"
  }
 },
 "nbformat": 4,
 "nbformat_minor": 5
}
