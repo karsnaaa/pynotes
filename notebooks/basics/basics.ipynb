{
 "cells": [
  {
   "cell_type": "code",
   "execution_count": null,
   "id": "142cd566-94a7-4d05-8998-7261135bb4ae",
   "metadata": {},
   "outputs": [],
   "source": [
    "# Cell 1\n",
    "a = 10\n"
   ]
  },
  {
   "cell_type": "code",
   "execution_count": null,
   "id": "f79b2aaa-864d-40b1-b4c6-f8518ecb7148",
   "metadata": {},
   "outputs": [],
   "source": [
    "# Cell 2\n",
    "b = 20\n"
   ]
  },
  {
   "cell_type": "code",
   "execution_count": null,
   "id": "e7268cd6-fe5a-4a97-a8e6-db9147d1e7af",
   "metadata": {},
   "outputs": [],
   "source": [
    "# Cell 3\n",
    "c = a + b\n",
    "print(c)\n"
   ]
  },
  {
   "cell_type": "code",
   "execution_count": null,
   "id": "d81210e9-d16d-4d48-9fcf-6cb03633c01f",
   "metadata": {},
   "outputs": [],
   "source": [
    "# Cell 4\n",
    "for i in range(5):\n",
    "    print(i)\n"
   ]
  },
  {
   "cell_type": "code",
   "execution_count": null,
   "id": "9d4a3b82-b941-4e1b-b1ee-663b7276c6c0",
   "metadata": {},
   "outputs": [],
   "source": [
    "# Cell 5\n",
    "def square(x):\n",
    "    return x * x\n"
   ]
  },
  {
   "cell_type": "code",
   "execution_count": null,
   "id": "07863424-8075-44cb-a7d1-bdd6c0d4367d",
   "metadata": {},
   "outputs": [],
   "source": [
    "class Person:\n",
    "    pass"
   ]
  },
  {
   "cell_type": "code",
   "execution_count": null,
   "id": "86a1cac3-17d3-498d-9556-cc53a5e94e41",
   "metadata": {},
   "outputs": [],
   "source": [
    "p1 = Person()\n",
    "print(type(p1))"
   ]
  },
  {
   "cell_type": "code",
   "execution_count": null,
   "id": "82e93ce3-76d2-4d08-abd0-bbf6319b8043",
   "metadata": {},
   "outputs": [],
   "source": [
    "<class '__main__.Person'>"
   ]
  },
  {
   "cell_type": "code",
   "execution_count": null,
   "id": "6e0bbbf7-bfdb-4281-bb90-3356f35135e7",
   "metadata": {},
   "outputs": [],
   "source": [
    "class Student:\n",
    "    def __init__(self, name, age):\n",
    "        self.name = name\n",
    "        self.age = age"
   ]
  },
  {
   "cell_type": "code",
   "execution_count": null,
   "id": "3cc009f0-8a20-47c2-b601-3ea5ee259c19",
   "metadata": {},
   "outputs": [],
   "source": [
    "s1 = Student(\"Sara\", 20)\n",
    "print(s1.name, s1.age)"
   ]
  },
  {
   "cell_type": "code",
   "execution_count": null,
   "id": "7dd63b79-8091-46f1-b20e-95241792be0f",
   "metadata": {},
   "outputs": [],
   "source": [
    "class Dog:\n",
    "    def __init__(self, breed):\n",
    "        self.breed = breed\n",
    "\n",
    "    def bark(self):\n",
    "        print(\"Woof! I am a\", self.breed)"
   ]
  },
  {
   "cell_type": "code",
   "execution_count": null,
   "id": "445b5afd-1c7b-451a-91a8-dbc3a0839af0",
   "metadata": {},
   "outputs": [],
   "source": [
    "d = Dog(\"Labrador\")\n",
    "d.bark()"
   ]
  },
  {
   "cell_type": "code",
   "execution_count": null,
   "id": "900fdd97-93bd-4891-b4f8-e3aaa15a33c0",
   "metadata": {},
   "outputs": [],
   "source": [
    "class Book:\n",
    "    def __init__(self, title):\n",
    "        self.title = title\n",
    "\n",
    "    def __str__(self):\n",
    "        return f\"Book: {self.title}\""
   ]
  },
  {
   "cell_type": "code",
   "execution_count": null,
   "id": "d3d60c74-8046-4460-9ff1-b1eede8c197a",
   "metadata": {},
   "outputs": [],
   "source": [
    "b = Book(\"Harry Potter\")\n",
    "print(b)"
   ]
  },
  {
   "cell_type": "code",
   "execution_count": null,
   "id": "12ecd20d-beda-49a5-ab59-da23d41f7e5e",
   "metadata": {},
   "outputs": [],
   "source": [
    "class Animal:\n",
    "    def __init__(self, name):\n",
    "        self.name = name\n",
    "\n",
    "    def speak(self):\n",
    "        print(\"I am an animal.\")"
   ]
  },
  {
   "cell_type": "code",
   "execution_count": null,
   "id": "14447402-6132-4a18-9e73-f18033933a14",
   "metadata": {},
   "outputs": [],
   "source": [
    "class Cat(Animal):\n",
    "    def speak(self):\n",
    "        print(f\"{self.name} says Meow!\")"
   ]
  },
  {
   "cell_type": "code",
   "execution_count": null,
   "id": "0abf1702-850a-49e8-90fa-2d779d83ddd8",
   "metadata": {},
   "outputs": [],
   "source": [
    "c = Cat(\"Luna\")\n",
    "c.speak()"
   ]
  },
  {
   "cell_type": "code",
   "execution_count": null,
   "id": "535ee91a-13ed-4981-840b-327f19b31d07",
   "metadata": {},
   "outputs": [],
   "source": [
    "class Parent:\n",
    "    def __init__(self):\n",
    "        print(\"Parent init\")"
   ]
  },
  {
   "cell_type": "code",
   "execution_count": null,
   "id": "c3b97143-362d-4cf9-9be2-f7160016fe59",
   "metadata": {},
   "outputs": [],
   "source": [
    "class Child(Parent):\n",
    "    def __init__(self):\n",
    "        super().__init__()\n",
    "        print(\"Child init\")"
   ]
  },
  {
   "cell_type": "code",
   "execution_count": null,
   "id": "3a2f079b-9ca1-4307-919f-0f40ad24f9b6",
   "metadata": {},
   "outputs": [],
   "source": [
    "c = Child()"
   ]
  },
  {
   "cell_type": "code",
   "execution_count": null,
   "id": "83c450aa-5e99-4284-bff3-24be89d5214f",
   "metadata": {},
   "outputs": [],
   "source": [
    "Parent init\n",
    "Child init"
   ]
  },
  {
   "cell_type": "code",
   "execution_count": null,
   "id": "b806821f-9ab5-4296-a3e1-a6ef0b67d01f",
   "metadata": {},
   "outputs": [],
   "source": [
    "class Account:\n",
    "    def __init__(self, balance):\n",
    "        self.__balance = balance  # private\n",
    "\n",
    "    def show_balance(self):\n",
    "        print(\"Balance:\", self.__balance)"
   ]
  },
  {
   "cell_type": "code",
   "execution_count": null,
   "id": "dd6918c2-d567-4863-b3b3-024fdbff6914",
   "metadata": {},
   "outputs": [],
   "source": [
    "acc = Account(1000)\n",
    "acc.show_balance()"
   ]
  },
  {
   "cell_type": "code",
   "execution_count": null,
   "id": "0405a857-2dc4-467d-80ce-1e257a8a1aa4",
   "metadata": {},
   "outputs": [],
   "source": [
    "class BankAccount:\n",
    "    def __init__(self, name, balance):\n",
    "        self.name = name\n",
    "        self.__balance = balance\n",
    "\n",
    "    def deposit(self, amount):\n",
    "        self.__balance += amount\n",
    "\n",
    "    def withdraw(self, amount):\n",
    "        if amount <= self.__balance:\n",
    "            self.__balance -= amount\n",
    "        else:\n",
    "            print(\"Insufficient funds\")\n",
    "\n",
    "    def show(self):\n",
    "        print(f\"{self.name} has ₹{self.__balance}\")"
   ]
  },
  {
   "cell_type": "code",
   "execution_count": null,
   "id": "59a5d84a-4a7b-4e40-977a-b581130fcf26",
   "metadata": {},
   "outputs": [],
   "source": [
    "user1 = BankAccount(\"Sara\", 5000)\n",
    "user1.show()"
   ]
  },
  {
   "cell_type": "code",
   "execution_count": null,
   "id": "aed6bb67-7baf-468d-b9b3-52fc3fb23bc4",
   "metadata": {},
   "outputs": [],
   "source": [
    "user1.deposit(2000)\n",
    "user1.show()"
   ]
  },
  {
   "cell_type": "code",
   "execution_count": null,
   "id": "35c9adf8-3c14-4c98-927d-c7a9791a84cd",
   "metadata": {},
   "outputs": [],
   "source": [
    "user1.withdraw(3000)\n",
    "user1.show()"
   ]
  },
  {
   "cell_type": "code",
   "execution_count": null,
   "id": "f8e0a5a9-ffa9-456b-8cb0-f2aac364b414",
   "metadata": {},
   "outputs": [],
   "source": [
    "class MathOps:\n",
    "    @staticmethod\n",
    "    def add(a, b):\n",
    "        return a + b"
   ]
  },
  {
   "cell_type": "code",
   "execution_count": null,
   "id": "c52e3394-880e-4f0e-95d2-324382200825",
   "metadata": {},
   "outputs": [],
   "source": [
    "print(MathOps.add(5, 7))"
   ]
  },
  {
   "cell_type": "code",
   "execution_count": null,
   "id": "6c6991ef-c775-4037-9046-ee26e4d4e2a2",
   "metadata": {},
   "outputs": [],
   "source": [
    "class Student:\n",
    "    school = \"CodeHigh\"\n",
    "\n",
    "    @classmethod\n",
    "    def get_school(cls):\n",
    "        return cls.school"
   ]
  },
  {
   "cell_type": "code",
   "execution_count": null,
   "id": "fcc2287d-32c8-4002-ba3a-c311161b97c9",
   "metadata": {},
   "outputs": [],
   "source": [
    "print(Student.get_school())"
   ]
  },
  {
   "cell_type": "code",
   "execution_count": null,
   "id": "302884bf-2117-492d-bb1f-a81777ad5c67",
   "metadata": {},
   "outputs": [],
   "source": [
    "class Calculator:\n",
    "    def add(self, a: int, b: int) -> int:\n",
    "        \"\"\"Returns the sum of two numbers.\"\"\"\n",
    "        return a + b\n",
    "calc = Calculator()"
   ]
  },
  {
   "cell_type": "code",
   "execution_count": null,
   "id": "9e71e13a-6e1c-42a4-944c-00adb0976cad",
   "metadata": {},
   "outputs": [],
   "source": [
    "print(calc.add(2, 3))"
   ]
  },
  {
   "cell_type": "code",
   "execution_count": null,
   "id": "57188d4f-63bf-4f34-a4ad-44bc3306ad3b",
   "metadata": {},
   "outputs": [],
   "source": [
    "class Vehicle:\n",
    "    def __init__(self, name):\n",
    "        self.name = name\n",
    "\n",
    "    def drive(self):\n",
    "        print(f\"{self.name} is driving.\")"
   ]
  },
  {
   "cell_type": "code",
   "execution_count": null,
   "id": "57038823-ccbb-41c8-be79-a1498896504e",
   "metadata": {},
   "outputs": [],
   "source": [
    "class Car(Vehicle):\n",
    "    def drive(self):\n",
    "        print(f\"{self.name} (car) is zooming!\")"
   ]
  },
  {
   "cell_type": "code",
   "execution_count": null,
   "id": "c99fb098-7f1f-4e80-a936-120e75190e13",
   "metadata": {},
   "outputs": [],
   "source": [
    "class Bike(Vehicle):\n",
    "    def drive(self):\n",
    "        print(f\"{self.name} (bike) is vrooming!\")"
   ]
  },
  {
   "cell_type": "code",
   "execution_count": null,
   "id": "c8e9036a-3ad7-488a-b598-d94f2474a0b3",
   "metadata": {},
   "outputs": [],
   "source": [
    "v = Vehicle(\"Generic\")\n",
    "v.drive()\n",
    "\n",
    "c = Car(\"Suzuki\")\n",
    "c.drive()\n",
    "\n",
    "b = Bike(\"Yamaha\")\n",
    "b.drive()"
   ]
  },
  {
   "cell_type": "code",
   "execution_count": null,
   "id": "8183c9ee-dd70-483e-8e85-4b77cfcf9223",
   "metadata": {},
   "outputs": [],
   "source": [
    "class Student:\n",
    "    def __init__(self, name):\n",
    "        self.__name = name\n",
    "\n",
    "    def get_name(self):\n",
    "        return self.__name\n",
    "\n",
    "    def set_name(self, new_name):\n",
    "        self.__name = new_name"
   ]
  },
  {
   "cell_type": "code",
   "execution_count": null,
   "id": "eea98c03-4405-4fde-bd99-752d20482bf1",
   "metadata": {},
   "outputs": [],
   "source": [
    "s = Student(\"Sara\")\n",
    "print(s.get_name())\n",
    "s.set_name(\"Queen Sara\")\n",
    "print(s.get_name())"
   ]
  },
  {
   "cell_type": "code",
   "execution_count": null,
   "id": "579fe84d-95bb-4a1e-b960-b6240ec68134",
   "metadata": {},
   "outputs": [],
   "source": [
    "class Book:\n",
    "    def __init__(self, title):\n",
    "        self.title = title\n",
    "        self.available = True"
   ]
  },
  {
   "cell_type": "code",
   "execution_count": null,
   "id": "ae0389af-8192-474c-bbc4-eac316ec25f3",
   "metadata": {},
   "outputs": [],
   "source": [
    "class Library:\n",
    "    def __init__(self):\n",
    "        self.books = []\n",
    "\n",
    "    def add_book(self, book):\n",
    "        self.books.append(book)\n",
    "\n",
    "    def show_books(self):\n",
    "        for book in self.books:\n",
    "            status = \"Available\" if book.available else \"Issued\"\n",
    "            print(f\"{book.title} - {status}\")\n",
    "\n",
    "    def issue_book(self, title):\n",
    "        for book in self.books:\n",
    "            if book.title == title and book.available:\n",
    "                book.available = False\n",
    "                print(f\"{title} has been issued.\")\n",
    "                return\n",
    "        print(f\"{title} is not available.\")"
   ]
  },
  {
   "cell_type": "code",
   "execution_count": null,
   "id": "3ed95cbd-677f-4488-9c79-c886b5372850",
   "metadata": {},
   "outputs": [],
   "source": [
    "lib = Library()\n",
    "book1 = Book(\"Harry Potter\")\n",
    "book2 = Book(\"Sherlock Holmes\")\n",
    "lib.add_book(book1)\n",
    "lib.add_book(book2)"
   ]
  },
  {
   "cell_type": "code",
   "execution_count": null,
   "id": "2e3e283c-0b1c-4962-ae15-b6eeedde6c1a",
   "metadata": {},
   "outputs": [],
   "source": [
    "lib.show_books()"
   ]
  },
  {
   "cell_type": "code",
   "execution_count": null,
   "id": "6e0e4aca-8f23-4823-96c8-59278f6091a3",
   "metadata": {},
   "outputs": [],
   "source": [
    "lib.issue_book(\"Harry Potter\")\n",
    "lib.show_books()"
   ]
  },
  {
   "cell_type": "code",
   "execution_count": null,
   "id": "bedbec30-7b77-4b1f-83b9-4bdd50eb88c7",
   "metadata": {},
   "outputs": [],
   "source": [
    "class Employee:\n",
    "    def __init__(self, name, salary):\n",
    "        self.name = name\n",
    "        self.salary = salary"
   ]
  },
  {
   "cell_type": "code",
   "execution_count": null,
   "id": "354b3849-5571-4a7c-bde8-0888f2ed1b7d",
   "metadata": {},
   "outputs": [],
   "source": [
    "employees = [\n",
    "    Employee(\"Sara\", 70000),\n",
    "    Employee(\"Ali\", 65000),\n",
    "    Employee(\"Afia\", 72000)\n",
    "]\n",
    "\n",
    "for emp in employees:\n",
    "    print(f\"{emp.name} earns ₹{emp.salary}\")"
   ]
  },
  {
   "cell_type": "code",
   "execution_count": null,
   "id": "eb00e039-46e1-4663-9de7-3c3e0da80c1f",
   "metadata": {},
   "outputs": [],
   "source": []
  },
  {
   "cell_type": "code",
   "execution_count": null,
   "id": "d49aa926-f740-4ae0-a94d-48b6e653ec3b",
   "metadata": {},
   "outputs": [],
   "source": []
  },
  {
   "cell_type": "code",
   "execution_count": null,
   "id": "0bd70aab-a747-451a-9d56-e896e42c1cc7",
   "metadata": {},
   "outputs": [],
   "source": []
  },
  {
   "cell_type": "code",
   "execution_count": null,
   "id": "fec078e4-3034-4db4-8bdb-8df122878ee6",
   "metadata": {},
   "outputs": [],
   "source": []
  },
  {
   "cell_type": "code",
   "execution_count": null,
   "id": "2a6ee8ab-7053-4e68-8392-15b9539a6169",
   "metadata": {},
   "outputs": [],
   "source": []
  },
  {
   "cell_type": "code",
   "execution_count": null,
   "id": "5c71dc8c-2d0c-45c6-b4ba-fe84a5a76ac7",
   "metadata": {},
   "outputs": [],
   "source": []
  },
  {
   "cell_type": "code",
   "execution_count": null,
   "id": "3b2f7b88-7b0d-4b45-b50e-fb6450a38b49",
   "metadata": {},
   "outputs": [],
   "source": []
  },
  {
   "cell_type": "code",
   "execution_count": null,
   "id": "f2ccf566-87ce-48f7-a213-fa268b9fb57f",
   "metadata": {},
   "outputs": [],
   "source": []
  }
 ],
 "metadata": {
  "kernelspec": {
   "display_name": "Python 3 (ipykernel)",
   "language": "python",
   "name": "python3"
  },
  "language_info": {
   "codemirror_mode": {
    "name": "ipython",
    "version": 3
   },
   "file_extension": ".py",
   "mimetype": "text/x-python",
   "name": "python",
   "nbconvert_exporter": "python",
   "pygments_lexer": "ipython3",
   "version": "3.11.13"
  }
 },
 "nbformat": 4,
 "nbformat_minor": 5
}
