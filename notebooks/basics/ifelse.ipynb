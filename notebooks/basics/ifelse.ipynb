{
 "cells": [
  {
   "cell_type": "code",
   "execution_count": null,
   "id": "1e64c874-ca3c-4060-99a5-6fedf13f24cc",
   "metadata": {},
   "outputs": [],
   "source": [
    "a = 40\n",
    "b = 30\n",
    "if a > b:\n",
    "    print('a is greater')\n",
    "elif a == b:\n",
    "    print('a is equal to b')\n",
    "else:\n",
    "    print('b is greater')"
   ]
  },
  {
   "cell_type": "code",
   "execution_count": null,
   "id": "89119dae-aac9-4c0f-a0da-7eb840b0bd60",
   "metadata": {},
   "outputs": [],
   "source": [
    "a = 40\n",
    "b = 30\n",
    "if a > b:\n",
    "    print('a is greater')\n",
    "elif a == b:\n",
    "    print('a is equal to b')\n",
    "else:\n",
    "    print('b is greater')"
   ]
  },
  {
   "cell_type": "code",
   "execution_count": null,
   "id": "8191170d-56b6-4f3f-a7c4-5c626ce49b0c",
   "metadata": {},
   "outputs": [],
   "source": [
    "a = 40\n",
    "b = 30\n",
    "if a > b:\n",
    "    print('a is greater')\n",
    "elif a == b:\n",
    "    print('a is equal to b')\n",
    "else:\n",
    "    print('b is greater')"
   ]
  },
  {
   "cell_type": "code",
   "execution_count": null,
   "id": "c9aa8c04-3364-4939-9a8e-0af54c5b5ecd",
   "metadata": {},
   "outputs": [],
   "source": [
    "a = 40\n",
    "b = 30\n",
    "if a > b:\n",
    "    print('a is greater')\n",
    "elif a == b:\n",
    "    print('a is equal to b')\n",
    "else:\n",
    "    print('b is greater')"
   ]
  },
  {
   "cell_type": "code",
   "execution_count": null,
   "id": "ddcb7aa4-7b67-4f93-b044-bdc52fbb1d2f",
   "metadata": {},
   "outputs": [],
   "source": [
    "a = 40\n",
    "b = 30\n",
    "if a > b:\n",
    "    print('a is greater')\n",
    "elif a == b:\n",
    "    print('a is equal to b')\n",
    "else:\n",
    "    print('b is greater')"
   ]
  },
  {
   "cell_type": "code",
   "execution_count": null,
   "id": "12024ae1-7692-4098-98fa-c7c40f2d0e94",
   "metadata": {},
   "outputs": [],
   "source": [
    "a = 40\n",
    "b = 30\n",
    "if a > b:\n",
    "    print('a is greater')\n",
    "elif a == b:\n",
    "    print('a is equal to b')\n",
    "else:\n",
    "    print('b is greater')"
   ]
  },
  {
   "cell_type": "code",
   "execution_count": null,
   "id": "490ecc81-bd45-4ec2-9a3e-1a5a60a5ed0b",
   "metadata": {},
   "outputs": [],
   "source": [
    "a = 40\n",
    "b = 30\n",
    "if a > b:\n",
    "    print('a is greater')\n",
    "elif a == b:\n",
    "    print('a is equal to b')\n",
    "else:\n",
    "    print('b is greater')"
   ]
  },
  {
   "cell_type": "code",
   "execution_count": null,
   "id": "cf89b3c7-9476-47ed-a0f7-27bb81be4f7a",
   "metadata": {},
   "outputs": [],
   "source": [
    "a = 40\n",
    "b = 30\n",
    "if a > b:\n",
    "    print('a is greater')\n",
    "elif a == b:\n",
    "    print('a is equal to b')\n",
    "else:\n",
    "    print('b is greater')"
   ]
  },
  {
   "cell_type": "code",
   "execution_count": null,
   "id": "993fd86a-a2e7-4c73-b188-6adaf0555a33",
   "metadata": {},
   "outputs": [],
   "source": [
    "a = 40\n",
    "b = 30\n",
    "if a > b:\n",
    "    print('a is greater')\n",
    "elif a == b:\n",
    "    print('a is equal to b')\n",
    "else:\n",
    "    print('b is greater')"
   ]
  },
  {
   "cell_type": "code",
   "execution_count": null,
   "id": "6f09899f-4c74-420e-b182-c2a7df6db322",
   "metadata": {},
   "outputs": [],
   "source": [
    "a = 40\n",
    "b = 30\n",
    "if a > b:\n",
    "    print('a is greater')\n",
    "elif a == b:\n",
    "    print('a is equal to b')\n",
    "else:\n",
    "    print('b is greater')"
   ]
  },
  {
   "cell_type": "code",
   "execution_count": null,
   "id": "ca15d564-0db4-4bf2-9e5b-330c798655ce",
   "metadata": {},
   "outputs": [],
   "source": [
    "a = 40\n",
    "b = 30\n",
    "if a > b:\n",
    "    print('a is greater')\n",
    "elif a == b:\n",
    "    print('a is equal to b')\n",
    "else:\n",
    "    print('b is greater')"
   ]
  },
  {
   "cell_type": "code",
   "execution_count": null,
   "id": "3a599af1-b6ef-40ad-930d-84c580e672fd",
   "metadata": {},
   "outputs": [],
   "source": [
    "a = 40\n",
    "b = 30\n",
    "if a > b:\n",
    "    print('a is greater')\n",
    "elif a == b:\n",
    "    print('a is equal to b')\n",
    "else:\n",
    "    print('b is greater')"
   ]
  },
  {
   "cell_type": "code",
   "execution_count": null,
   "id": "f1b3cc5c-61ab-4d87-864b-46e91e0c9a17",
   "metadata": {},
   "outputs": [],
   "source": [
    "a = 40\n",
    "b = 30\n",
    "if a > b:\n",
    "    print('a is greater')\n",
    "elif a == b:\n",
    "    print('a is equal to b')\n",
    "else:\n",
    "    print('b is greater')"
   ]
  },
  {
   "cell_type": "code",
   "execution_count": null,
   "id": "ea3ca7c2-b264-4cb3-bd08-c6c98539d7a7",
   "metadata": {},
   "outputs": [],
   "source": [
    "a = 40\n",
    "b = 30\n",
    "if a > b:\n",
    "    print('a is greater')\n",
    "elif a == b:\n",
    "    print('a is equal to b')\n",
    "else:\n",
    "    print('b is greater')"
   ]
  },
  {
   "cell_type": "code",
   "execution_count": null,
   "id": "90a26995-136f-44f6-a64a-91eeec400259",
   "metadata": {},
   "outputs": [],
   "source": [
    "a = 40\n",
    "b = 30\n",
    "if a > b:\n",
    "    print('a is greater')\n",
    "elif a == b:\n",
    "    print('a is equal to b')\n",
    "else:\n",
    "    print('b is greater')"
   ]
  },
  {
   "cell_type": "code",
   "execution_count": null,
   "id": "a54ab4b8-ccd7-46bf-a526-eebf4cebef79",
   "metadata": {},
   "outputs": [],
   "source": [
    "a = 40\n",
    "b = 30\n",
    "if a > b:\n",
    "    print('a is greater')\n",
    "elif a == b:\n",
    "    print('a is equal to b')\n",
    "else:\n",
    "    print('b is greater')"
   ]
  },
  {
   "cell_type": "code",
   "execution_count": null,
   "id": "735f883d-8e8d-47d0-bfad-76f3dea9a6a6",
   "metadata": {},
   "outputs": [],
   "source": [
    "a = 40\n",
    "b = 30\n",
    "if a > b:\n",
    "    print('a is greater')\n",
    "elif a == b:\n",
    "    print('a is equal to b')\n",
    "else:\n",
    "    print('b is greater')"
   ]
  },
  {
   "cell_type": "code",
   "execution_count": null,
   "id": "8f102728-1f3c-4058-aa38-a14ac0035527",
   "metadata": {},
   "outputs": [],
   "source": [
    "a = 40\n",
    "b = 30\n",
    "if a > b:\n",
    "    print('a is greater')\n",
    "elif a == b:\n",
    "    print('a is equal to b')\n",
    "else:\n",
    "    print('b is greater')"
   ]
  },
  {
   "cell_type": "code",
   "execution_count": null,
   "id": "3d90d860-5b2d-4181-8dd4-fc0680f75949",
   "metadata": {},
   "outputs": [],
   "source": [
    "a = 40\n",
    "b = 30\n",
    "if a > b:\n",
    "    print('a is greater')\n",
    "elif a == b:\n",
    "    print('a is equal to b')\n",
    "else:\n",
    "    print('b is greater')"
   ]
  },
  {
   "cell_type": "code",
   "execution_count": null,
   "id": "a71a5946-2240-4350-910b-95530247d9fd",
   "metadata": {},
   "outputs": [],
   "source": [
    "a = 40\n",
    "b = 30\n",
    "if a > b:\n",
    "    print('a is greater')\n",
    "elif a == b:\n",
    "    print('a is equal to b')\n",
    "else:\n",
    "    print('b is greater')"
   ]
  },
  {
   "cell_type": "code",
   "execution_count": null,
   "id": "e4a1e0a5-0bfb-44da-bdea-a5b306c10dc7",
   "metadata": {},
   "outputs": [],
   "source": [
    "a = 40\n",
    "b = 30\n",
    "if a > b:\n",
    "    print('a is greater')\n",
    "elif a == b:\n",
    "    print('a is equal to b')\n",
    "else:\n",
    "    print('b is greater')"
   ]
  },
  {
   "cell_type": "code",
   "execution_count": null,
   "id": "8639099e-8bba-404a-8a9f-fc47e79f5fe2",
   "metadata": {},
   "outputs": [],
   "source": [
    "a = 40\n",
    "b = 30\n",
    "if a > b:\n",
    "    print('a is greater')\n",
    "elif a == b:\n",
    "    print('a is equal to b')\n",
    "else:\n",
    "    print('b is greater')"
   ]
  },
  {
   "cell_type": "code",
   "execution_count": null,
   "id": "f8a48ae8-01e5-4bb1-b7ac-ceee72f7cb81",
   "metadata": {},
   "outputs": [],
   "source": [
    "a = 40\n",
    "b = 30\n",
    "if a > b:\n",
    "    print('a is greater')\n",
    "elif a == b:\n",
    "    print('a is equal to b')\n",
    "else:\n",
    "    print('b is greater')"
   ]
  },
  {
   "cell_type": "code",
   "execution_count": null,
   "id": "50961e28-8e9a-4d60-bc62-ca4a020c67d1",
   "metadata": {},
   "outputs": [],
   "source": [
    "a = 40\n",
    "b = 30\n",
    "if a > b:\n",
    "    print('a is greater')\n",
    "elif a == b:\n",
    "    print('a is equal to b')\n",
    "else:\n",
    "    print('b is greater')"
   ]
  },
  {
   "cell_type": "code",
   "execution_count": null,
   "id": "beb6424d-8141-48a8-a111-1a6557eea510",
   "metadata": {},
   "outputs": [],
   "source": [
    "a = 40\n",
    "b = 30\n",
    "if a > b:\n",
    "    print('a is greater')\n",
    "elif a == b:\n",
    "    print('a is equal to b')\n",
    "else:\n",
    "    print('b is greater')"
   ]
  },
  {
   "cell_type": "code",
   "execution_count": null,
   "id": "19b17ac7-00ec-4bb9-a7aa-20304809bf11",
   "metadata": {},
   "outputs": [],
   "source": [
    "a = 40\n",
    "b = 30\n",
    "if a > b:\n",
    "    print('a is greater')\n",
    "elif a == b:\n",
    "    print('a is equal to b')\n",
    "else:\n",
    "    print('b is greater')"
   ]
  },
  {
   "cell_type": "code",
   "execution_count": null,
   "id": "aec1ec25-4f8a-4571-a25d-c6998ea118ae",
   "metadata": {},
   "outputs": [],
   "source": [
    "a = 40\n",
    "b = 30\n",
    "if a > b:\n",
    "    print('a is greater')\n",
    "elif a == b:\n",
    "    print('a is equal to b')\n",
    "else:\n",
    "    print('b is greater')"
   ]
  },
  {
   "cell_type": "code",
   "execution_count": null,
   "id": "510867af-0cb7-49d9-8ec5-41cd460b09b9",
   "metadata": {},
   "outputs": [],
   "source": [
    "a = 40\n",
    "b = 30\n",
    "if a > b:\n",
    "    print('a is greater')\n",
    "elif a == b:\n",
    "    print('a is equal to b')\n",
    "else:\n",
    "    print('b is greater')"
   ]
  },
  {
   "cell_type": "code",
   "execution_count": null,
   "id": "fcd6089f-9102-43ac-b84b-869621b0bff7",
   "metadata": {},
   "outputs": [],
   "source": [
    "a = 40\n",
    "b = 30\n",
    "if a > b:\n",
    "    print('a is greater')\n",
    "elif a == b:\n",
    "    print('a is equal to b')\n",
    "else:\n",
    "    print('b is greater')"
   ]
  },
  {
   "cell_type": "code",
   "execution_count": null,
   "id": "cd4b3a7f-106f-4882-9379-3f58250f8cdc",
   "metadata": {},
   "outputs": [],
   "source": [
    "a = 40\n",
    "b = 30\n",
    "if a > b:\n",
    "    print('a is greater')\n",
    "elif a == b:\n",
    "    print('a is equal to b')\n",
    "else:\n",
    "    print('b is greater')"
   ]
  },
  {
   "cell_type": "code",
   "execution_count": null,
   "id": "55c37043-e67c-4e73-b227-9cd714c08d72",
   "metadata": {},
   "outputs": [],
   "source": [
    "a = 40\n",
    "b = 30\n",
    "if a > b:\n",
    "    print('a is greater')\n",
    "elif a == b:\n",
    "    print('a is equal to b')\n",
    "else:\n",
    "    print('b is greater')a = 40\n",
    "b = 30\n",
    "if a > b:\n",
    "    print('a is greater')\n",
    "elif a == b:\n",
    "    print('a is equal to b')\n",
    "else:\n",
    "    print('b is greater')"
   ]
  },
  {
   "cell_type": "code",
   "execution_count": null,
   "id": "4d891318-bebd-4864-ae58-839f32ed50e4",
   "metadata": {},
   "outputs": [],
   "source": [
    "a = 40\n",
    "b = 30\n",
    "if a > b:\n",
    "    print('a is greater')\n",
    "elif a == b:\n",
    "    print('a is equal to b')\n",
    "else:\n",
    "    print('b is greater')"
   ]
  },
  {
   "cell_type": "code",
   "execution_count": null,
   "id": "74096ad4-3111-4171-81a4-81cc434bf266",
   "metadata": {},
   "outputs": [],
   "source": [
    "a = 40\n",
    "b = 30\n",
    "if a > b:\n",
    "    print('a is greater')\n",
    "elif a == b:\n",
    "    print('a is equal to b')\n",
    "else:\n",
    "    print('b is greater')"
   ]
  },
  {
   "cell_type": "code",
   "execution_count": null,
   "id": "570adc89-2a1c-4db2-8d59-37aa7ac16c3b",
   "metadata": {},
   "outputs": [],
   "source": [
    "a = 40\n",
    "b = 30\n",
    "if a > b:\n",
    "    print('a is greater')\n",
    "elif a == b:\n",
    "    print('a is equal to b')\n",
    "else:\n",
    "    print('b is greater')"
   ]
  },
  {
   "cell_type": "code",
   "execution_count": null,
   "id": "0eaa9689-d171-486d-8adf-4d74387226c0",
   "metadata": {},
   "outputs": [],
   "source": [
    "a = 40\n",
    "b = 30\n",
    "if a > b:\n",
    "    print('a is greater')\n",
    "elif a == b:\n",
    "    print('a is equal to b')\n",
    "else:\n",
    "    print('b is greater')"
   ]
  },
  {
   "cell_type": "code",
   "execution_count": null,
   "id": "7c0f28fc-4fb9-4479-8e65-1dc94e5f5186",
   "metadata": {},
   "outputs": [],
   "source": [
    "va = 40\n",
    "b = 30\n",
    "if a > b:\n",
    "    print('a is greater')\n",
    "elif a == b:\n",
    "    print('a is equal to b')\n",
    "else:\n",
    "    print('b is greater')"
   ]
  },
  {
   "cell_type": "code",
   "execution_count": null,
   "id": "3ab68fec-35e0-4382-a50c-4933ffe89d3d",
   "metadata": {},
   "outputs": [],
   "source": [
    "a = 40\n",
    "b = 30\n",
    "if a > b:\n",
    "    print('a is greater')\n",
    "elif a == b:\n",
    "    print('a is equal to b')\n",
    "else:\n",
    "    print('b is greater')"
   ]
  },
  {
   "cell_type": "code",
   "execution_count": null,
   "id": "11044674-450a-453e-84db-3a014ca5568c",
   "metadata": {},
   "outputs": [],
   "source": [
    "a = 40\n",
    "b = 30\n",
    "if a > b:\n",
    "    print('a is greater')\n",
    "elif a == b:\n",
    "    print('a is equal to b')\n",
    "else:\n",
    "    print('b is greater')a = 40\n",
    "b = 30\n",
    "if a > b:\n",
    "    print('a is greater')\n",
    "elif a == b:\n",
    "    print('a is equal to b')\n",
    "else:\n",
    "    print('b is greater')"
   ]
  },
  {
   "cell_type": "code",
   "execution_count": null,
   "id": "36979474-d3dd-4faf-b226-208910d1cdb1",
   "metadata": {},
   "outputs": [],
   "source": [
    "a = 40\n",
    "b = 30\n",
    "if a > b:\n",
    "    print('a is greater')\n",
    "elif a == b:\n",
    "    print('a is equal to b')\n",
    "else:\n",
    "    print('b is greater')a = 40\n",
    "b = 30\n",
    "if a > b:\n",
    "    print('a is greater')\n",
    "elif a == b:\n",
    "    print('a is equal to b')\n",
    "else:\n",
    "    print('b is greater')"
   ]
  },
  {
   "cell_type": "code",
   "execution_count": null,
   "id": "9f37943d-1009-44f8-8eb2-baad8e80effb",
   "metadata": {},
   "outputs": [],
   "source": [
    "a = 40\n",
    "b = 30\n",
    "if a > b:\n",
    "    print('a is greater')\n",
    "elif a == b:\n",
    "    print('a is equal to b')\n",
    "else:\n",
    "    print('b is greater')a = 40\n",
    "b = 30\n",
    "if a > b:\n",
    "    print('a is greater')\n",
    "elif a == b:\n",
    "    print('a is equal to b')\n",
    "else:\n",
    "    print('b is greater')"
   ]
  },
  {
   "cell_type": "code",
   "execution_count": null,
   "id": "59f6cb85-dc82-4d30-b05c-ea7cf9408775",
   "metadata": {},
   "outputs": [],
   "source": [
    "a = 40\n",
    "b = 30\n",
    "if a > b:\n",
    "    print('a is greater')\n",
    "elif a == b:\n",
    "    print('a is equal to b')\n",
    "else:\n",
    "    print('b is greater')"
   ]
  },
  {
   "cell_type": "code",
   "execution_count": null,
   "id": "3e1c9362-8c64-4891-afcf-7c2cc3485107",
   "metadata": {},
   "outputs": [],
   "source": [
    "a = 40\n",
    "b = 30\n",
    "if a > b:\n",
    "    print('a is greater')\n",
    "elif a == b:\n",
    "    print('a is equal to b')\n",
    "else:\n",
    "    print('b is greater')"
   ]
  },
  {
   "cell_type": "code",
   "execution_count": null,
   "id": "194d6976-9da8-463d-93e7-00404bfc29a7",
   "metadata": {},
   "outputs": [],
   "source": [
    "a = 40\n",
    "b = 30\n",
    "if a > b:\n",
    "    print('a is greater')\n",
    "elif a == b:\n",
    "    print('a is equal to b')\n",
    "else:\n",
    "    print('b is greater')"
   ]
  },
  {
   "cell_type": "code",
   "execution_count": null,
   "id": "dc2d1d7d-9196-439d-a95f-d58bc49bc3a8",
   "metadata": {},
   "outputs": [],
   "source": [
    "a = 40\n",
    "b = 30\n",
    "if a > b:\n",
    "    print('a is greater')\n",
    "elif a == b:\n",
    "    print('a is equal to b')\n",
    "else:\n",
    "    print('b is greater')"
   ]
  },
  {
   "cell_type": "code",
   "execution_count": null,
   "id": "89097de4-7659-4917-a53f-8a0cbf02150b",
   "metadata": {},
   "outputs": [],
   "source": []
  },
  {
   "cell_type": "code",
   "execution_count": null,
   "id": "b917b457-e144-46e1-b6ee-0238017c5b40",
   "metadata": {},
   "outputs": [],
   "source": []
  },
  {
   "cell_type": "code",
   "execution_count": null,
   "id": "f3f93366-2933-47a8-b320-435518b41ba5",
   "metadata": {},
   "outputs": [],
   "source": [
    "a = 40\n",
    "b = 30\n",
    "if a > b:\n",
    "    print('a is greater')\n",
    "elif a == b:\n",
    "    print('a is equal to b')\n",
    "else:\n",
    "    print('b is greater')"
   ]
  },
  {
   "cell_type": "code",
   "execution_count": null,
   "id": "7d4be517-9151-4cfa-b432-0bfb32b0310e",
   "metadata": {},
   "outputs": [],
   "source": [
    "a = 40\n",
    "b = 30\n",
    "if a > b:\n",
    "    print('a is greater')\n",
    "elif a == b:\n",
    "    print('a is equal to b')\n",
    "else:\n",
    "    print('b is greater')"
   ]
  },
  {
   "cell_type": "code",
   "execution_count": null,
   "id": "60016808-2a2f-49a7-8d2a-52956a5fb35e",
   "metadata": {},
   "outputs": [],
   "source": [
    "a = 40\n",
    "b = 30\n",
    "if a > b:\n",
    "    print('a is greater')\n",
    "elif a == b:\n",
    "    print('a is equal to b')\n",
    "else:\n",
    "    print('b is greater')"
   ]
  },
  {
   "cell_type": "code",
   "execution_count": null,
   "id": "033c5a43-300c-4433-8952-5a092ed04de3",
   "metadata": {},
   "outputs": [],
   "source": [
    "a = 40\n",
    "b = 30\n",
    "if a > b:\n",
    "    print('a is greater')\n",
    "elif a == b:\n",
    "    print('a is equal to b')\n",
    "else:\n",
    "    print('b is greater')"
   ]
  },
  {
   "cell_type": "code",
   "execution_count": null,
   "id": "a9fb4dfa-710d-48d8-8805-32673fa26186",
   "metadata": {},
   "outputs": [],
   "source": [
    "a = 40\n",
    "b = 30\n",
    "if a > b:\n",
    "    print('a is greater')\n",
    "elif a == b:\n",
    "    print('a is equal to b')\n",
    "else:\n",
    "    print('b is greater')"
   ]
  },
  {
   "cell_type": "code",
   "execution_count": null,
   "id": "b2e3a15f-14f6-4641-94a5-a798b39d6ca3",
   "metadata": {},
   "outputs": [],
   "source": [
    "a = 40\n",
    "b = 30\n",
    "if a > b:\n",
    "    print('a is greater')\n",
    "elif a == b:\n",
    "    print('a is equal to b')\n",
    "else:\n",
    "    print('b is greater')"
   ]
  },
  {
   "cell_type": "code",
   "execution_count": null,
   "id": "56032aa0-95df-42ae-98c5-2d43cf4110bb",
   "metadata": {},
   "outputs": [],
   "source": [
    "a = 40\n",
    "b = 30\n",
    "if a > b:\n",
    "    print('a is greater')\n",
    "elif a == b:\n",
    "    print('a is equal to b')\n",
    "else:\n",
    "    print('b is greater')"
   ]
  },
  {
   "cell_type": "code",
   "execution_count": null,
   "id": "ffcd3779-20c0-4f18-8305-6c7f329dcb54",
   "metadata": {},
   "outputs": [],
   "source": [
    "a = 40\n",
    "b = 30\n",
    "if a > b:\n",
    "    print('a is greater')\n",
    "elif a == b:\n",
    "    print('a is equal to b')\n",
    "else:\n",
    "    print('b is greater')"
   ]
  },
  {
   "cell_type": "code",
   "execution_count": null,
   "id": "190e111c-4911-41d4-bfe8-8877b479c148",
   "metadata": {},
   "outputs": [],
   "source": [
    "a = 40\n",
    "b = 30\n",
    "if a > b:\n",
    "    print('a is greater')\n",
    "elif a == b:\n",
    "    print('a is equal to b')\n",
    "else:\n",
    "    print('b is greater')"
   ]
  },
  {
   "cell_type": "code",
   "execution_count": null,
   "id": "c780ea94-d929-4bc6-a8e6-2056d1cf1a5b",
   "metadata": {},
   "outputs": [],
   "source": [
    "a = 40\n",
    "b = 30\n",
    "if a > b:\n",
    "    print('a is greater')\n",
    "elif a == b:\n",
    "    print('a is equal to b')\n",
    "else:\n",
    "    print('b is greater')"
   ]
  },
  {
   "cell_type": "code",
   "execution_count": null,
   "id": "dfe16135-eb96-4351-89b5-57d6cda6bb82",
   "metadata": {},
   "outputs": [],
   "source": [
    "a = 40\n",
    "b = 30\n",
    "if a > b:\n",
    "    print('a is greater')\n",
    "elif a == b:\n",
    "    print('a is equal to b')\n",
    "else:\n",
    "    print('b is greater')"
   ]
  },
  {
   "cell_type": "code",
   "execution_count": null,
   "id": "c4a1dbc2-2416-4519-8050-47975ec77b4a",
   "metadata": {},
   "outputs": [],
   "source": [
    "a = 40\n",
    "b = 30\n",
    "if a > b:\n",
    "    print('a is greater')\n",
    "elif a == b:\n",
    "    print('a is equal to b')\n",
    "else:\n",
    "    print('b is greater')"
   ]
  },
  {
   "cell_type": "code",
   "execution_count": null,
   "id": "ee3e06ce-a1b8-4145-bf84-13dc42fac2fc",
   "metadata": {},
   "outputs": [],
   "source": [
    "a = 40\n",
    "b = 30\n",
    "if a > b:\n",
    "    print('a is greater')\n",
    "elif a == b:\n",
    "    print('a is equal to b')\n",
    "else:\n",
    "    print('b is greater')"
   ]
  },
  {
   "cell_type": "code",
   "execution_count": null,
   "id": "d084419f-9d52-4033-a08e-3ac848a2e4ae",
   "metadata": {},
   "outputs": [],
   "source": [
    "a = 40\n",
    "b = 30\n",
    "if a > b:\n",
    "    print('a is greater')\n",
    "elif a == b:\n",
    "    print('a is equal to b')\n",
    "else:\n",
    "    print('b is greater')"
   ]
  },
  {
   "cell_type": "code",
   "execution_count": null,
   "id": "108e7037-6dab-4023-8588-b49150261788",
   "metadata": {},
   "outputs": [],
   "source": [
    "a = 40\n",
    "b = 30\n",
    "if a > b:\n",
    "    print('a is greater')\n",
    "elif a == b:\n",
    "    print('a is equal to b')\n",
    "else:\n",
    "    print('b is greater')"
   ]
  },
  {
   "cell_type": "code",
   "execution_count": null,
   "id": "e2187615-77a1-4631-a4d0-20b3d5a4d526",
   "metadata": {},
   "outputs": [],
   "source": [
    "a = 40\n",
    "b = 30\n",
    "if a > b:\n",
    "    print('a is greater')\n",
    "elif a == b:\n",
    "    print('a is equal to b')\n",
    "else:\n",
    "    print('b is greater')"
   ]
  },
  {
   "cell_type": "code",
   "execution_count": null,
   "id": "1234d8bc-b4ab-4455-b40b-841ea4c8f7ff",
   "metadata": {},
   "outputs": [],
   "source": [
    "a = 40\n",
    "b = 30\n",
    "if a > b:\n",
    "    print('a is greater')\n",
    "elif a == b:\n",
    "    print('a is equal to b')\n",
    "else:\n",
    "    print('b is greater')"
   ]
  },
  {
   "cell_type": "code",
   "execution_count": null,
   "id": "cf0cbba0-d249-4c1b-81a7-e721cc84096c",
   "metadata": {},
   "outputs": [],
   "source": [
    "a = 40\n",
    "b = 30\n",
    "if a > b:\n",
    "    print('a is greater')\n",
    "elif a == b:\n",
    "    print('a is equal to b')\n",
    "else:\n",
    "    print('b is greater')"
   ]
  },
  {
   "cell_type": "code",
   "execution_count": null,
   "id": "9f3e4f2c-867a-43e1-b4ec-9f0bff59b691",
   "metadata": {},
   "outputs": [],
   "source": [
    "a = 40\n",
    "b = 30\n",
    "if a > b:\n",
    "    print('a is greater')\n",
    "elif a == b:\n",
    "    print('a is equal to b')\n",
    "else:\n",
    "    print('b is greater')"
   ]
  },
  {
   "cell_type": "code",
   "execution_count": null,
   "id": "38d43029-c011-417d-bc66-a2344a954a2c",
   "metadata": {},
   "outputs": [],
   "source": [
    "a = 40\n",
    "b = 30\n",
    "if a > b:\n",
    "    print('a is greater')\n",
    "elif a == b:\n",
    "    print('a is equal to b')\n",
    "else:\n",
    "    print('b is greater')"
   ]
  },
  {
   "cell_type": "code",
   "execution_count": null,
   "id": "7389bf31-dedf-4530-9050-121981c4e9bc",
   "metadata": {},
   "outputs": [],
   "source": [
    "a = 40\n",
    "b = 30\n",
    "if a > b:\n",
    "    print('a is greater')\n",
    "elif a == b:\n",
    "    print('a is equal to b')\n",
    "else:\n",
    "    print('b is greater')"
   ]
  },
  {
   "cell_type": "code",
   "execution_count": null,
   "id": "aa2e6689-e145-4584-b9f4-3d8df2eb10bf",
   "metadata": {},
   "outputs": [],
   "source": [
    "a = 40\n",
    "b = 30\n",
    "if a > b:\n",
    "    print('a is greater')\n",
    "elif a == b:\n",
    "    print('a is equal to b')\n",
    "else:\n",
    "    print('b is greater')"
   ]
  },
  {
   "cell_type": "code",
   "execution_count": null,
   "id": "3b05673f-4a58-46b0-b94c-1f07a97a7361",
   "metadata": {},
   "outputs": [],
   "source": [
    "a = 40\n",
    "b = 30\n",
    "if a > b:\n",
    "    print('a is greater')\n",
    "elif a == b:\n",
    "    print('a is equal to b')\n",
    "else:\n",
    "    print('b is greater')"
   ]
  },
  {
   "cell_type": "code",
   "execution_count": null,
   "id": "166faa59-f187-413b-abd1-e426470e2959",
   "metadata": {},
   "outputs": [],
   "source": [
    "a = 40\n",
    "b = 30\n",
    "if a > b:\n",
    "    print('a is greater')\n",
    "elif a == b:\n",
    "    print('a is equal to b')\n",
    "else:\n",
    "    print('b is greater')"
   ]
  },
  {
   "cell_type": "code",
   "execution_count": null,
   "id": "f8c84528-b428-4156-8231-7ab635673646",
   "metadata": {},
   "outputs": [],
   "source": [
    "a = 40\n",
    "b = 30\n",
    "if a > b:\n",
    "    print('a is greater')\n",
    "elif a == b:\n",
    "    print('a is equal to b')\n",
    "else:\n",
    "    print('b is greater')"
   ]
  },
  {
   "cell_type": "code",
   "execution_count": null,
   "id": "15f61b1b-c19c-4843-8921-02fc8e012b7f",
   "metadata": {},
   "outputs": [],
   "source": [
    "a = 40\n",
    "b = 30\n",
    "if a > b:\n",
    "    print('a is greater')\n",
    "elif a == b:\n",
    "    print('a is equal to b')\n",
    "else:\n",
    "    print('b is greater')"
   ]
  },
  {
   "cell_type": "code",
   "execution_count": null,
   "id": "9345f829-cd8a-4475-9229-54092b60401d",
   "metadata": {},
   "outputs": [],
   "source": [
    "a = 40\n",
    "b = 30\n",
    "if a > b:\n",
    "    print('a is greater')\n",
    "elif a == b:\n",
    "    print('a is equal to b')\n",
    "else:\n",
    "    print('b is greater')"
   ]
  },
  {
   "cell_type": "code",
   "execution_count": null,
   "id": "dcd096b7-9077-4ede-b25e-f63d3fc2fe3b",
   "metadata": {},
   "outputs": [],
   "source": [
    "a = 40\n",
    "b = 30\n",
    "if a > b:\n",
    "    print('a is greater')\n",
    "elif a == b:\n",
    "    print('a is equal to b')\n",
    "else:\n",
    "    print('b is greater')"
   ]
  },
  {
   "cell_type": "code",
   "execution_count": null,
   "id": "348b35f4-0e76-4451-95e8-c15cffbe5adb",
   "metadata": {},
   "outputs": [],
   "source": [
    "a = 40\n",
    "b = 30\n",
    "if a > b:\n",
    "    print('a is greater')\n",
    "elif a == b:\n",
    "    print('a is equal to b')\n",
    "else:\n",
    "    print('b is greater')"
   ]
  },
  {
   "cell_type": "code",
   "execution_count": null,
   "id": "8d92d00a-1817-4959-946d-9f8151e415eb",
   "metadata": {},
   "outputs": [],
   "source": [
    "a = 40\n",
    "b = 30\n",
    "if a > b:\n",
    "    print('a is greater')\n",
    "elif a == b:\n",
    "    print('a is equal to b')\n",
    "else:\n",
    "    print('b is greater')"
   ]
  },
  {
   "cell_type": "code",
   "execution_count": null,
   "id": "5784b31b-dae7-47f3-b256-01c36c379ced",
   "metadata": {},
   "outputs": [],
   "source": [
    "a = 40\n",
    "b = 30\n",
    "if a > b:\n",
    "    print('a is greater')\n",
    "elif a == b:\n",
    "    print('a is equal to b')\n",
    "else:\n",
    "    print('b is greater')"
   ]
  },
  {
   "cell_type": "code",
   "execution_count": null,
   "id": "18efa556-d91a-4a23-ba38-451367250f2d",
   "metadata": {},
   "outputs": [],
   "source": [
    "a = 40\n",
    "b = 30\n",
    "if a > b:\n",
    "    print('a is greater')\n",
    "elif a == b:\n",
    "    print('a is equal to b')\n",
    "else:\n",
    "    print('b is greater')"
   ]
  },
  {
   "cell_type": "code",
   "execution_count": null,
   "id": "bc6fbb61-94cd-4618-85ec-9b6bf31f906c",
   "metadata": {},
   "outputs": [],
   "source": [
    "a = 40\n",
    "b = 30\n",
    "if a > b:\n",
    "    print('a is greater')\n",
    "elif a == b:\n",
    "    print('a is equal to b')\n",
    "else:\n",
    "    print('b is greater')"
   ]
  },
  {
   "cell_type": "code",
   "execution_count": null,
   "id": "f00443ee-e632-4a0b-83cc-0e8ba1824870",
   "metadata": {},
   "outputs": [],
   "source": [
    "a = 40\n",
    "b = 30\n",
    "if a > b:\n",
    "    print('a is greater')\n",
    "elif a == b:\n",
    "    print('a is equal to b')\n",
    "else:\n",
    "    print('b is greater')"
   ]
  },
  {
   "cell_type": "code",
   "execution_count": null,
   "id": "0546fb98-86e9-443d-b4ff-4e16eef984f2",
   "metadata": {},
   "outputs": [],
   "source": [
    "\n",
    "a = 40\n",
    "b = 30\n",
    "if a > b:\n",
    "    print('a is greater')\n",
    "elif a == b:\n",
    "    print('a is equal to b')\n",
    "else:\n",
    "    print('b is greater')"
   ]
  },
  {
   "cell_type": "code",
   "execution_count": null,
   "id": "10c536e6-934a-419e-a208-e3f8256ccb6c",
   "metadata": {},
   "outputs": [],
   "source": [
    "a = 40\n",
    "b = 30\n",
    "if a > b:\n",
    "    print('a is greater')\n",
    "elif a == b:\n",
    "    print('a is equal to b')\n",
    "else:\n",
    "    print('b is greater')"
   ]
  },
  {
   "cell_type": "code",
   "execution_count": null,
   "id": "be00183d-f0ec-452b-bb7a-44f5b658ceb7",
   "metadata": {},
   "outputs": [],
   "source": [
    "a = 40\n",
    "b = 30\n",
    "if a > b:\n",
    "    print('a is greater')\n",
    "elif a == b:\n",
    "    print('a is equal to b')\n",
    "else:\n",
    "    print('b is greater')"
   ]
  },
  {
   "cell_type": "code",
   "execution_count": null,
   "id": "673514cf-3558-4476-a129-750c48245dd9",
   "metadata": {},
   "outputs": [],
   "source": [
    "a = 40\n",
    "b = 30\n",
    "if a > b:\n",
    "    print('a is greater')\n",
    "elif a == b:\n",
    "    print('a is equal to b')\n",
    "else:\n",
    "    print('b is greater')"
   ]
  },
  {
   "cell_type": "code",
   "execution_count": null,
   "id": "d35b0081-ab06-48df-bc2c-1c17761e6d51",
   "metadata": {},
   "outputs": [],
   "source": [
    "a = 40\n",
    "b = 30\n",
    "if a > b:\n",
    "    print('a is greater')\n",
    "elif a == b:\n",
    "    print('a is equal to b')\n",
    "else:\n",
    "    print('b is greater')"
   ]
  },
  {
   "cell_type": "code",
   "execution_count": null,
   "id": "6ac80f2a-9d42-4afc-8fc8-9e853c77c86e",
   "metadata": {},
   "outputs": [],
   "source": [
    "a = 40\n",
    "b = 30\n",
    "if a > b:\n",
    "    print('a is greater')\n",
    "elif a == b:\n",
    "    print('a is equal to b')\n",
    "else:\n",
    "    print('b is greater')"
   ]
  },
  {
   "cell_type": "code",
   "execution_count": null,
   "id": "20243fb0-1a15-47e0-bce8-533b07e05129",
   "metadata": {},
   "outputs": [],
   "source": [
    "a = 40\n",
    "b = 30\n",
    "if a > b:\n",
    "    print('a is greater')\n",
    "elif a == b:\n",
    "    print('a is equal to b')\n",
    "else:\n",
    "    print('b is greater')"
   ]
  },
  {
   "cell_type": "code",
   "execution_count": null,
   "id": "5918b596-8d22-4660-8124-16246149d7fd",
   "metadata": {},
   "outputs": [],
   "source": [
    "a = 40\n",
    "b = 30\n",
    "if a > b:\n",
    "    print('a is greater')\n",
    "elif a == b:\n",
    "    print('a is equal to b')\n",
    "else:\n",
    "    print('b is greater')"
   ]
  },
  {
   "cell_type": "code",
   "execution_count": null,
   "id": "b9bfb1b3-b99f-4a84-9dd8-35c76b8bcd3d",
   "metadata": {},
   "outputs": [],
   "source": [
    "a = 40\n",
    "b = 30\n",
    "if a > b:\n",
    "    print('a is greater')\n",
    "elif a == b:\n",
    "    print('a is equal to b')\n",
    "else:\n",
    "    print('b is greater')"
   ]
  },
  {
   "cell_type": "code",
   "execution_count": null,
   "id": "572d3d0c-0675-4c49-a038-8b25cbe3e2fd",
   "metadata": {},
   "outputs": [],
   "source": [
    "a = 40\n",
    "b = 30\n",
    "if a > b:\n",
    "    print('a is greater')\n",
    "elif a == b:\n",
    "    print('a is equal to b')\n",
    "else:\n",
    "    print('b is greater')"
   ]
  },
  {
   "cell_type": "code",
   "execution_count": null,
   "id": "8e3e8d26-578f-4e5f-90af-01d148aabec0",
   "metadata": {},
   "outputs": [],
   "source": [
    "a = 40\n",
    "b = 30\n",
    "if a > b:\n",
    "    print('a is greater')\n",
    "elif a == b:\n",
    "    print('a is equal to b')\n",
    "else:\n",
    "    print('b is greater')"
   ]
  },
  {
   "cell_type": "code",
   "execution_count": null,
   "id": "3180ab21-9b89-4d0e-b120-f6433e3ff9f7",
   "metadata": {},
   "outputs": [],
   "source": [
    "a = 40\n",
    "b = 30\n",
    "if a > b:\n",
    "    print('a is greater')\n",
    "elif a == b:\n",
    "    print('a is equal to b')\n",
    "else:\n",
    "    print('b is greater')"
   ]
  },
  {
   "cell_type": "code",
   "execution_count": null,
   "id": "31eaba90-0d70-4306-aa37-a1f74fc3e4fb",
   "metadata": {},
   "outputs": [],
   "source": [
    "a = 40\n",
    "b = 30\n",
    "if a > b:\n",
    "    print('a is greater')\n",
    "elif a == b:\n",
    "    print('a is equal to b')\n",
    "else:\n",
    "    print('b is greater')"
   ]
  },
  {
   "cell_type": "code",
   "execution_count": null,
   "id": "a4750717-2b0c-4c00-8738-3ba91db910e7",
   "metadata": {},
   "outputs": [],
   "source": [
    "a = 40\n",
    "b = 30\n",
    "if a > b:\n",
    "    print('a is greater')\n",
    "elif a == b:\n",
    "    print('a is equal to b')\n",
    "else:\n",
    "    print('b is greater')"
   ]
  },
  {
   "cell_type": "code",
   "execution_count": null,
   "id": "ace61628-a969-4ff0-84fa-1d54cabe4e55",
   "metadata": {},
   "outputs": [],
   "source": [
    "a = 40\n",
    "b = 30\n",
    "if a > b:\n",
    "    print('a is greater')\n",
    "elif a == b:\n",
    "    print('a is equal to b')\n",
    "else:\n",
    "    print('b is greater')"
   ]
  },
  {
   "cell_type": "code",
   "execution_count": null,
   "id": "e22abe53-7a83-4979-a024-a5a33362f418",
   "metadata": {},
   "outputs": [],
   "source": [
    "a = 40\n",
    "b = 30\n",
    "if a > b:\n",
    "    print('a is greater')\n",
    "elif a == b:\n",
    "    print('a is equal to b')\n",
    "else:\n",
    "    print('b is greater')"
   ]
  },
  {
   "cell_type": "code",
   "execution_count": null,
   "id": "235ecf4b-b4e1-4651-9e1a-682a2683147e",
   "metadata": {},
   "outputs": [],
   "source": [
    "a = 40\n",
    "b = 30\n",
    "if a > b:\n",
    "    print('a is greater')\n",
    "elif a == b:\n",
    "    print('a is equal to b')\n",
    "else:\n",
    "    print('b is greater')"
   ]
  },
  {
   "cell_type": "code",
   "execution_count": null,
   "id": "e1967565-c999-41c9-8d0d-8fa8b66dc753",
   "metadata": {},
   "outputs": [],
   "source": [
    "a = 40\n",
    "b = 30\n",
    "if a > b:\n",
    "    print('a is greater')\n",
    "elif a == b:\n",
    "    print('a is equal to b')\n",
    "else:\n",
    "    print('b is greater')"
   ]
  },
  {
   "cell_type": "code",
   "execution_count": null,
   "id": "bbcab6bb-e62e-4be4-b392-bf5f8c904ef2",
   "metadata": {},
   "outputs": [],
   "source": [
    "a = 40\n",
    "b = 30\n",
    "if a > b:\n",
    "    print('a is greater')\n",
    "elif a == b:\n",
    "    print('a is equal to b')\n",
    "else:\n",
    "    print('b is greater')"
   ]
  },
  {
   "cell_type": "code",
   "execution_count": null,
   "id": "6060023f-d513-49af-a876-35ebf958b83e",
   "metadata": {},
   "outputs": [],
   "source": [
    "a = 40\n",
    "b = 30\n",
    "if a > b:\n",
    "    print('a is greater')\n",
    "elif a == b:\n",
    "    print('a is equal to b')\n",
    "else:\n",
    "    print('b is greater')"
   ]
  },
  {
   "cell_type": "code",
   "execution_count": null,
   "id": "5b2f122d-b8cf-46d0-a8a7-ffb9ce65321b",
   "metadata": {},
   "outputs": [],
   "source": [
    "a = 40\n",
    "b = 30\n",
    "if a > b:\n",
    "    print('a is greater')\n",
    "elif a == b:\n",
    "    print('a is equal to b')\n",
    "else:\n",
    "    print('b is greater')"
   ]
  },
  {
   "cell_type": "code",
   "execution_count": null,
   "id": "77eb54ef-d109-4f9d-87c1-8fe4e6369c42",
   "metadata": {},
   "outputs": [],
   "source": [
    "a = 40\n",
    "b = 30\n",
    "if a > b:\n",
    "    print('a is greater')\n",
    "elif a == b:\n",
    "    print('a is equal to b')\n",
    "else:\n",
    "    print('b is greater')"
   ]
  },
  {
   "cell_type": "code",
   "execution_count": null,
   "id": "e77e65af-336f-43bd-bb48-130f56f94d4c",
   "metadata": {},
   "outputs": [],
   "source": [
    "a = 40\n",
    "b = 30\n",
    "if a > b:\n",
    "    print('a is greater')\n",
    "elif a == b:\n",
    "    print('a is equal to b')\n",
    "else:\n",
    "    print('b is greater')"
   ]
  },
  {
   "cell_type": "code",
   "execution_count": null,
   "id": "fa754640-3c0d-4760-b10e-0927b9bb2c01",
   "metadata": {},
   "outputs": [],
   "source": [
    "a = 40\n",
    "b = 30\n",
    "if a > b:\n",
    "    print('a is greater')\n",
    "elif a == b:\n",
    "    print('a is equal to b')\n",
    "else:\n",
    "    print('b is greater')"
   ]
  },
  {
   "cell_type": "code",
   "execution_count": null,
   "id": "a7da7e75-32f6-4d62-9018-fb0be8d37d19",
   "metadata": {},
   "outputs": [],
   "source": [
    "a = 40\n",
    "b = 30\n",
    "if a > b:\n",
    "    print('a is greater')\n",
    "elif a == b:\n",
    "    print('a is equal to b')\n",
    "else:\n",
    "    print('b is greater')"
   ]
  },
  {
   "cell_type": "code",
   "execution_count": null,
   "id": "69e29d11-876f-4aee-9d1d-5ff2398a559f",
   "metadata": {},
   "outputs": [],
   "source": [
    "a = 40\n",
    "b = 30\n",
    "if a > b:\n",
    "    print('a is greater')\n",
    "elif a == b:\n",
    "    print('a is equal to b')\n",
    "else:\n",
    "    print('b is greater')"
   ]
  },
  {
   "cell_type": "code",
   "execution_count": null,
   "id": "b5ad1733-d812-4c3b-a54d-3e5c5bb57547",
   "metadata": {},
   "outputs": [],
   "source": [
    "a = 40\n",
    "b = 30\n",
    "if a > b:\n",
    "    print('a is greater')\n",
    "elif a == b:\n",
    "    print('a is equal to b')\n",
    "else:\n",
    "    print('b is greater')"
   ]
  },
  {
   "cell_type": "code",
   "execution_count": null,
   "id": "0adbe135-a39d-461b-9265-b424253e74db",
   "metadata": {},
   "outputs": [],
   "source": [
    "a = 40\n",
    "b = 30\n",
    "if a > b:\n",
    "    print('a is greater')\n",
    "elif a == b:\n",
    "    print('a is equal to b')\n",
    "else:\n",
    "    print('b is greater')"
   ]
  },
  {
   "cell_type": "code",
   "execution_count": null,
   "id": "b1a23456-af10-4c6e-ab64-e4bbb9834eb5",
   "metadata": {},
   "outputs": [],
   "source": [
    "a = 40\n",
    "b = 30\n",
    "if a > b:\n",
    "    print('a is greater')\n",
    "elif a == b:\n",
    "    print('a is equal to b')\n",
    "else:\n",
    "    print('b is greater')"
   ]
  },
  {
   "cell_type": "code",
   "execution_count": null,
   "id": "55e1a15f-0e82-4c88-9767-e7d9c9055fd1",
   "metadata": {},
   "outputs": [],
   "source": [
    "a = 40\n",
    "b = 30\n",
    "if a > b:\n",
    "    print('a is greater')\n",
    "elif a == b:\n",
    "    print('a is equal to b')\n",
    "else:\n",
    "    print('b is greater')"
   ]
  },
  {
   "cell_type": "code",
   "execution_count": null,
   "id": "26a6ab59-e3fa-43c2-b654-40e7e60424a1",
   "metadata": {},
   "outputs": [],
   "source": [
    "a = 40\n",
    "b = 30\n",
    "if a > b:\n",
    "    print('a is greater')\n",
    "elif a == b:\n",
    "    print('a is equal to b')\n",
    "else:\n",
    "    print('b is greater')"
   ]
  },
  {
   "cell_type": "code",
   "execution_count": null,
   "id": "04083d47-efae-4e7e-9624-a0e7bcb4b3e9",
   "metadata": {},
   "outputs": [],
   "source": [
    "a = 40\n",
    "b = 30\n",
    "if a > b:\n",
    "    print('a is greater')\n",
    "elif a == b:\n",
    "    print('a is equal to b')\n",
    "else:\n",
    "    print('b is greater')"
   ]
  },
  {
   "cell_type": "code",
   "execution_count": null,
   "id": "75e24b57-d5ae-42d9-8bba-2bc29a22699f",
   "metadata": {},
   "outputs": [],
   "source": [
    "a = 40\n",
    "b = 30\n",
    "if a > b:\n",
    "    print('a is greater')\n",
    "elif a == b:\n",
    "    print('a is equal to b')\n",
    "else:\n",
    "    print('b is greater')"
   ]
  },
  {
   "cell_type": "code",
   "execution_count": null,
   "id": "089ad427-57fe-4385-b543-c79ebf321d0a",
   "metadata": {},
   "outputs": [],
   "source": [
    "a = 40\n",
    "b = 30\n",
    "if a > b:\n",
    "    print('a is greater')\n",
    "elif a == b:\n",
    "    print('a is equal to b')\n",
    "else:\n",
    "    print('b is greater')"
   ]
  },
  {
   "cell_type": "code",
   "execution_count": null,
   "id": "7394be34-898f-4ee0-8dcb-1c798cbb9dbd",
   "metadata": {},
   "outputs": [],
   "source": [
    "a = 40\n",
    "b = 30\n",
    "if a > b:\n",
    "    print('a is greater')\n",
    "elif a == b:\n",
    "    print('a is equal to b')\n",
    "else:\n",
    "    print('b is greater')"
   ]
  },
  {
   "cell_type": "code",
   "execution_count": null,
   "id": "d678e9fc-6d1d-446b-83e3-67b6a64c19ce",
   "metadata": {},
   "outputs": [],
   "source": [
    "a = 40\n",
    "b = 30\n",
    "if a > b:\n",
    "    print('a is greater')\n",
    "elif a == b:\n",
    "    print('a is equal to b')\n",
    "else:\n",
    "    print('b is greater')"
   ]
  },
  {
   "cell_type": "code",
   "execution_count": null,
   "id": "d972b7fe-bc89-4cdf-826b-08df36cba704",
   "metadata": {},
   "outputs": [],
   "source": [
    "a = 40\n",
    "b = 30\n",
    "if a > b:\n",
    "    print('a is greater')\n",
    "elif a == b:\n",
    "    print('a is equal to b')\n",
    "else:\n",
    "    print('b is greater')"
   ]
  },
  {
   "cell_type": "code",
   "execution_count": null,
   "id": "968eb471-5a34-4f2d-88fa-1eeac3fc203a",
   "metadata": {},
   "outputs": [],
   "source": [
    "a = 40\n",
    "b = 30\n",
    "if a > b:\n",
    "    print('a is greater')\n",
    "elif a == b:\n",
    "    print('a is equal to b')\n",
    "else:\n",
    "    print('b is greater')"
   ]
  },
  {
   "cell_type": "code",
   "execution_count": null,
   "id": "26d8ebbe-7055-436d-8b47-24c03d931923",
   "metadata": {},
   "outputs": [],
   "source": [
    "a = 40\n",
    "b = 30\n",
    "if a > b:\n",
    "    print('a is greater')\n",
    "elif a == b:\n",
    "    print('a is equal to b')\n",
    "else:\n",
    "    print('b is greater')"
   ]
  },
  {
   "cell_type": "code",
   "execution_count": null,
   "id": "3d92e3c8-f44c-45eb-89ce-e4b01136bd13",
   "metadata": {},
   "outputs": [],
   "source": [
    "a = 40\n",
    "b = 30\n",
    "if a > b:\n",
    "    print('a is greater')\n",
    "elif a == b:\n",
    "    print('a is equal to b')\n",
    "else:\n",
    "    print('b is greater')"
   ]
  },
  {
   "cell_type": "code",
   "execution_count": null,
   "id": "960a729a-adab-47db-9321-32b9d925dafe",
   "metadata": {},
   "outputs": [],
   "source": [
    "a = 40\n",
    "b = 30\n",
    "if a > b:\n",
    "    print('a is greater')\n",
    "elif a == b:\n",
    "    print('a is equal to b')\n",
    "else:\n",
    "    print('b is greater')"
   ]
  },
  {
   "cell_type": "code",
   "execution_count": null,
   "id": "45862529-de07-4c97-9c6d-a33c6f4201e2",
   "metadata": {},
   "outputs": [],
   "source": [
    "a = 40\n",
    "b = 30\n",
    "if a > b:\n",
    "    print('a is greater')\n",
    "elif a == b:\n",
    "    print('a is equal to b')\n",
    "else:\n",
    "    print('b is greater')"
   ]
  },
  {
   "cell_type": "code",
   "execution_count": null,
   "id": "da171c66-db07-4cde-8db5-73551e6954ea",
   "metadata": {},
   "outputs": [],
   "source": [
    "a = 40\n",
    "b = 30\n",
    "if a > b:\n",
    "    print('a is greater')\n",
    "elif a == b:\n",
    "    print('a is equal to b')\n",
    "else:\n",
    "    print('b is greater')"
   ]
  },
  {
   "cell_type": "code",
   "execution_count": null,
   "id": "1f8b42a9-4c02-4028-b61a-fa4dc94cc1e0",
   "metadata": {},
   "outputs": [],
   "source": [
    "a = 40\n",
    "b = 30\n",
    "if a > b:\n",
    "    print('a is greater')\n",
    "elif a == b:\n",
    "    print('a is equal to b')\n",
    "else:\n",
    "    print('b is greater')"
   ]
  },
  {
   "cell_type": "code",
   "execution_count": null,
   "id": "410b1a1e-9783-4e84-bd26-a043fb5bd509",
   "metadata": {},
   "outputs": [],
   "source": [
    "a = 40\n",
    "b = 30\n",
    "if a > b:\n",
    "    print('a is greater')\n",
    "elif a == b:\n",
    "    print('a is equal to b')\n",
    "else:\n",
    "    print('b is greater')"
   ]
  },
  {
   "cell_type": "code",
   "execution_count": null,
   "id": "e0fb9e9c-cdec-4d00-98f3-a91814186a5b",
   "metadata": {},
   "outputs": [],
   "source": [
    "a = 40\n",
    "b = 30\n",
    "if a > b:\n",
    "    print('a is greater')\n",
    "elif a == b:\n",
    "    print('a is equal to b')\n",
    "else:\n",
    "    print('b is greater')"
   ]
  },
  {
   "cell_type": "code",
   "execution_count": null,
   "id": "ad323bda-176a-46e0-8b0b-7f8a8e409f06",
   "metadata": {},
   "outputs": [],
   "source": [
    "a = 40\n",
    "b = 30\n",
    "if a > b:\n",
    "    print('a is greater')\n",
    "elif a == b:\n",
    "    print('a is equal to b')\n",
    "else:\n",
    "    print('b is greater')"
   ]
  },
  {
   "cell_type": "code",
   "execution_count": null,
   "id": "3097e154-18e8-4768-8d37-28a16eb433b2",
   "metadata": {},
   "outputs": [],
   "source": [
    "a = 40\n",
    "b = 30\n",
    "if a > b:\n",
    "    print('a is greater')\n",
    "elif a == b:\n",
    "    print('a is equal to b')\n",
    "else:\n",
    "    print('b is greater')"
   ]
  },
  {
   "cell_type": "code",
   "execution_count": null,
   "id": "4fcf407c-643f-4e83-a780-29e415bcfb99",
   "metadata": {},
   "outputs": [],
   "source": [
    "a = 40\n",
    "b = 30\n",
    "if a > b:\n",
    "    print('a is greater')\n",
    "elif a == b:\n",
    "    print('a is equal to b')\n",
    "else:\n",
    "    print('b is greater')"
   ]
  },
  {
   "cell_type": "code",
   "execution_count": null,
   "id": "02c3452e-a443-41dc-afaa-2c353a232ff8",
   "metadata": {},
   "outputs": [],
   "source": [
    "a = 40\n",
    "b = 30\n",
    "if a > b:\n",
    "    print('a is greater')\n",
    "elif a == b:\n",
    "    print('a is equal to b')\n",
    "else:\n",
    "    print('b is greater')"
   ]
  },
  {
   "cell_type": "code",
   "execution_count": null,
   "id": "998ae697-43b5-4f34-9646-81a4fb3f8341",
   "metadata": {},
   "outputs": [],
   "source": [
    "a = 40\n",
    "b = 30\n",
    "if a > b:\n",
    "    print('a is greater')\n",
    "elif a == b:\n",
    "    print('a is equal to b')\n",
    "else:\n",
    "    print('b is greater')"
   ]
  },
  {
   "cell_type": "code",
   "execution_count": null,
   "id": "72e62724-a129-4ac6-a2bc-a061c907d327",
   "metadata": {},
   "outputs": [],
   "source": [
    "a = 40\n",
    "b = 30\n",
    "if a > b:\n",
    "    print('a is greater')\n",
    "elif a == b:\n",
    "    print('a is equal to b')\n",
    "else:\n",
    "    print('b is greater')"
   ]
  },
  {
   "cell_type": "code",
   "execution_count": null,
   "id": "cc831a2d-cecb-4774-bd11-a69ab9fed64a",
   "metadata": {},
   "outputs": [],
   "source": [
    "a = 40\n",
    "b = 30\n",
    "if a > b:\n",
    "    print('a is greater')\n",
    "elif a == b:\n",
    "    print('a is equal to b')\n",
    "else:\n",
    "    print('b is greater')"
   ]
  },
  {
   "cell_type": "code",
   "execution_count": null,
   "id": "c836e3dc-af70-4cf1-a099-092659fd0b38",
   "metadata": {},
   "outputs": [],
   "source": [
    "a = 40\n",
    "b = 30\n",
    "if a > b:\n",
    "    print('a is greater')\n",
    "elif a == b:\n",
    "    print('a is equal to b')\n",
    "else:\n",
    "    print('b is greater')"
   ]
  },
  {
   "cell_type": "code",
   "execution_count": null,
   "id": "4cb31c65-2182-46fd-9fd3-7a5c324c0f53",
   "metadata": {},
   "outputs": [],
   "source": [
    "a = 40\n",
    "b = 30\n",
    "if a > b:\n",
    "    print('a is greater')\n",
    "elif a == b:\n",
    "    print('a is equal to b')\n",
    "else:\n",
    "    print('b is greater')"
   ]
  },
  {
   "cell_type": "code",
   "execution_count": null,
   "id": "35a64081-e51e-4211-93f1-18a4b0f3b242",
   "metadata": {},
   "outputs": [],
   "source": [
    "a = 40\n",
    "b = 30\n",
    "if a > b:\n",
    "    print('a is greater')\n",
    "elif a == b:\n",
    "    print('a is equal to b')\n",
    "else:\n",
    "    print('b is greater')"
   ]
  },
  {
   "cell_type": "code",
   "execution_count": null,
   "id": "083a7df6-44b7-443f-8987-f374f8f78c3f",
   "metadata": {},
   "outputs": [],
   "source": [
    "a = 40\n",
    "b = 30\n",
    "if a > b:\n",
    "    print('a is greater')\n",
    "elif a == b:\n",
    "    print('a is equal to b')\n",
    "else:\n",
    "    print('b is greater')"
   ]
  },
  {
   "cell_type": "code",
   "execution_count": null,
   "id": "255f1e0d-02e8-40db-a46c-243e073f8871",
   "metadata": {},
   "outputs": [],
   "source": [
    "a = 40\n",
    "b = 30\n",
    "if a > b:\n",
    "    print('a is greater')\n",
    "elif a == b:\n",
    "    print('a is equal to b')\n",
    "else:\n",
    "    print('b is greater')"
   ]
  },
  {
   "cell_type": "code",
   "execution_count": null,
   "id": "05d72460-2381-4ed1-9a23-d5fbf71a81e5",
   "metadata": {},
   "outputs": [],
   "source": [
    "a = 40\n",
    "b = 30\n",
    "if a > b:\n",
    "    print('a is greater')\n",
    "elif a == b:\n",
    "    print('a is equal to b')\n",
    "else:\n",
    "    print('b is greater')"
   ]
  },
  {
   "cell_type": "code",
   "execution_count": null,
   "id": "99658c97-0faa-4903-b036-e0aa2cd5e649",
   "metadata": {},
   "outputs": [],
   "source": [
    "a = 40\n",
    "b = 30\n",
    "if a > b:\n",
    "    print('a is greater')\n",
    "elif a == b:\n",
    "    print('a is equal to b')\n",
    "else:\n",
    "    print('b is greater')"
   ]
  },
  {
   "cell_type": "code",
   "execution_count": null,
   "id": "d2882b2b-3cdf-482e-8da8-35570b6afd59",
   "metadata": {},
   "outputs": [],
   "source": [
    "a = 40\n",
    "b = 30\n",
    "if a > b:\n",
    "    print('a is greater')\n",
    "elif a == b:\n",
    "    print('a is equal to b')\n",
    "else:\n",
    "    print('b is greater')"
   ]
  },
  {
   "cell_type": "code",
   "execution_count": null,
   "id": "057b6fdc-5cef-45d8-bbf0-d67f2b6911d9",
   "metadata": {},
   "outputs": [],
   "source": [
    "a = 40\n",
    "b = 30\n",
    "if a > b:\n",
    "    print('a is greater')\n",
    "elif a == b:\n",
    "    print('a is equal to b')\n",
    "else:\n",
    "    print('b is greater')"
   ]
  },
  {
   "cell_type": "code",
   "execution_count": null,
   "id": "05852176-901a-4db1-9269-e1e4c454e3c9",
   "metadata": {},
   "outputs": [],
   "source": [
    "a = 40\n",
    "b = 30\n",
    "if a > b:\n",
    "    print('a is greater')\n",
    "elif a == b:\n",
    "    print('a is equal to b')\n",
    "else:\n",
    "    print('b is greater')"
   ]
  },
  {
   "cell_type": "code",
   "execution_count": null,
   "id": "e0eb40d5-ff83-41a8-a81f-55a4dfc23137",
   "metadata": {},
   "outputs": [],
   "source": [
    "a = 40\n",
    "b = 30\n",
    "if a > b:\n",
    "    print('a is greater')\n",
    "elif a == b:\n",
    "    print('a is equal to b')\n",
    "else:\n",
    "    print('b is greater')"
   ]
  },
  {
   "cell_type": "code",
   "execution_count": null,
   "id": "6d98600c-9b3c-49fa-9930-57ad9e494f93",
   "metadata": {},
   "outputs": [],
   "source": [
    "a = 40\n",
    "b = 30\n",
    "if a > b:\n",
    "    print('a is greater')\n",
    "elif a == b:\n",
    "    print('a is equal to b')\n",
    "else:\n",
    "    print('b is greater')"
   ]
  },
  {
   "cell_type": "code",
   "execution_count": null,
   "id": "d441c217-387e-425c-befd-36d1b5814776",
   "metadata": {},
   "outputs": [],
   "source": [
    "a = 40\n",
    "b = 30\n",
    "if a > b:\n",
    "    print('a is greater')\n",
    "elif a == b:\n",
    "    print('a is equal to b')\n",
    "else:\n",
    "    print('b is greater')"
   ]
  },
  {
   "cell_type": "code",
   "execution_count": null,
   "id": "91a2da4b-24cb-4312-b8b9-b8687ae1b330",
   "metadata": {},
   "outputs": [],
   "source": [
    "a = 40\n",
    "b = 30\n",
    "if a > b:\n",
    "    print('a is greater')\n",
    "elif a == b:\n",
    "    print('a is equal to b')\n",
    "else:\n",
    "    print('b is greater')"
   ]
  },
  {
   "cell_type": "code",
   "execution_count": null,
   "id": "2b3fc161-8bad-43e1-b6c3-7ef75fbb7e47",
   "metadata": {},
   "outputs": [],
   "source": [
    "a = 40\n",
    "b = 30\n",
    "if a > b:\n",
    "    print('a is greater')\n",
    "elif a == b:\n",
    "    print('a is equal to b')\n",
    "else:\n",
    "    print('b is greater')"
   ]
  },
  {
   "cell_type": "code",
   "execution_count": null,
   "id": "e48d5b5b-be18-4b3f-bb0e-ba5e6ed5d2cc",
   "metadata": {},
   "outputs": [],
   "source": [
    "a = 40\n",
    "b = 30\n",
    "if a > b:\n",
    "    print('a is greater')\n",
    "elif a == b:\n",
    "    print('a is equal to b')\n",
    "else:\n",
    "    print('b is greater')"
   ]
  },
  {
   "cell_type": "code",
   "execution_count": null,
   "id": "c3ff2c0e-6963-4752-a369-82a668ab7ea4",
   "metadata": {},
   "outputs": [],
   "source": [
    "a = 40\n",
    "b = 30\n",
    "if a > b:\n",
    "    print('a is greater')\n",
    "elif a == b:\n",
    "    print('a is equal to b')\n",
    "else:\n",
    "    print('b is greater')"
   ]
  },
  {
   "cell_type": "code",
   "execution_count": null,
   "id": "500a07d6-23f3-44a3-bb08-d68f7d7dbc87",
   "metadata": {},
   "outputs": [],
   "source": [
    "a = 40\n",
    "b = 30\n",
    "if a > b:\n",
    "    print('a is greater')\n",
    "elif a == b:\n",
    "    print('a is equal to b')\n",
    "else:\n",
    "    print('b is greater')"
   ]
  },
  {
   "cell_type": "code",
   "execution_count": null,
   "id": "a159ac8d-8a01-498c-8102-d54343eb6f7c",
   "metadata": {},
   "outputs": [],
   "source": [
    "a = 40\n",
    "b = 30\n",
    "if a > b:\n",
    "    print('a is greater')\n",
    "elif a == b:\n",
    "    print('a is equal to b')\n",
    "else:\n",
    "    print('b is greater')"
   ]
  },
  {
   "cell_type": "code",
   "execution_count": null,
   "id": "9715ddbe-17ac-4551-a936-aee68933e0a4",
   "metadata": {},
   "outputs": [],
   "source": [
    "a = 40\n",
    "b = 30\n",
    "if a > b:\n",
    "    print('a is greater')\n",
    "elif a == b:\n",
    "    print('a is equal to b')\n",
    "else:\n",
    "    print('b is greater')"
   ]
  },
  {
   "cell_type": "code",
   "execution_count": null,
   "id": "f1110e75-e36e-4d2b-8706-a1d111f36866",
   "metadata": {},
   "outputs": [],
   "source": [
    "a = 40\n",
    "b = 30\n",
    "if a > b:\n",
    "    print('a is greater')\n",
    "elif a == b:\n",
    "    print('a is equal to b')\n",
    "else:\n",
    "    print('b is greater')"
   ]
  },
  {
   "cell_type": "code",
   "execution_count": null,
   "id": "afc410f3-c239-4530-b9cf-5934393da70d",
   "metadata": {},
   "outputs": [],
   "source": [
    "a = 40\n",
    "b = 30\n",
    "if a > b:\n",
    "    print('a is greater')\n",
    "elif a == b:\n",
    "    print('a is equal to b')\n",
    "else:\n",
    "    print('b is greater')"
   ]
  },
  {
   "cell_type": "code",
   "execution_count": null,
   "id": "146a01f7-a8bb-4019-a9d2-bf2dfddf77d4",
   "metadata": {},
   "outputs": [],
   "source": [
    "a = 40\n",
    "b = 30\n",
    "if a > b:\n",
    "    print('a is greater')\n",
    "elif a == b:\n",
    "    print('a is equal to b')\n",
    "else:\n",
    "    print('b is greater')"
   ]
  },
  {
   "cell_type": "code",
   "execution_count": null,
   "id": "fa0b0d70-7283-43ed-aa74-a1c20c4d0c6a",
   "metadata": {},
   "outputs": [],
   "source": [
    "a = 40\n",
    "b = 30\n",
    "if a > b:\n",
    "    print('a is greater')\n",
    "elif a == b:\n",
    "    print('a is equal to b')\n",
    "else:\n",
    "    print('b is greater')"
   ]
  },
  {
   "cell_type": "code",
   "execution_count": null,
   "id": "f0176f4d-e6cc-4964-b55a-9d80e9917196",
   "metadata": {},
   "outputs": [],
   "source": [
    "a = 40\n",
    "b = 30\n",
    "if a > b:\n",
    "    print('a is greater')\n",
    "elif a == b:\n",
    "    print('a is equal to b')\n",
    "else:\n",
    "    print('b is greater')"
   ]
  },
  {
   "cell_type": "code",
   "execution_count": null,
   "id": "a44ab6d0-0410-44fb-aaba-b1bcd8a73d1a",
   "metadata": {},
   "outputs": [],
   "source": [
    "a = 40\n",
    "b = 30\n",
    "if a > b:\n",
    "    print('a is greater')\n",
    "elif a == b:\n",
    "    print('a is equal to b')\n",
    "else:\n",
    "    print('b is greater')"
   ]
  },
  {
   "cell_type": "code",
   "execution_count": null,
   "id": "06af77a7-6739-4958-bb19-a39ba2a7e91f",
   "metadata": {},
   "outputs": [],
   "source": [
    "a = 40\n",
    "b = 30\n",
    "if a > b:\n",
    "    print('a is greater')\n",
    "elif a == b:\n",
    "    print('a is equal to b')\n",
    "else:\n",
    "    print('b is greater')"
   ]
  },
  {
   "cell_type": "code",
   "execution_count": null,
   "id": "abec95ec-0065-482a-a0c0-68dc444dbf2c",
   "metadata": {},
   "outputs": [],
   "source": [
    "a = 40\n",
    "b = 30\n",
    "if a > b:\n",
    "    print('a is greater')\n",
    "elif a == b:\n",
    "    print('a is equal to b')\n",
    "else:\n",
    "    print('b is greater')"
   ]
  },
  {
   "cell_type": "code",
   "execution_count": null,
   "id": "96856ca8-a0e9-4e7d-8ec9-27efae6bb28d",
   "metadata": {},
   "outputs": [],
   "source": [
    "a = 40\n",
    "b = 30\n",
    "if a > b:\n",
    "    print('a is greater')\n",
    "elif a == b:\n",
    "    print('a is equal to b')\n",
    "else:\n",
    "    print('b is greater')"
   ]
  },
  {
   "cell_type": "code",
   "execution_count": null,
   "id": "0b4ba2df-78de-40ef-bb5b-d1d08c616440",
   "metadata": {},
   "outputs": [],
   "source": [
    "a = 40\n",
    "b = 30\n",
    "if a > b:\n",
    "    print('a is greater')\n",
    "elif a == b:\n",
    "    print('a is equal to b')\n",
    "else:\n",
    "    print('b is greater')"
   ]
  },
  {
   "cell_type": "code",
   "execution_count": null,
   "id": "24d65b9c-a6e3-4c5b-90c6-7568f633c953",
   "metadata": {},
   "outputs": [],
   "source": [
    "a = 40\n",
    "b = 30\n",
    "if a > b:\n",
    "    print('a is greater')\n",
    "elif a == b:\n",
    "    print('a is equal to b')\n",
    "else:\n",
    "    print('b is greater')"
   ]
  },
  {
   "cell_type": "code",
   "execution_count": null,
   "id": "88178cda-f1e8-4ef2-8fcf-ee6f8cb1a930",
   "metadata": {},
   "outputs": [],
   "source": [
    "a = 40\n",
    "b = 30\n",
    "if a > b:\n",
    "    print('a is greater')\n",
    "elif a == b:\n",
    "    print('a is equal to b')\n",
    "else:\n",
    "    print('b is greater')"
   ]
  },
  {
   "cell_type": "code",
   "execution_count": null,
   "id": "1e79b162-b9b7-484e-8519-d93bb37f7a10",
   "metadata": {},
   "outputs": [],
   "source": [
    "a = 40\n",
    "b = 30\n",
    "if a > b:\n",
    "    print('a is greater')\n",
    "elif a == b:\n",
    "    print('a is equal to b')\n",
    "else:\n",
    "    print('b is greater')"
   ]
  },
  {
   "cell_type": "code",
   "execution_count": null,
   "id": "94f014b5-6172-4068-83b7-24a15da47e9f",
   "metadata": {},
   "outputs": [],
   "source": [
    "a = 40\n",
    "b = 30\n",
    "if a > b:\n",
    "    print('a is greater')\n",
    "elif a == b:\n",
    "    print('a is equal to b')\n",
    "else:\n",
    "    print('b is greater')"
   ]
  },
  {
   "cell_type": "code",
   "execution_count": null,
   "id": "5c3eb726-c14f-4f03-b591-08ec60fa3f0f",
   "metadata": {},
   "outputs": [],
   "source": [
    "a = 40\n",
    "b = 30\n",
    "if a > b:\n",
    "    print('a is greater')\n",
    "elif a == b:\n",
    "    print('a is equal to b')\n",
    "else:\n",
    "    print('b is greater')"
   ]
  },
  {
   "cell_type": "code",
   "execution_count": null,
   "id": "76d2e52a-db75-43ff-9f02-1d0cd5b1aeb1",
   "metadata": {},
   "outputs": [],
   "source": [
    "a = 40\n",
    "b = 30\n",
    "if a > b:\n",
    "    print('a is greater')\n",
    "elif a == b:\n",
    "    print('a is equal to b')\n",
    "else:\n",
    "    print('b is greater')"
   ]
  },
  {
   "cell_type": "code",
   "execution_count": null,
   "id": "179201e2-7ca1-4be3-afdc-ec9486b00742",
   "metadata": {},
   "outputs": [],
   "source": [
    "a = 40\n",
    "b = 30\n",
    "if a > b:\n",
    "    print('a is greater')\n",
    "elif a == b:\n",
    "    print('a is equal to b')\n",
    "else:\n",
    "    print('b is greater')"
   ]
  },
  {
   "cell_type": "code",
   "execution_count": null,
   "id": "7a2087e8-4733-4330-a9e4-ec48b3eb5823",
   "metadata": {},
   "outputs": [],
   "source": [
    "a = 40\n",
    "b = 30\n",
    "if a > b:\n",
    "    print('a is greater')\n",
    "elif a == b:\n",
    "    print('a is equal to b')\n",
    "else:\n",
    "    print('b is greater')"
   ]
  },
  {
   "cell_type": "code",
   "execution_count": null,
   "id": "e0365044-8bf7-4331-84bc-58fc52f7e13a",
   "metadata": {},
   "outputs": [],
   "source": [
    "a = 40\n",
    "b = 30\n",
    "if a > b:\n",
    "    print('a is greater')\n",
    "elif a == b:\n",
    "    print('a is equal to b')\n",
    "else:\n",
    "    print('b is greater')"
   ]
  },
  {
   "cell_type": "code",
   "execution_count": null,
   "id": "e8002d4f-c0f7-445e-bedc-7deb28882924",
   "metadata": {},
   "outputs": [],
   "source": [
    "a = 40\n",
    "b = 30\n",
    "if a > b:\n",
    "    print('a is greater')\n",
    "elif a == b:\n",
    "    print('a is equal to b')\n",
    "else:\n",
    "    print('b is greater')"
   ]
  },
  {
   "cell_type": "code",
   "execution_count": null,
   "id": "d13f2f89-d233-49af-b495-eb4efbb1f555",
   "metadata": {},
   "outputs": [],
   "source": [
    "a = 40\n",
    "b = 30\n",
    "if a > b:\n",
    "    print('a is greater')\n",
    "elif a == b:\n",
    "    print('a is equal to b')\n",
    "else:\n",
    "    print('b is greater')"
   ]
  },
  {
   "cell_type": "code",
   "execution_count": null,
   "id": "56fcf2c9-5ce8-4a93-a31f-96c7b5231d70",
   "metadata": {},
   "outputs": [],
   "source": [
    "a = 40\n",
    "b = 30\n",
    "if a > b:\n",
    "    print('a is greater')\n",
    "elif a == b:\n",
    "    print('a is equal to b')\n",
    "else:\n",
    "    print('b is greater')"
   ]
  },
  {
   "cell_type": "code",
   "execution_count": null,
   "id": "0327512e-d2b5-4c7c-9b2e-332dc21989c9",
   "metadata": {},
   "outputs": [],
   "source": [
    "a = 40\n",
    "b = 30\n",
    "if a > b:\n",
    "    print('a is greater')\n",
    "elif a == b:\n",
    "    print('a is equal to b')\n",
    "else:\n",
    "    print('b is greater')"
   ]
  },
  {
   "cell_type": "code",
   "execution_count": null,
   "id": "9f825754-a7a5-45f5-8166-5e012143e5fb",
   "metadata": {},
   "outputs": [],
   "source": [
    "a = 40\n",
    "b = 30\n",
    "if a > b:\n",
    "    print('a is greater')\n",
    "elif a == b:\n",
    "    print('a is equal to b')\n",
    "else:\n",
    "    print('b is greater')"
   ]
  },
  {
   "cell_type": "code",
   "execution_count": null,
   "id": "d2ced7f1-943c-4cdb-bf40-61bcce32b481",
   "metadata": {},
   "outputs": [],
   "source": [
    "a = 40\n",
    "b = 30\n",
    "if a > b:\n",
    "    print('a is greater')\n",
    "elif a == b:\n",
    "    print('a is equal to b')\n",
    "else:\n",
    "    print('b is greater')"
   ]
  },
  {
   "cell_type": "code",
   "execution_count": null,
   "id": "b9145b80-8650-46e8-8d82-b0acd786b5bf",
   "metadata": {},
   "outputs": [],
   "source": [
    "a = 40\n",
    "b = 30\n",
    "if a > b:\n",
    "    print('a is greater')\n",
    "elif a == b:\n",
    "    print('a is equal to b')\n",
    "else:\n",
    "    print('b is greater')"
   ]
  },
  {
   "cell_type": "code",
   "execution_count": null,
   "id": "9b836b58-8f0b-4bbf-bb6a-de4058322321",
   "metadata": {},
   "outputs": [],
   "source": [
    "a = 40\n",
    "b = 30\n",
    "if a > b:\n",
    "    print('a is greater')\n",
    "elif a == b:\n",
    "    print('a is equal to b')\n",
    "else:\n",
    "    print('b is greater')"
   ]
  },
  {
   "cell_type": "code",
   "execution_count": null,
   "id": "95a336e7-acbd-4b28-b7a2-8d297baddd3c",
   "metadata": {},
   "outputs": [],
   "source": [
    "a = 40\n",
    "b = 30\n",
    "if a > b:\n",
    "    print('a is greater')\n",
    "elif a == b:\n",
    "    print('a is equal to b')\n",
    "else:\n",
    "    print('b is greater')"
   ]
  },
  {
   "cell_type": "code",
   "execution_count": null,
   "id": "21435c9a-e06b-4880-b3ba-c6e0d98c26fa",
   "metadata": {},
   "outputs": [],
   "source": [
    "a = 40\n",
    "b = 30\n",
    "if a > b:\n",
    "    print('a is greater')\n",
    "elif a == b:\n",
    "    print('a is equal to b')\n",
    "else:\n",
    "    print('b is greater')"
   ]
  },
  {
   "cell_type": "code",
   "execution_count": null,
   "id": "ebb551b3-cd14-4ade-b166-ccbb1965f8a7",
   "metadata": {},
   "outputs": [],
   "source": [
    "a = 40\n",
    "b = 30\n",
    "if a > b:\n",
    "    print('a is greater')\n",
    "elif a == b:\n",
    "    print('a is equal to b')\n",
    "else:\n",
    "    print('b is greater')"
   ]
  },
  {
   "cell_type": "code",
   "execution_count": null,
   "id": "2ddab1f8-8d70-4fc4-920b-a4dc6436a6e6",
   "metadata": {},
   "outputs": [],
   "source": [
    "a = 40\n",
    "b = 30\n",
    "if a > b:\n",
    "    print('a is greater')\n",
    "elif a == b:\n",
    "    print('a is equal to b')\n",
    "else:\n",
    "    print('b is greater')"
   ]
  },
  {
   "cell_type": "code",
   "execution_count": null,
   "id": "98df2a8f-079f-4ced-ae28-fbd6b6d76082",
   "metadata": {},
   "outputs": [],
   "source": [
    "a = 40\n",
    "b = 30\n",
    "if a > b:\n",
    "    print('a is greater')\n",
    "elif a == b:\n",
    "    print('a is equal to b')\n",
    "else:\n",
    "    print('b is greater')"
   ]
  },
  {
   "cell_type": "code",
   "execution_count": null,
   "id": "5f12a39b-adb9-49dd-852f-99ad5a00a24b",
   "metadata": {},
   "outputs": [],
   "source": [
    "a = 40\n",
    "b = 30\n",
    "if a > b:\n",
    "    print('a is greater')\n",
    "elif a == b:\n",
    "    print('a is equal to b')\n",
    "else:\n",
    "    print('b is greater')"
   ]
  },
  {
   "cell_type": "code",
   "execution_count": null,
   "id": "67af1bb4-dcda-487c-b853-5df75da00677",
   "metadata": {},
   "outputs": [],
   "source": [
    "a = 40\n",
    "b = 30\n",
    "if a > b:\n",
    "    print('a is greater')\n",
    "elif a == b:\n",
    "    print('a is equal to b')\n",
    "else:\n",
    "    print('b is greater')"
   ]
  },
  {
   "cell_type": "code",
   "execution_count": null,
   "id": "c27f5d96-bfc3-465d-b96b-1ebdac65f325",
   "metadata": {},
   "outputs": [],
   "source": [
    "a = 40\n",
    "b = 30\n",
    "if a > b:\n",
    "    print('a is greater')\n",
    "elif a == b:\n",
    "    print('a is equal to b')\n",
    "else:\n",
    "    print('b is greater')"
   ]
  },
  {
   "cell_type": "code",
   "execution_count": null,
   "id": "da05256f-83b7-4fac-9dd2-6c68fdd4f6f2",
   "metadata": {},
   "outputs": [],
   "source": [
    "a = 40\n",
    "b = 30\n",
    "if a > b:\n",
    "    print('a is greater')\n",
    "elif a == b:\n",
    "    print('a is equal to b')\n",
    "else:\n",
    "    print('b is greater')"
   ]
  },
  {
   "cell_type": "code",
   "execution_count": null,
   "id": "e8b1ac82-b031-4d99-8d54-47fe093c58f1",
   "metadata": {},
   "outputs": [],
   "source": [
    "a = 40\n",
    "b = 30\n",
    "if a > b:\n",
    "    print('a is greater')\n",
    "elif a == b:\n",
    "    print('a is equal to b')\n",
    "else:\n",
    "    print('b is greater')"
   ]
  },
  {
   "cell_type": "code",
   "execution_count": null,
   "id": "04cd21f4-6b89-48c9-9adb-51a83f9d6e4c",
   "metadata": {},
   "outputs": [],
   "source": [
    "a = 40\n",
    "b = 30\n",
    "if a > b:\n",
    "    print('a is greater')\n",
    "elif a == b:\n",
    "    print('a is equal to b')\n",
    "else:\n",
    "    print('b is greater')"
   ]
  },
  {
   "cell_type": "code",
   "execution_count": null,
   "id": "7b2dbe08-d416-4f17-b81e-cb1da4c9cbd6",
   "metadata": {},
   "outputs": [],
   "source": [
    "a = 40\n",
    "b = 30\n",
    "if a > b:\n",
    "    print('a is greater')\n",
    "elif a == b:\n",
    "    print('a is equal to b')\n",
    "else:\n",
    "    print('b is greater')"
   ]
  },
  {
   "cell_type": "code",
   "execution_count": null,
   "id": "82dd2677-dcf5-4afd-ac82-6f4781e0b102",
   "metadata": {},
   "outputs": [],
   "source": [
    "a = 40\n",
    "b = 30\n",
    "if a > b:\n",
    "    print('a is greater')\n",
    "elif a == b:\n",
    "    print('a is equal to b')\n",
    "else:\n",
    "    print('b is greater')"
   ]
  },
  {
   "cell_type": "code",
   "execution_count": null,
   "id": "a5b888b8-f2eb-449a-a48b-3ba85f5a2db9",
   "metadata": {},
   "outputs": [],
   "source": [
    "a = 40\n",
    "b = 30\n",
    "if a > b:\n",
    "    print('a is greater')\n",
    "elif a == b:\n",
    "    print('a is equal to b')\n",
    "else:\n",
    "    print('b is greater')"
   ]
  },
  {
   "cell_type": "code",
   "execution_count": null,
   "id": "a05bba98-d37e-469d-86eb-427cde52ad22",
   "metadata": {},
   "outputs": [],
   "source": [
    "a = 40\n",
    "b = 30\n",
    "if a > b:\n",
    "    print('a is greater')\n",
    "elif a == b:\n",
    "    print('a is equal to b')\n",
    "else:\n",
    "    print('b is greater')"
   ]
  },
  {
   "cell_type": "code",
   "execution_count": null,
   "id": "452bb425-ac09-4187-8172-1efb01b466e4",
   "metadata": {},
   "outputs": [],
   "source": [
    "a = 40\n",
    "b = 30\n",
    "if a > b:\n",
    "    print('a is greater')\n",
    "elif a == b:\n",
    "    print('a is equal to b')\n",
    "else:\n",
    "    print('b is greater')"
   ]
  },
  {
   "cell_type": "code",
   "execution_count": null,
   "id": "8044c100-1cfc-4d6e-848f-d14e7506bd70",
   "metadata": {},
   "outputs": [],
   "source": [
    "a = 40\n",
    "b = 30\n",
    "if a > b:\n",
    "    print('a is greater')\n",
    "elif a == b:\n",
    "    print('a is equal to b')\n",
    "else:\n",
    "    print('b is greater')"
   ]
  },
  {
   "cell_type": "code",
   "execution_count": null,
   "id": "d186db7b-b09e-4e69-9739-453b711e91db",
   "metadata": {},
   "outputs": [],
   "source": [
    "a = 40\n",
    "b = 30\n",
    "if a > b:\n",
    "    print('a is greater')\n",
    "elif a == b:\n",
    "    print('a is equal to b')\n",
    "else:\n",
    "    print('b is greater')"
   ]
  },
  {
   "cell_type": "code",
   "execution_count": null,
   "id": "4518300d-c58c-471c-badb-66439d54fc4c",
   "metadata": {},
   "outputs": [],
   "source": [
    "a = 40\n",
    "b = 30\n",
    "if a > b:\n",
    "    print('a is greater')\n",
    "elif a == b:\n",
    "    print('a is equal to b')\n",
    "else:\n",
    "    print('b is greater')"
   ]
  },
  {
   "cell_type": "code",
   "execution_count": null,
   "id": "151eb9da-ad18-4317-8f01-361a16ed46b7",
   "metadata": {},
   "outputs": [],
   "source": [
    "a = 40\n",
    "b = 30\n",
    "if a > b:\n",
    "    print('a is greater')\n",
    "elif a == b:\n",
    "    print('a is equal to b')\n",
    "else:\n",
    "    print('b is greater')"
   ]
  },
  {
   "cell_type": "code",
   "execution_count": null,
   "id": "6a3967a2-24f2-4527-9681-4f50c995fe43",
   "metadata": {},
   "outputs": [],
   "source": [
    "a = 40\n",
    "b = 30\n",
    "if a > b:\n",
    "    print('a is greater')\n",
    "elif a == b:\n",
    "    print('a is equal to b')\n",
    "else:\n",
    "    print('b is greater')"
   ]
  },
  {
   "cell_type": "code",
   "execution_count": null,
   "id": "a624b586-cb9a-4716-bf9d-11ab78d23a1d",
   "metadata": {},
   "outputs": [],
   "source": [
    "a = 40\n",
    "b = 30\n",
    "if a > b:\n",
    "    print('a is greater')\n",
    "elif a == b:\n",
    "    print('a is equal to b')\n",
    "else:\n",
    "    print('b is greater')"
   ]
  },
  {
   "cell_type": "code",
   "execution_count": null,
   "id": "83e916c3-f2cb-44cc-9dd0-bbb0eb482032",
   "metadata": {},
   "outputs": [],
   "source": [
    "a = 40\n",
    "b = 30\n",
    "if a > b:\n",
    "    print('a is greater')\n",
    "elif a == b:\n",
    "    print('a is equal to b')\n",
    "else:\n",
    "    print('b is greater')"
   ]
  },
  {
   "cell_type": "code",
   "execution_count": null,
   "id": "1fb997b1-6afb-4b37-8014-19727c35810c",
   "metadata": {},
   "outputs": [],
   "source": [
    "a = 40\n",
    "b = 30\n",
    "if a > b:\n",
    "    print('a is greater')\n",
    "elif a == b:\n",
    "    print('a is equal to b')\n",
    "else:\n",
    "    print('b is greater')"
   ]
  },
  {
   "cell_type": "code",
   "execution_count": null,
   "id": "087fa177-42d4-4a94-8814-f87a7bfda970",
   "metadata": {},
   "outputs": [],
   "source": [
    "a = 40\n",
    "b = 30\n",
    "if a > b:\n",
    "    print('a is greater')\n",
    "elif a == b:\n",
    "    print('a is equal to b')\n",
    "else:\n",
    "    print('b is greater')"
   ]
  },
  {
   "cell_type": "code",
   "execution_count": null,
   "id": "c13f35a1-e112-4374-85b4-452e933a8412",
   "metadata": {},
   "outputs": [],
   "source": [
    "a = 40\n",
    "b = 30\n",
    "if a > b:\n",
    "    print('a is greater')\n",
    "elif a == b:\n",
    "    print('a is equal to b')\n",
    "else:\n",
    "    print('b is greater')"
   ]
  },
  {
   "cell_type": "code",
   "execution_count": null,
   "id": "d66ab713-9109-4fc7-b2a1-12df5d2d30a4",
   "metadata": {},
   "outputs": [],
   "source": [
    "a = 40\n",
    "b = 30\n",
    "if a > b:\n",
    "    print('a is greater')\n",
    "elif a == b:\n",
    "    print('a is equal to b')\n",
    "else:\n",
    "    print('b is greater')"
   ]
  },
  {
   "cell_type": "code",
   "execution_count": null,
   "id": "2feb4137-bb5e-4481-8897-ceff8865063d",
   "metadata": {},
   "outputs": [],
   "source": [
    "a = 40\n",
    "b = 30\n",
    "if a > b:\n",
    "    print('a is greater')\n",
    "elif a == b:\n",
    "    print('a is equal to b')\n",
    "else:\n",
    "    print('b is greater')"
   ]
  },
  {
   "cell_type": "code",
   "execution_count": null,
   "id": "6b494297-a519-4b19-a9c5-5cfcdaa8e6a5",
   "metadata": {},
   "outputs": [],
   "source": [
    "a = 40\n",
    "b = 30\n",
    "if a > b:\n",
    "    print('a is greater')\n",
    "elif a == b:\n",
    "    print('a is equal to b')\n",
    "else:\n",
    "    print('b is greater')"
   ]
  },
  {
   "cell_type": "code",
   "execution_count": null,
   "id": "9bfc5112-8b87-4b83-88b1-c7fa6b72bb11",
   "metadata": {},
   "outputs": [],
   "source": [
    "a = 40\n",
    "b = 30\n",
    "if a > b:\n",
    "    print('a is greater')\n",
    "elif a == b:\n",
    "    print('a is equal to b')\n",
    "else:\n",
    "    print('b is greater')"
   ]
  },
  {
   "cell_type": "code",
   "execution_count": null,
   "id": "c7a9b8d0-be89-4cd2-9e17-97adb52b5b8a",
   "metadata": {},
   "outputs": [],
   "source": [
    "a = 40\n",
    "b = 30\n",
    "if a > b:\n",
    "    print('a is greater')\n",
    "elif a == b:\n",
    "    print('a is equal to b')\n",
    "else:\n",
    "    print('b is greater')"
   ]
  },
  {
   "cell_type": "code",
   "execution_count": null,
   "id": "0c57984b-b1b9-459d-bcbc-e08989ae4d59",
   "metadata": {},
   "outputs": [],
   "source": [
    "a = 40\n",
    "b = 30\n",
    "if a > b:\n",
    "    print('a is greater')\n",
    "elif a == b:\n",
    "    print('a is equal to b')\n",
    "else:\n",
    "    print('b is greater')"
   ]
  },
  {
   "cell_type": "code",
   "execution_count": null,
   "id": "0eb63efe-65ad-49d6-928a-cbcc290c7ce3",
   "metadata": {},
   "outputs": [],
   "source": [
    "a = 40\n",
    "b = 30\n",
    "if a > b:\n",
    "    print('a is greater')\n",
    "elif a == b:\n",
    "    print('a is equal to b')\n",
    "else:\n",
    "    print('b is greater')"
   ]
  },
  {
   "cell_type": "code",
   "execution_count": null,
   "id": "96ffc85f-0d7e-4f41-bd9e-6ffbc9ddab80",
   "metadata": {},
   "outputs": [],
   "source": [
    "a = 40\n",
    "b = 30\n",
    "if a > b:\n",
    "    print('a is greater')\n",
    "elif a == b:\n",
    "    print('a is equal to b')\n",
    "else:\n",
    "    print('b is greater')"
   ]
  }
 ],
 "metadata": {
  "kernelspec": {
   "display_name": "Python 3 (ipykernel)",
   "language": "python",
   "name": "python3"
  },
  "language_info": {
   "codemirror_mode": {
    "name": "ipython",
    "version": 3
   },
   "file_extension": ".py",
   "mimetype": "text/x-python",
   "name": "python",
   "nbconvert_exporter": "python",
   "pygments_lexer": "ipython3",
   "version": "3.11.13"
  }
 },
 "nbformat": 4,
 "nbformat_minor": 5
}
