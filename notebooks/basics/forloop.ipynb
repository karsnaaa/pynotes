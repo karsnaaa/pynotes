{
 "cells": [
  {
   "cell_type": "code",
   "execution_count": null,
   "id": "5eb88213-796f-4ddf-831b-cd2089252f6b",
   "metadata": {},
   "outputs": [],
   "source": [
    "# Step 1: Import time for delay demo\n",
    "import time\n"
   ]
  },
  {
   "cell_type": "code",
   "execution_count": null,
   "id": "26627b22-024a-4f8d-9083-af9cc9415c70",
   "metadata": {},
   "outputs": [],
   "source": [
    "\n",
    "print(\"📘 Welcome to the Square Generator\")\n"
   ]
  },
  {
   "cell_type": "code",
   "execution_count": null,
   "id": "1af128f1-7652-44bc-a950-6be2b86a1b8c",
   "metadata": {},
   "outputs": [],
   "source": [
    "# Step 4: Start loop\n",
    "for i in range(1, 11):\n"
   ]
  },
  {
   "cell_type": "code",
   "execution_count": null,
   "id": "087a8435-cad6-42e7-b380-1abf01a40c4c",
   "metadata": {},
   "outputs": [],
   "source": [
    "    # Loop Step 1\n",
    "    print(f\"🔁 Looping... i = {i}\")\n"
   ]
  },
  {
   "cell_type": "code",
   "execution_count": null,
   "id": "717317b7-aa0d-41b5-ae2a-5441a081a83d",
   "metadata": {},
   "outputs": [],
   "source": [
    "    # Pause for visibility\n",
    "    time.sleep(0.2)\n"
   ]
  },
  {
   "cell_type": "code",
   "execution_count": null,
   "id": "d10384e0-75d3-4da0-bb6b-cbb566032c81",
   "metadata": {},
   "outputs": [],
   "source": [
    "    # Calculate square\n",
    "    square = i ** 2\n"
   ]
  },
  {
   "cell_type": "code",
   "execution_count": null,
   "id": "49f8dc6a-e976-4403-a5a4-350296021cda",
   "metadata": {},
   "outputs": [],
   "source": [
    "    # Print square\n",
    "    print(f\"🔢 Square of {i} is {square}\")\n"
   ]
  },
  {
   "cell_type": "code",
   "execution_count": null,
   "id": "2a101be5-04c0-47ea-b989-963bdebf88cf",
   "metadata": {},
   "outputs": [],
   "source": [
    "# After loop: show summary\n",
    "print(\"✅ Loop complete\")\n"
   ]
  },
  {
   "cell_type": "code",
   "execution_count": null,
   "id": "f82eeef1-e2de-4896-9ddf-50fc9382450d",
   "metadata": {},
   "outputs": [],
   "source": [
    "# Now let’s visualize the data\n",
    "import matplotlib.pyplot as plt\n"
   ]
  },
  {
   "cell_type": "code",
   "execution_count": null,
   "id": "34ab28dc-c411-4872-9f6c-417f53209af8",
   "metadata": {},
   "outputs": [],
   "source": [
    "x = list(range(1, 11))\n",
    "y = squares\n"
   ]
  },
  {
   "cell_type": "code",
   "execution_count": null,
   "id": "76ee16ad-52ed-4345-88fd-4ab13994f2ba",
   "metadata": {},
   "outputs": [],
   "source": [
    "plt.plot(x, y, marker='o')\n"
   ]
  },
  {
   "cell_type": "code",
   "execution_count": null,
   "id": "a780b461-be98-4d9d-b8ab-0fc54c49167a",
   "metadata": {},
   "outputs": [],
   "source": [
    "plt.title(\"Squares of Numbers\")\n"
   ]
  },
  {
   "cell_type": "code",
   "execution_count": null,
   "id": "99c94245-bd43-498c-93a8-705d6a3b1215",
   "metadata": {},
   "outputs": [],
   "source": [
    "plt.xlabel(\"Number\")\n"
   ]
  },
  {
   "cell_type": "code",
   "execution_count": null,
   "id": "b8f8c2c2-09a0-4ca8-93e3-1d085b75d9d1",
   "metadata": {},
   "outputs": [],
   "source": [
    "plt.grid(True)\n"
   ]
  },
  {
   "cell_type": "code",
   "execution_count": null,
   "id": "b25ae025-1765-4527-959b-7f894a505cba",
   "metadata": {},
   "outputs": [],
   "source": [
    "plt.show()\n"
   ]
  },
  {
   "cell_type": "code",
   "execution_count": null,
   "id": "142992ff-10a2-4bb4-8e09-03d668391bd8",
   "metadata": {},
   "outputs": [],
   "source": [
    "# Let's show individual items again for recap\n"
   ]
  },
  {
   "cell_type": "code",
   "execution_count": null,
   "id": "27de4366-96c9-4347-b634-2036a584b71d",
   "metadata": {},
   "outputs": [],
   "source": [
    "for index, value in enumerate(squares):\n"
   ]
  },
  {
   "cell_type": "code",
   "execution_count": null,
   "id": "4f907ea9-5af7-4e3f-a574-2f2e28487d4b",
   "metadata": {},
   "outputs": [],
   "source": [
    "    print(f\"{index+1}^2 = {value}\")\n"
   ]
  },
  {
   "cell_type": "code",
   "execution_count": null,
   "id": "fdc365ef-488e-40da-b2d3-0ed794d101bb",
   "metadata": {},
   "outputs": [],
   "source": [
    "squares2 = [i**2 for i in range(1, 11)]\n"
   ]
  },
  {
   "cell_type": "code",
   "execution_count": null,
   "id": "084d6b81-179c-41f3-a3eb-b461a15d24bb",
   "metadata": {},
   "outputs": [],
   "source": [
    "print(\"Using list comprehension:\", squares2)\n"
   ]
  },
  {
   "cell_type": "code",
   "execution_count": 1,
   "id": "c3feabd1-fb04-4324-89ab-7c3e6218cb2f",
   "metadata": {},
   "outputs": [
    {
     "name": "stdout",
     "output_type": "stream",
     "text": [
      "🎉 Program Finished!\n"
     ]
    }
   ],
   "source": [
    "print(\"🎉 Program Finished!\")\n"
   ]
  },
  {
   "cell_type": "code",
   "execution_count": null,
   "id": "b9031c36-041d-4863-a1bc-12a2cb8b5251",
   "metadata": {},
   "outputs": [],
   "source": []
  },
  {
   "cell_type": "code",
   "execution_count": null,
   "id": "9ec5790e-d4ec-45cb-a050-d6f3defef7b2",
   "metadata": {},
   "outputs": [],
   "source": []
  }
 ],
 "metadata": {
  "kernelspec": {
   "display_name": "Python 3 (ipykernel)",
   "language": "python",
   "name": "python3"
  },
  "language_info": {
   "codemirror_mode": {
    "name": "ipython",
    "version": 3
   },
   "file_extension": ".py",
   "mimetype": "text/x-python",
   "name": "python",
   "nbconvert_exporter": "python",
   "pygments_lexer": "ipython3",
   "version": "3.11.13"
  }
 },
 "nbformat": 4,
 "nbformat_minor": 5
}
