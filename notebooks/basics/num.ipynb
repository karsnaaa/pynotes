{
 "cells": [
  {
   "cell_type": "code",
   "execution_count": null,
   "id": "9d7098cb-735d-458f-bb3c-f239b77bc168",
   "metadata": {},
   "outputs": [],
   "source": [
    "a = 1\n",
    "b = 1 * 2\n",
    "print(f'Result: {a + b}')"
   ]
  },
  {
   "cell_type": "code",
   "execution_count": null,
   "id": "6d30943f-e989-4fab-bd05-26830ee96e56",
   "metadata": {},
   "outputs": [],
   "source": [
    "a = 2\n",
    "b = 2 * 2\n",
    "print(f'Result: {a + b}')"
   ]
  },
  {
   "cell_type": "code",
   "execution_count": null,
   "id": "1ab43c93-93e6-4628-be21-c89f30f37f70",
   "metadata": {},
   "outputs": [],
   "source": [
    "a = 3\n",
    "b = 3 * 2\n",
    "print(f'Result: {a + b}')"
   ]
  },
  {
   "cell_type": "code",
   "execution_count": null,
   "id": "6954a9c3-eb3c-4ade-a9b8-2e7acbfa9b7d",
   "metadata": {},
   "outputs": [],
   "source": [
    "a = 4\n",
    "b = 4 * 2\n",
    "print(f'Result: {a + b}')"
   ]
  },
  {
   "cell_type": "code",
   "execution_count": null,
   "id": "c39ad501-4ecc-4f71-bb5c-e5cd6ac84282",
   "metadata": {},
   "outputs": [],
   "source": [
    "a = 5\n",
    "b = 5 * 2\n",
    "print(f'Result: {a + b}')"
   ]
  },
  {
   "cell_type": "code",
   "execution_count": null,
   "id": "b10350a4-f2b2-4555-85f0-f5686bc82fab",
   "metadata": {},
   "outputs": [],
   "source": [
    "a = 7\n",
    "b = 7 * 2\n",
    "print(f'Result: {a + b}')"
   ]
  },
  {
   "cell_type": "code",
   "execution_count": null,
   "id": "e61eaf0e-a7ec-4661-979b-229232c3bc4c",
   "metadata": {},
   "outputs": [],
   "source": [
    "a = 8\n",
    "b = 8 * 2\n",
    "print(f'Result: {a + b}')"
   ]
  },
  {
   "cell_type": "code",
   "execution_count": null,
   "id": "3f3431e0-8390-436c-9be8-b20d77d8152a",
   "metadata": {},
   "outputs": [],
   "source": [
    "a = 9\n",
    "b = 9 * 2\n",
    "print(f'Result: {a + b}')"
   ]
  },
  {
   "cell_type": "code",
   "execution_count": null,
   "id": "4395add0-88e0-4666-9c0e-48b5c6bc6ff1",
   "metadata": {},
   "outputs": [],
   "source": [
    "a = 10\n",
    "b = 10 * 2\n",
    "print(f'Result: {a + b}')"
   ]
  },
  {
   "cell_type": "code",
   "execution_count": null,
   "id": "504c5787-295e-4ba9-8bc5-7bfb1bc46919",
   "metadata": {},
   "outputs": [],
   "source": [
    "a = 11\n",
    "b = 11 * 2\n",
    "print(f'Result: {a + b}')"
   ]
  },
  {
   "cell_type": "code",
   "execution_count": null,
   "id": "db85ded7-1b93-48c7-a65c-36c490986fc0",
   "metadata": {},
   "outputs": [],
   "source": [
    "a = 12\n",
    "b = 12 * 2\n",
    "print(f'Result: {a + b}')"
   ]
  },
  {
   "cell_type": "code",
   "execution_count": null,
   "id": "b34faa04-bcb0-436b-9007-d084d5ee9ab7",
   "metadata": {},
   "outputs": [],
   "source": [
    "a = 13\n",
    "b = 13 * 2\n",
    "print(f'Result: {a + b}')"
   ]
  },
  {
   "cell_type": "code",
   "execution_count": null,
   "id": "e48902a6-08f2-44a2-9084-eb690c2ab209",
   "metadata": {},
   "outputs": [],
   "source": [
    "a = 14\n",
    "b = 14 * 2\n",
    "print(f'Result: {a + b}')"
   ]
  },
  {
   "cell_type": "code",
   "execution_count": null,
   "id": "a4f3e322-b923-4624-abc0-e70f0b9c75c8",
   "metadata": {},
   "outputs": [],
   "source": [
    "a = 15\n",
    "b = 15 * 2\n",
    "print(f'Result: {a + b}')"
   ]
  },
  {
   "cell_type": "code",
   "execution_count": null,
   "id": "a15aaf36-5e58-4cbf-8ee6-16a46e404730",
   "metadata": {},
   "outputs": [],
   "source": [
    "a = 16\n",
    "b = 16 * 2\n",
    "print(f'Result: {a + b}')"
   ]
  },
  {
   "cell_type": "code",
   "execution_count": null,
   "id": "c99b86fb-bf0d-4337-9559-15aad1731d64",
   "metadata": {},
   "outputs": [],
   "source": [
    "a = 17\n",
    "b = 17 * 2\n",
    "print(f'Result: {a + b}')"
   ]
  },
  {
   "cell_type": "code",
   "execution_count": null,
   "id": "5a98be25-5069-4596-954a-e4a37919ef05",
   "metadata": {},
   "outputs": [],
   "source": [
    "a = 18\n",
    "b = 18 * 2\n",
    "print(f'Result: {a + b}')"
   ]
  },
  {
   "cell_type": "code",
   "execution_count": null,
   "id": "01606cd7-12f8-431a-8d2c-702c862924bb",
   "metadata": {},
   "outputs": [],
   "source": [
    "a = 19\n",
    "b = 19 * 2\n",
    "print(f'Result: {a + b}')"
   ]
  },
  {
   "cell_type": "code",
   "execution_count": null,
   "id": "114b25eb-fe36-4f1e-bbe7-9294c8ddcb3e",
   "metadata": {},
   "outputs": [],
   "source": [
    "a = 20\n",
    "b = 20 * 2\n",
    "print(f'Result: {a + b}')"
   ]
  },
  {
   "cell_type": "code",
   "execution_count": null,
   "id": "290c6fec-caec-4b84-8e50-07724f698d09",
   "metadata": {},
   "outputs": [],
   "source": [
    "a = 21\n",
    "b = 21 * 2\n",
    "print(f'Result: {a + b}')"
   ]
  },
  {
   "cell_type": "code",
   "execution_count": null,
   "id": "7167fcc9-504e-4366-ad4f-28cbc3798abf",
   "metadata": {},
   "outputs": [],
   "source": [
    "a = 22\n",
    "b = 22 * 2\n",
    "print(f'Result: {a + b}')"
   ]
  },
  {
   "cell_type": "code",
   "execution_count": null,
   "id": "cf181374-a590-4a58-b355-aa513cde778a",
   "metadata": {},
   "outputs": [],
   "source": [
    "a = 23\n",
    "b = 23 * 2\n",
    "print(f'Result: {a + b}')"
   ]
  },
  {
   "cell_type": "code",
   "execution_count": null,
   "id": "1e714095-1262-42f0-9496-3bf922ae59f7",
   "metadata": {},
   "outputs": [],
   "source": [
    "a = 24\n",
    "b = 24 * 2\n",
    "print(f'Result: {a + b}')"
   ]
  },
  {
   "cell_type": "code",
   "execution_count": null,
   "id": "8b02fe5d-704a-47de-a532-8d298ee5d9ac",
   "metadata": {},
   "outputs": [],
   "source": [
    "a = 25\n",
    "b = 25 * 2\n",
    "print(f'Result: {a + b}')"
   ]
  },
  {
   "cell_type": "code",
   "execution_count": null,
   "id": "ecf4bd71-bf6f-457c-ac18-746fcca8a655",
   "metadata": {},
   "outputs": [],
   "source": [
    "a = 21\n",
    "b = 21 * 2\n",
    "print(f'Result: {a + b}')"
   ]
  },
  {
   "cell_type": "code",
   "execution_count": null,
   "id": "ba09c118-dcdd-46db-abb0-e561db4ae0f6",
   "metadata": {},
   "outputs": [],
   "source": [
    "a = 26\n",
    "b = 26 * 2\n",
    "print(f'Result: {a + b}')"
   ]
  },
  {
   "cell_type": "code",
   "execution_count": null,
   "id": "02f645d7-a225-4b3e-a46e-0fb1f2d81eaa",
   "metadata": {},
   "outputs": [],
   "source": [
    "a = 27\n",
    "b = 27 * 2\n",
    "print(f'Result: {a + b}')"
   ]
  },
  {
   "cell_type": "code",
   "execution_count": null,
   "id": "5d4177c2-6391-4eea-8c50-3c7969711cdb",
   "metadata": {},
   "outputs": [],
   "source": [
    "a = 21\n",
    "b = 21 * 2\n",
    "print(f'Result: {a + b}')"
   ]
  },
  {
   "cell_type": "code",
   "execution_count": null,
   "id": "c796eeb4-b336-462a-a51d-a7e42eb8e308",
   "metadata": {},
   "outputs": [],
   "source": [
    "a = 28\n",
    "b = 28 * 2\n",
    "print(f'Result: {a + b}')"
   ]
  },
  {
   "cell_type": "code",
   "execution_count": null,
   "id": "709477d7-3839-4e3c-8bd8-cf8cc9610eca",
   "metadata": {},
   "outputs": [],
   "source": [
    "a = 29\n",
    "b = 29 * 2\n",
    "print(f'Result: {a + b}')"
   ]
  },
  {
   "cell_type": "code",
   "execution_count": null,
   "id": "c4f97c0f-0a42-4152-b0b0-a5c24a07aa19",
   "metadata": {},
   "outputs": [],
   "source": [
    "a = 30\n",
    "b = 30 * 2\n",
    "print(f'Result: {a + b}')"
   ]
  },
  {
   "cell_type": "code",
   "execution_count": null,
   "id": "b96bf05e-acd4-4232-8e44-845574f709dc",
   "metadata": {},
   "outputs": [],
   "source": []
  }
 ],
 "metadata": {
  "kernelspec": {
   "display_name": "Python 3 (ipykernel)",
   "language": "python",
   "name": "python3"
  },
  "language_info": {
   "codemirror_mode": {
    "name": "ipython",
    "version": 3
   },
   "file_extension": ".py",
   "mimetype": "text/x-python",
   "name": "python",
   "nbconvert_exporter": "python",
   "pygments_lexer": "ipython3",
   "version": "3.11.13"
  }
 },
 "nbformat": 4,
 "nbformat_minor": 5
}
