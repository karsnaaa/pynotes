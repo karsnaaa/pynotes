{
 "cells": [
  {
   "cell_type": "code",
   "execution_count": null,
   "id": "052727b6-afe4-49b1-a6ed-f0492b869746",
   "metadata": {},
   "outputs": [],
   "source": [
    "# created :20250629"
   ]
  },
  {
   "cell_type": "code",
   "execution_count": null,
   "id": "497b2905-2641-4134-abda-8af34688586b",
   "metadata": {},
   "outputs": [],
   "source": [
    "# own code"
   ]
  },
  {
   "cell_type": "code",
   "execution_count": null,
   "id": "71592c64-a908-45d7-a685-ed6cc637485d",
   "metadata": {},
   "outputs": [],
   "source": [
    "string = input(\"Enter a string: \")\n",
    "count = 0\n",
    "for char in string:\n",
    "    count += 1\n",
    "print(\"Length of string is:\", count)"
   ]
  }
 ],
 "metadata": {
  "kernelspec": {
   "display_name": "Python 3 (ipykernel)",
   "language": "python",
   "name": "python3"
  },
  "language_info": {
   "codemirror_mode": {
    "name": "ipython",
    "version": 3
   },
   "file_extension": ".py",
   "mimetype": "text/x-python",
   "name": "python",
   "nbconvert_exporter": "python",
   "pygments_lexer": "ipython3",
   "version": "3.11.13"
  }
 },
 "nbformat": 4,
 "nbformat_minor": 5
}
