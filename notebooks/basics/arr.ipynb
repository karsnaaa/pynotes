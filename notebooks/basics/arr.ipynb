{
 "cells": [
  {
   "cell_type": "code",
   "execution_count": null,
   "id": "7e57cb23-f62b-47a9-894c-a43e155e96cd",
   "metadata": {},
   "outputs": [],
   "source": [
    "arr = list(range(80))\n",
    "sum_arr = sum(arr)\n",
    "print('Sum of array with 80 elements:', sum_arr)"
   ]
  },
  {
   "cell_type": "code",
   "execution_count": null,
   "id": "030e9613-677b-46bf-a556-05be775e9719",
   "metadata": {},
   "outputs": [],
   "source": [
    "arr = list(range(79))\n",
    "sum_arr = sum(arr)\n",
    "print('Sum of array with 80 elements:', sum_arr)"
   ]
  },
  {
   "cell_type": "code",
   "execution_count": null,
   "id": "b9e77037-9707-4634-9d15-410251765a00",
   "metadata": {},
   "outputs": [],
   "source": [
    "arr = list(range(78))\n",
    "sum_arr = sum(arr)\n",
    "print('Sum of array with 80 elements:', sum_arr)"
   ]
  },
  {
   "cell_type": "code",
   "execution_count": null,
   "id": "c46b6b7a-4f28-4c99-84af-60569ddeeee3",
   "metadata": {},
   "outputs": [],
   "source": [
    "arr = list(range(77))\n",
    "sum_arr = sum(arr)\n",
    "print('Sum of array with 80 elements:', sum_arr)"
   ]
  },
  {
   "cell_type": "code",
   "execution_count": null,
   "id": "861bc3a3-c467-4935-bca5-565308d5a428",
   "metadata": {},
   "outputs": [],
   "source": [
    "arr = list(range(76))\n",
    "sum_arr = sum(arr)\n",
    "print('Sum of array with 80 elements:', sum_arr)"
   ]
  },
  {
   "cell_type": "code",
   "execution_count": null,
   "id": "f85102d8-be61-44d2-b8c5-ed2111448434",
   "metadata": {},
   "outputs": [],
   "source": [
    "arr = list(range(75))\n",
    "sum_arr = sum(arr)\n",
    "print('Sum of array with 80 elements:', sum_arr)"
   ]
  },
  {
   "cell_type": "code",
   "execution_count": null,
   "id": "b7c36957-394a-4415-b923-ddd150042652",
   "metadata": {},
   "outputs": [],
   "source": [
    "arr = list(range(74))\n",
    "sum_arr = sum(arr)\n",
    "print('Sum of array with 80 elements:', sum_arr)"
   ]
  },
  {
   "cell_type": "code",
   "execution_count": null,
   "id": "a4b73453-841d-48ef-ba02-f72aa9fc5471",
   "metadata": {},
   "outputs": [],
   "source": [
    "arr = list(range(73))\n",
    "sum_arr = sum(arr)\n",
    "print('Sum of array with 80 elements:', sum_arr)"
   ]
  },
  {
   "cell_type": "code",
   "execution_count": null,
   "id": "8ab0110a-576c-4c8d-b2b0-adcc60d83276",
   "metadata": {},
   "outputs": [],
   "source": [
    "arr = list(range(72))\n",
    "sum_arr = sum(arr)\n",
    "print('Sum of array with 80 elements:', sum_arr)"
   ]
  },
  {
   "cell_type": "code",
   "execution_count": null,
   "id": "0f535fd1-43ac-4b70-bc2d-15357919704f",
   "metadata": {},
   "outputs": [],
   "source": [
    "arr = list(range(71))\n",
    "sum_arr = sum(arr)\n",
    "print('Sum of array with 80 elements:', sum_arr)"
   ]
  },
  {
   "cell_type": "code",
   "execution_count": null,
   "id": "281287c4-c7a0-4930-b663-ec3c417a152c",
   "metadata": {},
   "outputs": [],
   "source": [
    "arr = list(range(70))\n",
    "sum_arr = sum(arr)\n",
    "print('Sum of array with 80 elements:', sum_arr)"
   ]
  },
  {
   "cell_type": "code",
   "execution_count": null,
   "id": "7c074e28-3185-4368-a3a7-0bfe01dc625c",
   "metadata": {},
   "outputs": [],
   "source": [
    "arr = list(range(69))\n",
    "sum_arr = sum(arr)\n",
    "print('Sum of array with 80 elements:', sum_arr)"
   ]
  },
  {
   "cell_type": "code",
   "execution_count": null,
   "id": "57281cbb-22e4-4957-8d84-af07a5755f6b",
   "metadata": {},
   "outputs": [],
   "source": [
    "arr = list(range(68))\n",
    "sum_arr = sum(arr)\n",
    "print('Sum of array with 80 elements:', sum_arr)"
   ]
  },
  {
   "cell_type": "code",
   "execution_count": null,
   "id": "52ad6fa4-ec25-44ec-85fe-a49b124b2706",
   "metadata": {},
   "outputs": [],
   "source": [
    "arr = list(range(67))\n",
    "sum_arr = sum(arr)\n",
    "print('Sum of array with 80 elements:', sum_arr)"
   ]
  },
  {
   "cell_type": "code",
   "execution_count": null,
   "id": "d29c65f1-c8de-42da-9dfa-4e98b86f7e9d",
   "metadata": {},
   "outputs": [],
   "source": [
    "arr = list(range(66))\n",
    "sum_arr = sum(arr)\n",
    "print('Sum of array with 80 elements:', sum_arr)"
   ]
  },
  {
   "cell_type": "code",
   "execution_count": null,
   "id": "ef6bace5-c840-48cc-bc76-b6b6928fcbd5",
   "metadata": {},
   "outputs": [],
   "source": [
    "arr = list(range(65))\n",
    "sum_arr = sum(arr)\n",
    "print('Sum of array with 80 elements:', sum_arr)"
   ]
  },
  {
   "cell_type": "code",
   "execution_count": null,
   "id": "4a88f67b-c0f1-4fbf-b126-bd4e7c7f4693",
   "metadata": {},
   "outputs": [],
   "source": [
    "arr = list(range(64))\n",
    "sum_arr = sum(arr)\n",
    "print('Sum of array with 80 elements:', sum_arr)"
   ]
  },
  {
   "cell_type": "code",
   "execution_count": null,
   "id": "c1e59ac8-d481-42ee-877c-483f98950bf9",
   "metadata": {},
   "outputs": [],
   "source": [
    "arr = list(range(63))\n",
    "sum_arr = sum(arr)\n",
    "print('Sum of array with 80 elements:', sum_arr)"
   ]
  },
  {
   "cell_type": "code",
   "execution_count": null,
   "id": "f346d64c-fa58-4519-b7fb-99f642f8df9f",
   "metadata": {},
   "outputs": [],
   "source": [
    "arr = list(range(62))\n",
    "sum_arr = sum(arr)\n",
    "print('Sum of array with 80 elements:', sum_arr)"
   ]
  },
  {
   "cell_type": "code",
   "execution_count": null,
   "id": "9dba14f6-fe6b-4a6a-8417-8843f909adc0",
   "metadata": {},
   "outputs": [],
   "source": [
    "arr = list(range(61))\n",
    "sum_arr = sum(arr)\n",
    "print('Sum of array with 80 elements:', sum_arr)"
   ]
  },
  {
   "cell_type": "code",
   "execution_count": null,
   "id": "897e6e83-4f29-41cc-815a-347432875ccb",
   "metadata": {},
   "outputs": [],
   "source": [
    "arr = list(range(60))\n",
    "sum_arr = sum(arr)\n",
    "print('Sum of array with 80 elements:', sum_arr)"
   ]
  },
  {
   "cell_type": "code",
   "execution_count": null,
   "id": "e6a0b68f-efc3-4e79-aa3f-13d2dc61d324",
   "metadata": {},
   "outputs": [],
   "source": [
    "arr = list(range(59))\n",
    "sum_arr = sum(arr)\n",
    "print('Sum of array with 80 elements:', sum_arr)"
   ]
  },
  {
   "cell_type": "code",
   "execution_count": null,
   "id": "dc58793c-fb06-4181-beac-7311b0331baf",
   "metadata": {},
   "outputs": [],
   "source": [
    "arr = list(range(58))\n",
    "sum_arr = sum(arr)\n",
    "print('Sum of array with 80 elements:', sum_arr)"
   ]
  },
  {
   "cell_type": "code",
   "execution_count": null,
   "id": "01b71521-6ed5-457d-baad-8dbd246e59fd",
   "metadata": {},
   "outputs": [],
   "source": [
    "arr = list(range(57))\n",
    "sum_arr = sum(arr)\n",
    "print('Sum of array with 80 elements:', sum_arr)"
   ]
  },
  {
   "cell_type": "code",
   "execution_count": null,
   "id": "903ad3b0-58db-467a-b839-d764964ca4c3",
   "metadata": {},
   "outputs": [],
   "source": [
    "arr = list(range(56))\n",
    "sum_arr = sum(arr)\n",
    "print('Sum of array with 80 elements:', sum_arr)"
   ]
  },
  {
   "cell_type": "code",
   "execution_count": null,
   "id": "3fc617ad-74ce-4cef-889a-8d58de4cb3ca",
   "metadata": {},
   "outputs": [],
   "source": [
    "\n",
    "arr = list(range(55))\n",
    "sum_arr = sum(arr)\n",
    "print('Sum of array with 80 elements:', sum_arr)"
   ]
  },
  {
   "cell_type": "code",
   "execution_count": null,
   "id": "c8bfe83b-ebe4-44a7-8b70-de3a46559f85",
   "metadata": {},
   "outputs": [],
   "source": [
    "arr = list(range(54))\n",
    "sum_arr = sum(arr)\n",
    "print('Sum of array with 80 elements:', sum_arr)"
   ]
  },
  {
   "cell_type": "code",
   "execution_count": null,
   "id": "2725596f-dfd7-4115-808d-c32363be00fc",
   "metadata": {},
   "outputs": [],
   "source": [
    "arr = list(range(53))\n",
    "sum_arr = sum(arr)\n",
    "print('Sum of array with 80 elements:', sum_arr)"
   ]
  },
  {
   "cell_type": "code",
   "execution_count": null,
   "id": "ad48283f-42fe-4adf-ae84-44adcdb4f843",
   "metadata": {},
   "outputs": [],
   "source": [
    "arr = list(range(52))\n",
    "sum_arr = sum(arr)\n",
    "print('Sum of array with 80 elements:', sum_arr)"
   ]
  },
  {
   "cell_type": "code",
   "execution_count": null,
   "id": "76dd916f-7568-4271-8ee8-1bf70ac017e0",
   "metadata": {},
   "outputs": [],
   "source": [
    "arr = list(range(51))\n",
    "sum_arr = sum(arr)\n",
    "print('Sum of array with 80 elements:', sum_arr)"
   ]
  },
  {
   "cell_type": "code",
   "execution_count": null,
   "id": "ff06b8af-f6ba-4856-a248-b827953ea94c",
   "metadata": {},
   "outputs": [],
   "source": [
    "arr = list(range(50))\n",
    "sum_arr = sum(arr)\n",
    "print('Sum of array with 80 elements:', sum_arr)"
   ]
  },
  {
   "cell_type": "code",
   "execution_count": null,
   "id": "7c4b8b8a-6c51-4c22-881a-1baa0521e9ff",
   "metadata": {},
   "outputs": [],
   "source": [
    "arr = list(range(49))\n",
    "sum_arr = sum(arr)\n",
    "print('Sum of array with 80 elements:', sum_arr)"
   ]
  },
  {
   "cell_type": "code",
   "execution_count": null,
   "id": "1506c4a3-80e0-4cab-99b3-344aaf562467",
   "metadata": {},
   "outputs": [],
   "source": [
    "arr = list(range(48))\n",
    "sum_arr = sum(arr)\n",
    "print('Sum of array with 80 elements:', sum_arr)"
   ]
  },
  {
   "cell_type": "code",
   "execution_count": null,
   "id": "24256e7d-f616-494a-ac32-103fdd63b2d7",
   "metadata": {},
   "outputs": [],
   "source": [
    "arr = list(range(47))\n",
    "sum_arr = sum(arr)\n",
    "print('Sum of array with 80 elements:', sum_arr)"
   ]
  },
  {
   "cell_type": "code",
   "execution_count": null,
   "id": "b07051e1-6903-4e71-be05-b0505270992d",
   "metadata": {},
   "outputs": [],
   "source": [
    "arr = list(range(46))\n",
    "sum_arr = sum(arr)\n",
    "print('Sum of array with 80 elements:', sum_arr)"
   ]
  },
  {
   "cell_type": "code",
   "execution_count": null,
   "id": "488d199c-cd1f-4dbe-91c8-875d737c9d53",
   "metadata": {},
   "outputs": [],
   "source": [
    "arr = list(range(45))\n",
    "sum_arr = sum(arr)\n",
    "print('Sum of array with 80 elements:', sum_arr)"
   ]
  },
  {
   "cell_type": "code",
   "execution_count": null,
   "id": "c924d52a-83d0-4399-8f1b-8eda2f7be5d0",
   "metadata": {},
   "outputs": [],
   "source": [
    "arr = list(range(44))\n",
    "sum_arr = sum(arr)\n",
    "print('Sum of array with 80 elements:', sum_arr)"
   ]
  },
  {
   "cell_type": "code",
   "execution_count": null,
   "id": "b1c71f71-006e-4c6b-ad14-ffbee16fa935",
   "metadata": {},
   "outputs": [],
   "source": [
    "arr = list(range(43))\n",
    "sum_arr = sum(arr)\n",
    "print('Sum of array with 80 elements:', sum_arr)"
   ]
  },
  {
   "cell_type": "code",
   "execution_count": null,
   "id": "e27cfb7a-5f0a-464a-86e6-002e37fd1bdd",
   "metadata": {},
   "outputs": [],
   "source": [
    "arr = list(range(42))\n",
    "sum_arr = sum(arr)\n",
    "print('Sum of array with 80 elements:', sum_arr)"
   ]
  },
  {
   "cell_type": "code",
   "execution_count": null,
   "id": "06d9d9b0-7c09-4c75-b84c-e3dd5dd3a53b",
   "metadata": {},
   "outputs": [],
   "source": [
    "arr = list(range(41))\n",
    "sum_arr = sum(arr)\n",
    "print('Sum of array with 80 elements:', sum_arr)"
   ]
  },
  {
   "cell_type": "code",
   "execution_count": null,
   "id": "2eb7d81a-128b-4d40-9c45-b536b4a5fd87",
   "metadata": {},
   "outputs": [],
   "source": [
    "arr = list(range(40))\n",
    "sum_arr = sum(arr)\n",
    "print('Sum of array with 80 elements:', sum_arr)"
   ]
  },
  {
   "cell_type": "code",
   "execution_count": null,
   "id": "b03a624c-7eea-4369-b237-fea3e3f88683",
   "metadata": {},
   "outputs": [],
   "source": [
    "arr = list(range(39))\n",
    "sum_arr = sum(arr)\n",
    "print('Sum of array with 80 elements:', sum_arr)"
   ]
  },
  {
   "cell_type": "code",
   "execution_count": null,
   "id": "df17e895-ef63-4fe8-9268-c9a99ad622a2",
   "metadata": {},
   "outputs": [],
   "source": [
    "arr = list(range(38))\n",
    "sum_arr = sum(arr)\n",
    "print('Sum of array with 80 elements:', sum_arr)"
   ]
  },
  {
   "cell_type": "code",
   "execution_count": null,
   "id": "5e45f938-7ae9-458e-be3f-f7aeae7761c7",
   "metadata": {},
   "outputs": [],
   "source": [
    "arr = list(range(37))\n",
    "sum_arr = sum(arr)\n",
    "print('Sum of array with 80 elements:', sum_arr)"
   ]
  },
  {
   "cell_type": "code",
   "execution_count": null,
   "id": "6eecf713-a154-4896-904a-129b6f850aed",
   "metadata": {},
   "outputs": [],
   "source": [
    "arr = list(range(36))\n",
    "sum_arr = sum(arr)\n",
    "print('Sum of array with 80 elements:', sum_arr)"
   ]
  },
  {
   "cell_type": "code",
   "execution_count": null,
   "id": "07b59656-2772-41ba-854d-f8d402f44640",
   "metadata": {},
   "outputs": [],
   "source": [
    "arr = list(range(35))\n",
    "sum_arr = sum(arr)\n",
    "print('Sum of array with 80 elements:', sum_arr)"
   ]
  },
  {
   "cell_type": "code",
   "execution_count": null,
   "id": "f6df5a05-be61-4103-a79a-8d2983dace40",
   "metadata": {},
   "outputs": [],
   "source": [
    "arr = list(range(34))\n",
    "sum_arr = sum(arr)\n",
    "print('Sum of array with 80 elements:', sum_arr)"
   ]
  },
  {
   "cell_type": "code",
   "execution_count": null,
   "id": "e9ba6f4f-f968-4d83-b07c-6e1fd83d083d",
   "metadata": {},
   "outputs": [],
   "source": [
    "arr = list(range(33))\n",
    "sum_arr = sum(arr)\n",
    "print('Sum of array with 80 elements:', sum_arr)"
   ]
  },
  {
   "cell_type": "code",
   "execution_count": null,
   "id": "b65ca680-7a63-422f-a817-c7153bff5660",
   "metadata": {},
   "outputs": [],
   "source": [
    "arr = list(range(32))\n",
    "sum_arr = sum(arr)\n",
    "print('Sum of array with 80 elements:', sum_arr)"
   ]
  },
  {
   "cell_type": "code",
   "execution_count": null,
   "id": "f3318e05-819a-47d8-9611-488b6a9124e2",
   "metadata": {},
   "outputs": [],
   "source": [
    "arr = list(range(31))\n",
    "sum_arr = sum(arr)\n",
    "print('Sum of array with 80 elements:', sum_arr)"
   ]
  },
  {
   "cell_type": "code",
   "execution_count": null,
   "id": "481381c9-41a0-4f17-853e-b28059905f28",
   "metadata": {},
   "outputs": [],
   "source": [
    "arr = list(range(30))\n",
    "sum_arr = sum(arr)\n",
    "print('Sum of array with 80 elements:', sum_arr)"
   ]
  },
  {
   "cell_type": "code",
   "execution_count": null,
   "id": "8ebcf5c1-5c52-4211-b540-d27156e42fbe",
   "metadata": {},
   "outputs": [],
   "source": [
    "arr = list(range(29))\n",
    "sum_arr = sum(arr)\n",
    "print('Sum of array with 80 elements:', sum_arr)"
   ]
  },
  {
   "cell_type": "code",
   "execution_count": null,
   "id": "c6fef18f-68ab-4813-86b8-7bbddbab2054",
   "metadata": {},
   "outputs": [],
   "source": [
    "arr = list(range(28))\n",
    "sum_arr = sum(arr)\n",
    "print('Sum of array with 80 elements:', sum_arr)"
   ]
  },
  {
   "cell_type": "code",
   "execution_count": null,
   "id": "301460c2-69b4-4bb3-b101-d64980a229d6",
   "metadata": {},
   "outputs": [],
   "source": [
    "arr = list(range(27))\n",
    "sum_arr = sum(arr)\n",
    "print('Sum of array with 80 elements:', sum_arr)"
   ]
  },
  {
   "cell_type": "code",
   "execution_count": null,
   "id": "810ff265-1060-4d05-8eaf-5701d4834803",
   "metadata": {},
   "outputs": [],
   "source": [
    "arr = list(range(26))\n",
    "sum_arr = sum(arr)\n",
    "print('Sum of array with 80 elements:', sum_arr)"
   ]
  },
  {
   "cell_type": "code",
   "execution_count": null,
   "id": "542fbb7e-8d44-4283-9bb9-82cfb9dce15b",
   "metadata": {},
   "outputs": [],
   "source": [
    "arr = list(range(25))\n",
    "sum_arr = sum(arr)\n",
    "print('Sum of array with 80 elements:', sum_arr)"
   ]
  },
  {
   "cell_type": "code",
   "execution_count": null,
   "id": "99e33bea-eead-499f-99fe-f90c4f3215ce",
   "metadata": {},
   "outputs": [],
   "source": [
    "arr = list(range(24))\n",
    "sum_arr = sum(arr)\n",
    "print('Sum of array with 80 elements:', sum_arr)"
   ]
  },
  {
   "cell_type": "code",
   "execution_count": null,
   "id": "8068dd44-caf7-4644-81f5-e11cf32bdd77",
   "metadata": {},
   "outputs": [],
   "source": [
    "arr = list(range(23))\n",
    "sum_arr = sum(arr)\n",
    "print('Sum of array with 80 elements:', sum_arr)"
   ]
  },
  {
   "cell_type": "code",
   "execution_count": null,
   "id": "bc5f7c7c-1718-4b7e-b33a-0ccd92322c22",
   "metadata": {},
   "outputs": [],
   "source": [
    "arr = list(range(22))\n",
    "sum_arr = sum(arr)\n",
    "print('Sum of array with 80 elements:', sum_arr)"
   ]
  },
  {
   "cell_type": "code",
   "execution_count": null,
   "id": "ff632612-007c-4f57-9c96-ea2ea680e736",
   "metadata": {},
   "outputs": [],
   "source": [
    "arr = list(range(21))\n",
    "sum_arr = sum(arr)\n",
    "print('Sum of array with 80 elements:', sum_arr)"
   ]
  },
  {
   "cell_type": "code",
   "execution_count": null,
   "id": "7167a512-86e6-4a50-9762-dec88ba40c80",
   "metadata": {},
   "outputs": [],
   "source": [
    "arr = list(range(20))\n",
    "sum_arr = sum(arr)\n",
    "print('Sum of array with 80 elements:', sum_arr)"
   ]
  },
  {
   "cell_type": "code",
   "execution_count": null,
   "id": "6032b047-8f4b-48da-9c36-91c8b5827d48",
   "metadata": {},
   "outputs": [],
   "source": [
    "arr = list(range(19))\n",
    "sum_arr = sum(arr)\n",
    "print('Sum of array with 80 elements:', sum_arr)"
   ]
  },
  {
   "cell_type": "code",
   "execution_count": null,
   "id": "5932295b-3f4f-4e9b-8323-f04d6800996a",
   "metadata": {},
   "outputs": [],
   "source": [
    "arr = list(range(18))\n",
    "sum_arr = sum(arr)\n",
    "print('Sum of array with 80 elements:', sum_arr)"
   ]
  },
  {
   "cell_type": "code",
   "execution_count": null,
   "id": "994c0681-278b-40bb-b16e-82f3071fcd30",
   "metadata": {},
   "outputs": [],
   "source": [
    "arr = list(range(17))\n",
    "sum_arr = sum(arr)\n",
    "print('Sum of array with 80 elements:', sum_arr)"
   ]
  },
  {
   "cell_type": "code",
   "execution_count": null,
   "id": "b36b9fb1-fdbf-4301-a3b5-0707c7f9823c",
   "metadata": {},
   "outputs": [],
   "source": [
    "arr = list(range(16))\n",
    "sum_arr = sum(arr)\n",
    "print('Sum of array with 80 elements:', sum_arr)"
   ]
  },
  {
   "cell_type": "code",
   "execution_count": null,
   "id": "cd603875-5c02-4128-8819-ec1345fec6f8",
   "metadata": {},
   "outputs": [],
   "source": [
    "arr = list(range(15))\n",
    "sum_arr = sum(arr)\n",
    "print('Sum of array with 80 elements:', sum_arr)"
   ]
  },
  {
   "cell_type": "code",
   "execution_count": null,
   "id": "04bccd60-936f-42e4-84a8-818a64c81aeb",
   "metadata": {},
   "outputs": [],
   "source": [
    "arr = list(range(14))\n",
    "sum_arr = sum(arr)\n",
    "print('Sum of array with 80 elements:', sum_arr)"
   ]
  },
  {
   "cell_type": "code",
   "execution_count": null,
   "id": "1e0d32cf-feb9-4302-98d2-b82aa4807c9a",
   "metadata": {},
   "outputs": [],
   "source": [
    "arr = list(range(13))\n",
    "sum_arr = sum(arr)\n",
    "print('Sum of array with 80 elements:', sum_arr)"
   ]
  },
  {
   "cell_type": "code",
   "execution_count": null,
   "id": "e8b135ba-016d-4237-bad1-3197e6b97e2e",
   "metadata": {},
   "outputs": [],
   "source": [
    "arr = list(range(12))\n",
    "sum_arr = sum(arr)\n",
    "print('Sum of array with 80 elements:', sum_arr)"
   ]
  },
  {
   "cell_type": "code",
   "execution_count": null,
   "id": "6c6dc8f9-062e-4944-8f10-70e051b7c68c",
   "metadata": {},
   "outputs": [],
   "source": [
    "arr = list(range(11))\n",
    "sum_arr = sum(arr)\n",
    "print('Sum of array with 80 elements:', sum_arr)"
   ]
  },
  {
   "cell_type": "code",
   "execution_count": null,
   "id": "5036b74f-4c4d-4939-981a-fc5b68a5d16c",
   "metadata": {},
   "outputs": [],
   "source": [
    "arr = list(range(10))\n",
    "sum_arr = sum(arr)\n",
    "print('Sum of array with 80 elements:', sum_arr)"
   ]
  },
  {
   "cell_type": "code",
   "execution_count": null,
   "id": "f2a4043e-57fa-4b67-a348-6b73f6c355e2",
   "metadata": {},
   "outputs": [],
   "source": [
    "arr = list(range(9))\n",
    "sum_arr = sum(arr)\n",
    "print('Sum of array with 80 elements:', sum_arr)"
   ]
  },
  {
   "cell_type": "code",
   "execution_count": null,
   "id": "cb7add9f-7208-4d6a-bdf5-3f3d16be5ca9",
   "metadata": {},
   "outputs": [],
   "source": [
    "arr = list(range(8))\n",
    "sum_arr = sum(arr)\n",
    "print('Sum of array with 80 elements:', sum_arr)"
   ]
  },
  {
   "cell_type": "code",
   "execution_count": null,
   "id": "149e3ce0-c9e8-4ce7-8a0f-6ee6330d5d4c",
   "metadata": {},
   "outputs": [],
   "source": [
    "arr = list(range(7))\n",
    "sum_arr = sum(arr)\n",
    "print('Sum of array with 80 elements:', sum_arr)"
   ]
  },
  {
   "cell_type": "code",
   "execution_count": null,
   "id": "d04087a0-28f2-4ae2-ae13-94da6a35becf",
   "metadata": {},
   "outputs": [],
   "source": [
    "arr = list(range(6))\n",
    "sum_arr = sum(arr)\n",
    "print('Sum of array with 80 elements:', sum_arr)"
   ]
  },
  {
   "cell_type": "code",
   "execution_count": null,
   "id": "f86ec6cd-28a3-4c48-a0a4-bde8b32c1283",
   "metadata": {},
   "outputs": [],
   "source": [
    "arr = list(range(5))\n",
    "sum_arr = sum(arr)\n",
    "print('Sum of array with 80 elements:', sum_arr)"
   ]
  },
  {
   "cell_type": "code",
   "execution_count": null,
   "id": "9579a362-4e08-4cc0-9497-1cda3e64c252",
   "metadata": {},
   "outputs": [],
   "source": [
    "arr = list(range(4))\n",
    "sum_arr = sum(arr)\n",
    "print('Sum of array with 80 elements:', sum_arr)"
   ]
  },
  {
   "cell_type": "code",
   "execution_count": null,
   "id": "2bd57ae0-d959-40b5-a468-161cc7fba207",
   "metadata": {},
   "outputs": [],
   "source": [
    "arr = list(range(3))\n",
    "sum_arr = sum(arr)\n",
    "print('Sum of array with 80 elements:', sum_arr)"
   ]
  },
  {
   "cell_type": "code",
   "execution_count": null,
   "id": "4bcc5385-84cd-4344-9b0d-e90931d70575",
   "metadata": {},
   "outputs": [],
   "source": [
    "arr = list(range(2))\n",
    "sum_arr = sum(arr)\n",
    "print('Sum of array with 80 elements:', sum_arr)"
   ]
  },
  {
   "cell_type": "code",
   "execution_count": null,
   "id": "257fcf9a-e023-4343-b5ac-d5b43c567fc6",
   "metadata": {},
   "outputs": [],
   "source": [
    "arr = list(range(1))\n",
    "sum_arr = sum(arr)\n",
    "print('Sum of array with 80 elements:', sum_arr)"
   ]
  },
  {
   "cell_type": "code",
   "execution_count": null,
   "id": "e4243cb4-2e0c-4339-8ab6-f2fd4ffba39d",
   "metadata": {},
   "outputs": [],
   "source": [
    "arr = list(range(90))\n",
    "sum_arr = sum(arr)\n",
    "print('Sum of array with 80 elements:', sum_arr)"
   ]
  },
  {
   "cell_type": "code",
   "execution_count": null,
   "id": "7e3c0377-1941-4cb4-8d03-32524427fcb8",
   "metadata": {},
   "outputs": [],
   "source": [
    "arr = list(range(39))\n",
    "sum_arr = sum(arr)\n",
    "print('Sum of array with 80 elements:', sum_arr)"
   ]
  },
  {
   "cell_type": "code",
   "execution_count": null,
   "id": "a7543e0e-c12e-4db9-b535-667f679a99d3",
   "metadata": {},
   "outputs": [],
   "source": [
    "arr = list(range(39))\n",
    "sum_arr = sum(arr)\n",
    "print('Sum of array with 80 elements:', sum_arr)"
   ]
  },
  {
   "cell_type": "code",
   "execution_count": null,
   "id": "f1975b7b-07e3-4685-a22c-9d74a632716c",
   "metadata": {},
   "outputs": [],
   "source": [
    "arr = list(range(39))\n",
    "sum_arr = sum(arr)\n",
    "print('Sum of array with 80 elements:', sum_arr)"
   ]
  },
  {
   "cell_type": "code",
   "execution_count": null,
   "id": "4ff002be-3048-4bc6-8077-f23e583e0847",
   "metadata": {},
   "outputs": [],
   "source": [
    "arr = list(range(39))\n",
    "sum_arr = sum(arr)\n",
    "print('Sum of array with 80 elements:', sum_arr)"
   ]
  },
  {
   "cell_type": "code",
   "execution_count": null,
   "id": "958d3660-9f6d-44f1-9fc2-436e61273635",
   "metadata": {},
   "outputs": [],
   "source": [
    "arr = list(range(39))\n",
    "sum_arr = sum(arr)\n",
    "print('Sum of array with 80 elements:', sum_arr)"
   ]
  },
  {
   "cell_type": "code",
   "execution_count": null,
   "id": "07016e36-d814-4f01-aff4-a7618d00460b",
   "metadata": {},
   "outputs": [],
   "source": [
    "arr = list(range(39))\n",
    "sum_arr = sum(arr)\n",
    "print('Sum of array with 80 elements:', sum_arr)"
   ]
  },
  {
   "cell_type": "code",
   "execution_count": null,
   "id": "5f6b336a-aeec-438d-b8db-e7827d4ca67b",
   "metadata": {},
   "outputs": [],
   "source": [
    "arr = list(range(39))\n",
    "sum_arr = sum(arr)\n",
    "print('Sum of array with 80 elements:', sum_arr)"
   ]
  },
  {
   "cell_type": "code",
   "execution_count": null,
   "id": "34680337-bb72-4af8-bdc4-1a94262a1e1b",
   "metadata": {},
   "outputs": [],
   "source": [
    "arr = list(range(39))\n",
    "sum_arr = sum(arr)\n",
    "print('Sum of array with 80 elements:', sum_arr)"
   ]
  },
  {
   "cell_type": "code",
   "execution_count": null,
   "id": "a4957d47-a7ca-48ab-b215-f908b3acd2e4",
   "metadata": {},
   "outputs": [],
   "source": [
    "arr = list(range(39))\n",
    "sum_arr = sum(arr)\n",
    "print('Sum of array with 80 elements:', sum_arr)"
   ]
  },
  {
   "cell_type": "code",
   "execution_count": null,
   "id": "595e1985-82ac-4a38-9102-1e44b4941a28",
   "metadata": {},
   "outputs": [],
   "source": [
    "arr = list(range(39))\n",
    "sum_arr = sum(arr)\n",
    "print('Sum of array with 80 elements:', sum_arr)"
   ]
  },
  {
   "cell_type": "code",
   "execution_count": null,
   "id": "ced94f55-27d3-46be-b8ae-df5d472445ad",
   "metadata": {},
   "outputs": [],
   "source": [
    "arr = list(range(39))\n",
    "sum_arr = sum(arr)\n",
    "print('Sum of array with 80 elements:', sum_arr)"
   ]
  },
  {
   "cell_type": "code",
   "execution_count": null,
   "id": "818023bd-8c43-4c97-832c-eaca1444cee5",
   "metadata": {},
   "outputs": [],
   "source": [
    "arr = list(range(39))\n",
    "sum_arr = sum(arr)\n",
    "print('Sum of array with 80 elements:', sum_arr)"
   ]
  },
  {
   "cell_type": "code",
   "execution_count": null,
   "id": "000fd167-c73c-4f25-a72c-48765fe35fdb",
   "metadata": {},
   "outputs": [],
   "source": [
    "arr = list(range(39))\n",
    "sum_arr = sum(arr)\n",
    "print('Sum of array with 80 elements:', sum_arr)"
   ]
  },
  {
   "cell_type": "code",
   "execution_count": null,
   "id": "68e0f683-2263-4ac5-95cb-a3d1b269f6b2",
   "metadata": {},
   "outputs": [],
   "source": [
    "arr = list(range(39))\n",
    "sum_arr = sum(arr)\n",
    "print('Sum of array with 80 elements:', sum_arr)"
   ]
  },
  {
   "cell_type": "code",
   "execution_count": null,
   "id": "81c62a4c-54bb-47b4-a48e-1d100a63d26b",
   "metadata": {},
   "outputs": [],
   "source": [
    "arr = list(range(39))\n",
    "sum_arr = sum(arr)\n",
    "print('Sum of array with 80 elements:', sum_arr)"
   ]
  },
  {
   "cell_type": "code",
   "execution_count": null,
   "id": "8668650e-767a-469b-8aa3-12ec4b1763ed",
   "metadata": {},
   "outputs": [],
   "source": [
    "arr = list(range(39))\n",
    "sum_arr = sum(arr)\n",
    "print('Sum of array with 80 elements:', sum_arr)"
   ]
  },
  {
   "cell_type": "code",
   "execution_count": null,
   "id": "61de5dd9-373c-43d5-aa52-808730123068",
   "metadata": {},
   "outputs": [],
   "source": [
    "arr = list(range(39))\n",
    "sum_arr = sum(arr)\n",
    "print('Sum of array with 80 elements:', sum_arr)"
   ]
  },
  {
   "cell_type": "code",
   "execution_count": null,
   "id": "2e0543c8-c208-4af8-bdcc-e65c6c6bbe0f",
   "metadata": {},
   "outputs": [],
   "source": [
    "arr = list(range(39))\n",
    "sum_arr = sum(arr)\n",
    "print('Sum of array with 80 elements:', sum_arr)"
   ]
  },
  {
   "cell_type": "code",
   "execution_count": null,
   "id": "35f0eeb2-de73-4702-96f6-828ee0aaeacd",
   "metadata": {},
   "outputs": [],
   "source": [
    "arr = list(range(39))\n",
    "sum_arr = sum(arr)\n",
    "print('Sum of array with 80 elements:', sum_arr)"
   ]
  },
  {
   "cell_type": "code",
   "execution_count": null,
   "id": "c82f84ab-494a-431b-83a9-fb15fba7dd78",
   "metadata": {},
   "outputs": [],
   "source": [
    "arr = list(range(39))\n",
    "sum_arr = sum(arr)\n",
    "print('Sum of array with 80 elements:', sum_arr)"
   ]
  },
  {
   "cell_type": "code",
   "execution_count": null,
   "id": "4e8d67b0-6033-4fe5-9a34-a2d3daf77218",
   "metadata": {},
   "outputs": [],
   "source": [
    "arr = list(range(39))\n",
    "sum_arr = sum(arr)\n",
    "print('Sum of array with 80 elements:', sum_arr)"
   ]
  },
  {
   "cell_type": "code",
   "execution_count": null,
   "id": "2c3cdf79-3386-495f-b9cf-f6b1d2d6c95f",
   "metadata": {},
   "outputs": [],
   "source": [
    "arr = list(range(39))\n",
    "sum_arr = sum(arr)\n",
    "print('Sum of array with 80 elements:', sum_arr)"
   ]
  },
  {
   "cell_type": "code",
   "execution_count": null,
   "id": "7b5fcbdb-f22a-4978-b037-741165835eec",
   "metadata": {},
   "outputs": [],
   "source": [
    "arr = list(range(39))\n",
    "sum_arr = sum(arr)\n",
    "print('Sum of array with 80 elements:', sum_arr)"
   ]
  },
  {
   "cell_type": "code",
   "execution_count": null,
   "id": "529e8d42-1a1e-4701-bfb8-c81c91035522",
   "metadata": {},
   "outputs": [],
   "source": [
    "arr = list(range(39))\n",
    "sum_arr = sum(arr)\n",
    "print('Sum of array with 80 elements:', sum_arr)"
   ]
  },
  {
   "cell_type": "code",
   "execution_count": null,
   "id": "477294ab-93e8-4c2d-b6e9-772c8a27bd01",
   "metadata": {},
   "outputs": [],
   "source": [
    "arr = list(range(39))\n",
    "sum_arr = sum(arr)\n",
    "print('Sum of array with 80 elements:', sum_arr)"
   ]
  },
  {
   "cell_type": "code",
   "execution_count": null,
   "id": "75a4fe84-a40a-4306-a221-1d546f29a815",
   "metadata": {},
   "outputs": [],
   "source": [
    "arr = list(range(39))\n",
    "sum_arr = sum(arr)\n",
    "print('Sum of array with 80 elements:', sum_arr)"
   ]
  },
  {
   "cell_type": "code",
   "execution_count": null,
   "id": "fea0d90d-f33c-4bb4-a32e-0e9b0b67385a",
   "metadata": {},
   "outputs": [],
   "source": [
    "arr = list(range(39))\n",
    "sum_arr = sum(arr)\n",
    "print('Sum of array with 80 elements:', sum_arr)"
   ]
  },
  {
   "cell_type": "code",
   "execution_count": null,
   "id": "3dad78b9-5109-4463-a722-ce845c9ea54b",
   "metadata": {},
   "outputs": [],
   "source": [
    "arr = list(range(39))\n",
    "sum_arr = sum(arr)\n",
    "print('Sum of array with 80 elements:', sum_arr)"
   ]
  }
 ],
 "metadata": {
  "kernelspec": {
   "display_name": "Python 3 (ipykernel)",
   "language": "python",
   "name": "python3"
  },
  "language_info": {
   "codemirror_mode": {
    "name": "ipython",
    "version": 3
   },
   "file_extension": ".py",
   "mimetype": "text/x-python",
   "name": "python",
   "nbconvert_exporter": "python",
   "pygments_lexer": "ipython3",
   "version": "3.11.13"
  }
 },
 "nbformat": 4,
 "nbformat_minor": 5
}
