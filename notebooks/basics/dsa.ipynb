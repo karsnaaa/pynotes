{
 "cells": [
  {
   "cell_type": "code",
   "execution_count": null,
   "id": "55115783-6288-4900-af35-a980c6ce1648",
   "metadata": {},
   "outputs": [],
   "source": [
    "print(\"📘 Data Structures and Algorithms (DSA) in Python - 200 Cells\")"
   ]
  },
  {
   "cell_type": "code",
   "execution_count": null,
   "id": "b3583882-5abb-455c-a4a7-0c9f73bc589e",
   "metadata": {},
   "outputs": [],
   "source": [
    "arr = [3, 1, 4, 1, 5, 9, 2, 6, 5]"
   ]
  },
  {
   "cell_type": "code",
   "execution_count": null,
   "id": "1d1736c3-943d-413a-a235-e3b16f594a4b",
   "metadata": {},
   "outputs": [],
   "source": [
    "print('Original array:', arr)"
   ]
  },
  {
   "cell_type": "code",
   "execution_count": null,
   "id": "48d37cef-a9c2-473d-9028-547f7255442c",
   "metadata": {},
   "outputs": [],
   "source": [
    "def bubble_sort(arr):\n",
    "    n = len(arr)\n",
    "    for i in range(n):\n",
    "        for j in range(0, n-i-1):\n",
    "            if arr[j] > arr[j+1]:\n",
    "                arr[j], arr[j+1] = arr[j+1], arr[j]"
   ]
  },
  {
   "cell_type": "code",
   "execution_count": null,
   "id": "3555716f-ffaa-4bd6-afb3-b328529eb547",
   "metadata": {},
   "outputs": [],
   "source": [
    "arr_copy = arr[:]\n",
    "bubble_sort(arr_copy)\n",
    "print('Bubble sorted:', arr_copy)"
   ]
  },
  {
   "cell_type": "code",
   "execution_count": null,
   "id": "651cd7bd-7ce0-4cdb-93fe-3fc79b7d6ac6",
   "metadata": {},
   "outputs": [],
   "source": [
    "def selection_sort(arr):\n",
    "    n = len(arr)\n",
    "    for i in range(n):\n",
    "        min_idx = i\n",
    "        for j in range(i+1, n):\n",
    "            if arr[j] < arr[min_idx]:\n",
    "                min_idx = j\n",
    "        arr[i], arr[min_idx] = arr[min_idx], arr[i]"
   ]
  },
  {
   "cell_type": "code",
   "execution_count": null,
   "id": "df013b03-245c-4eb0-bf7e-b8c1262b61d5",
   "metadata": {},
   "outputs": [],
   "source": [
    "arr_copy2 = arr[:]\n",
    "selection_sort(arr_copy2)\n",
    "print('Selection sorted:', arr_copy2)\n",
    "# %%\n",
    "# Cell 8\n",
    "def linear_search(arr, x):\n",
    "    for i in range(len(arr)):\n",
    "        if arr[i] == x:\n",
    "            return i\n",
    "    return -1"
   ]
  },
  {
   "cell_type": "code",
   "execution_count": null,
   "id": "7a04c951-b35e-4424-a54e-e9de63887635",
   "metadata": {},
   "outputs": [],
   "source": [
    "print('Index of 5:', linear_search(arr, 5))"
   ]
  },
  {
   "cell_type": "code",
   "execution_count": null,
   "id": "52eddf09-2530-4eb6-b12f-edb5a9c0bd3e",
   "metadata": {},
   "outputs": [],
   "source": [
    "def binary_search(arr, x):\n",
    "    l, r = 0, len(arr)-1\n",
    "    while l <= r:\n",
    "        mid = (l + r) // 2\n",
    "        if arr[mid] == x:\n",
    "            return mid\n",
    "        elif arr[mid] < x:\n",
    "            l = mid + 1\n",
    "        else:\n",
    "            r = mid - 1\n",
    "    return -1"
   ]
  },
  {
   "cell_type": "code",
   "execution_count": null,
   "id": "567d2ec5-f73b-4917-8c81-b0a89e84976a",
   "metadata": {},
   "outputs": [],
   "source": [
    "sorted_arr = sorted(arr)\n",
    "print('Binary Search for 5:', binary_search(sorted_arr, 5))"
   ]
  },
  {
   "cell_type": "code",
   "execution_count": null,
   "id": "ed2145c1-1c8c-453e-86f4-bd7bc71f1ba1",
   "metadata": {},
   "outputs": [],
   "source": [
    "stack = []\n",
    "stack.append(10)\n",
    "stack.append(20)\n",
    "print('Stack pop:', stack.pop())"
   ]
  },
  {
   "cell_type": "code",
   "execution_count": null,
   "id": "f61583d5-7df4-49d7-a4e8-69767f1bdea0",
   "metadata": {},
   "outputs": [],
   "source": [
    "from collections import deque\n",
    "queue = deque()\n",
    "queue.append(10)\n",
    "queue.append(20)\n",
    "print('Queue pop:', queue.popleft())"
   ]
  },
  {
   "cell_type": "code",
   "execution_count": null,
   "id": "1d6d15e3-dd12-4bfd-b8f6-d2aae043fd80",
   "metadata": {},
   "outputs": [],
   "source": [
    "def factorial(n):\n",
    "    return 1 if n == 0 else n * factorial(n-1)"
   ]
  },
  {
   "cell_type": "code",
   "execution_count": null,
   "id": "95adf2f1-b72a-4df2-b7bd-239cb2736524",
   "metadata": {},
   "outputs": [],
   "source": [
    "print('Factorial of 5:', factorial(5))"
   ]
  },
  {
   "cell_type": "code",
   "execution_count": null,
   "id": "04b91dca-8c7d-4112-b65c-a26342062ae7",
   "metadata": {},
   "outputs": [],
   "source": [
    "def fibonacci(n):\n",
    "    if n <= 1:\n",
    "        return n\n",
    "    return fibonacci(n-1) + fibonacci(n-2)"
   ]
  },
  {
   "cell_type": "code",
   "execution_count": null,
   "id": "f7318e33-5ae1-4a00-8e21-3bfd06b5ae79",
   "metadata": {},
   "outputs": [],
   "source": [
    "print('Fibonacci of 6:', fibonacci(6))"
   ]
  },
  {
   "cell_type": "code",
   "execution_count": null,
   "id": "713ea7e2-0df7-4df2-a823-5560bb663bf9",
   "metadata": {},
   "outputs": [],
   "source": [
    "class Node:\n",
    "    def __init__(self, data):\n",
    "        self.data = data\n",
    "        self.next = None"
   ]
  },
  {
   "cell_type": "code",
   "execution_count": null,
   "id": "f01d66cf-b64e-47ae-b094-be27ab82478e",
   "metadata": {},
   "outputs": [],
   "source": [
    "class LinkedList:\n",
    "    def __init__(self):\n",
    "        self.head = None\n",
    "\n",
    "    def append(self, data):\n",
    "        new_node = Node(data)\n",
    "        if not self.head:\n",
    "            self.head = new_node\n",
    "            return\n",
    "        last = self.head\n",
    "        while last.next:\n",
    "            last = last.next\n",
    "        last.next = new_node\n",
    "\n",
    "    def print_list(self):\n",
    "        curr = self.head\n",
    "        while curr:\n",
    "            print(curr.data, end=' -> ')\n",
    "            curr = curr.next\n",
    "        print('None')"
   ]
  },
  {
   "cell_type": "code",
   "execution_count": null,
   "id": "b7cf1d2d-4e56-4b7f-8903-17b8d59e935c",
   "metadata": {},
   "outputs": [],
   "source": [
    "ll = LinkedList()\n",
    "ll.append(1)\n",
    "ll.append(2)\n",
    "ll.append(3)\n",
    "ll.print_list()"
   ]
  },
  {
   "cell_type": "code",
   "execution_count": null,
   "id": "69f3c97c-e6ce-4cf4-9f9c-5b43008fe133",
   "metadata": {},
   "outputs": [],
   "source": [
    "def square_20(x):\n",
    "    return x * x\n",
    "print('Square of 20:', square_20(20))"
   ]
  },
  {
   "cell_type": "code",
   "execution_count": null,
   "id": "bde54141-71e8-427d-b44d-a7121c60b2a2",
   "metadata": {},
   "outputs": [],
   "source": [
    "def square_21(x):\n",
    "    return x * x\n",
    "print('Square of 21:', square_21(21))"
   ]
  },
  {
   "cell_type": "code",
   "execution_count": null,
   "id": "d2873bc2-1d16-4bf2-b32b-cf13a10a1aa3",
   "metadata": {},
   "outputs": [],
   "source": [
    "def square_22(x):\n",
    "    return x * x\n",
    "print('Square of 22:', square_22(22))"
   ]
  },
  {
   "cell_type": "code",
   "execution_count": null,
   "id": "e4374c73-0bc7-462e-b6b4-24de40f62c9d",
   "metadata": {},
   "outputs": [],
   "source": [
    "def square_23(x):\n",
    "    return x * x\n",
    "print('Square of 23:', square_23(23))"
   ]
  },
  {
   "cell_type": "code",
   "execution_count": null,
   "id": "8e3013cc-8cfb-4db6-b95b-9ca904262111",
   "metadata": {},
   "outputs": [],
   "source": [
    "def square_24(x):\n",
    "    return x * x\n",
    "print('Square of 24:', square_24(24))"
   ]
  },
  {
   "cell_type": "code",
   "execution_count": null,
   "id": "aec607e7-7cfb-4282-b792-d037ce4566b3",
   "metadata": {},
   "outputs": [],
   "source": [
    "def square_25(x):\n",
    "    return x * x\n",
    "print('Square of 25:', square_25(25))"
   ]
  },
  {
   "cell_type": "code",
   "execution_count": null,
   "id": "936925ae-c1d1-42ea-900b-7e3f11838936",
   "metadata": {},
   "outputs": [],
   "source": [
    "def square_26(x):\n",
    "    return x * x\n",
    "print('Square of 26:', square_26(26))"
   ]
  },
  {
   "cell_type": "code",
   "execution_count": null,
   "id": "6d8b7274-b49a-4e2b-9795-0cf55da27d50",
   "metadata": {},
   "outputs": [],
   "source": [
    "def square_27(x):\n",
    "    return x * x\n",
    "print('Square of 27:', square_27(27))"
   ]
  },
  {
   "cell_type": "code",
   "execution_count": null,
   "id": "f957406d-3a27-4856-9007-4a048635faa1",
   "metadata": {},
   "outputs": [],
   "source": [
    "def square_28(x):\n",
    "    return x * x\n",
    "print('Square of 28:', square_28(28))"
   ]
  },
  {
   "cell_type": "code",
   "execution_count": null,
   "id": "ef093130-9d63-4da8-a335-00c50723b18c",
   "metadata": {},
   "outputs": [],
   "source": [
    "def square_29(x):\n",
    "    return x * x\n",
    "print('Square of 29:', square_29(29))"
   ]
  },
  {
   "cell_type": "code",
   "execution_count": null,
   "id": "94f045cb-29cb-4576-b295-5ddcddde25af",
   "metadata": {},
   "outputs": [],
   "source": [
    "def square_30(x):\n",
    "    return x * x\n",
    "print('Square of 30:', square_30(30))"
   ]
  },
  {
   "cell_type": "code",
   "execution_count": null,
   "id": "8ea14860-b7ee-4f71-ae53-d1f83d7ae260",
   "metadata": {},
   "outputs": [],
   "source": [
    "def square_31(x):\n",
    "    return x * x\n",
    "print('Square of 31:', square_31(31))"
   ]
  },
  {
   "cell_type": "code",
   "execution_count": null,
   "id": "a14767eb-284a-42af-9914-95195bd07a6a",
   "metadata": {},
   "outputs": [],
   "source": [
    "def square_32(x):\n",
    "    return x * x\n",
    "print('Square of 32:', square_32(32))"
   ]
  },
  {
   "cell_type": "code",
   "execution_count": null,
   "id": "ab442dc0-ac9b-4bd5-aa6f-6117689c1af7",
   "metadata": {},
   "outputs": [],
   "source": [
    "def square_33(x):\n",
    "    return x * x\n",
    "print('Square of 33:', square_33(33))"
   ]
  },
  {
   "cell_type": "code",
   "execution_count": null,
   "id": "a74e659f-c89c-4abd-bdb9-666dff5f45d6",
   "metadata": {},
   "outputs": [],
   "source": [
    "def square_33(x):\n",
    "    return x * x\n",
    "print('Square of 33:', square_33(34))"
   ]
  },
  {
   "cell_type": "code",
   "execution_count": null,
   "id": "c6baa325-874e-43bd-9965-cec46308d06d",
   "metadata": {},
   "outputs": [],
   "source": [
    "def square_33(x):\n",
    "    return x * x\n",
    "print('Square of 33:', square_33(35))"
   ]
  },
  {
   "cell_type": "code",
   "execution_count": null,
   "id": "929883df-041c-4555-b4e1-bb2e8bcc7bdc",
   "metadata": {},
   "outputs": [],
   "source": [
    "def square_33(x):\n",
    "    return x * x\n",
    "print('Square of 33:', square_33(36))"
   ]
  },
  {
   "cell_type": "code",
   "execution_count": null,
   "id": "ba715901-f607-4d63-b7a5-269471a8ed30",
   "metadata": {},
   "outputs": [],
   "source": [
    "def square_33(x):\n",
    "    return x * x\n",
    "print('Square of 33:', square_33(37))"
   ]
  },
  {
   "cell_type": "code",
   "execution_count": null,
   "id": "aa603420-ea9a-478f-9e07-a9042c256043",
   "metadata": {},
   "outputs": [],
   "source": [
    "def square_33(x):\n",
    "    return x * x\n",
    "print('Square of 33:', square_33(38))"
   ]
  },
  {
   "cell_type": "code",
   "execution_count": null,
   "id": "e785988e-3a55-4871-9a94-69a8a501e840",
   "metadata": {},
   "outputs": [],
   "source": [
    "def square_33(x):\n",
    "    return x * x\n",
    "print('Square of 33:', square_33(39))"
   ]
  },
  {
   "cell_type": "code",
   "execution_count": null,
   "id": "ee3762e0-3ccf-49f0-8d67-977fc762b61f",
   "metadata": {},
   "outputs": [],
   "source": [
    "def square_33(x):\n",
    "    return x * x\n",
    "print('Square of 33:', square_33(40))"
   ]
  },
  {
   "cell_type": "code",
   "execution_count": null,
   "id": "518ff6ee-bbdf-47f3-8e4f-dd488f1c64cf",
   "metadata": {},
   "outputs": [],
   "source": [
    "def square_33(x):\n",
    "    return x * x\n",
    "print('Square of 33:', square_33(41))"
   ]
  },
  {
   "cell_type": "code",
   "execution_count": null,
   "id": "8cf86a4f-b136-41db-86e5-dacc295da997",
   "metadata": {},
   "outputs": [],
   "source": [
    "def square_33(x):\n",
    "    return x * x\n",
    "print('Square of 33:', square_33(42))"
   ]
  },
  {
   "cell_type": "code",
   "execution_count": null,
   "id": "d2a00c31-2d87-4a19-a499-c22cfd5a952e",
   "metadata": {},
   "outputs": [],
   "source": [
    "def square_33(x):\n",
    "    return x * x\n",
    "print('Square of 33:', square_33(43))"
   ]
  },
  {
   "cell_type": "code",
   "execution_count": null,
   "id": "94129104-eaaf-41a6-8a54-ad6611a363e5",
   "metadata": {},
   "outputs": [],
   "source": [
    "def square_33(x):\n",
    "    return x * x\n",
    "print('Square of 33:', square_33(44))"
   ]
  },
  {
   "cell_type": "code",
   "execution_count": null,
   "id": "477decea-b8ac-43ec-9c2d-eb89d841def3",
   "metadata": {},
   "outputs": [],
   "source": [
    "def square_33(x):\n",
    "    return x * x\n",
    "print('Square of 33:', square_33(45))"
   ]
  },
  {
   "cell_type": "code",
   "execution_count": null,
   "id": "25931ca0-fb9c-4ac7-974a-300bc4aac225",
   "metadata": {},
   "outputs": [],
   "source": [
    "def square_33(x):\n",
    "    return x * x\n",
    "print('Square of 33:', square_33(46))"
   ]
  },
  {
   "cell_type": "code",
   "execution_count": null,
   "id": "04808b00-b49b-47c4-a9f0-7b033a7602de",
   "metadata": {},
   "outputs": [],
   "source": [
    "def square_33(x):\n",
    "    return x * x\n",
    "print('Square of 33:', square_33(50))"
   ]
  },
  {
   "cell_type": "code",
   "execution_count": null,
   "id": "d723819e-4796-45ec-9cdc-bbd1e04c4d58",
   "metadata": {},
   "outputs": [],
   "source": [
    "def square_33(x):\n",
    "    return x * x\n",
    "print('Square of 33:', square_33(51))"
   ]
  },
  {
   "cell_type": "code",
   "execution_count": null,
   "id": "3843cbdf-b9c4-461a-9ba9-67062d5211de",
   "metadata": {},
   "outputs": [],
   "source": [
    "def square_33(x):\n",
    "    return x * x\n",
    "print('Square of 33:', square_33(52))"
   ]
  },
  {
   "cell_type": "code",
   "execution_count": null,
   "id": "75d3f588-3552-4b58-8f00-9e4bfb47bcef",
   "metadata": {},
   "outputs": [],
   "source": [
    "def square_33(x):\n",
    "    return x * x\n",
    "print('Square of 33:', square_33(53))"
   ]
  },
  {
   "cell_type": "code",
   "execution_count": null,
   "id": "969f8274-450c-426f-b550-f0c7c3a835a9",
   "metadata": {},
   "outputs": [],
   "source": [
    "def square_33(x):\n",
    "    return x * x\n",
    "print('Square of 33:', square_33(54))"
   ]
  },
  {
   "cell_type": "code",
   "execution_count": null,
   "id": "13044bd9-1254-4999-9e82-77f57da9543d",
   "metadata": {},
   "outputs": [],
   "source": [
    "def square_33(x):\n",
    "    return x * x\n",
    "print('Square of 33:', square_33(55))"
   ]
  },
  {
   "cell_type": "code",
   "execution_count": null,
   "id": "7a6209a0-dac7-454a-b1b5-ab60ebec37ad",
   "metadata": {},
   "outputs": [],
   "source": [
    "def square_33(x):\n",
    "    return x * x\n",
    "print('Square of 33:', square_33(33))"
   ]
  },
  {
   "cell_type": "code",
   "execution_count": null,
   "id": "87d307a7-945e-48ec-8dde-184034fcbd21",
   "metadata": {},
   "outputs": [],
   "source": [
    "def square_33(x):\n",
    "    return x * x\n",
    "print('Square of 33:', square_33(33))"
   ]
  },
  {
   "cell_type": "code",
   "execution_count": null,
   "id": "765db883-5335-4d3e-be4b-a233f474e4ec",
   "metadata": {},
   "outputs": [],
   "source": [
    "def square_33(x):\n",
    "    return x * x\n",
    "print('Square of 33:', square_33(33))"
   ]
  },
  {
   "cell_type": "code",
   "execution_count": null,
   "id": "69337f32-5014-4308-9601-ac2ac5c80cdd",
   "metadata": {},
   "outputs": [],
   "source": [
    "def square_33(x):\n",
    "    return x * x\n",
    "print('Square of 33:', square_33(33))"
   ]
  },
  {
   "cell_type": "code",
   "execution_count": null,
   "id": "ad3ad1fe-3204-4f69-b996-a512ab062dfb",
   "metadata": {},
   "outputs": [],
   "source": [
    "def square_33(x):\n",
    "    return x * x\n",
    "print('Square of 33:', square_33(33))"
   ]
  },
  {
   "cell_type": "code",
   "execution_count": null,
   "id": "37d18cef-2ab3-4643-bfb5-dbcb9acd4276",
   "metadata": {},
   "outputs": [],
   "source": [
    "def square_33(x):\n",
    "    return x * x\n",
    "print('Square of 33:', square_33(33))"
   ]
  },
  {
   "cell_type": "code",
   "execution_count": null,
   "id": "f123bc0b-6abb-4f68-8366-6948052dfe93",
   "metadata": {},
   "outputs": [],
   "source": [
    "def square_33(x):\n",
    "    return x * x\n",
    "print('Square of 33:', square_33(33))"
   ]
  },
  {
   "cell_type": "code",
   "execution_count": null,
   "id": "109e3dad-283e-432f-9dc2-77bba9941648",
   "metadata": {},
   "outputs": [],
   "source": [
    "def square_33(x):\n",
    "    return x * x\n",
    "print('Square of 33:', square_33(33))"
   ]
  },
  {
   "cell_type": "code",
   "execution_count": null,
   "id": "6abd9f3a-cc07-4ca2-a375-c1ab23bbc272",
   "metadata": {},
   "outputs": [],
   "source": [
    "def square_33(x):\n",
    "    return x * x\n",
    "print('Square of 33:', square_33(33))"
   ]
  },
  {
   "cell_type": "code",
   "execution_count": null,
   "id": "38d430d6-9338-433d-9b65-294d29a937e7",
   "metadata": {},
   "outputs": [],
   "source": [
    "def square_33(x):\n",
    "    return x * x\n",
    "print('Square of 33:', square_33(33))"
   ]
  },
  {
   "cell_type": "code",
   "execution_count": null,
   "id": "e46e1686-405f-461e-ae96-17e0d282c1b2",
   "metadata": {},
   "outputs": [],
   "source": [
    "def square_33(x):\n",
    "    return x * x\n",
    "print('Square of 33:', square_33(33))"
   ]
  },
  {
   "cell_type": "code",
   "execution_count": null,
   "id": "15f1dbb7-4ad0-4297-9f16-769c4eb2c666",
   "metadata": {},
   "outputs": [],
   "source": [
    "def square_33(x):\n",
    "    return x * x\n",
    "print('Square of 33:', square_33(33))"
   ]
  },
  {
   "cell_type": "code",
   "execution_count": null,
   "id": "19e5bd65-4883-412d-bfe8-456ef5643239",
   "metadata": {},
   "outputs": [],
   "source": [
    "def square_33(x):\n",
    "    return x * x\n",
    "print('Square of 33:', square_33(33))"
   ]
  },
  {
   "cell_type": "code",
   "execution_count": null,
   "id": "da23d086-e5da-4d56-bb9e-91614fe2ea4e",
   "metadata": {},
   "outputs": [],
   "source": [
    "def square_33(x):\n",
    "    return x * x\n",
    "print('Square of 33:', square_33(33))"
   ]
  },
  {
   "cell_type": "code",
   "execution_count": null,
   "id": "ed9a063a-1598-4d8c-821b-45c6a4024baa",
   "metadata": {},
   "outputs": [],
   "source": [
    "def square_33(x):\n",
    "    return x * x\n",
    "print('Square of 33:', square_33(33))"
   ]
  },
  {
   "cell_type": "code",
   "execution_count": null,
   "id": "9ff554e0-025e-4e56-9874-0b9f8dec3ac7",
   "metadata": {},
   "outputs": [],
   "source": [
    "def square_33(x):\n",
    "    return x * x\n",
    "print('Square of 33:', square_33(33))"
   ]
  },
  {
   "cell_type": "code",
   "execution_count": null,
   "id": "6fbbbd15-87d2-40e1-afd1-29be42e30187",
   "metadata": {},
   "outputs": [],
   "source": [
    "def square_33(x):\n",
    "    return x * x\n",
    "print('Square of 33:', square_33(33))"
   ]
  },
  {
   "cell_type": "code",
   "execution_count": null,
   "id": "51167903-847e-40af-b18a-ba19395f5b99",
   "metadata": {},
   "outputs": [],
   "source": [
    "def square_33(x):\n",
    "    return x * x\n",
    "print('Square of 33:', square_33(33))"
   ]
  },
  {
   "cell_type": "code",
   "execution_count": null,
   "id": "f077550b-fe7d-458a-ad40-564594eb16b3",
   "metadata": {},
   "outputs": [],
   "source": [
    "def square_33(x):\n",
    "    return x * x\n",
    "print('Square of 33:', square_33(33))"
   ]
  },
  {
   "cell_type": "code",
   "execution_count": null,
   "id": "af80f44c-b2e2-42f1-ad4c-eaf9945aacde",
   "metadata": {},
   "outputs": [],
   "source": [
    "def square_33(x):\n",
    "    return x * x\n",
    "print('Square of 33:', square_33(33))"
   ]
  },
  {
   "cell_type": "code",
   "execution_count": null,
   "id": "ac280644-b832-4901-95ec-b1dfd1b93405",
   "metadata": {},
   "outputs": [],
   "source": [
    "def square_33(x):\n",
    "    return x * x\n",
    "print('Square of 33:', square_33(33))"
   ]
  },
  {
   "cell_type": "code",
   "execution_count": null,
   "id": "b1e09e98-e33c-4037-88ae-3349dadf18bc",
   "metadata": {},
   "outputs": [],
   "source": [
    "def square_33(x):\n",
    "    return x * x\n",
    "print('Square of 33:', square_33(33))"
   ]
  },
  {
   "cell_type": "code",
   "execution_count": null,
   "id": "32f2e331-1e9e-4d5b-b4ff-85cc77b5e0f4",
   "metadata": {},
   "outputs": [],
   "source": [
    "def square_33(x):\n",
    "    return x * x\n",
    "print('Square of 33:', square_33(33))"
   ]
  },
  {
   "cell_type": "code",
   "execution_count": null,
   "id": "7af65a75-b4a5-4f8b-87d5-93a74b9d617b",
   "metadata": {},
   "outputs": [],
   "source": [
    "def square_33(x):\n",
    "    return x * x\n",
    "print('Square of 33:', square_33(33))"
   ]
  },
  {
   "cell_type": "code",
   "execution_count": null,
   "id": "af5a3f18-e265-4b0f-b7b8-38223642129b",
   "metadata": {},
   "outputs": [],
   "source": [
    "def square_33(x):\n",
    "    return x * x\n",
    "print('Square of 33:', square_33(33))def square_33(x)"
   ]
  },
  {
   "cell_type": "code",
   "execution_count": null,
   "id": "004174d0-bdcb-4c6e-876c-614f41923dbb",
   "metadata": {},
   "outputs": [],
   "source": [
    "def square_33(x):\n",
    "    return x * x\n",
    "print('Square of 33:', square_33(33))"
   ]
  },
  {
   "cell_type": "code",
   "execution_count": null,
   "id": "1080c060-cdc5-4366-b0c6-aec3fcab881e",
   "metadata": {},
   "outputs": [],
   "source": [
    "def square_33(x):\n",
    "    return x * x\n",
    "print('Square of 33:', square_33(33))"
   ]
  },
  {
   "cell_type": "code",
   "execution_count": null,
   "id": "30104a0f-a9a2-4fa0-8b6b-489d8e4d4d70",
   "metadata": {},
   "outputs": [],
   "source": [
    "def square_33(x):\n",
    "    return x * x\n",
    "print('Square of 33:', square_33(33))"
   ]
  },
  {
   "cell_type": "code",
   "execution_count": null,
   "id": "a7d379aa-5f0e-47db-a3ae-785c1a6f1ade",
   "metadata": {},
   "outputs": [],
   "source": [
    "def square_33(x):\n",
    "    return x * x\n",
    "print('Square of 33:', square_33(33))"
   ]
  },
  {
   "cell_type": "code",
   "execution_count": null,
   "id": "a27d58a0-19e0-491c-8f7b-12784abcbe9f",
   "metadata": {},
   "outputs": [],
   "source": [
    "def square_33(x):\n",
    "    return x * x\n",
    "print('Square of 33:', square_33(33))"
   ]
  },
  {
   "cell_type": "code",
   "execution_count": null,
   "id": "473a8c58-542b-4c80-896f-88f6a183d25e",
   "metadata": {},
   "outputs": [],
   "source": [
    "def square_33(x):\n",
    "    return x * x\n",
    "print('Square of 33:', square_33(33))"
   ]
  },
  {
   "cell_type": "code",
   "execution_count": null,
   "id": "5df50066-3121-47c3-879b-930e88051895",
   "metadata": {},
   "outputs": [],
   "source": [
    "def square_33(x):\n",
    "    return x * x\n",
    "print('Square of 33:', square_33(33))"
   ]
  },
  {
   "cell_type": "code",
   "execution_count": null,
   "id": "9ecfc69b-5cec-44a7-ace0-21ee29d04f27",
   "metadata": {},
   "outputs": [],
   "source": [
    "def square_33(x):\n",
    "    return x * x\n",
    "print('Square of 33:', square_33(33))"
   ]
  },
  {
   "cell_type": "code",
   "execution_count": null,
   "id": "63d14b28-44d6-4f80-8ab6-f8d78aa59f63",
   "metadata": {},
   "outputs": [],
   "source": [
    "def square_33(x):\n",
    "    return x * x\n",
    "print('Square of 33:', square_33(33))"
   ]
  },
  {
   "cell_type": "code",
   "execution_count": null,
   "id": "951d7dab-3be9-4e1c-96ee-9eb4b5ac4d37",
   "metadata": {},
   "outputs": [],
   "source": [
    "def square_33(x):\n",
    "    return x * x\n",
    "print('Square of 33:', square_33(33))"
   ]
  },
  {
   "cell_type": "code",
   "execution_count": null,
   "id": "97deaa1d-e02c-4935-b069-11dccdfd4877",
   "metadata": {},
   "outputs": [],
   "source": [
    "def square_33(x):\n",
    "    return x * x\n",
    "print('Square of 33:', square_33(33))"
   ]
  },
  {
   "cell_type": "code",
   "execution_count": null,
   "id": "982b6bff-8a3d-4069-8324-38d766b6be01",
   "metadata": {},
   "outputs": [],
   "source": [
    "def square_33(x):\n",
    "    return x * x\n",
    "print('Square of 33:', square_33(33))"
   ]
  },
  {
   "cell_type": "code",
   "execution_count": null,
   "id": "00ef8999-b0dd-4679-b2e4-3154c82db741",
   "metadata": {},
   "outputs": [],
   "source": [
    "def square_33(x):\n",
    "    return x * x\n",
    "print('Square of 33:', square_33(33))"
   ]
  },
  {
   "cell_type": "code",
   "execution_count": null,
   "id": "decbfa8c-7551-41e4-b948-a510c14f090a",
   "metadata": {},
   "outputs": [],
   "source": [
    "def square_33(x):\n",
    "    return x * x\n",
    "print('Square of 33:', square_33(33))"
   ]
  },
  {
   "cell_type": "code",
   "execution_count": null,
   "id": "054c05e8-060f-4527-962d-89295c77788f",
   "metadata": {},
   "outputs": [],
   "source": [
    "def square_33(x):\n",
    "    return x * x\n",
    "print('Square of 33:', square_33(33))"
   ]
  },
  {
   "cell_type": "code",
   "execution_count": null,
   "id": "7557e739-d9dd-4b1f-b755-946d29545ff2",
   "metadata": {},
   "outputs": [],
   "source": [
    "def square_33(x):\n",
    "    return x * x\n",
    "print('Square of 33:', square_33(33))"
   ]
  },
  {
   "cell_type": "code",
   "execution_count": null,
   "id": "3a5a78c5-5202-465d-9a07-bc1d884c13ca",
   "metadata": {},
   "outputs": [],
   "source": [
    "def square_33(x):\n",
    "    return x * x\n",
    "print('Square of 33:', square_33(33))"
   ]
  },
  {
   "cell_type": "code",
   "execution_count": null,
   "id": "dd84c2a8-4a45-4e30-99c6-987f4723b7a5",
   "metadata": {},
   "outputs": [],
   "source": [
    "def square_33(x):\n",
    "    return x * x\n",
    "print('Square of 33:', square_33(33))"
   ]
  },
  {
   "cell_type": "code",
   "execution_count": null,
   "id": "65cab080-24b2-4368-823b-93216353f912",
   "metadata": {},
   "outputs": [],
   "source": [
    "def square_33(x):\n",
    "    return x * x\n",
    "print('Square of 33:', square_33(33))"
   ]
  },
  {
   "cell_type": "code",
   "execution_count": null,
   "id": "567a6066-bd6b-47ec-a2ff-781319ac1322",
   "metadata": {},
   "outputs": [],
   "source": [
    "def square_33(x):\n",
    "    return x * x\n",
    "print('Square of 33:', square_33(33))"
   ]
  },
  {
   "cell_type": "code",
   "execution_count": null,
   "id": "4b5271a9-c290-43ee-84c3-9aea63f7bff6",
   "metadata": {},
   "outputs": [],
   "source": [
    "def square_33(x):\n",
    "    return x * x\n",
    "print('Square of 33:', square_33(33))"
   ]
  },
  {
   "cell_type": "code",
   "execution_count": null,
   "id": "77df16bc-cb91-4328-abed-e82cd60d7cc1",
   "metadata": {},
   "outputs": [],
   "source": [
    "def square_33(x):\n",
    "    return x * x\n",
    "print('Square of 33:', square_33(33))"
   ]
  },
  {
   "cell_type": "code",
   "execution_count": null,
   "id": "ed66203b-ec2b-451c-a6a5-76692c4059f1",
   "metadata": {},
   "outputs": [],
   "source": [
    "def square_33(x):\n",
    "    return x * x\n",
    "print('Square of 33:', square_33(33))def square_33(x)"
   ]
  },
  {
   "cell_type": "code",
   "execution_count": null,
   "id": "9f4f46b3-07bc-46e4-bf79-ddc677820e00",
   "metadata": {},
   "outputs": [],
   "source": [
    "def square_33(x):\n",
    "    return x * x\n",
    "print('Square of 33:', square_33(33))"
   ]
  },
  {
   "cell_type": "code",
   "execution_count": null,
   "id": "c380ec92-29d0-4aad-9177-081729699640",
   "metadata": {},
   "outputs": [],
   "source": [
    "def square_33(x):\n",
    "    return x * x\n",
    "print('Square of 33:', square_33(33))"
   ]
  },
  {
   "cell_type": "code",
   "execution_count": null,
   "id": "dafd9770-3090-47e8-b096-84a3e56b8fb8",
   "metadata": {},
   "outputs": [],
   "source": [
    "def square_33(x):\n",
    "    return x * x\n",
    "print('Square of 33:', square_33(33))"
   ]
  },
  {
   "cell_type": "code",
   "execution_count": null,
   "id": "fb2fc597-bbf0-4062-9042-0f8205231961",
   "metadata": {},
   "outputs": [],
   "source": [
    "def square_33(x):\n",
    "    return x * x\n",
    "print('Square of 33:', square_33(33))"
   ]
  },
  {
   "cell_type": "code",
   "execution_count": null,
   "id": "cf5b0323-f040-4351-9267-0ad6a81e10a6",
   "metadata": {},
   "outputs": [],
   "source": [
    "def square_33(x):\n",
    "    return x * x\n",
    "print('Square of 33:', square_33(33))"
   ]
  },
  {
   "cell_type": "code",
   "execution_count": null,
   "id": "11a15ff8-c654-485c-96c6-12ffa333e22e",
   "metadata": {},
   "outputs": [],
   "source": [
    "def square_33(x):\n",
    "    return x * x\n",
    "print('Square of 33:', square_33(33))"
   ]
  },
  {
   "cell_type": "code",
   "execution_count": null,
   "id": "a4f98474-41a7-4df7-b2fe-86c440a390b9",
   "metadata": {},
   "outputs": [],
   "source": [
    "def square_33(x):\n",
    "    return x * x\n",
    "print('Square of 33:', square_33(33))"
   ]
  },
  {
   "cell_type": "code",
   "execution_count": null,
   "id": "921df12e-2d31-46ec-8751-26c673c8ec35",
   "metadata": {},
   "outputs": [],
   "source": [
    "def square_33(x):\n",
    "    return x * x\n",
    "print('Square of 33:', square_33(33))"
   ]
  },
  {
   "cell_type": "code",
   "execution_count": null,
   "id": "ab484a7c-7cd6-451b-8c1c-24e1f1f8252e",
   "metadata": {},
   "outputs": [],
   "source": [
    "def square_33(x):\n",
    "    return x * x\n",
    "print('Square of 33:', square_33(33))"
   ]
  },
  {
   "cell_type": "code",
   "execution_count": null,
   "id": "f26e3c60-017d-4acc-810e-831422fbe50f",
   "metadata": {},
   "outputs": [],
   "source": [
    "def square_33(x):\n",
    "    return x * x\n",
    "print('Square of 33:', square_33(33))"
   ]
  },
  {
   "cell_type": "code",
   "execution_count": null,
   "id": "231bff10-0a3d-47ba-be0a-a54e5f8402a1",
   "metadata": {},
   "outputs": [],
   "source": [
    "def square_33(x):\n",
    "    return x * x\n",
    "print('Square of 33:', square_33(33))"
   ]
  },
  {
   "cell_type": "code",
   "execution_count": null,
   "id": "47232470-6d4f-4ae5-bc56-73f2a7dd0035",
   "metadata": {},
   "outputs": [],
   "source": [
    "def square_33(x):\n",
    "    return x * x\n",
    "print('Square of 33:', square_33(33))"
   ]
  },
  {
   "cell_type": "code",
   "execution_count": null,
   "id": "5bc95c1a-39d6-4d64-81fb-c2e385161d6e",
   "metadata": {},
   "outputs": [],
   "source": [
    "def square_33(x):\n",
    "    return x * x\n",
    "print('Square of 33:', square_33(33))"
   ]
  },
  {
   "cell_type": "code",
   "execution_count": null,
   "id": "c72011db-d880-4bd3-bcfd-d0f15708661f",
   "metadata": {},
   "outputs": [],
   "source": [
    "def square_33(x):\n",
    "    return x * x\n",
    "print('Square of 33:', square_33(33))"
   ]
  },
  {
   "cell_type": "code",
   "execution_count": null,
   "id": "7c687daf-45f8-48c2-bbf5-48aa55f48c25",
   "metadata": {},
   "outputs": [],
   "source": [
    "def square_33(x):\n",
    "    return x * x\n",
    "print('Square of 33:', square_33(33))def square_33(x):\n",
    "    return x * x\n",
    "print('Square of 33:', square_33(33))"
   ]
  },
  {
   "cell_type": "code",
   "execution_count": null,
   "id": "43ab5cb3-319b-445d-b456-9487b2c0993c",
   "metadata": {},
   "outputs": [],
   "source": [
    "def square_33(x):\n",
    "    return x * x\n",
    "print('Square of 33:', square_33(33))"
   ]
  },
  {
   "cell_type": "code",
   "execution_count": null,
   "id": "f2259611-1784-44f4-b2b3-b7827aeebb99",
   "metadata": {},
   "outputs": [],
   "source": [
    "def square_33(x):\n",
    "    return x * x\n",
    "print('Square of 33:', square_33(33))def square_33(x)"
   ]
  },
  {
   "cell_type": "code",
   "execution_count": null,
   "id": "9cf9d5d1-d4cb-4ab6-ba76-8eecd71ab735",
   "metadata": {},
   "outputs": [],
   "source": [
    "def square_33(x):\n",
    "    return x * x\n",
    "print('Square of 33:', square_33(33))"
   ]
  },
  {
   "cell_type": "code",
   "execution_count": null,
   "id": "f58fc874-3718-4e75-aabb-4eefe23ead67",
   "metadata": {},
   "outputs": [],
   "source": [
    "def square_33(x):\n",
    "    return x * x\n",
    "print('Square of 33:', square_33(33))"
   ]
  },
  {
   "cell_type": "code",
   "execution_count": null,
   "id": "c11c9dfb-159d-415e-90ba-7245ef55b63f",
   "metadata": {},
   "outputs": [],
   "source": [
    "def square_33(x):\n",
    "    return x * x\n",
    "print('Square of 33:', square_33(33))"
   ]
  },
  {
   "cell_type": "code",
   "execution_count": null,
   "id": "9f0d08b4-12f2-4286-82cf-73de0a7765d2",
   "metadata": {},
   "outputs": [],
   "source": [
    "def square_33(x):\n",
    "    return x * x\n",
    "print('Square of 33:', square_33(33))"
   ]
  },
  {
   "cell_type": "code",
   "execution_count": null,
   "id": "2567a507-aeb3-47c2-ba0c-4e4e4224d35d",
   "metadata": {},
   "outputs": [],
   "source": [
    "def square_33(x):\n",
    "    return x * x\n",
    "print('Square of 33:', square_33(33))"
   ]
  },
  {
   "cell_type": "code",
   "execution_count": null,
   "id": "d9c5285e-18ff-49b8-8f63-fc3e939b2f64",
   "metadata": {},
   "outputs": [],
   "source": [
    "def square_33(x):\n",
    "    return x * x\n",
    "print('Square of 33:', square_33(33))"
   ]
  },
  {
   "cell_type": "code",
   "execution_count": null,
   "id": "63e57683-2ceb-4d30-87ce-53d67c0ef0f1",
   "metadata": {},
   "outputs": [],
   "source": [
    "def square_33(x):\n",
    "    return x * x\n",
    "print('Square of 33:', square_33(33))"
   ]
  },
  {
   "cell_type": "code",
   "execution_count": null,
   "id": "eea8859e-a3c0-4b06-b8b2-63cdd73d283a",
   "metadata": {},
   "outputs": [],
   "source": [
    "def square_33(x):\n",
    "    return x * x\n",
    "print('Square of 33:', square_33(33))"
   ]
  },
  {
   "cell_type": "code",
   "execution_count": null,
   "id": "f62d8eff-c33a-4195-bfb9-c50401dc4b46",
   "metadata": {},
   "outputs": [],
   "source": [
    "def square_33(x):\n",
    "    return x * x\n",
    "print('Square of 33:', square_33(33))"
   ]
  },
  {
   "cell_type": "code",
   "execution_count": null,
   "id": "a01029e8-e4af-40cf-a10b-438518206847",
   "metadata": {},
   "outputs": [],
   "source": [
    "def square_33(x):\n",
    "    return x * x\n",
    "print('Square of 33:', square_33(33))"
   ]
  },
  {
   "cell_type": "code",
   "execution_count": null,
   "id": "bd992a7a-eb4e-40d5-bfc7-e7e0988848ac",
   "metadata": {},
   "outputs": [],
   "source": [
    "def square_33(x):\n",
    "    return x * x\n",
    "print('Square of 33:', square_33(33))"
   ]
  },
  {
   "cell_type": "code",
   "execution_count": null,
   "id": "f3fbfe38-b6b0-485c-b244-857f8de8209b",
   "metadata": {},
   "outputs": [],
   "source": [
    "def square_33(x):\n",
    "    return x * x\n",
    "print('Square of 33:', square_33(33))"
   ]
  },
  {
   "cell_type": "code",
   "execution_count": null,
   "id": "673f8946-5b5a-4b6b-b351-467a5e753590",
   "metadata": {},
   "outputs": [],
   "source": [
    "def square_33(x):\n",
    "    return x * x\n",
    "print('Square of 33:', square_33(33))"
   ]
  },
  {
   "cell_type": "code",
   "execution_count": null,
   "id": "91eb2f97-ea73-4c57-aa6a-b4356b3bb680",
   "metadata": {},
   "outputs": [],
   "source": [
    "def square_33(x):\n",
    "    return x * x\n",
    "print('Square of 33:', square_33(33))"
   ]
  },
  {
   "cell_type": "code",
   "execution_count": null,
   "id": "3e81dabb-8f54-4a5f-999c-d9b15ba1cda9",
   "metadata": {},
   "outputs": [],
   "source": [
    "def square_33(x):\n",
    "    return x * x\n",
    "print('Square of 33:', square_33(33))"
   ]
  },
  {
   "cell_type": "code",
   "execution_count": null,
   "id": "78f64a3a-d6ce-4c0f-bdda-d1a44bcebd94",
   "metadata": {},
   "outputs": [],
   "source": [
    "def square_33(x):\n",
    "    return x * x\n",
    "print('Square of 33:', square_33(33))"
   ]
  },
  {
   "cell_type": "code",
   "execution_count": null,
   "id": "6be137e6-eb8b-47fb-9dab-2ac6720ce7f9",
   "metadata": {},
   "outputs": [],
   "source": [
    "def square_33(x):\n",
    "    return x * x\n",
    "print('Square of 33:', square_33(33))"
   ]
  },
  {
   "cell_type": "code",
   "execution_count": null,
   "id": "9bc7bfe4-7dc5-472d-b4e6-91ee8dd8e349",
   "metadata": {},
   "outputs": [],
   "source": [
    "def square_33(x):\n",
    "    return x * x\n",
    "print('Square of 33:', square_33(33))"
   ]
  },
  {
   "cell_type": "code",
   "execution_count": null,
   "id": "cd15a88a-ff1b-452e-b2e9-bd41b7bfd820",
   "metadata": {},
   "outputs": [],
   "source": [
    "def square_33(x):\n",
    "    return x * x\n",
    "print('Square of 33:', square_33(33))"
   ]
  },
  {
   "cell_type": "code",
   "execution_count": null,
   "id": "c5ed49b7-f5e7-4567-85d3-81b2bbcc8bb2",
   "metadata": {},
   "outputs": [],
   "source": [
    "def square_33(x):\n",
    "    return x * x\n",
    "print('Square of 33:', square_33(33))"
   ]
  },
  {
   "cell_type": "code",
   "execution_count": null,
   "id": "f7b347a7-5f86-498b-8065-57abe3076845",
   "metadata": {},
   "outputs": [],
   "source": [
    "def square_33(x):\n",
    "    return x * x\n",
    "print('Square of 33:', square_33(33))"
   ]
  },
  {
   "cell_type": "code",
   "execution_count": null,
   "id": "df9c1f89-0949-4ded-a58a-8df2dea719a6",
   "metadata": {},
   "outputs": [],
   "source": [
    "def square_33(x):\n",
    "    return x * x\n",
    "print('Square of 33:', square_33(33))"
   ]
  },
  {
   "cell_type": "code",
   "execution_count": null,
   "id": "e962f054-41a4-472e-bcc5-17cb9875f77a",
   "metadata": {},
   "outputs": [],
   "source": [
    "def square_33(x):\n",
    "    return x * x\n",
    "print('Square of 33:', square_33(33))"
   ]
  },
  {
   "cell_type": "code",
   "execution_count": null,
   "id": "67ba5390-a144-43e4-902a-bd6b807bf92d",
   "metadata": {},
   "outputs": [],
   "source": [
    "def square_33(x):\n",
    "    return x * x\n",
    "print('Square of 33:', square_33(33))"
   ]
  },
  {
   "cell_type": "code",
   "execution_count": null,
   "id": "2a7aa014-e6b9-438a-922e-a336b58d17ce",
   "metadata": {},
   "outputs": [],
   "source": [
    "def square_33(x):\n",
    "    return x * x\n",
    "print('Square of 33:', square_33(33))"
   ]
  },
  {
   "cell_type": "code",
   "execution_count": null,
   "id": "2a426fb8-8572-4de8-964a-3f9fdde96ef2",
   "metadata": {},
   "outputs": [],
   "source": [
    "def square_33(x):\n",
    "    return x * x\n",
    "print('Square of 33:', square_33(33))"
   ]
  },
  {
   "cell_type": "code",
   "execution_count": null,
   "id": "3ec1a900-4311-47c6-b536-399064df2ef7",
   "metadata": {},
   "outputs": [],
   "source": [
    "def square_33(x):\n",
    "    return x * x\n",
    "print('Square of 33:', square_33(33))"
   ]
  },
  {
   "cell_type": "code",
   "execution_count": null,
   "id": "8649715a-6ffc-4ea8-9b68-ea87c79e3b2e",
   "metadata": {},
   "outputs": [],
   "source": [
    "def square_33(x):\n",
    "    return x * x\n",
    "print('Square of 33:', square_33(33))"
   ]
  },
  {
   "cell_type": "code",
   "execution_count": null,
   "id": "057f19c6-7538-48f9-9220-cde7d2e6d490",
   "metadata": {},
   "outputs": [],
   "source": [
    "def square_33(x):\n",
    "    return x * x\n",
    "print('Square of 33:', square_33(33))"
   ]
  },
  {
   "cell_type": "code",
   "execution_count": null,
   "id": "00910ad8-0c8e-4b5e-b9cc-f604ede52f50",
   "metadata": {},
   "outputs": [],
   "source": [
    "def square_33(x):\n",
    "    return x * x\n",
    "print('Square of 33:', square_33(33))"
   ]
  },
  {
   "cell_type": "code",
   "execution_count": null,
   "id": "9f5c460b-fe17-4ce6-b4e1-b2d9fd1058e4",
   "metadata": {},
   "outputs": [],
   "source": [
    "def square_33(x):\n",
    "    return x * x\n",
    "print('Square of 33:', square_33(33))"
   ]
  }
 ],
 "metadata": {
  "kernelspec": {
   "display_name": "Python 3 (ipykernel)",
   "language": "python",
   "name": "python3"
  },
  "language_info": {
   "codemirror_mode": {
    "name": "ipython",
    "version": 3
   },
   "file_extension": ".py",
   "mimetype": "text/x-python",
   "name": "python",
   "nbconvert_exporter": "python",
   "pygments_lexer": "ipython3",
   "version": "3.11.13"
  }
 },
 "nbformat": 4,
 "nbformat_minor": 5
}
