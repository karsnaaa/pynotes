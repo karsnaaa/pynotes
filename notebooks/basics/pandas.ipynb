{
 "cells": [
  {
   "cell_type": "code",
   "execution_count": null,
   "id": "5afe1dfd-cb87-443c-86a3-fd6ae6566fdc",
   "metadata": {},
   "outputs": [],
   "source": []
  },
  {
   "cell_type": "code",
   "execution_count": null,
   "id": "2f71ec2a-20ae-4992-8fa1-3ecc3336c897",
   "metadata": {},
   "outputs": [],
   "source": [
    "import pandas as pd  \n",
    "from sklearn.model_selection import train_test_split\n",
    "from sklearn.feature_extraction.text import CountVectorizer\n",
    "from sklearn.naive_bayes import MultinomialNB\n",
    "import streamlit as st"
   ]
  },
  {
   "cell_type": "code",
   "execution_count": null,
   "id": "d18504b9-7d46-432d-8c8e-f0abe1204c50",
   "metadata": {},
   "outputs": [],
   "source": [
    "data = pd.read_csv('C:/Users/HP/Desktop/OIB-SIP/emailspam/dataset-mail/spam.csv', encoding='latin-1')"
   ]
  },
  {
   "cell_type": "code",
   "execution_count": null,
   "id": "fcb6267c-0eaa-48f0-8951-a3f9213129a1",
   "metadata": {},
   "outputs": [],
   "source": [
    "print(\"Original Shape:\", data.shape)"
   ]
  },
  {
   "cell_type": "code",
   "execution_count": null,
   "id": "38d52e52-14b0-46be-a963-701e6e1eeea0",
   "metadata": {},
   "outputs": [],
   "source": [
    "print(data.head())"
   ]
  },
  {
   "cell_type": "code",
   "execution_count": null,
   "id": "edad6940-98d6-46ef-a3bc-e562ee521102",
   "metadata": {},
   "outputs": [],
   "source": [
    "data = data[['v1', 'v2']]"
   ]
  },
  {
   "cell_type": "code",
   "execution_count": null,
   "id": "ce3b1e4e-26d6-46e2-b28b-0b69f2cea259",
   "metadata": {},
   "outputs": [],
   "source": [
    "data.drop_duplicates(inplace=True)"
   ]
  },
  {
   "cell_type": "code",
   "execution_count": null,
   "id": "d4192213-57c5-49e0-b53e-94a5359ce60e",
   "metadata": {},
   "outputs": [],
   "source": [
    "data.dropna(inplace=True)"
   ]
  },
  {
   "cell_type": "code",
   "execution_count": null,
   "id": "629ee3cd-02db-4853-96e7-d76d04a10035",
   "metadata": {},
   "outputs": [],
   "source": [
    "print(\"\\nCleaned Shape:\", data.shape)"
   ]
  },
  {
   "cell_type": "code",
   "execution_count": null,
   "id": "2c075f9f-0b99-468a-b308-deb3ca7324b1",
   "metadata": {},
   "outputs": [],
   "source": [
    "data['v1'] = data['v1'].replace(['ham', 'spam'], ['Not Spam', 'Spam'])"
   ]
  },
  {
   "cell_type": "code",
   "execution_count": null,
   "id": "b38d7af0-0384-415d-90d9-2f66a4c919c4",
   "metadata": {},
   "outputs": [],
   "source": [
    "data.rename(columns={'v1': 'Category', 'v2': 'Message'}, inplace=True)"
   ]
  },
  {
   "cell_type": "code",
   "execution_count": null,
   "id": "b6d88bf9-a7c5-42ca-85c5-461f71ad31b7",
   "metadata": {},
   "outputs": [],
   "source": [
    "print(\"\\nLabel Distribution:\\n\", data['Category'].value_counts())"
   ]
  },
  {
   "cell_type": "code",
   "execution_count": null,
   "id": "fe9af727-8eb9-4629-a0bb-9f04e4e2d52d",
   "metadata": {},
   "outputs": [],
   "source": [
    "mess_train, mess_test, cat_train, cat_test = train_test_split(mess, cat, test_size=0.2, random_state=0, stratify=cat)"
   ]
  },
  {
   "cell_type": "code",
   "execution_count": null,
   "id": "548d12a6-5e34-456d-8e94-3780e88e6775",
   "metadata": {},
   "outputs": [],
   "source": [
    "cv = CountVectorizer(stop_words='english')"
   ]
  },
  {
   "cell_type": "code",
   "execution_count": null,
   "id": "c7838e5d-b5c9-4dd8-9973-0696d5d35d93",
   "metadata": {},
   "outputs": [],
   "source": [
    "features_train = cv.fit_transform(mess_train)\n",
    "features_test = cv.transform(mess_test)"
   ]
  },
  {
   "cell_type": "code",
   "execution_count": null,
   "id": "a77797ec-1a5a-4daa-a8f3-cce7df3a1063",
   "metadata": {},
   "outputs": [],
   "source": [
    "model = MultinomialNB()\n",
    "model.fit(features_train, cat_train)"
   ]
  },
  {
   "cell_type": "code",
   "execution_count": null,
   "id": "9d341a74-12d5-4575-877d-483ca9ff6293",
   "metadata": {},
   "outputs": [],
   "source": [
    "print(\"Accuracy:\", model.score(features_test, cat_test))"
   ]
  },
  {
   "cell_type": "code",
   "execution_count": null,
   "id": "6d56179a-be3f-4c84-827b-9f3d357e644e",
   "metadata": {},
   "outputs": [],
   "source": [
    "def predict(message):\n",
    "  message = cv.transform([message]).toarray()\n",
    "  result = model.predict(message)\n",
    "  return result"
   ]
  },
  {
   "cell_type": "code",
   "execution_count": null,
   "id": "3e3cc00b-8b40-4d9d-98b9-d61e2eb361bc",
   "metadata": {},
   "outputs": [],
   "source": [
    "st.header(\"Email Spam Detector\")"
   ]
  },
  {
   "cell_type": "code",
   "execution_count": null,
   "id": "dc79feb8-1d7c-4947-ab53-ac34493d5fd8",
   "metadata": {},
   "outputs": [],
   "source": [
    "output = predict(\"WINNER!! This is the secret code to unlock the money: C3421.\")\n",
    "print(output)"
   ]
  },
  {
   "cell_type": "code",
   "execution_count": null,
   "id": "4cc2dfe5-f280-482d-951c-1283db352023",
   "metadata": {},
   "outputs": [],
   "source": [
    "input_message=st.text_input(\"Enter a message\")"
   ]
  },
  {
   "cell_type": "code",
   "execution_count": null,
   "id": "ddf10ee2-1d37-450b-a230-f0ce1ce9d5fd",
   "metadata": {},
   "outputs": [],
   "source": [
    "if st.button('Go'):\n",
    "    output=predict(input_message)\n",
    "    st.text(output)\n",
    "else:\n",
    "    pass"
   ]
  }
 ],
 "metadata": {
  "kernelspec": {
   "display_name": "Python 3 (ipykernel)",
   "language": "python",
   "name": "python3"
  },
  "language_info": {
   "codemirror_mode": {
    "name": "ipython",
    "version": 3
   },
   "file_extension": ".py",
   "mimetype": "text/x-python",
   "name": "python",
   "nbconvert_exporter": "python",
   "pygments_lexer": "ipython3",
   "version": "3.11.13"
  }
 },
 "nbformat": 4,
 "nbformat_minor": 5
}
