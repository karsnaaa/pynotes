{
 "cells": [
  {
   "cell_type": "code",
   "execution_count": null,
   "id": "a14bb1c7-77d0-4dfe-8b48-eb2c337a09e2",
   "metadata": {},
   "outputs": [],
   "source": [
    "x = [1, 2, 3]\n",
    "y = ['a', 'b', 'c']\n",
    "z = zip(x, y)\n",
    "print(list(z))"
   ]
  },
  {
   "cell_type": "code",
   "execution_count": null,
   "id": "f53a14ef-e33a-462c-ae29-c451ca5b394b",
   "metadata": {},
   "outputs": [],
   "source": [
    "x = lambda a, b, c : a + b + c\n",
    "print(x(1, 2, 3))"
   ]
  },
  {
   "cell_type": "code",
   "execution_count": null,
   "id": "e6436814-ba11-4b8a-846a-5693f03b44f7",
   "metadata": {},
   "outputs": [],
   "source": [
    "nums = [1, 2, 3, 4, 5, 6]\n",
    "result = list(filter(lambda x: x % 2 == 0, nums))\n",
    "print(result)"
   ]
  },
  {
   "cell_type": "code",
   "execution_count": null,
   "id": "5da37c87-f446-4c95-8a15-e40b9481e69a",
   "metadata": {},
   "outputs": [],
   "source": [
    "x = [1, 2, 3]\n",
    "y = ['a', 'b', 'c']\n",
    "z = zip(x, y)\n",
    "print(list(z))"
   ]
  },
  {
   "cell_type": "code",
   "execution_count": null,
   "id": "346d5ba3-5f38-4402-99f5-80b11606ca59",
   "metadata": {},
   "outputs": [],
   "source": [
    "names = ['Amy', 'Ben', 'Cathy', 'Dan']\n",
    "result = list(filter(lambda x: x.startswith('C'), names))\n",
    "print(result)"
   ]
  },
  {
   "cell_type": "code",
   "execution_count": null,
   "id": "9276ba01-6b99-43d2-a4d9-d2f3ac669a7e",
   "metadata": {},
   "outputs": [],
   "source": [
    "x = lambda a, b : a * b\n",
    "print(x(5, 6))"
   ]
  },
  {
   "cell_type": "code",
   "execution_count": null,
   "id": "104ce175-60f6-4761-98f3-8b85508014c3",
   "metadata": {},
   "outputs": [],
   "source": [
    "from functools import reduce\n",
    "nums = [1, 2, 3, 4]\n",
    "result = reduce(lambda x, y: x + y, nums)\n",
    "print(result)"
   ]
  },
  {
   "cell_type": "code",
   "execution_count": null,
   "id": "73c1144e-3b57-42a5-96a6-6508efd3743b",
   "metadata": {},
   "outputs": [],
   "source": [
    "names = ['a', 'b', 'c']\n",
    "scores = [85, 90, 95]\n",
    "result = list(zip(names, scores))\n",
    "print(result)"
   ]
  },
  {
   "cell_type": "code",
   "execution_count": null,
   "id": "0e38fe9f-23a6-4d6a-b4d0-18317c233b0f",
   "metadata": {},
   "outputs": [],
   "source": [
    "nums = [1, 2, 3, 4]\n",
    "result = list(map(lambda x: x * 2, nums))\n",
    "print(result)"
   ]
  },
  {
   "cell_type": "code",
   "execution_count": null,
   "id": "6d1496f6-8bae-4437-ad68-1ed28aae9904",
   "metadata": {},
   "outputs": [],
   "source": [
    "x = [1, 2, 3]\n",
    "y = ['a', 'b', 'c']\n",
    "z = zip(x, y)\n",
    "print(list(z))"
   ]
  },
  {
   "cell_type": "code",
   "execution_count": null,
   "id": "f677582a-763c-46b3-94c0-0cdb74c6bb1e",
   "metadata": {},
   "outputs": [],
   "source": [
    "words = ['hello', 'world']\n",
    "result = list(map(str.upper, words))\n",
    "print(result)"
   ]
  },
  {
   "cell_type": "code",
   "execution_count": null,
   "id": "17c6e58c-f0af-4eea-96d1-a6682997462e",
   "metadata": {},
   "outputs": [],
   "source": [
    "words = ['hello', 'world']\n",
    "result = list(map(str.upper, words))\n",
    "print(result)"
   ]
  },
  {
   "cell_type": "code",
   "execution_count": null,
   "id": "dd470fd0-2f7d-4e57-9a05-701f9a7b0bb3",
   "metadata": {},
   "outputs": [],
   "source": [
    "x = lambda a, b, c : a + b + c\n",
    "print(x(1, 2, 3))"
   ]
  },
  {
   "cell_type": "code",
   "execution_count": null,
   "id": "dd1057df-cff1-4c51-b15f-eb473dc38d0c",
   "metadata": {},
   "outputs": [],
   "source": [
    "s = 'hello'\n",
    "for i, ch in enumerate(s): print(i, ch)"
   ]
  },
  {
   "cell_type": "code",
   "execution_count": null,
   "id": "5d38655f-c72b-41e4-aacf-4c42261af26c",
   "metadata": {},
   "outputs": [],
   "source": [
    "s = 'hello'\n",
    "for i, ch in enumerate(s): print(i, ch)"
   ]
  },
  {
   "cell_type": "code",
   "execution_count": null,
   "id": "34d017df-10e9-49ea-89e2-78231a43b1ba",
   "metadata": {},
   "outputs": [],
   "source": [
    "x = [1, 2, 3]\n",
    "y = ['a', 'b', 'c']\n",
    "z = zip(x, y)\n",
    "print(list(z))"
   ]
  },
  {
   "cell_type": "code",
   "execution_count": null,
   "id": "aaa0a32f-9d35-456e-984f-e856305fbe99",
   "metadata": {},
   "outputs": [],
   "source": [
    "s = 'hello'\n",
    "for i, ch in enumerate(s): print(i, ch)"
   ]
  },
  {
   "cell_type": "code",
   "execution_count": null,
   "id": "ff1c4dcf-68c5-406b-a078-8dce317f797d",
   "metadata": {},
   "outputs": [],
   "source": [
    "x = [1, 2, 3]\n",
    "y = ['a', 'b', 'c']\n",
    "z = zip(x, y)\n",
    "print(list(z))"
   ]
  },
  {
   "cell_type": "code",
   "execution_count": null,
   "id": "270cf391-2cf6-4557-bace-37d0ff49f3c3",
   "metadata": {},
   "outputs": [],
   "source": [
    "from functools import reduce\n",
    "nums = [1, 2, 3, 4]\n",
    "result = reduce(lambda x, y: x * y, nums)\n",
    "print(result)"
   ]
  },
  {
   "cell_type": "code",
   "execution_count": null,
   "id": "159ae5f7-a7ab-4ae3-a4b6-f0b0611226a1",
   "metadata": {},
   "outputs": [],
   "source": [
    "s = 'hello'\n",
    "for i, ch in enumerate(s): print(i, ch)"
   ]
  },
  {
   "cell_type": "code",
   "execution_count": null,
   "id": "b027310c-cab4-4201-98f5-77489ddb7501",
   "metadata": {},
   "outputs": [],
   "source": [
    "words = ['hello', 'world']\n",
    "result = list(map(str.upper, words))\n",
    "print(result)"
   ]
  },
  {
   "cell_type": "code",
   "execution_count": null,
   "id": "1f29e2ce-59e5-4578-9846-b9c60c9af8e3",
   "metadata": {},
   "outputs": [],
   "source": [
    "x = lambda a : a + 10\n",
    "print(x(5))"
   ]
  },
  {
   "cell_type": "code",
   "execution_count": null,
   "id": "4870308e-f2d1-456d-a4ae-d2327b22de14",
   "metadata": {},
   "outputs": [],
   "source": [
    "names = ['a', 'b', 'c']\n",
    "scores = [85, 90, 95]\n",
    "result = list(zip(names, scores))\n",
    "print(result)"
   ]
  },
  {
   "cell_type": "code",
   "execution_count": null,
   "id": "22aa7239-d51e-432b-bc30-d820cf36853d",
   "metadata": {},
   "outputs": [],
   "source": [
    "nums = [1, 2, 3, 4, 5, 6]\n",
    "result = list(filter(lambda x: x % 2 == 0, nums))\n",
    "print(result)"
   ]
  },
  {
   "cell_type": "code",
   "execution_count": null,
   "id": "438371b2-7fd1-473c-a25c-3525f0dd1f42",
   "metadata": {},
   "outputs": [],
   "source": [
    "nums = [1, 2, 3, 4, 5, 6]\n",
    "result = list(filter(lambda x: x % 2 == 0, nums))\n",
    "print(result)"
   ]
  },
  {
   "cell_type": "code",
   "execution_count": null,
   "id": "3cbac702-8e4e-46a4-9a21-a8df273f161e",
   "metadata": {},
   "outputs": [],
   "source": [
    "words = ['hello', 'world']\n",
    "result = list(map(str.upper, words))\n",
    "print(result)"
   ]
  },
  {
   "cell_type": "code",
   "execution_count": null,
   "id": "4ccd1951-c6ba-40b8-b7bd-3d6a837a021b",
   "metadata": {},
   "outputs": [],
   "source": [
    "words = ['hello', 'world']\n",
    "result = list(map(str.upper, words))\n",
    "print(result)"
   ]
  },
  {
   "cell_type": "code",
   "execution_count": null,
   "id": "43efd132-a737-480b-898d-bff5fc358fdd",
   "metadata": {},
   "outputs": [],
   "source": [
    "words = ['hello', 'world']\n",
    "result = list(map(str.upper, words))\n",
    "print(result)"
   ]
  },
  {
   "cell_type": "code",
   "execution_count": null,
   "id": "bc9524f2-a9b6-493d-9953-0f86f5e4b6d5",
   "metadata": {},
   "outputs": [],
   "source": [
    "words = ['hello', 'world']\n",
    "result = list(map(str.upper, words))\n",
    "print(result)"
   ]
  },
  {
   "cell_type": "code",
   "execution_count": null,
   "id": "3517b068-e55b-4708-9e75-3c609478e154",
   "metadata": {},
   "outputs": [],
   "source": [
    "words = ['hello', 'world']\n",
    "result = list(map(str.upper, words))\n",
    "print(result)"
   ]
  },
  {
   "cell_type": "code",
   "execution_count": null,
   "id": "4759df81-2dc4-406c-bf04-f95e93c488d1",
   "metadata": {},
   "outputs": [],
   "source": [
    "names = ['a', 'b', 'c']\n",
    "scores = [85, 90, 95]\n",
    "result = list(zip(names, scores))\n",
    "print(result)"
   ]
  },
  {
   "cell_type": "code",
   "execution_count": null,
   "id": "6a2a739d-a44b-42ad-88ad-a78bc81e46bc",
   "metadata": {},
   "outputs": [],
   "source": [
    "names = ['a', 'b', 'c']\n",
    "scores = [85, 90, 95]\n",
    "result = list(zip(names, scores))\n",
    "print(result)"
   ]
  },
  {
   "cell_type": "code",
   "execution_count": null,
   "id": "06ad071d-5098-40a7-af41-ca87bbd5536a",
   "metadata": {},
   "outputs": [],
   "source": [
    "names = ['a', 'b', 'c']\n",
    "scores = [85, 90, 95]\n",
    "result = list(zip(names, scores))\n",
    "print(result)"
   ]
  },
  {
   "cell_type": "code",
   "execution_count": null,
   "id": "abe04ebb-96be-4fcc-9f44-a16a2b0079f7",
   "metadata": {},
   "outputs": [],
   "source": [
    "names = ['a', 'b', 'c']\n",
    "scores = [85, 90, 95]\n",
    "result = list(zip(names, scores))\n",
    "print(result)"
   ]
  },
  {
   "cell_type": "code",
   "execution_count": null,
   "id": "e994c763-db90-4d18-9a86-c5accc89c27c",
   "metadata": {},
   "outputs": [],
   "source": [
    "names = ['a', 'b', 'c']\n",
    "scores = [85, 90, 95]\n",
    "result = list(zip(names, scores))\n",
    "print(result)"
   ]
  },
  {
   "cell_type": "code",
   "execution_count": null,
   "id": "7ac223f1-3cad-432b-9218-d214e15fffc1",
   "metadata": {},
   "outputs": [],
   "source": [
    "names = ['a', 'b', 'c']\n",
    "scores = [85, 90, 95]\n",
    "result = list(zip(names, scores))\n",
    "print(result)"
   ]
  },
  {
   "cell_type": "code",
   "execution_count": null,
   "id": "4fede459-ad10-49c6-b316-1b0170e4b25e",
   "metadata": {},
   "outputs": [],
   "source": [
    "names = ['a', 'b', 'c']\n",
    "scores = [85, 90, 95]\n",
    "result = list(zip(names, scores))\n",
    "print(result)"
   ]
  },
  {
   "cell_type": "code",
   "execution_count": null,
   "id": "cb552190-473f-414f-bd11-06749cba022c",
   "metadata": {},
   "outputs": [],
   "source": [
    "names = ['a', 'b', 'c']\n",
    "scores = [85, 90, 95]\n",
    "result = list(zip(names, scores))\n",
    "print(result)"
   ]
  },
  {
   "cell_type": "code",
   "execution_count": null,
   "id": "6bf9550a-fdd9-4e12-9c4c-02f72d9deeea",
   "metadata": {},
   "outputs": [],
   "source": [
    "names = ['a', 'b', 'c']\n",
    "scores = [85, 90, 95]\n",
    "result = list(zip(names, scores))\n",
    "print(result)"
   ]
  },
  {
   "cell_type": "code",
   "execution_count": null,
   "id": "b3690dd4-3c33-465b-9e2e-f13629a38d1a",
   "metadata": {},
   "outputs": [],
   "source": [
    "names = ['a', 'b', 'c']\n",
    "scores = [85, 90, 95]\n",
    "result = list(zip(names, scores))\n",
    "print(result)"
   ]
  },
  {
   "cell_type": "code",
   "execution_count": null,
   "id": "a46097e1-e8f0-4b80-9cde-90d5c7cd3c06",
   "metadata": {},
   "outputs": [],
   "source": [
    "names = ['a', 'b', 'c']\n",
    "scores = [85, 90, 95]\n",
    "result = list(zip(names, scores))\n",
    "print(result)"
   ]
  },
  {
   "cell_type": "code",
   "execution_count": null,
   "id": "fa73d734-3e19-4ae9-b397-881c4440731d",
   "metadata": {},
   "outputs": [],
   "source": [
    "names = ['a', 'b', 'c']\n",
    "scores = [85, 90, 95]\n",
    "result = list(zip(names, scores))\n",
    "print(result)"
   ]
  },
  {
   "cell_type": "code",
   "execution_count": null,
   "id": "03b70278-830c-4f73-8126-0be486fc02d9",
   "metadata": {},
   "outputs": [],
   "source": [
    "names = ['a', 'b', 'c']\n",
    "scores = [85, 90, 95]\n",
    "result = list(zip(names, scores))\n",
    "print(result)"
   ]
  },
  {
   "cell_type": "code",
   "execution_count": null,
   "id": "f184d4a5-bb37-42d2-9db7-d58ee5639b61",
   "metadata": {},
   "outputs": [],
   "source": [
    "names = ['a', 'b', 'c']\n",
    "scores = [85, 90, 95]\n",
    "result = list(zip(names, scores))\n",
    "print(result)"
   ]
  },
  {
   "cell_type": "code",
   "execution_count": null,
   "id": "1061fa04-44bf-4635-9536-d23516f987c6",
   "metadata": {},
   "outputs": [],
   "source": [
    "names = ['a', 'b', 'c']\n",
    "scores = [85, 90, 95]\n",
    "result = list(zip(names, scores))\n",
    "print(result)"
   ]
  },
  {
   "cell_type": "code",
   "execution_count": null,
   "id": "62f5156c-8508-4097-9e89-7ec1a31dd671",
   "metadata": {},
   "outputs": [],
   "source": [
    "words = ['hello', 'world']\n",
    "result = list(map(str.upper, words))\n",
    "print(result)"
   ]
  },
  {
   "cell_type": "code",
   "execution_count": null,
   "id": "dd50160e-6bd3-4b29-8aa4-b7d0003479a4",
   "metadata": {},
   "outputs": [],
   "source": [
    "words = ['hello', 'world']\n",
    "result = list(map(str.upper, words))\n",
    "print(result)"
   ]
  },
  {
   "cell_type": "code",
   "execution_count": null,
   "id": "a2951272-1ec6-44ce-bb0d-02b5dee8928d",
   "metadata": {},
   "outputs": [],
   "source": [
    "words = ['hello', 'world']\n",
    "result = list(map(str.upper, words))\n",
    "print(result)"
   ]
  },
  {
   "cell_type": "code",
   "execution_count": null,
   "id": "5d286695-ca29-4322-a8a1-457183d9e5ac",
   "metadata": {},
   "outputs": [],
   "source": [
    "words = ['hello', 'world']\n",
    "result = list(map(str.upper, words))\n",
    "print(result)"
   ]
  },
  {
   "cell_type": "code",
   "execution_count": null,
   "id": "cdcb8b23-fb4c-4769-835c-e882fb0db089",
   "metadata": {},
   "outputs": [],
   "source": [
    "words = ['hello', 'world']\n",
    "result = list(map(str.upper, words))\n",
    "print(result)"
   ]
  },
  {
   "cell_type": "code",
   "execution_count": null,
   "id": "047cf26f-98a2-4a35-8ec5-62aacfee1266",
   "metadata": {},
   "outputs": [],
   "source": [
    "words = ['hello', 'world']\n",
    "result = list(map(str.upper, words))\n",
    "print(result)"
   ]
  },
  {
   "cell_type": "code",
   "execution_count": null,
   "id": "dadcb7d6-93c9-4a60-8e42-d53aefae830b",
   "metadata": {},
   "outputs": [],
   "source": [
    "words = ['hello', 'world']\n",
    "result = list(map(str.upper, words))\n",
    "print(result)"
   ]
  },
  {
   "cell_type": "code",
   "execution_count": null,
   "id": "2f575eb0-8d05-4542-b6fb-a015a79abe13",
   "metadata": {},
   "outputs": [],
   "source": [
    "words = ['hello', 'world']\n",
    "result = list(map(str.upper, words))\n",
    "print(result)"
   ]
  },
  {
   "cell_type": "code",
   "execution_count": null,
   "id": "6cef4ad8-a0a5-4799-8ab5-12fb4b2ac3f3",
   "metadata": {},
   "outputs": [],
   "source": [
    "words = ['hello', 'world']\n",
    "result = list(map(str.upper, words))\n",
    "print(result)"
   ]
  },
  {
   "cell_type": "code",
   "execution_count": null,
   "id": "1ee7429a-76e8-4799-ac9a-e7bf2b846dc5",
   "metadata": {},
   "outputs": [],
   "source": [
    "words = ['hello', 'world']\n",
    "result = list(map(str.upper, words))\n",
    "print(result)"
   ]
  },
  {
   "cell_type": "code",
   "execution_count": null,
   "id": "1878c877-5164-4b47-8ce1-8761776f527b",
   "metadata": {},
   "outputs": [],
   "source": [
    "from functools import reduce\n",
    "nums = [1, 2, 3, 4]\n",
    "result = reduce(lambda x, y: x + y, nums)\n",
    "print(result)"
   ]
  },
  {
   "cell_type": "code",
   "execution_count": null,
   "id": "8f598c5c-3b73-4219-b24e-6cf2d2a7320c",
   "metadata": {},
   "outputs": [],
   "source": [
    "nums = [1, 2, 3, 4, 5, 6]\n",
    "result = list(filter(lambda x: x % 2 == 0, nums))\n",
    "print(result)"
   ]
  },
  {
   "cell_type": "code",
   "execution_count": null,
   "id": "7838e5ec-c594-4b83-a386-6787f1963519",
   "metadata": {},
   "outputs": [],
   "source": [
    "s = 'hello'\n",
    "for i, ch in enumerate(s): print(i, ch)"
   ]
  },
  {
   "cell_type": "code",
   "execution_count": null,
   "id": "8eebf1a4-2e61-4e19-b132-24b210d8371f",
   "metadata": {},
   "outputs": [],
   "source": [
    "words = ['hello', 'world']\n",
    "result = list(map(str.upper, words))\n",
    "print(result)"
   ]
  },
  {
   "cell_type": "code",
   "execution_count": null,
   "id": "cfe43065-d2b3-4367-a173-94c25f5e2c43",
   "metadata": {},
   "outputs": [],
   "source": [
    "s = 'hello'\n",
    "for i, ch in enumerate(s): print(i, ch)"
   ]
  },
  {
   "cell_type": "code",
   "execution_count": null,
   "id": "35dfca4e-b220-4994-8173-7f031a834f9b",
   "metadata": {},
   "outputs": [],
   "source": [
    "from functools import reduce\n",
    "nums = [1, 2, 3, 4]\n",
    "result = reduce(lambda x, y: x + y, nums)\n",
    "print(result)"
   ]
  },
  {
   "cell_type": "code",
   "execution_count": null,
   "id": "b457908f-7a66-4a68-9e20-8c6be1d403f5",
   "metadata": {},
   "outputs": [],
   "source": [
    "s = 'hello'\n",
    "for i, ch in enumerate(s): print(i, ch)"
   ]
  },
  {
   "cell_type": "code",
   "execution_count": null,
   "id": "c2b09e0a-31a8-4aab-bb0c-97ee3218b2d2",
   "metadata": {},
   "outputs": [],
   "source": [
    "from functools import reduce\n",
    "nums = [1, 2, 3, 4]\n",
    "result = reduce(lambda x, y: x + y, nums)\n",
    "print(result)"
   ]
  },
  {
   "cell_type": "code",
   "execution_count": null,
   "id": "2d5ee510-1dd6-46c3-a693-4d2683ea0b87",
   "metadata": {},
   "outputs": [],
   "source": [
    "s = 'hello'\n",
    "for i, ch in enumerate(s): print(i, ch)"
   ]
  },
  {
   "cell_type": "code",
   "execution_count": null,
   "id": "7fd2a788-f21b-4412-a7a7-e37aa5fec95f",
   "metadata": {},
   "outputs": [],
   "source": [
    "words = ['hello', 'world']\n",
    "result = list(map(str.upper, words))\n",
    "print(result)"
   ]
  },
  {
   "cell_type": "code",
   "execution_count": null,
   "id": "18b0e8be-ab2c-4c3d-814c-98b868cefe89",
   "metadata": {},
   "outputs": [],
   "source": [
    "from functools import reduce\n",
    "nums = [1, 2, 3, 4]\n",
    "result = reduce(lambda x, y: x + y, nums)\n",
    "print(result)"
   ]
  },
  {
   "cell_type": "code",
   "execution_count": null,
   "id": "ee9ec28f-e000-4966-a9c2-5e7e0c7dd8db",
   "metadata": {},
   "outputs": [],
   "source": [
    "from functools import reduce\n",
    "nums = [1, 2, 3, 4]\n",
    "result = reduce(lambda x, y: x + y, nums)\n",
    "print(result)"
   ]
  },
  {
   "cell_type": "code",
   "execution_count": null,
   "id": "dffe45b5-1579-4492-8908-6ec26f8031e6",
   "metadata": {},
   "outputs": [],
   "source": [
    "s = 'hello'\n",
    "for i, ch in enumerate(s): print(i, ch)"
   ]
  },
  {
   "cell_type": "code",
   "execution_count": null,
   "id": "1e6a1f04-ff3c-405c-8b2a-48d002eaedf3",
   "metadata": {},
   "outputs": [],
   "source": [
    "from functools import reduce\n",
    "nums = [1, 2, 3, 4]\n",
    "result = reduce(lambda x, y: x + y, nums)\n",
    "print(result)"
   ]
  },
  {
   "cell_type": "code",
   "execution_count": null,
   "id": "48b32107-42d4-41ad-a1bb-a1d8e95ca4f7",
   "metadata": {},
   "outputs": [],
   "source": [
    "from functools import reduce\n",
    "nums = [1, 2, 3, 4]\n",
    "result = reduce(lambda x, y: x + y, nums)\n",
    "print(result)"
   ]
  },
  {
   "cell_type": "code",
   "execution_count": null,
   "id": "10636ca0-c371-4ff0-b529-14ba72d52506",
   "metadata": {},
   "outputs": [],
   "source": [
    "from functools import reduce\n",
    "nums = [1, 2, 3, 4]\n",
    "result = reduce(lambda x, y: x + y, nums)\n",
    "print(result)"
   ]
  },
  {
   "cell_type": "code",
   "execution_count": null,
   "id": "e99598a5-a2fa-45d0-98a0-e4364eca15d0",
   "metadata": {},
   "outputs": [],
   "source": [
    "x = lambda a : a + 10\n",
    "print(x(5))"
   ]
  },
  {
   "cell_type": "code",
   "execution_count": null,
   "id": "d8a2a8d4-4237-4301-82b7-edfc4662486e",
   "metadata": {},
   "outputs": [],
   "source": [
    "x = lambda a : a + 10\n",
    "print(x(5))"
   ]
  },
  {
   "cell_type": "code",
   "execution_count": null,
   "id": "eb33771b-d4db-4099-ba7e-bcd6eaacfd17",
   "metadata": {},
   "outputs": [],
   "source": [
    "x = lambda a : a + 10\n",
    "print(x(5))"
   ]
  },
  {
   "cell_type": "code",
   "execution_count": null,
   "id": "19755865-6451-4fca-a41e-c9878dd28576",
   "metadata": {},
   "outputs": [],
   "source": [
    "x = lambda a : a + 10\n",
    "print(x(5))"
   ]
  },
  {
   "cell_type": "code",
   "execution_count": null,
   "id": "4c02b5c2-bb39-414a-9912-05179e686a95",
   "metadata": {},
   "outputs": [],
   "source": [
    "words = ['hello', 'world']\n",
    "result = list(map(str.upper, words))\n",
    "print(result)"
   ]
  },
  {
   "cell_type": "code",
   "execution_count": null,
   "id": "bcba16ad-3af3-4677-acc4-7dc1cf5a1a4e",
   "metadata": {},
   "outputs": [],
   "source": [
    "from functools import reduce\n",
    "nums = [1, 2, 3, 4]\n",
    "result = reduce(lambda x, y: x + y, nums)\n",
    "print(result)"
   ]
  },
  {
   "cell_type": "code",
   "execution_count": null,
   "id": "95a00e15-e4d9-4ff3-bb19-f154643d058a",
   "metadata": {},
   "outputs": [],
   "source": [
    "words = ['hello', 'world']\n",
    "result = list(map(str.upper, words))\n",
    "print(result)"
   ]
  },
  {
   "cell_type": "code",
   "execution_count": null,
   "id": "7cd2a903-fb04-43e5-8f3b-e8a9ca398424",
   "metadata": {},
   "outputs": [],
   "source": [
    "names = ['a', 'b', 'c']\n",
    "scores = [85, 90, 95]\n",
    "result = list(zip(names, scores))\n",
    "print(result)"
   ]
  },
  {
   "cell_type": "code",
   "execution_count": null,
   "id": "918a8355-456e-41a7-9d9a-547263381679",
   "metadata": {},
   "outputs": [],
   "source": [
    "x = [1, 2, 3]\n",
    "y = ['a', 'b', 'c']\n",
    "z = zip(x, y)\n",
    "print(list(z))"
   ]
  },
  {
   "cell_type": "code",
   "execution_count": null,
   "id": "af075d5d-eecf-4755-8cd3-119d1494c8e0",
   "metadata": {},
   "outputs": [],
   "source": [
    "nums = [1, 2, 3, 4, 5, 6]\n",
    "result = list(filter(lambda x: x % 2 == 0, nums))\n",
    "print(result)"
   ]
  },
  {
   "cell_type": "code",
   "execution_count": null,
   "id": "ceb1a465-3ed1-430c-990b-7ae2416ce668",
   "metadata": {},
   "outputs": [],
   "source": [
    "from functools import reduce\n",
    "nums = [1, 2, 3, 4]\n",
    "result = reduce(lambda x, y: x + y, nums)\n",
    "print(result)"
   ]
  },
  {
   "cell_type": "code",
   "execution_count": null,
   "id": "8d3c7938-9790-40be-b586-2e3f001be32c",
   "metadata": {},
   "outputs": [],
   "source": [
    "nums = [1, 2, 3, 4, 5, 6]\n",
    "result = list(filter(lambda x: x % 2 == 0, nums))\n",
    "print(result)"
   ]
  },
  {
   "cell_type": "code",
   "execution_count": null,
   "id": "7653a586-a976-4f58-ad19-3384352043e4",
   "metadata": {},
   "outputs": [],
   "source": [
    "nums = [1, 2, 3, 4, 5, 6]\n",
    "result = list(filter(lambda x: x % 2 == 0, nums))\n",
    "print(result)"
   ]
  },
  {
   "cell_type": "code",
   "execution_count": null,
   "id": "7c837cd6-f61b-442c-b4a7-dcf165b07fac",
   "metadata": {},
   "outputs": [],
   "source": [
    "nums = [1, 2, 3, 4, 5, 6]\n",
    "result = list(filter(lambda x: x % 2 == 0, nums))\n",
    "print(result)"
   ]
  },
  {
   "cell_type": "code",
   "execution_count": null,
   "id": "02127da8-2904-4715-a91e-9e1984f58f37",
   "metadata": {},
   "outputs": [],
   "source": [
    "nums = [1, 2, 3, 4, 5, 6]\n",
    "result = list(filter(lambda x: x % 2 == 0, nums))\n",
    "print(result)"
   ]
  },
  {
   "cell_type": "code",
   "execution_count": null,
   "id": "c62e6d34-0794-43b7-8a7f-6f0e58e4be8a",
   "metadata": {},
   "outputs": [],
   "source": [
    "nums = [1, 2, 3, 4, 5, 6]\n",
    "result = list(filter(lambda x: x % 2 == 0, nums))\n",
    "print(result)"
   ]
  },
  {
   "cell_type": "code",
   "execution_count": null,
   "id": "1c6e6003-4a3f-4cf8-886e-8276a8c6e0f7",
   "metadata": {},
   "outputs": [],
   "source": [
    "nums = [1, 2, 3, 4, 5, 6]\n",
    "result = list(filter(lambda x: x % 2 == 0, nums))\n",
    "print(result)"
   ]
  },
  {
   "cell_type": "code",
   "execution_count": null,
   "id": "cb98da05-b77a-4479-860b-c5f3b07311b3",
   "metadata": {},
   "outputs": [],
   "source": [
    "nums = [1, 2, 3, 4, 5, 6]\n",
    "result = list(filter(lambda x: x % 2 == 0, nums))\n",
    "print(result)"
   ]
  },
  {
   "cell_type": "code",
   "execution_count": null,
   "id": "f17d144f-c232-48af-ac4d-85358c2c6f70",
   "metadata": {},
   "outputs": [],
   "source": [
    "nums = [1, 2, 3, 4, 5, 6]\n",
    "result = list(filter(lambda x: x % 2 == 0, nums))\n",
    "print(result)"
   ]
  },
  {
   "cell_type": "code",
   "execution_count": null,
   "id": "d0773c16-d031-4296-83ad-f8004778b890",
   "metadata": {},
   "outputs": [],
   "source": [
    "nums = [1, 2, 3, 4, 5, 6]\n",
    "result = list(filter(lambda x: x % 2 == 0, nums))\n",
    "print(result)"
   ]
  },
  {
   "cell_type": "code",
   "execution_count": null,
   "id": "0acaa846-730f-4f0e-a7c8-7ad45c2174e9",
   "metadata": {},
   "outputs": [],
   "source": [
    "nums = [1, 2, 3, 4, 5, 6]\n",
    "result = list(filter(lambda x: x % 2 == 0, nums))\n",
    "print(result)"
   ]
  },
  {
   "cell_type": "code",
   "execution_count": null,
   "id": "66e5e7ae-925a-4286-8d34-89257752d57a",
   "metadata": {},
   "outputs": [],
   "source": [
    "nums = [1, 2, 3, 4, 5, 6]\n",
    "result = list(filter(lambda x: x % 2 == 0, nums))\n",
    "print(result)"
   ]
  },
  {
   "cell_type": "code",
   "execution_count": null,
   "id": "dfc87ab1-d584-4396-b3d0-06cd979415a3",
   "metadata": {},
   "outputs": [],
   "source": [
    "nums = [1, 2, 3, 4, 5, 6]\n",
    "result = list(filter(lambda x: x % 2 == 0, nums))\n",
    "print(result)"
   ]
  },
  {
   "cell_type": "code",
   "execution_count": null,
   "id": "0db581eb-601d-4f59-aa72-9d708ec9990f",
   "metadata": {},
   "outputs": [],
   "source": [
    "nums = [1, 2, 3, 4, 5, 6]\n",
    "result = list(filter(lambda x: x % 2 == 0, nums))\n",
    "print(result)"
   ]
  },
  {
   "cell_type": "code",
   "execution_count": null,
   "id": "9c28fb7e-2b43-42d6-8003-682d4092d710",
   "metadata": {},
   "outputs": [],
   "source": [
    "nums = [1, 2, 3, 4, 5, 6]\n",
    "result = list(filter(lambda x: x % 2 == 0, nums))\n",
    "print(result)"
   ]
  },
  {
   "cell_type": "code",
   "execution_count": null,
   "id": "0494dbbd-4ead-4cd2-8ab3-897ebf0b9dfd",
   "metadata": {},
   "outputs": [],
   "source": [
    "nums = [1, 2, 3, 4, 5, 6]\n",
    "result = list(filter(lambda x: x % 2 == 0, nums))\n",
    "print(result)"
   ]
  },
  {
   "cell_type": "code",
   "execution_count": null,
   "id": "b4e805d9-8c6f-418c-be24-9e4ac3322d5f",
   "metadata": {},
   "outputs": [],
   "source": [
    "nums = [1, 2, 3, 4, 5, 6]\n",
    "result = list(filter(lambda x: x % 2 == 0, nums))\n",
    "print(result)"
   ]
  },
  {
   "cell_type": "code",
   "execution_count": null,
   "id": "ae48c2de-9a51-471b-87ab-c1e54e51f6aa",
   "metadata": {},
   "outputs": [],
   "source": [
    "nums = [1, 2, 3, 4, 5, 6]\n",
    "result = list(filter(lambda x: x % 2 == 0, nums))\n",
    "print(result)"
   ]
  },
  {
   "cell_type": "code",
   "execution_count": null,
   "id": "2b8ea9e5-8170-4f3f-aa48-8b19d62a1edc",
   "metadata": {},
   "outputs": [],
   "source": [
    "nums = [1, 2, 3, 4, 5, 6]\n",
    "result = list(filter(lambda x: x % 2 == 0, nums))\n",
    "print(result)"
   ]
  },
  {
   "cell_type": "code",
   "execution_count": null,
   "id": "6ebe2349-effe-4e33-8a35-68511b4848fc",
   "metadata": {},
   "outputs": [],
   "source": [
    "nums = [1, 2, 3, 4, 5, 6]\n",
    "result = list(filter(lambda x: x % 2 == 0, nums))\n",
    "print(result)"
   ]
  },
  {
   "cell_type": "code",
   "execution_count": null,
   "id": "a46a19a6-bcfc-43d9-bdb9-4cf0329a3e17",
   "metadata": {},
   "outputs": [],
   "source": [
    "nums = [1, 2, 3, 4, 5, 6]\n",
    "result = list(filter(lambda x: x % 2 == 0, nums))\n",
    "print(result)"
   ]
  },
  {
   "cell_type": "code",
   "execution_count": null,
   "id": "771a63b8-891b-43de-a2fb-d5a1947bc8dd",
   "metadata": {},
   "outputs": [],
   "source": [
    "nums = [1, 2, 3, 4, 5, 6]\n",
    "result = list(filter(lambda x: x % 2 == 0, nums))\n",
    "print(result)"
   ]
  },
  {
   "cell_type": "code",
   "execution_count": null,
   "id": "daff0d50-d133-4d69-bd46-29f8037ec142",
   "metadata": {},
   "outputs": [],
   "source": [
    "nums = [1, 2, 3, 4, 5, 6]\n",
    "result = list(filter(lambda x: x % 2 == 0, nums))\n",
    "print(result)"
   ]
  },
  {
   "cell_type": "code",
   "execution_count": null,
   "id": "26008b1e-6c7d-4085-93aa-458aa8cfe71f",
   "metadata": {},
   "outputs": [],
   "source": [
    "nums = [1, 2, 3, 4, 5, 6]\n",
    "result = list(filter(lambda x: x % 2 == 0, nums))\n",
    "print(result)"
   ]
  },
  {
   "cell_type": "code",
   "execution_count": null,
   "id": "3167b6fd-c564-454a-87a4-ddf268816267",
   "metadata": {},
   "outputs": [],
   "source": [
    "nums = [1, 2, 3, 4, 5, 6]\n",
    "result = list(filter(lambda x: x % 2 == 0, nums))\n",
    "print(result)"
   ]
  },
  {
   "cell_type": "code",
   "execution_count": null,
   "id": "7d09717a-0b31-4725-a2f6-7d3bb341d0f5",
   "metadata": {},
   "outputs": [],
   "source": [
    "nums = [1, 2, 3, 4, 5, 6]\n",
    "result = list(filter(lambda x: x % 2 == 0, nums))\n",
    "print(result)"
   ]
  },
  {
   "cell_type": "code",
   "execution_count": null,
   "id": "d0a19191-7d30-4f3e-af43-c05b4ec41f28",
   "metadata": {},
   "outputs": [],
   "source": [
    "nums = [1, 2, 3, 4, 5, 6]\n",
    "result = list(filter(lambda x: x % 2 == 0, nums))\n",
    "print(result)"
   ]
  },
  {
   "cell_type": "code",
   "execution_count": null,
   "id": "7b7fcd5b-87b7-43ec-b987-e71602667e22",
   "metadata": {},
   "outputs": [],
   "source": [
    "nums = [1, 2, 3, 4, 5, 6]\n",
    "result = list(filter(lambda x: x % 2 == 0, nums))\n",
    "print(result)"
   ]
  },
  {
   "cell_type": "code",
   "execution_count": null,
   "id": "51292e3f-941b-4fbd-ab41-2c68af0cddde",
   "metadata": {},
   "outputs": [],
   "source": [
    "nums = [1, 2, 3, 4, 5, 6]\n",
    "result = list(filter(lambda x: x % 2 == 0, nums))\n",
    "print(result)"
   ]
  },
  {
   "cell_type": "code",
   "execution_count": null,
   "id": "dbeda85a-3962-448a-a658-1e12110f8045",
   "metadata": {},
   "outputs": [],
   "source": [
    "nums = [1, 2, 3, 4, 5, 6]\n",
    "result = list(filter(lambda x: x % 2 == 0, nums))\n",
    "print(result)"
   ]
  },
  {
   "cell_type": "code",
   "execution_count": null,
   "id": "006fb0b8-759b-4598-ae84-1835158f8619",
   "metadata": {},
   "outputs": [],
   "source": [
    "nums = [1, 2, 3, 4, 5, 6]\n",
    "result = list(filter(lambda x: x % 2 == 0, nums))\n",
    "print(result)"
   ]
  },
  {
   "cell_type": "code",
   "execution_count": null,
   "id": "f6941942-acf6-4cb0-9171-f4fd5f08aa8d",
   "metadata": {},
   "outputs": [],
   "source": [
    "nums = [1, 2, 3, 4, 5, 6]\n",
    "result = list(filter(lambda x: x % 2 == 0, nums))\n",
    "print(result)"
   ]
  },
  {
   "cell_type": "code",
   "execution_count": null,
   "id": "e33dd348-ed78-443d-9b1c-8088ea1685dd",
   "metadata": {},
   "outputs": [],
   "source": [
    "nums = [1, 2, 3, 4, 5, 6]\n",
    "result = list(filter(lambda x: x % 2 == 0, nums))\n",
    "print(result)"
   ]
  },
  {
   "cell_type": "code",
   "execution_count": null,
   "id": "defd36de-fdc3-4cd9-998a-827358b93cc2",
   "metadata": {},
   "outputs": [],
   "source": [
    "nums = [1, 2, 3, 4, 5, 6]\n",
    "result = list(filter(lambda x: x % 2 == 0, nums))\n",
    "print(result)"
   ]
  },
  {
   "cell_type": "code",
   "execution_count": null,
   "id": "4e39d755-75f4-49ea-acde-790ce9461fb8",
   "metadata": {},
   "outputs": [],
   "source": [
    "nums = [1, 2, 3, 4, 5, 6]\n",
    "result = list(filter(lambda x: x % 2 == 0, nums))\n",
    "print(result)"
   ]
  },
  {
   "cell_type": "code",
   "execution_count": null,
   "id": "8574cffd-3e0d-4d4b-9179-922550db2698",
   "metadata": {},
   "outputs": [],
   "source": [
    "nums = [1, 2, 3, 4, 5, 6]\n",
    "result = list(filter(lambda x: x % 2 == 0, nums))\n",
    "print(result)"
   ]
  },
  {
   "cell_type": "code",
   "execution_count": null,
   "id": "1d162473-38d2-4204-846a-c92def6cf893",
   "metadata": {},
   "outputs": [],
   "source": [
    "nums = [1, 2, 3, 4, 5, 6]\n",
    "result = list(filter(lambda x: x % 2 == 0, nums))\n",
    "print(result)"
   ]
  },
  {
   "cell_type": "code",
   "execution_count": null,
   "id": "b71b6cc7-3b7f-4eaf-a2c9-d1f0d24f828b",
   "metadata": {},
   "outputs": [],
   "source": [
    "nums = [1, 2, 3, 4, 5, 6]\n",
    "result = list(filter(lambda x: x % 2 == 0, nums))\n",
    "print(result)"
   ]
  },
  {
   "cell_type": "code",
   "execution_count": null,
   "id": "43de1f6c-135b-425e-9b06-8fac065f43fc",
   "metadata": {},
   "outputs": [],
   "source": [
    "nums = [1, 2, 3, 4, 5, 6]\n",
    "result = list(filter(lambda x: x % 2 == 0, nums))\n",
    "print(result)"
   ]
  },
  {
   "cell_type": "code",
   "execution_count": null,
   "id": "c167159d-3596-45ba-b01a-54b19ddf0010",
   "metadata": {},
   "outputs": [],
   "source": [
    "nums = [1, 2, 3, 4, 5, 6]\n",
    "result = list(filter(lambda x: x % 2 == 0, nums))\n",
    "print(result)"
   ]
  },
  {
   "cell_type": "code",
   "execution_count": null,
   "id": "f60e00a0-c3ba-431f-9f45-e7344b3d2c68",
   "metadata": {},
   "outputs": [],
   "source": [
    "nums = [1, 2, 3, 4, 5, 6]\n",
    "result = list(filter(lambda x: x % 2 == 0, nums))\n",
    "print(result)"
   ]
  },
  {
   "cell_type": "code",
   "execution_count": null,
   "id": "0920dcb6-45f7-41c7-90a9-7ec65dfc1802",
   "metadata": {},
   "outputs": [],
   "source": [
    "nums = [1, 2, 3, 4, 5, 6]\n",
    "result = list(filter(lambda x: x % 2 == 0, nums))\n",
    "print(result)"
   ]
  },
  {
   "cell_type": "code",
   "execution_count": null,
   "id": "9935654f-4636-4375-a7ac-db836a77c41c",
   "metadata": {},
   "outputs": [],
   "source": [
    "nums = [1, 2, 3, 4, 5, 6]\n",
    "result = list(filter(lambda x: x % 2 == 0, nums))\n",
    "print(result)"
   ]
  },
  {
   "cell_type": "code",
   "execution_count": null,
   "id": "b852d91d-1f2d-4157-a63b-1200e29f4bf8",
   "metadata": {},
   "outputs": [],
   "source": [
    "nums = [1, 2, 3, 4, 5, 6]\n",
    "result = list(filter(lambda x: x % 2 == 0, nums))\n",
    "print(result)"
   ]
  },
  {
   "cell_type": "code",
   "execution_count": null,
   "id": "3a3e95dc-0c9c-40df-9da8-431a01cc6e9c",
   "metadata": {},
   "outputs": [],
   "source": [
    "nums = [1, 2, 3, 4, 5, 6]\n",
    "result = list(filter(lambda x: x % 2 == 0, nums))\n",
    "print(result)"
   ]
  },
  {
   "cell_type": "code",
   "execution_count": null,
   "id": "9033c4cd-fc77-492a-9332-4471ea087968",
   "metadata": {},
   "outputs": [],
   "source": [
    "nums = [1, 2, 3, 4, 5, 6]\n",
    "result = list(filter(lambda x: x % 2 == 0, nums))\n",
    "print(result)"
   ]
  },
  {
   "cell_type": "code",
   "execution_count": null,
   "id": "674b96ea-dc15-4f9a-b1a2-a3631b4873ed",
   "metadata": {},
   "outputs": [],
   "source": [
    "nums = [1, 2, 3, 4, 5, 6]\n",
    "result = list(filter(lambda x: x % 2 == 0, nums))\n",
    "print(result)"
   ]
  },
  {
   "cell_type": "code",
   "execution_count": null,
   "id": "115d03ee-a278-43dc-b613-107fc39e230a",
   "metadata": {},
   "outputs": [],
   "source": [
    "nums = [1, 2, 3, 4, 5, 6]\n",
    "result = list(filter(lambda x: x % 2 == 0, nums))\n",
    "print(result)"
   ]
  },
  {
   "cell_type": "code",
   "execution_count": null,
   "id": "c6cf14f7-b47c-4df2-bcf1-b550bf46cf22",
   "metadata": {},
   "outputs": [],
   "source": [
    "nums = [1, 2, 3, 4, 5, 6]\n",
    "result = list(filter(lambda x: x % 2 == 0, nums))\n",
    "print(result)"
   ]
  },
  {
   "cell_type": "code",
   "execution_count": null,
   "id": "fda983ee-55ec-40b7-9a46-7636ddb11f6b",
   "metadata": {},
   "outputs": [],
   "source": [
    "nums = [1, 2, 3, 4, 5, 6]\n",
    "result = list(filter(lambda x: x % 2 == 0, nums))\n",
    "print(result)"
   ]
  },
  {
   "cell_type": "code",
   "execution_count": null,
   "id": "7fe240b0-118a-42d3-aee0-85c228a75bc1",
   "metadata": {},
   "outputs": [],
   "source": [
    "nums = [1, 2, 3, 4, 5, 6]\n",
    "result = list(filter(lambda x: x % 2 == 0, nums))\n",
    "print(result)"
   ]
  },
  {
   "cell_type": "code",
   "execution_count": null,
   "id": "40ffa427-1cb1-4c67-9d3e-0c48e661abbf",
   "metadata": {},
   "outputs": [],
   "source": [
    "nums = [1, 2, 3, 4, 5, 6]\n",
    "result = list(filter(lambda x: x % 2 == 0, nums))\n",
    "print(result)"
   ]
  },
  {
   "cell_type": "code",
   "execution_count": null,
   "id": "6ff59c8d-8d48-41fd-9381-036a68caad96",
   "metadata": {},
   "outputs": [],
   "source": [
    "nums = [1, 2, 3, 4, 5, 6]\n",
    "result = list(filter(lambda x: x % 2 == 0, nums))\n",
    "print(result)"
   ]
  },
  {
   "cell_type": "code",
   "execution_count": null,
   "id": "50a666be-1070-4e96-9171-1d6fce63fb67",
   "metadata": {},
   "outputs": [],
   "source": [
    "nums = [1, 2, 3, 4, 5, 6]\n",
    "result = list(filter(lambda x: x % 2 == 0, nums))\n",
    "print(result)"
   ]
  },
  {
   "cell_type": "code",
   "execution_count": null,
   "id": "cc0bf0d6-1e31-40f1-8004-8608bfc2e1e4",
   "metadata": {},
   "outputs": [],
   "source": [
    "nums = [1, 2, 3, 4, 5, 6]\n",
    "result = list(filter(lambda x: x % 2 == 0, nums))\n",
    "print(result)"
   ]
  },
  {
   "cell_type": "code",
   "execution_count": null,
   "id": "4b32c193-e264-4168-8454-c1e2a652be37",
   "metadata": {},
   "outputs": [],
   "source": [
    "nums = [1, 2, 3, 4, 5, 6]\n",
    "result = list(filter(lambda x: x % 2 == 0, nums))\n",
    "print(result)"
   ]
  },
  {
   "cell_type": "code",
   "execution_count": null,
   "id": "9b3a12de-02cd-4975-955e-a12d8621ff48",
   "metadata": {},
   "outputs": [],
   "source": [
    "nums = [1, 2, 3, 4, 5, 6]\n",
    "result = list(filter(lambda x: x % 2 == 0, nums))\n",
    "print(result)"
   ]
  },
  {
   "cell_type": "code",
   "execution_count": null,
   "id": "e36e0239-befa-4a97-8b9f-b10e2856a5cc",
   "metadata": {},
   "outputs": [],
   "source": [
    "nums = [1, 2, 3, 4, 5, 6]\n",
    "result = list(filter(lambda x: x % 2 == 0, nums))\n",
    "print(result)"
   ]
  },
  {
   "cell_type": "code",
   "execution_count": null,
   "id": "0215ecbb-3873-44ff-ba3a-6e64f10c6f47",
   "metadata": {},
   "outputs": [],
   "source": [
    "nums = [1, 2, 3, 4, 5, 6]\n",
    "result = list(filter(lambda x: x % 2 == 0, nums))\n",
    "print(result)"
   ]
  },
  {
   "cell_type": "code",
   "execution_count": null,
   "id": "000918ba-a492-4cc2-9915-97e25812982e",
   "metadata": {},
   "outputs": [],
   "source": [
    "nums = [1, 2, 3, 4, 5, 6]\n",
    "result = list(filter(lambda x: x % 2 == 0, nums))\n",
    "print(result)"
   ]
  },
  {
   "cell_type": "code",
   "execution_count": null,
   "id": "73e3ad2b-afa8-4c22-8a90-5a0ecf0c16e7",
   "metadata": {},
   "outputs": [],
   "source": [
    "nums = [1, 2, 3, 4, 5, 6]\n",
    "result = list(filter(lambda x: x % 2 == 0, nums))\n",
    "print(result)"
   ]
  },
  {
   "cell_type": "code",
   "execution_count": null,
   "id": "cdfb1040-78af-4749-b690-585f17b44e12",
   "metadata": {},
   "outputs": [],
   "source": [
    "nums = [1, 2, 3, 4, 5, 6]\n",
    "result = list(filter(lambda x: x % 2 == 0, nums))\n",
    "print(result)"
   ]
  },
  {
   "cell_type": "code",
   "execution_count": null,
   "id": "6801bfa0-41d1-4dfd-974c-f44d0c122d50",
   "metadata": {},
   "outputs": [],
   "source": [
    "nums = [1, 2, 3, 4, 5, 6]\n",
    "result = list(filter(lambda x: x % 2 == 0, nums))\n",
    "print(result)"
   ]
  },
  {
   "cell_type": "code",
   "execution_count": null,
   "id": "a49a53ce-c7f9-4e26-936d-2220831d4d07",
   "metadata": {},
   "outputs": [],
   "source": [
    "nums = [1, 2, 3, 4, 5, 6]\n",
    "result = list(filter(lambda x: x % 2 == 0, nums))\n",
    "print(result)"
   ]
  },
  {
   "cell_type": "code",
   "execution_count": null,
   "id": "35e20fbb-2963-475a-afd4-087e26379bb1",
   "metadata": {},
   "outputs": [],
   "source": [
    "nums = [1, 2, 3, 4, 5, 6]\n",
    "result = list(filter(lambda x: x % 2 == 0, nums))\n",
    "print(result)"
   ]
  },
  {
   "cell_type": "code",
   "execution_count": null,
   "id": "d49e668b-c37d-4578-a4a1-7a5bcdcacd3e",
   "metadata": {},
   "outputs": [],
   "source": [
    "nums = [1, 2, 3, 4, 5, 6]\n",
    "result = list(filter(lambda x: x % 2 == 0, nums))\n",
    "print(result)"
   ]
  },
  {
   "cell_type": "code",
   "execution_count": null,
   "id": "f6b8b1ec-ce37-461e-8f4b-13fe759eeb59",
   "metadata": {},
   "outputs": [],
   "source": [
    "nums = [1, 2, 3, 4, 5, 6]\n",
    "result = list(filter(lambda x: x % 2 == 0, nums))\n",
    "print(result)"
   ]
  },
  {
   "cell_type": "code",
   "execution_count": null,
   "id": "bd7d18af-ceda-4e7c-887e-ba52946a0768",
   "metadata": {},
   "outputs": [],
   "source": [
    "nums = [1, 2, 3, 4, 5, 6]\n",
    "result = list(filter(lambda x: x % 2 == 0, nums))\n",
    "print(result)"
   ]
  },
  {
   "cell_type": "code",
   "execution_count": null,
   "id": "69927aaa-96db-4d2d-a2ab-f8d5f6be9445",
   "metadata": {},
   "outputs": [],
   "source": [
    "nums = [1, 2, 3, 4, 5, 6]\n",
    "result = list(filter(lambda x: x % 2 == 0, nums))\n",
    "print(result)"
   ]
  },
  {
   "cell_type": "code",
   "execution_count": null,
   "id": "71e12b2b-a1ea-43c7-ad4f-ba3a0140518f",
   "metadata": {},
   "outputs": [],
   "source": [
    "nums = [1, 2, 3, 4, 5, 6]\n",
    "result = list(filter(lambda x: x % 2 == 0, nums))\n",
    "print(result)"
   ]
  },
  {
   "cell_type": "code",
   "execution_count": null,
   "id": "7016d871-ab8d-460a-b8df-324829a6326c",
   "metadata": {},
   "outputs": [],
   "source": [
    "nums = [1, 2, 3, 4, 5, 6]\n",
    "result = list(filter(lambda x: x % 2 == 0, nums))\n",
    "print(result)"
   ]
  },
  {
   "cell_type": "code",
   "execution_count": null,
   "id": "1e901c10-ae75-4e6f-a9a6-d4de35e28952",
   "metadata": {},
   "outputs": [],
   "source": [
    "nums = [1, 2, 3, 4, 5, 6]\n",
    "result = list(filter(lambda x: x % 2 == 0, nums))\n",
    "print(result)"
   ]
  },
  {
   "cell_type": "code",
   "execution_count": null,
   "id": "9009e7bc-c98e-4aa2-a40b-9fc8d0f7a8d1",
   "metadata": {},
   "outputs": [],
   "source": [
    "nums = [1, 2, 3, 4, 5, 6]\n",
    "result = list(filter(lambda x: x % 2 == 0, nums))\n",
    "print(result)"
   ]
  },
  {
   "cell_type": "code",
   "execution_count": null,
   "id": "ea9d6e4e-f686-441c-aa35-f23ca6d49a3c",
   "metadata": {},
   "outputs": [],
   "source": [
    "nums = [1, 2, 3, 4, 5, 6]\n",
    "result = list(filter(lambda x: x % 2 == 0, nums))\n",
    "print(result)"
   ]
  },
  {
   "cell_type": "code",
   "execution_count": null,
   "id": "f0a647d8-616f-42c1-bec8-b25ad7272349",
   "metadata": {},
   "outputs": [],
   "source": [
    "nums = [1, 2, 3, 4, 5, 6]\n",
    "result = list(filter(lambda x: x % 2 == 0, nums))\n",
    "print(result)"
   ]
  },
  {
   "cell_type": "code",
   "execution_count": null,
   "id": "7366f45f-b3d7-49c8-b1eb-fbb3bd3d47de",
   "metadata": {},
   "outputs": [],
   "source": [
    "words = ['hello', 'world']\n",
    "result = list(map(str.upper, words))\n",
    "print(result)"
   ]
  },
  {
   "cell_type": "code",
   "execution_count": null,
   "id": "55385bc2-e733-429e-bf66-4d15799bb392",
   "metadata": {},
   "outputs": [],
   "source": [
    "words = ['hello', 'world']\n",
    "result = list(map(str.upper, words))\n",
    "print(result)"
   ]
  },
  {
   "cell_type": "code",
   "execution_count": null,
   "id": "42e5ff91-481b-454e-8654-7e3602478cfa",
   "metadata": {},
   "outputs": [],
   "source": [
    "words = ['hello', 'world']\n",
    "result = list(map(str.upper, words))\n",
    "print(result)"
   ]
  },
  {
   "cell_type": "code",
   "execution_count": null,
   "id": "8bbb1432-63c2-44f9-955f-2a8871584017",
   "metadata": {},
   "outputs": [],
   "source": [
    "words = ['hello', 'world']\n",
    "result = list(map(str.upper, words))\n",
    "print(result)"
   ]
  },
  {
   "cell_type": "code",
   "execution_count": null,
   "id": "e882a3bd-a4a7-4a57-ba99-55ea0fe586f7",
   "metadata": {},
   "outputs": [],
   "source": [
    "words = ['hello', 'world']\n",
    "result = list(map(str.upper, words))\n",
    "print(result)"
   ]
  },
  {
   "cell_type": "code",
   "execution_count": null,
   "id": "c8d564a1-eaba-4b7e-89f0-b8f5d4ed11e5",
   "metadata": {},
   "outputs": [],
   "source": [
    "words = ['hello', 'world']\n",
    "result = list(map(str.upper, words))\n",
    "print(result)"
   ]
  },
  {
   "cell_type": "code",
   "execution_count": null,
   "id": "9eb125ea-5f49-434f-aeee-030eb5045b99",
   "metadata": {},
   "outputs": [],
   "source": [
    "words = ['hello', 'world']\n",
    "result = list(map(str.upper, words))\n",
    "print(result)"
   ]
  },
  {
   "cell_type": "code",
   "execution_count": null,
   "id": "72f0a6e3-b451-4ca6-8e69-908ccef5020d",
   "metadata": {},
   "outputs": [],
   "source": [
    "words = ['hello', 'world']\n",
    "result = list(map(str.upper, words))\n",
    "print(result)"
   ]
  },
  {
   "cell_type": "code",
   "execution_count": null,
   "id": "36cda23f-c8e2-48fb-aab5-9ff415f53f21",
   "metadata": {},
   "outputs": [],
   "source": [
    "words = ['hello', 'world']\n",
    "result = list(map(str.upper, words))\n",
    "print(result)"
   ]
  },
  {
   "cell_type": "code",
   "execution_count": null,
   "id": "190d406f-a582-4769-b884-0bd624fc420a",
   "metadata": {},
   "outputs": [],
   "source": [
    "words = ['hello', 'world']\n",
    "result = list(map(str.upper, words))\n",
    "print(result)"
   ]
  },
  {
   "cell_type": "code",
   "execution_count": null,
   "id": "c1b13eb0-2d80-49b1-a5c6-bde0d35f2fb4",
   "metadata": {},
   "outputs": [],
   "source": [
    "words = ['hello', 'world']\n",
    "result = list(map(str.upper, words))\n",
    "print(result)"
   ]
  },
  {
   "cell_type": "code",
   "execution_count": null,
   "id": "a42eba69-b396-4147-8e35-746753868acd",
   "metadata": {},
   "outputs": [],
   "source": [
    "words = ['hello', 'world']\n",
    "result = list(map(str.upper, words))\n",
    "print(result)"
   ]
  },
  {
   "cell_type": "code",
   "execution_count": null,
   "id": "0faef60e-ac73-4bda-aad2-4a134b4d5be1",
   "metadata": {},
   "outputs": [],
   "source": [
    "words = ['hello', 'world']\n",
    "result = list(map(str.upper, words))\n",
    "print(result)"
   ]
  },
  {
   "cell_type": "code",
   "execution_count": null,
   "id": "ca3abccd-faf0-4ca8-87ed-4c7805d834fb",
   "metadata": {},
   "outputs": [],
   "source": [
    "words = ['hello', 'world']\n",
    "result = list(map(str.upper, words))\n",
    "print(result)"
   ]
  },
  {
   "cell_type": "code",
   "execution_count": null,
   "id": "23f69b2e-3e5f-4b22-b562-3ccd279140b0",
   "metadata": {},
   "outputs": [],
   "source": [
    "words = ['hello', 'world']\n",
    "result = list(map(str.upper, words))\n",
    "print(result)"
   ]
  },
  {
   "cell_type": "code",
   "execution_count": null,
   "id": "80335a94-3959-4f60-9de0-2112a9ada1bf",
   "metadata": {},
   "outputs": [],
   "source": [
    "words = ['hello', 'world']\n",
    "result = list(map(str.upper, words))\n",
    "print(result)"
   ]
  },
  {
   "cell_type": "code",
   "execution_count": null,
   "id": "a3a5cf2a-b02f-4c2e-b125-d07560d207e5",
   "metadata": {},
   "outputs": [],
   "source": [
    "nums = [1, 2, 3, 4, 5, 6]\n",
    "result = list(filter(lambda x: x % 2 == 0, nums))\n",
    "print(result)"
   ]
  }
 ],
 "metadata": {
  "kernelspec": {
   "display_name": "Python 3 (ipykernel)",
   "language": "python",
   "name": "python3"
  },
  "language_info": {
   "codemirror_mode": {
    "name": "ipython",
    "version": 3
   },
   "file_extension": ".py",
   "mimetype": "text/x-python",
   "name": "python",
   "nbconvert_exporter": "python",
   "pygments_lexer": "ipython3",
   "version": "3.11.13"
  }
 },
 "nbformat": 4,
 "nbformat_minor": 5
}
