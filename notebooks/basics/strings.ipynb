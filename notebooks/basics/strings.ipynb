{
 "cells": [
  {
   "cell_type": "code",
   "execution_count": null,
   "id": "dc0d514f-6c41-45bf-bafd-e32e27ea6c20",
   "metadata": {},
   "outputs": [],
   "source": [
    "s = 'hello world'"
   ]
  },
  {
   "cell_type": "code",
   "execution_count": null,
   "id": "cc4a3e89-13e2-469b-b7e7-7cd775bb97ce",
   "metadata": {},
   "outputs": [],
   "source": [
    "print(len(s))"
   ]
  },
  {
   "cell_type": "code",
   "execution_count": null,
   "id": "c6e0aa96-edb1-4371-a375-3313f33c08e9",
   "metadata": {},
   "outputs": [],
   "source": [
    "print(s.upper())"
   ]
  },
  {
   "cell_type": "code",
   "execution_count": null,
   "id": "6d99638b-63db-438d-b41e-0095b1942886",
   "metadata": {},
   "outputs": [],
   "source": [
    "print(s.lower())"
   ]
  },
  {
   "cell_type": "code",
   "execution_count": null,
   "id": "5b914286-adb5-4fe7-9bbe-088a5cfc1737",
   "metadata": {},
   "outputs": [],
   "source": [
    "print(s.capitalize())"
   ]
  },
  {
   "cell_type": "code",
   "execution_count": null,
   "id": "91dc5dff-ea27-4aca-9cf0-c3a9f77d984c",
   "metadata": {},
   "outputs": [],
   "source": [
    "print(s.title())"
   ]
  },
  {
   "cell_type": "code",
   "execution_count": null,
   "id": "74a556ae-a63d-4dfb-b7cf-626b787331fa",
   "metadata": {},
   "outputs": [],
   "source": [
    "print(s.swapcase())"
   ]
  },
  {
   "cell_type": "code",
   "execution_count": null,
   "id": "a5fa46e8-54a5-45eb-97c6-fdcb5afa7599",
   "metadata": {},
   "outputs": [],
   "source": [
    "print(s.startswith('hello'))"
   ]
  },
  {
   "cell_type": "code",
   "execution_count": null,
   "id": "840f7325-6081-4175-827f-714f1f7ac38f",
   "metadata": {},
   "outputs": [],
   "source": [
    "print(s.endswith('world'))"
   ]
  },
  {
   "cell_type": "code",
   "execution_count": null,
   "id": "cdf921a4-ca50-454a-9a0d-b65ec0e2ed10",
   "metadata": {},
   "outputs": [],
   "source": [
    "print(s.find('o'))"
   ]
  },
  {
   "cell_type": "code",
   "execution_count": null,
   "id": "1e924ee3-c433-45e3-9059-aab59fd68522",
   "metadata": {},
   "outputs": [],
   "source": [
    "print(s.rfind('o'))"
   ]
  },
  {
   "cell_type": "code",
   "execution_count": null,
   "id": "64a04e58-0425-4eeb-a973-555ad7e9c8bd",
   "metadata": {},
   "outputs": [],
   "source": [
    "print(s.index('e'))"
   ]
  },
  {
   "cell_type": "code",
   "execution_count": null,
   "id": "07ca7908-cf3b-49c7-87bc-a4b3bb47cc9a",
   "metadata": {},
   "outputs": [],
   "source": [
    "print(s.replace('world', 'python'))"
   ]
  },
  {
   "cell_type": "code",
   "execution_count": null,
   "id": "3f6c89df-fb79-4b97-a485-4de1291e1ef0",
   "metadata": {},
   "outputs": [],
   "source": [
    "print(s.split())"
   ]
  },
  {
   "cell_type": "code",
   "execution_count": null,
   "id": "aafb73c4-e924-433b-8ef6-879384a641b6",
   "metadata": {},
   "outputs": [],
   "source": [
    "print('-'.join(['a', 'b', 'c']))"
   ]
  },
  {
   "cell_type": "code",
   "execution_count": null,
   "id": "a421697f-5eb8-4bd8-bafb-1fac19a2df1f",
   "metadata": {},
   "outputs": [],
   "source": []
  },
  {
   "cell_type": "code",
   "execution_count": null,
   "id": "a1995589-ddae-4623-b7d5-c2200d90041b",
   "metadata": {},
   "outputs": [],
   "source": []
  },
  {
   "cell_type": "code",
   "execution_count": null,
   "id": "fa2d279a-1157-4b49-a947-4c7d49973fd4",
   "metadata": {},
   "outputs": [],
   "source": []
  },
  {
   "cell_type": "code",
   "execution_count": null,
   "id": "3872feb3-296d-4e94-8393-998bc62b20d4",
   "metadata": {},
   "outputs": [],
   "source": []
  },
  {
   "cell_type": "code",
   "execution_count": null,
   "id": "136ad708-d80d-4723-8a03-24fa83f9d8b4",
   "metadata": {},
   "outputs": [],
   "source": []
  },
  {
   "cell_type": "code",
   "execution_count": null,
   "id": "87873b5b-039e-4e81-8812-b1f8b5cafb57",
   "metadata": {},
   "outputs": [],
   "source": []
  },
  {
   "cell_type": "code",
   "execution_count": null,
   "id": "3a951d3a-2086-49ca-87b7-1a51ddcef9d5",
   "metadata": {},
   "outputs": [],
   "source": []
  },
  {
   "cell_type": "code",
   "execution_count": null,
   "id": "c563251e-1c09-4aed-be1e-b935e2344571",
   "metadata": {},
   "outputs": [],
   "source": []
  },
  {
   "cell_type": "code",
   "execution_count": null,
   "id": "ba6b7fe9-4174-4e47-92ff-00bd97ee16f5",
   "metadata": {},
   "outputs": [],
   "source": []
  },
  {
   "cell_type": "code",
   "execution_count": null,
   "id": "47a8e1a7-9b44-4c24-b08d-5f64fab31f56",
   "metadata": {},
   "outputs": [],
   "source": []
  },
  {
   "cell_type": "code",
   "execution_count": null,
   "id": "f89bca36-dfb4-450b-ac5a-9f9d50540f04",
   "metadata": {},
   "outputs": [],
   "source": []
  },
  {
   "cell_type": "code",
   "execution_count": null,
   "id": "bd148b47-8c4d-45a0-a3c3-e9378765b968",
   "metadata": {},
   "outputs": [],
   "source": []
  }
 ],
 "metadata": {
  "kernelspec": {
   "display_name": "Python 3 (ipykernel)",
   "language": "python",
   "name": "python3"
  },
  "language_info": {
   "codemirror_mode": {
    "name": "ipython",
    "version": 3
   },
   "file_extension": ".py",
   "mimetype": "text/x-python",
   "name": "python",
   "nbconvert_exporter": "python",
   "pygments_lexer": "ipython3",
   "version": "3.11.13"
  }
 },
 "nbformat": 4,
 "nbformat_minor": 5
}
